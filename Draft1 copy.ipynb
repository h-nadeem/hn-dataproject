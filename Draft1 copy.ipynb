{
 "cells": [
  {
   "cell_type": "markdown",
   "metadata": {},
   "source": [
    "# \"What are the trends of ghg emissions in the UK within each sector over time?\"\n",
    "\n",
    "Greenhouse Gas Emissions \n",
    "\n",
    "Hareem Nadeem (z54425310)"
   ]
  },
  {
   "cell_type": "markdown",
   "metadata": {},
   "source": [
    "`imports`"
   ]
  },
  {
   "cell_type": "code",
   "execution_count": 2,
   "metadata": {},
   "outputs": [],
   "source": [
    "import os\n",
    "import geopandas as gpd\n",
    "import plotly.graph_objects as go\n",
    "import plotly.express as px\n",
    "import matplotlib\n",
    "import matplotlib.pyplot as plt\n",
    "import seaborn as sns\n",
    "import numpy as np # linear algebra\n",
    "import json\n",
    "import pandas as pd # data processing (CSV file - e.g. pd.read_csv)\n",
    "from datetime import datetime\n"
   ]
  },
  {
   "cell_type": "code",
   "execution_count": 3,
   "metadata": {},
   "outputs": [],
   "source": [
    "%matplotlib inline"
   ]
  },
  {
   "cell_type": "code",
   "execution_count": 4,
   "metadata": {},
   "outputs": [],
   "source": [
    "plt.rcParams['figure.figsize'] = (50, 30)"
   ]
  },
  {
   "cell_type": "code",
   "execution_count": 5,
   "metadata": {},
   "outputs": [],
   "source": [
    "saved_style_state = matplotlib.rcParams.copy() #give us a style state to go back to"
   ]
  },
  {
   "cell_type": "code",
   "execution_count": 6,
   "metadata": {},
   "outputs": [
    {
     "name": "stdout",
     "output_type": "stream",
     "text": [
      "Loading from file\n",
      "'Greenhouse Gas Emissions dataset, loaded\n"
     ]
    }
   ],
   "source": [
    "#Loading my data (excel spreadsheet)\n",
    "if os.path.isfile(\"ghg_data.csv\"):\n",
    "    filepath = \"ghg_data.csv\"\n",
    "    print(\"Loading from file\")\n",
    "else:\n",
    "    filepath = \"https://assets.publishing.service.gov.uk/government/uploads/system/uploads/attachment_data/file/1087005/uk-local-authority-ghg-emissions-2020-dataset.csv\"\n",
    "    print(\"loading from the internet\")\n",
    "\n",
    "gd = pd.read_csv(filepath)\n",
    "print(\"'Greenhouse Gas Emissions dataset, loaded\")"
   ]
  },
  {
   "cell_type": "markdown",
   "metadata": {},
   "source": [
    "`What are the trends of C02e in the UK within each sector over time?`"
   ]
  },
  {
   "cell_type": "markdown",
   "metadata": {},
   "source": [
    "Data set: “UK Local and regional greenhouse gas emissions (2005 to 2020) from data.gov.uk\n",
    "\n",
    "Published by: Department for Business, Energy, and industrial strategy on 30 June 2022\n"
   ]
  },
  {
   "cell_type": "markdown",
   "metadata": {},
   "source": [
    "The dataset explores the breakdown of greenhouse gas emissions and carbon dioxide emissions locally and regionally in the UK from 2005 to 2020. The estimations within this set is useful for relevant organisations to record and identify high emitting sources of carbon dioxide and energy intensive sectors, changes in carbon dioxide emissions over time and overall designing strategies to reduce carbon emissions. Carbon dioxide is naturally present within the atmosphere inside the earth’s carbon cycle. Sectors such as agriculture practices, electricity, LULUCF, transportation, and waste management contribute to the carbon emissions altering the carbon cycle and affecting the ability for plants and soil to remove and store c02 from the atmosphere. \n",
    "\n",
    "Greenhouse gas and carbon dioxide emissions are largely responsible for the increasing global temperature due to both natural and anthropogenic activities, the alarming rate of climate change is primarily influenced by these sectors. Through this data project, I presented the trends and data changes throughout the years of territorial c02 emissions by sector to identify the key sources of C02 emissions in each area; allowing changes in C02 emissions over time to be monitored from 2005 to 2020, describing the major sources of emissions growth, stability and decline in the UK.\n"
   ]
  },
  {
   "cell_type": "code",
   "execution_count": 6,
   "metadata": {},
   "outputs": [
    {
     "data": {
      "text/html": [
       "<div>\n",
       "<style scoped>\n",
       "    .dataframe tbody tr th:only-of-type {\n",
       "        vertical-align: middle;\n",
       "    }\n",
       "\n",
       "    .dataframe tbody tr th {\n",
       "        vertical-align: top;\n",
       "    }\n",
       "\n",
       "    .dataframe thead th {\n",
       "        text-align: right;\n",
       "    }\n",
       "</style>\n",
       "<table border=\"1\" class=\"dataframe\">\n",
       "  <thead>\n",
       "    <tr style=\"text-align: right;\">\n",
       "      <th></th>\n",
       "      <th>Country</th>\n",
       "      <th>Country Code</th>\n",
       "      <th>Region</th>\n",
       "      <th>Region Code</th>\n",
       "      <th>Second Tier Authority</th>\n",
       "      <th>Local Authority</th>\n",
       "      <th>Local Authority Code</th>\n",
       "      <th>Calendar Year</th>\n",
       "      <th>LA GHG Sector</th>\n",
       "      <th>LA GHG Sub-sector</th>\n",
       "      <th>Greenhouse gas</th>\n",
       "      <th>Territorial emissions (kt CO2e)</th>\n",
       "      <th>CO2 emissions within the scope of influence of LAs (kt CO2e)</th>\n",
       "      <th>Mid-year Population (thousands)</th>\n",
       "      <th>Area (km2)</th>\n",
       "    </tr>\n",
       "  </thead>\n",
       "  <tbody>\n",
       "    <tr>\n",
       "      <th>0</th>\n",
       "      <td>England</td>\n",
       "      <td>E92000001</td>\n",
       "      <td>East Midlands</td>\n",
       "      <td>E12000004</td>\n",
       "      <td>Derby</td>\n",
       "      <td>Derby</td>\n",
       "      <td>E06000015</td>\n",
       "      <td>2005</td>\n",
       "      <td>Agriculture</td>\n",
       "      <td>Agriculture Electricity</td>\n",
       "      <td>CH4</td>\n",
       "      <td>0.010737</td>\n",
       "      <td>0.000000</td>\n",
       "      <td>236.47</td>\n",
       "      <td>78.0311</td>\n",
       "    </tr>\n",
       "    <tr>\n",
       "      <th>1</th>\n",
       "      <td>England</td>\n",
       "      <td>E92000001</td>\n",
       "      <td>East Midlands</td>\n",
       "      <td>E12000004</td>\n",
       "      <td>Derby</td>\n",
       "      <td>Derby</td>\n",
       "      <td>E06000015</td>\n",
       "      <td>2005</td>\n",
       "      <td>Agriculture</td>\n",
       "      <td>Agriculture Electricity</td>\n",
       "      <td>CO2</td>\n",
       "      <td>0.380289</td>\n",
       "      <td>0.380289</td>\n",
       "      <td>236.47</td>\n",
       "      <td>78.0311</td>\n",
       "    </tr>\n",
       "    <tr>\n",
       "      <th>2</th>\n",
       "      <td>England</td>\n",
       "      <td>E92000001</td>\n",
       "      <td>East Midlands</td>\n",
       "      <td>E12000004</td>\n",
       "      <td>Derby</td>\n",
       "      <td>Derby</td>\n",
       "      <td>E06000015</td>\n",
       "      <td>2005</td>\n",
       "      <td>Agriculture</td>\n",
       "      <td>Agriculture Electricity</td>\n",
       "      <td>N2O</td>\n",
       "      <td>0.001710</td>\n",
       "      <td>0.000000</td>\n",
       "      <td>236.47</td>\n",
       "      <td>78.0311</td>\n",
       "    </tr>\n",
       "    <tr>\n",
       "      <th>3</th>\n",
       "      <td>England</td>\n",
       "      <td>E92000001</td>\n",
       "      <td>East Midlands</td>\n",
       "      <td>E12000004</td>\n",
       "      <td>Derby</td>\n",
       "      <td>Derby</td>\n",
       "      <td>E06000015</td>\n",
       "      <td>2005</td>\n",
       "      <td>Agriculture</td>\n",
       "      <td>Agriculture Gas</td>\n",
       "      <td>CH4</td>\n",
       "      <td>0.021121</td>\n",
       "      <td>0.000000</td>\n",
       "      <td>236.47</td>\n",
       "      <td>78.0311</td>\n",
       "    </tr>\n",
       "    <tr>\n",
       "      <th>4</th>\n",
       "      <td>England</td>\n",
       "      <td>E92000001</td>\n",
       "      <td>East Midlands</td>\n",
       "      <td>E12000004</td>\n",
       "      <td>Derby</td>\n",
       "      <td>Derby</td>\n",
       "      <td>E06000015</td>\n",
       "      <td>2005</td>\n",
       "      <td>Agriculture</td>\n",
       "      <td>Agriculture Gas</td>\n",
       "      <td>CO2</td>\n",
       "      <td>0.700438</td>\n",
       "      <td>0.700438</td>\n",
       "      <td>236.47</td>\n",
       "      <td>78.0311</td>\n",
       "    </tr>\n",
       "    <tr>\n",
       "      <th>5</th>\n",
       "      <td>England</td>\n",
       "      <td>E92000001</td>\n",
       "      <td>East Midlands</td>\n",
       "      <td>E12000004</td>\n",
       "      <td>Derby</td>\n",
       "      <td>Derby</td>\n",
       "      <td>E06000015</td>\n",
       "      <td>2005</td>\n",
       "      <td>Agriculture</td>\n",
       "      <td>Agriculture Gas</td>\n",
       "      <td>N2O</td>\n",
       "      <td>0.000558</td>\n",
       "      <td>0.000000</td>\n",
       "      <td>236.47</td>\n",
       "      <td>78.0311</td>\n",
       "    </tr>\n",
       "    <tr>\n",
       "      <th>6</th>\n",
       "      <td>England</td>\n",
       "      <td>E92000001</td>\n",
       "      <td>East Midlands</td>\n",
       "      <td>E12000004</td>\n",
       "      <td>Derby</td>\n",
       "      <td>Derby</td>\n",
       "      <td>E06000015</td>\n",
       "      <td>2005</td>\n",
       "      <td>Agriculture</td>\n",
       "      <td>Agriculture 'Other'</td>\n",
       "      <td>CH4</td>\n",
       "      <td>0.003186</td>\n",
       "      <td>0.000000</td>\n",
       "      <td>236.47</td>\n",
       "      <td>78.0311</td>\n",
       "    </tr>\n",
       "    <tr>\n",
       "      <th>7</th>\n",
       "      <td>England</td>\n",
       "      <td>E92000001</td>\n",
       "      <td>East Midlands</td>\n",
       "      <td>E12000004</td>\n",
       "      <td>Derby</td>\n",
       "      <td>Derby</td>\n",
       "      <td>E06000015</td>\n",
       "      <td>2005</td>\n",
       "      <td>Agriculture</td>\n",
       "      <td>Agriculture 'Other'</td>\n",
       "      <td>CO2</td>\n",
       "      <td>0.792025</td>\n",
       "      <td>0.792025</td>\n",
       "      <td>236.47</td>\n",
       "      <td>78.0311</td>\n",
       "    </tr>\n",
       "    <tr>\n",
       "      <th>8</th>\n",
       "      <td>England</td>\n",
       "      <td>E92000001</td>\n",
       "      <td>East Midlands</td>\n",
       "      <td>E12000004</td>\n",
       "      <td>Derby</td>\n",
       "      <td>Derby</td>\n",
       "      <td>E06000015</td>\n",
       "      <td>2005</td>\n",
       "      <td>Agriculture</td>\n",
       "      <td>Agriculture 'Other'</td>\n",
       "      <td>N2O</td>\n",
       "      <td>0.009533</td>\n",
       "      <td>0.000000</td>\n",
       "      <td>236.47</td>\n",
       "      <td>78.0311</td>\n",
       "    </tr>\n",
       "    <tr>\n",
       "      <th>9</th>\n",
       "      <td>England</td>\n",
       "      <td>E92000001</td>\n",
       "      <td>East Midlands</td>\n",
       "      <td>E12000004</td>\n",
       "      <td>Derby</td>\n",
       "      <td>Derby</td>\n",
       "      <td>E06000015</td>\n",
       "      <td>2005</td>\n",
       "      <td>Agriculture</td>\n",
       "      <td>Agriculture Soils</td>\n",
       "      <td>CO2</td>\n",
       "      <td>0.125285</td>\n",
       "      <td>0.000000</td>\n",
       "      <td>236.47</td>\n",
       "      <td>78.0311</td>\n",
       "    </tr>\n",
       "  </tbody>\n",
       "</table>\n",
       "</div>"
      ],
      "text/plain": [
       "   Country Country Code         Region Region Code Second Tier Authority  \\\n",
       "0  England    E92000001  East Midlands   E12000004                 Derby   \n",
       "1  England    E92000001  East Midlands   E12000004                 Derby   \n",
       "2  England    E92000001  East Midlands   E12000004                 Derby   \n",
       "3  England    E92000001  East Midlands   E12000004                 Derby   \n",
       "4  England    E92000001  East Midlands   E12000004                 Derby   \n",
       "5  England    E92000001  East Midlands   E12000004                 Derby   \n",
       "6  England    E92000001  East Midlands   E12000004                 Derby   \n",
       "7  England    E92000001  East Midlands   E12000004                 Derby   \n",
       "8  England    E92000001  East Midlands   E12000004                 Derby   \n",
       "9  England    E92000001  East Midlands   E12000004                 Derby   \n",
       "\n",
       "  Local Authority Local Authority Code  Calendar Year LA GHG Sector  \\\n",
       "0           Derby            E06000015           2005   Agriculture   \n",
       "1           Derby            E06000015           2005   Agriculture   \n",
       "2           Derby            E06000015           2005   Agriculture   \n",
       "3           Derby            E06000015           2005   Agriculture   \n",
       "4           Derby            E06000015           2005   Agriculture   \n",
       "5           Derby            E06000015           2005   Agriculture   \n",
       "6           Derby            E06000015           2005   Agriculture   \n",
       "7           Derby            E06000015           2005   Agriculture   \n",
       "8           Derby            E06000015           2005   Agriculture   \n",
       "9           Derby            E06000015           2005   Agriculture   \n",
       "\n",
       "         LA GHG Sub-sector Greenhouse gas  Territorial emissions (kt CO2e)  \\\n",
       "0  Agriculture Electricity            CH4                         0.010737   \n",
       "1  Agriculture Electricity            CO2                         0.380289   \n",
       "2  Agriculture Electricity            N2O                         0.001710   \n",
       "3          Agriculture Gas            CH4                         0.021121   \n",
       "4          Agriculture Gas            CO2                         0.700438   \n",
       "5          Agriculture Gas            N2O                         0.000558   \n",
       "6      Agriculture 'Other'            CH4                         0.003186   \n",
       "7      Agriculture 'Other'            CO2                         0.792025   \n",
       "8      Agriculture 'Other'            N2O                         0.009533   \n",
       "9        Agriculture Soils            CO2                         0.125285   \n",
       "\n",
       "   CO2 emissions within the scope of influence of LAs (kt CO2e)  \\\n",
       "0                                           0.000000              \n",
       "1                                           0.380289              \n",
       "2                                           0.000000              \n",
       "3                                           0.000000              \n",
       "4                                           0.700438              \n",
       "5                                           0.000000              \n",
       "6                                           0.000000              \n",
       "7                                           0.792025              \n",
       "8                                           0.000000              \n",
       "9                                           0.000000              \n",
       "\n",
       "   Mid-year Population (thousands)  Area (km2)  \n",
       "0                           236.47     78.0311  \n",
       "1                           236.47     78.0311  \n",
       "2                           236.47     78.0311  \n",
       "3                           236.47     78.0311  \n",
       "4                           236.47     78.0311  \n",
       "5                           236.47     78.0311  \n",
       "6                           236.47     78.0311  \n",
       "7                           236.47     78.0311  \n",
       "8                           236.47     78.0311  \n",
       "9                           236.47     78.0311  "
      ]
     },
     "execution_count": 6,
     "metadata": {},
     "output_type": "execute_result"
    }
   ],
   "source": [
    "gd.head(10)"
   ]
  },
  {
   "cell_type": "code",
   "execution_count": 13,
   "metadata": {},
   "outputs": [
    {
     "data": {
      "text/plain": [
       "Index(['Country', 'Country Code', 'Region', 'Region Code',\n",
       "       'Second Tier Authority', 'Local Authority', 'Local Authority Code',\n",
       "       'Calendar Year', 'LA GHG Sector', 'LA GHG Sub-sector', 'Greenhouse gas',\n",
       "       'Territorial emissions (kt CO2e)',\n",
       "       'CO2 emissions within the scope of influence of LAs (kt CO2e)',\n",
       "       'Mid-year Population (thousands)', 'Area (km2)'],\n",
       "      dtype='object')"
      ]
     },
     "execution_count": 13,
     "metadata": {},
     "output_type": "execute_result"
    }
   ],
   "source": [
    "gd.columns"
   ]
  },
  {
   "cell_type": "markdown",
   "metadata": {},
   "source": [
    "Within this dataset, there are 15 columns and 467444 rows"
   ]
  },
  {
   "cell_type": "markdown",
   "metadata": {},
   "source": [
    "`Country & Country Code`\n"
   ]
  },
  {
   "cell_type": "markdown",
   "metadata": {},
   "source": [
    "`Region & Region Code`"
   ]
  },
  {
   "cell_type": "markdown",
   "metadata": {},
   "source": [
    "`Calendar Year`"
   ]
  },
  {
   "cell_type": "markdown",
   "metadata": {},
   "source": [
    "`LA Greenhouse Gases sector (ghg sector)`"
   ]
  },
  {
   "cell_type": "markdown",
   "metadata": {},
   "source": [
    "`LA Greenhouse Gases Sub-sector`"
   ]
  },
  {
   "cell_type": "markdown",
   "metadata": {},
   "source": [
    "`Greenhouse gas`"
   ]
  },
  {
   "cell_type": "markdown",
   "metadata": {},
   "source": [
    "What are greenhouse gases?\n",
    "\n",
    "Greenhouse gases (GHG) are gases in the atmosphere, absorbing and reemitting heat, causing the greenhouse effect on Earth. Without the greenhouse effect, temperature and life on earth would be colder. So, what if the concentration of gases are too high?\n"
   ]
  },
  {
   "cell_type": "markdown",
   "metadata": {},
   "source": [
    "_INSERT EARTH PIC_"
   ]
  },
  {
   "cell_type": "markdown",
   "metadata": {},
   "source": [
    "\n",
    "This section explores information on emissions and ways of removal of the main greenhouse gases to and from the atmosphere. It also explores the continous trend of data and how these gases have changed over time depending on the subsectors. The data from this column is compared to other variables in the set, such as population growth in different regions of the UK, sectors and area.\n",
    "\n",
    "The 3 main gases explored in the dataset are Methane emissions (CH4), Nitrous Oxide emissions (N2O) and Carbon dioxide emissions(CO2). These gases in the atmosphere have all different quantities, different greenhouse gases emissions are generated from different sectors. Thus, different gases have different ranges of warming effects. One tonne of methane does not have the same heat absorption impact as one tonne of Carbon dioxide, this means that every gas capacity is different. The global warming potential (GWP) was proposed to assign individual warming metric to each greenhouse gas, comparing the global warming impacts and the absorption of gas over a given period of time. \n",
    "\n",
    "\n",
    "- Carbon Dioxide (C02)\n",
    "- Methane (CH4)\n",
    "- Nitrous Oxide(N20)\n"
   ]
  },
  {
   "cell_type": "markdown",
   "metadata": {},
   "source": [
    "What is CO2e?\n",
    "\n",
    "The measurement of all greenhouse gases are quantified together in one single metric called Carbon dioxide equivalent (CO2e) to compare emissions from different greenhouse gases on the basis of their GWP. C02e expresses the warming effect of different greenhouse gases as an equivalent amount of carbon dioxide. It is the amount of carbon dioxide that would give the same warming effect as each greenhouse gas that is emitted or stored by a sector/activity. Carbon dioxide equivalents are continuous data, measured in kilo tonnes (kl). The quantity of CO2e is expressed by multiplying the amount of GHG by their GWP. \n",
    "e.g. 1 kg of methane is emitted, 25kg of c02e  (1kg CH4 * 25 = 25kg CO2e).\n"
   ]
  },
  {
   "cell_type": "markdown",
   "metadata": {},
   "source": [
    "Frequency Analysis:\n",
    "I created a frequency analysis to extract the percentages of each greenhouse gas within the UK from 2005 to 2020. The values in this column are categorical values, measuring what type of greenhouse gas is emitted by other variables (columns). I obtained the absolute frequencies (using value_count()). To express these absolute to relative frequencies, I converted them into percentages."
   ]
  },
  {
   "cell_type": "code",
   "execution_count": 9,
   "metadata": {},
   "outputs": [
    {
     "data": {
      "text/plain": [
       "N2O    160564\n",
       "CO2    154339\n",
       "CH4    152540\n",
       "Name: Greenhouse gas, dtype: int64"
      ]
     },
     "execution_count": 9,
     "metadata": {},
     "output_type": "execute_result"
    }
   ],
   "source": [
    "gd[\"Greenhouse gas\"].value_counts()"
   ]
  },
  {
   "cell_type": "markdown",
   "metadata": {},
   "source": [
    "Extracting the relative distribution of the categorical data 'Greenhouse gas' will assist me when it comes to comparing it to other data columns and recording trends"
   ]
  },
  {
   "cell_type": "code",
   "execution_count": 11,
   "metadata": {},
   "outputs": [
    {
     "name": "stdout",
     "output_type": "stream",
     "text": [
      "The relative distribution of values: \n",
      "N20 -> 34.35%\n",
      "C02 -> 33.02%\n",
      "CH4 -> 32.63%\n"
     ]
    }
   ],
   "source": [
    "N = 467444\n",
    "N20p = 100.0 * 160564/ N\n",
    "CO2p = 100.0 * 154339/ N\n",
    "CH4p = 100.0 * 152540/ N\n",
    "\n",
    "print(\"The relative distribution of values: \")\n",
    "print(\"N20 -> \", round(N20p, 2), \"%\", sep=\"\")\n",
    "print(\"C02 -> \", round(CO2p, 2), \"%\", sep=\"\")\n",
    "print(\"CH4 -> \", round(CH4p, 2), \"%\", sep=\"\")"
   ]
  },
  {
   "cell_type": "markdown",
   "metadata": {},
   "source": [
    "`Territorial emissions (kt CO2e)`"
   ]
  },
  {
   "cell_type": "markdown",
   "metadata": {},
   "source": [
    "`CO2 emissions within the scope of influence of LAs (kt CO2e)`"
   ]
  },
  {
   "cell_type": "markdown",
   "metadata": {},
   "source": [
    "`Mid-year Population (thousands) `"
   ]
  },
  {
   "cell_type": "markdown",
   "metadata": {},
   "source": [
    "`Area (km2) `"
   ]
  },
  {
   "cell_type": "code",
   "execution_count": 35,
   "metadata": {},
   "outputs": [
    {
     "data": {
      "image/png": "[encoded data removed]",
      "text/plain": [
       "<Figure size 3600x2160 with 1 Axes>"
      ]
     },
     "metadata": {},
     "output_type": "display_data"
    },
    {
     "data": {
      "text/plain": [
       "<Figure size 36x36 with 0 Axes>"
      ]
     },
     "metadata": {},
     "output_type": "display_data"
    }
   ],
   "source": [
    "# Pie chart\n",
    "perc = [34.35, 33.02, 32.63]\n",
    "gases = ['Nitrous Oxide', 'Carbon Dioxide', 'Methane']\n",
    "font = 20\n",
    "\n",
    "#customization \n",
    "colours = ['#097969','#AFE1AF','#4F7942']\n",
    "fig1, ax1 = plt.subplots()\n",
    "ax1.pie(perc, colors = colours, labels=gases,autopct='%1.1f%%', startangle=90)\n",
    "fig = plt.gcf()\n",
    "\n",
    "\n",
    "ax1.axis('equal') \n",
    "plt.title(\"Overview of UK Greenhouse Gas Emissions (2005 - 2020\") \n",
    "plt.figure(figsize=(0.5,0.5))\n",
    "plt.tight_layout()\n",
    "plt.show()\n"
   ]
  },
  {
   "cell_type": "markdown",
   "metadata": {},
   "source": [
    "This column is categorical, the pie chart distributes and visualises the data the best. The relative frequency of greenhouse gases from 2005 to 2020 has been abundant yet stable over the years. As emissions of greenhouse gases increase, the higher the concentrations occur in the atmosphere. \n",
    "\n",
    "So, why is this relevant?\n",
    "\n",
    "To calculate the trends of greenhouse gas emissions within each subsectors over time, I had to investigate and research first about the root of gas emissions. The comparison of different greenhouse gases allows us to showcase the impacts of these gases, also known as calculating GWP (Global warming potential). The GWP is a measure of how much the emissions absorbs energy over a period of time relative to carbon dioxide emissions. Gases with higher GWP absorb more energy and contribute more to warming our Earth.\n",
    "\n",
    "\n",
    "Carbon dioxide: entered within the atmosphere by burning fossil fuels such as coal, oil, gas)\n",
    "\n",
    "\n",
    "Nitrous oxide = emitted through agricultural land use and industrial activities"
   ]
  },
  {
   "cell_type": "markdown",
   "metadata": {},
   "source": [
    "METHANE (CH4) EMISSIONS"
   ]
  },
  {
   "cell_type": "markdown",
   "metadata": {},
   "source": [
    "From 2005 to 2020, methane (ch4) emissions accounted for almost 32.63% in the UK alone from human activities. Human activities emitting methane include transportation and production of coal, natural resources and oil. These emissions also come from sectors such as livestock, waste management, land use and agriculture practices.\n",
    "\n"
   ]
  },
  {
   "cell_type": "markdown",
   "metadata": {},
   "source": [
    "CARBON DIOXIDE EMISSIONS"
   ]
  },
  {
   "cell_type": "markdown",
   "metadata": {},
   "source": [
    "NITROUS OXIDE EMISSIONS"
   ]
  },
  {
   "cell_type": "code",
   "execution_count": 12,
   "metadata": {},
   "outputs": [
    {
     "data": {
      "text/plain": [
       "<AxesSubplot:>"
      ]
     },
     "execution_count": 12,
     "metadata": {},
     "output_type": "execute_result"
    },
    {
     "data": {
      "image/png": "[encoded data removed]",
      "text/plain": [
       "<Figure size 3600x2160 with 1 Axes>"
      ]
     },
     "metadata": {
      "needs_background": "light"
     },
     "output_type": "display_data"
    }
   ],
   "source": [
    "gd[\"Greenhouse gas\"].value_counts().plot(kind=\"bar\")"
   ]
  },
  {
   "cell_type": "markdown",
   "metadata": {},
   "source": [
    "_____________________________________________________"
   ]
  },
  {
   "cell_type": "markdown",
   "metadata": {},
   "source": [
    "CARBON DIOXIDE EMISSIONS (2005 TO 2020)"
   ]
  },
  {
   "cell_type": "markdown",
   "metadata": {},
   "source": [
    "Chemical Formula: CO2e"
   ]
  },
  {
   "cell_type": "code",
   "execution_count": null,
   "metadata": {},
   "outputs": [],
   "source": [
    "#LINE GRAPH \n",
    "\n"
   ]
  },
  {
   "cell_type": "markdown",
   "metadata": {},
   "source": [
    "The line graph displays a time series, fluctuating over the course of almost two decades."
   ]
  },
  {
   "cell_type": "markdown",
   "metadata": {},
   "source": [
    "What are C02 emissions? \n",
    "\n",
    "C02 expresses the warming effect of different greenhouse gases as an equivalent amount of carbon dioxide. It is the amount of carbon dioxide that would give the same warming effect as each greenhouse gas that is emitted or stored by a sector/activity. \n",
    "\n",
    "For example:\n",
    "METHANE = GWP of 25\n",
    "1 tonne of methane = 25 tonnes of carbon dioxide. \n",
    "\n",
    "The carbon dioxide emissions are continous data, measured in kg, grams or tonnes. Carbon dioxide is naturally present within the atmosphere within the Earths Carbon Cycle. Sectors and factors contributing to the Carbon Emissions alter the carbon cycle and affect the ability for plants and soil to remove and store C02 from the atmosphere. "
   ]
  },
  {
   "cell_type": "markdown",
   "metadata": {},
   "source": [
    "These sectors include: \n",
    "Agriculture\n",
    "\n",
    "Commercial: from business and homes, the ghg emissions arise primarily from fossil fuels burned for heat and waste management.\n",
    "\n",
    "Domestic (electricity + gas)\n",
    "\n",
    "Industry ( electricity + gas): within the industry comes from burning fossil fuels for energy, as well as greenhouse gas emissions from certain chemical reactions necessary to produce goods from raw materials.\n",
    "\n",
    "Electricity: (percentage) electricity production generates the second largest share of greenhouse gas emissions, coming from burning fossil fuels, mostly natural gas and coal.\n",
    "\n",
    "LULUCF - lulucf stands for land use and forestry, land areas can act as a sink and absorb c0s from the atmosphere.\n",
    "Public Sector\n",
    "\n",
    "Transport: The transportation sector generates the largest share of ghg gas emissions. greenhouse gas emissions primarily come from burning fossil fuel for cars, trucks, ships, trains and planes. mostly 90% of the fuel used for transportation is petroleum based, which includes primarily gasoline and diesel.\n",
    "\n",
    "Waste management"
   ]
  },
  {
   "cell_type": "markdown",
   "metadata": {},
   "source": [
    "DATA TRENDS AND EMISSIONS:"
   ]
  },
  {
   "cell_type": "code",
   "execution_count": 36,
   "metadata": {},
   "outputs": [
    {
     "name": "stdout",
     "output_type": "stream",
     "text": [
      "\n",
      " Maximum Value in Column = 4026.945363 \n",
      " Minimum Value in Column = 0.0 \n",
      " Median Value in Column = 0.0 \n",
      " Mean Value in Column = 12.618935238207818 \n",
      " Mode Value in Column = 0    0.0\n",
      "Name: CO2 emissions within the scope of influence of LAs (kt CO2e), dtype: float64\n"
     ]
    }
   ],
   "source": [
    "#Finding Max, min, median, mode, mean values\n",
    "\n",
    "maxClm = gd['CO2 emissions within the scope of influence of LAs (kt CO2e)'].max()\n",
    "minClm = gd['CO2 emissions within the scope of influence of LAs (kt CO2e)'].min()\n",
    "medClm = gd['CO2 emissions within the scope of influence of LAs (kt CO2e)'].median()\n",
    "modeclm = gd['CO2 emissions within the scope of influence of LAs (kt CO2e)'].mode()\n",
    "meanclm = gd['CO2 emissions within the scope of influence of LAs (kt CO2e)'].mean()\n",
    "#printing values \n",
    "\n",
    "print('\\n',\"Maximum Value in Column =\", maxClm,'\\n',\n",
    "\"Minimum Value in Column =\", minClm,'\\n',\n",
    "\"Median Value in Column =\",medClm, '\\n',\n",
    "\"Mean Value in Column =\",meanclm, '\\n',\n",
    "\"Mode Value in Column =\",modeclm)"
   ]
  },
  {
   "cell_type": "code",
   "execution_count": 6,
   "metadata": {},
   "outputs": [
    {
     "data": {
      "text/html": [
       "<div>\n",
       "<style scoped>\n",
       "    .dataframe tbody tr th:only-of-type {\n",
       "        vertical-align: middle;\n",
       "    }\n",
       "\n",
       "    .dataframe tbody tr th {\n",
       "        vertical-align: top;\n",
       "    }\n",
       "\n",
       "    .dataframe thead th {\n",
       "        text-align: right;\n",
       "    }\n",
       "</style>\n",
       "<table border=\"1\" class=\"dataframe\">\n",
       "  <thead>\n",
       "    <tr style=\"text-align: right;\">\n",
       "      <th></th>\n",
       "      <th>Country</th>\n",
       "      <th>Country Code</th>\n",
       "      <th>Region</th>\n",
       "      <th>Region Code</th>\n",
       "      <th>Second Tier Authority</th>\n",
       "      <th>Local Authority</th>\n",
       "      <th>Local Authority Code</th>\n",
       "      <th>Calendar Year</th>\n",
       "      <th>LA GHG Sector</th>\n",
       "      <th>LA GHG Sub-sector</th>\n",
       "      <th>Greenhouse gas</th>\n",
       "      <th>Territorial emissions (kt CO2e)</th>\n",
       "      <th>CO2 emissions within the scope of influence of LAs (kt CO2e)</th>\n",
       "      <th>Mid-year Population (thousands)</th>\n",
       "      <th>Area (km2)</th>\n",
       "    </tr>\n",
       "  </thead>\n",
       "  <tbody>\n",
       "    <tr>\n",
       "      <th>count</th>\n",
       "      <td>467443</td>\n",
       "      <td>467088</td>\n",
       "      <td>467443</td>\n",
       "      <td>467088</td>\n",
       "      <td>467088</td>\n",
       "      <td>467443</td>\n",
       "      <td>467443</td>\n",
       "      <td>467443.000000</td>\n",
       "      <td>467443</td>\n",
       "      <td>467443</td>\n",
       "      <td>467443</td>\n",
       "      <td>467443.000000</td>\n",
       "      <td>467443.000000</td>\n",
       "      <td>467443.000000</td>\n",
       "      <td>467443.000000</td>\n",
       "    </tr>\n",
       "    <tr>\n",
       "      <th>unique</th>\n",
       "      <td>5</td>\n",
       "      <td>4</td>\n",
       "      <td>13</td>\n",
       "      <td>12</td>\n",
       "      <td>151</td>\n",
       "      <td>377</td>\n",
       "      <td>376</td>\n",
       "      <td>NaN</td>\n",
       "      <td>8</td>\n",
       "      <td>32</td>\n",
       "      <td>3</td>\n",
       "      <td>NaN</td>\n",
       "      <td>NaN</td>\n",
       "      <td>NaN</td>\n",
       "      <td>NaN</td>\n",
       "    </tr>\n",
       "    <tr>\n",
       "      <th>top</th>\n",
       "      <td>England</td>\n",
       "      <td>E92000001</td>\n",
       "      <td>South East</td>\n",
       "      <td>E12000008</td>\n",
       "      <td>Scotland</td>\n",
       "      <td>Doncaster</td>\n",
       "      <td>E08000017</td>\n",
       "      <td>NaN</td>\n",
       "      <td>Transport</td>\n",
       "      <td>Industry Electricity</td>\n",
       "      <td>N2O</td>\n",
       "      <td>NaN</td>\n",
       "      <td>NaN</td>\n",
       "      <td>NaN</td>\n",
       "      <td>NaN</td>\n",
       "    </tr>\n",
       "    <tr>\n",
       "      <th>freq</th>\n",
       "      <td>385869</td>\n",
       "      <td>385869</td>\n",
       "      <td>79123</td>\n",
       "      <td>79123</td>\n",
       "      <td>40027</td>\n",
       "      <td>1340</td>\n",
       "      <td>1340</td>\n",
       "      <td>NaN</td>\n",
       "      <td>81144</td>\n",
       "      <td>18096</td>\n",
       "      <td>160564</td>\n",
       "      <td>NaN</td>\n",
       "      <td>NaN</td>\n",
       "      <td>NaN</td>\n",
       "      <td>NaN</td>\n",
       "    </tr>\n",
       "    <tr>\n",
       "      <th>mean</th>\n",
       "      <td>NaN</td>\n",
       "      <td>NaN</td>\n",
       "      <td>NaN</td>\n",
       "      <td>NaN</td>\n",
       "      <td>NaN</td>\n",
       "      <td>NaN</td>\n",
       "      <td>NaN</td>\n",
       "      <td>2012.548197</td>\n",
       "      <td>NaN</td>\n",
       "      <td>NaN</td>\n",
       "      <td>NaN</td>\n",
       "      <td>16.029964</td>\n",
       "      <td>12.618935</td>\n",
       "      <td>171.972621</td>\n",
       "      <td>671.648052</td>\n",
       "    </tr>\n",
       "    <tr>\n",
       "      <th>std</th>\n",
       "      <td>NaN</td>\n",
       "      <td>NaN</td>\n",
       "      <td>NaN</td>\n",
       "      <td>NaN</td>\n",
       "      <td>NaN</td>\n",
       "      <td>NaN</td>\n",
       "      <td>NaN</td>\n",
       "      <td>4.634511</td>\n",
       "      <td>NaN</td>\n",
       "      <td>NaN</td>\n",
       "      <td>NaN</td>\n",
       "      <td>94.186416</td>\n",
       "      <td>49.969305</td>\n",
       "      <td>116.024952</td>\n",
       "      <td>1654.220436</td>\n",
       "    </tr>\n",
       "    <tr>\n",
       "      <th>min</th>\n",
       "      <td>NaN</td>\n",
       "      <td>NaN</td>\n",
       "      <td>NaN</td>\n",
       "      <td>NaN</td>\n",
       "      <td>NaN</td>\n",
       "      <td>NaN</td>\n",
       "      <td>NaN</td>\n",
       "      <td>2005.000000</td>\n",
       "      <td>NaN</td>\n",
       "      <td>NaN</td>\n",
       "      <td>NaN</td>\n",
       "      <td>-2920.785256</td>\n",
       "      <td>0.000000</td>\n",
       "      <td>0.000000</td>\n",
       "      <td>0.000000</td>\n",
       "    </tr>\n",
       "    <tr>\n",
       "      <th>25%</th>\n",
       "      <td>NaN</td>\n",
       "      <td>NaN</td>\n",
       "      <td>NaN</td>\n",
       "      <td>NaN</td>\n",
       "      <td>NaN</td>\n",
       "      <td>NaN</td>\n",
       "      <td>NaN</td>\n",
       "      <td>2009.000000</td>\n",
       "      <td>NaN</td>\n",
       "      <td>NaN</td>\n",
       "      <td>NaN</td>\n",
       "      <td>0.030717</td>\n",
       "      <td>0.000000</td>\n",
       "      <td>99.383000</td>\n",
       "      <td>97.958400</td>\n",
       "    </tr>\n",
       "    <tr>\n",
       "      <th>50%</th>\n",
       "      <td>NaN</td>\n",
       "      <td>NaN</td>\n",
       "      <td>NaN</td>\n",
       "      <td>NaN</td>\n",
       "      <td>NaN</td>\n",
       "      <td>NaN</td>\n",
       "      <td>NaN</td>\n",
       "      <td>2013.000000</td>\n",
       "      <td>NaN</td>\n",
       "      <td>NaN</td>\n",
       "      <td>NaN</td>\n",
       "      <td>0.472936</td>\n",
       "      <td>0.000000</td>\n",
       "      <td>136.126000</td>\n",
       "      <td>279.042600</td>\n",
       "    </tr>\n",
       "    <tr>\n",
       "      <th>75%</th>\n",
       "      <td>NaN</td>\n",
       "      <td>NaN</td>\n",
       "      <td>NaN</td>\n",
       "      <td>NaN</td>\n",
       "      <td>NaN</td>\n",
       "      <td>NaN</td>\n",
       "      <td>NaN</td>\n",
       "      <td>2017.000000</td>\n",
       "      <td>NaN</td>\n",
       "      <td>NaN</td>\n",
       "      <td>NaN</td>\n",
       "      <td>3.742259</td>\n",
       "      <td>0.000000</td>\n",
       "      <td>212.137000</td>\n",
       "      <td>680.083400</td>\n",
       "    </tr>\n",
       "    <tr>\n",
       "      <th>max</th>\n",
       "      <td>NaN</td>\n",
       "      <td>NaN</td>\n",
       "      <td>NaN</td>\n",
       "      <td>NaN</td>\n",
       "      <td>NaN</td>\n",
       "      <td>NaN</td>\n",
       "      <td>NaN</td>\n",
       "      <td>2020.000000</td>\n",
       "      <td>NaN</td>\n",
       "      <td>NaN</td>\n",
       "      <td>NaN</td>\n",
       "      <td>9497.777472</td>\n",
       "      <td>4026.945363</td>\n",
       "      <td>1141.816000</td>\n",
       "      <td>26473.949600</td>\n",
       "    </tr>\n",
       "  </tbody>\n",
       "</table>\n",
       "</div>"
      ],
      "text/plain": [
       "        Country Country Code      Region Region Code Second Tier Authority  \\\n",
       "count    467443       467088      467443      467088                467088   \n",
       "unique        5            4          13          12                   151   \n",
       "top     England    E92000001  South East   E12000008              Scotland   \n",
       "freq     385869       385869       79123       79123                 40027   \n",
       "mean        NaN          NaN         NaN         NaN                   NaN   \n",
       "std         NaN          NaN         NaN         NaN                   NaN   \n",
       "min         NaN          NaN         NaN         NaN                   NaN   \n",
       "25%         NaN          NaN         NaN         NaN                   NaN   \n",
       "50%         NaN          NaN         NaN         NaN                   NaN   \n",
       "75%         NaN          NaN         NaN         NaN                   NaN   \n",
       "max         NaN          NaN         NaN         NaN                   NaN   \n",
       "\n",
       "       Local Authority Local Authority Code  Calendar Year LA GHG Sector  \\\n",
       "count           467443               467443  467443.000000        467443   \n",
       "unique             377                  376            NaN             8   \n",
       "top          Doncaster            E08000017            NaN     Transport   \n",
       "freq              1340                 1340            NaN         81144   \n",
       "mean               NaN                  NaN    2012.548197           NaN   \n",
       "std                NaN                  NaN       4.634511           NaN   \n",
       "min                NaN                  NaN    2005.000000           NaN   \n",
       "25%                NaN                  NaN    2009.000000           NaN   \n",
       "50%                NaN                  NaN    2013.000000           NaN   \n",
       "75%                NaN                  NaN    2017.000000           NaN   \n",
       "max                NaN                  NaN    2020.000000           NaN   \n",
       "\n",
       "           LA GHG Sub-sector Greenhouse gas  Territorial emissions (kt CO2e)  \\\n",
       "count                 467443         467443                    467443.000000   \n",
       "unique                    32              3                              NaN   \n",
       "top     Industry Electricity            N2O                              NaN   \n",
       "freq                   18096         160564                              NaN   \n",
       "mean                     NaN            NaN                        16.029964   \n",
       "std                      NaN            NaN                        94.186416   \n",
       "min                      NaN            NaN                     -2920.785256   \n",
       "25%                      NaN            NaN                         0.030717   \n",
       "50%                      NaN            NaN                         0.472936   \n",
       "75%                      NaN            NaN                         3.742259   \n",
       "max                      NaN            NaN                      9497.777472   \n",
       "\n",
       "        CO2 emissions within the scope of influence of LAs (kt CO2e)  \\\n",
       "count                                       467443.000000              \n",
       "unique                                                NaN              \n",
       "top                                                   NaN              \n",
       "freq                                                  NaN              \n",
       "mean                                            12.618935              \n",
       "std                                             49.969305              \n",
       "min                                              0.000000              \n",
       "25%                                              0.000000              \n",
       "50%                                              0.000000              \n",
       "75%                                              0.000000              \n",
       "max                                           4026.945363              \n",
       "\n",
       "        Mid-year Population (thousands)     Area (km2)  \n",
       "count                     467443.000000  467443.000000  \n",
       "unique                              NaN            NaN  \n",
       "top                                 NaN            NaN  \n",
       "freq                                NaN            NaN  \n",
       "mean                         171.972621     671.648052  \n",
       "std                          116.024952    1654.220436  \n",
       "min                            0.000000       0.000000  \n",
       "25%                           99.383000      97.958400  \n",
       "50%                          136.126000     279.042600  \n",
       "75%                          212.137000     680.083400  \n",
       "max                         1141.816000   26473.949600  "
      ]
     },
     "execution_count": 6,
     "metadata": {},
     "output_type": "execute_result"
    }
   ],
   "source": [
    "gd.describe(include='all')"
   ]
  },
  {
   "cell_type": "markdown",
   "metadata": {},
   "source": [
    "MAPS"
   ]
  },
  {
   "cell_type": "markdown",
   "metadata": {},
   "source": [
    "Making maps:\n",
    "columns: country, country code, region, region code\n",
    "AND\n",
    "territorial emissions. "
   ]
  },
  {
   "cell_type": "code",
   "execution_count": 59,
   "metadata": {},
   "outputs": [
    {
     "data": {
      "text/plain": [
       "Index(['Country', 'Country Code', 'Region', 'Region Code',\n",
       "       'Second Tier Authority', 'Local Authority', 'Local Authority Code',\n",
       "       'Calendar Year', 'LA GHG Sector', 'LA GHG Sub-sector', 'Greenhouse gas',\n",
       "       'Territorial emissions (kt CO2e)',\n",
       "       'CO2 emissions within the scope of influence of LAs (kt CO2e)',\n",
       "       'Mid-year Population (thousands)', 'Area (km2)'],\n",
       "      dtype='object')"
      ]
     },
     "execution_count": 59,
     "metadata": {},
     "output_type": "execute_result"
    }
   ],
   "source": [
    "gd.columns"
   ]
  },
  {
   "cell_type": "markdown",
   "metadata": {},
   "source": [
    "JSON \n",
    "\n",
    "https://martinjc.github.io/UK-GeoJSON/json/wal/topo_lad.json\n",
    "WALES - local authority district\n",
    "\n",
    "\n",
    "https://martinjc.github.io/UK-GeoJSON/json/eng/topo_lad.json\n",
    "ENGLAND - local authority district\n",
    "\n",
    "\n"
   ]
  },
  {
   "cell_type": "code",
   "execution_count": null,
   "metadata": {},
   "outputs": [],
   "source": [
    "# CREATING MAPS \n"
   ]
  },
  {
   "cell_type": "markdown",
   "metadata": {},
   "source": [
    "if os.path.isfile(\"Regions_(December_2017)_Boundaries.shx\"):\n",
    "    shapefile = \"Regions_(December_2017)_Boundaries.shx\"\n",
    "    print(\"loading from file\")\n",
    "else:\n",
    "    filepath = \"Regions_(December_2017)_Boundaries.shx\"\n",
    "    print(\"loading from the internet\")\n",
    "\n",
    "s_file = gpd.read_file(shapefile)\n",
    "print(\"done\")"
   ]
  },
  {
   "cell_type": "markdown",
   "metadata": {},
   "source": [
    "ATTEMPT 34\n"
   ]
  },
  {
   "cell_type": "code",
   "execution_count": 56,
   "metadata": {},
   "outputs": [],
   "source": [
    "zipfile='Regions_(December_2017)_Boundaries.shp'\n",
    "custom=gpd.read_file(zipfile)\n"
   ]
  },
  {
   "cell_type": "code",
   "execution_count": 57,
   "metadata": {},
   "outputs": [
    {
     "data": {
      "text/plain": [
       "<AxesSubplot:>"
      ]
     },
     "execution_count": 57,
     "metadata": {},
     "output_type": "execute_result"
    },
    {
     "data": {
      "image/png": "[encoded data removed]",
      "text/plain": [
       "<Figure size 1440x720 with 1 Axes>"
      ]
     },
     "metadata": {
      "needs_background": "light"
     },
     "output_type": "display_data"
    }
   ],
   "source": [
    "custom.plot(figsize=(20,10))\n"
   ]
  },
  {
   "cell_type": "code",
   "execution_count": null,
   "metadata": {},
   "outputs": [],
   "source": [
    "custom=custom.merge(gd,left_on='STATE_NAME',right_on='State',how='outer')\n"
   ]
  },
  {
   "cell_type": "code",
   "execution_count": null,
   "metadata": {},
   "outputs": [],
   "source": [
    "base=custom.boundary.plot(figsize=(20,10),edgecolor='black')\n",
    "custom.plot(ax=base,column='2018 Population',\n",
    "figsize=(20,10),legend=True,legend_kwds={'label': \"2018 Population\",\n",
    "'orientation': \"horizontal\"},missing_kwds={'color': 'lightgrey'},cmap='Blues')\n"
   ]
  },
  {
   "cell_type": "markdown",
   "metadata": {},
   "source": [
    "AREA MAPS"
   ]
  },
  {
   "cell_type": "code",
   "execution_count": 7,
   "metadata": {},
   "outputs": [
    {
     "name": "stderr",
     "output_type": "stream",
     "text": [
      "C:\\Users\\Nadeem\\AppData\\Local\\Temp\\ipykernel_29052\\3247826030.py:1: FutureWarning: Dropping of nuisance columns in DataFrame reductions (with 'numeric_only=None') is deprecated; in a future version this will raise TypeError.  Select only valid columns before calling the reduction.\n",
      "  gd.std() #standard deviation\n"
     ]
    },
    {
     "data": {
      "text/plain": [
       "Calendar Year                                                      4.634511\n",
       "Territorial emissions (kt CO2e)                                   94.186416\n",
       "CO2 emissions within the scope of influence of LAs (kt CO2e)      49.969305\n",
       "Mid-year Population (thousands)                                  116.024952\n",
       "Area (km2)                                                      1654.220436\n",
       "dtype: float64"
      ]
     },
     "execution_count": 7,
     "metadata": {},
     "output_type": "execute_result"
    }
   ],
   "source": [
    "gd.std() #standard deviation"
   ]
  },
  {
   "cell_type": "markdown",
   "metadata": {},
   "source": [
    "References:\n",
    "\n",
    "https://www.kaggle.com/code/jaeyoonpark/animation-basemap-plotly-for-air-quality-index/notebook\n",
    "\n",
    "https://r-graph-gallery.com/183-choropleth-map-with-leaflet.html\n",
    "\n"
   ]
  },
  {
   "cell_type": "markdown",
   "metadata": {},
   "source": [
    "----------------------------------"
   ]
  },
  {
   "cell_type": "markdown",
   "metadata": {},
   "source": []
  }
 ],
 "metadata": {
  "kernelspec": {
   "display_name": "Python 3.10.4 64-bit",
   "language": "python",
   "name": "python3"
  },
  "language_info": {
   "codemirror_mode": {
    "name": "ipython",
    "version": 3
   },
   "file_extension": ".py",
   "mimetype": "text/x-python",
   "name": "python",
   "nbconvert_exporter": "python",
   "pygments_lexer": "ipython3",
   "version": "3.10.4"
  },
  "orig_nbformat": 4,
  "vscode": {
   "interpreter": {
    "hash": "b1ea0511372ac77b82351da42b7ef71d586013f0a851d34cf94788b101e4022d"
   }
  }
 },
 "nbformat": 4,
 "nbformat_minor": 2
}
