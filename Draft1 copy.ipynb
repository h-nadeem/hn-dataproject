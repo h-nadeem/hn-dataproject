{
 "cells": [
  {
   "cell_type": "markdown",
   "metadata": {},
   "source": [
    "# \"What are the trends of ghg emissions in the UK within each sector over time?\"\n",
    "\n",
    "Greenhouse Gas Emissions \n",
    "\n",
    "Hareem Nadeem (z54425310)"
   ]
  },
  {
   "cell_type": "markdown",
   "metadata": {},
   "source": [
    "`imports`"
   ]
  },
  {
   "cell_type": "code",
   "execution_count": 1,
   "metadata": {},
   "outputs": [],
   "source": [
    "import os\n",
    "import geopandas as gpd\n",
    "import plotly.graph_objects as go\n",
    "import plotly.express as px\n",
    "import matplotlib\n",
    "import matplotlib.pyplot as plt\n",
    "import seaborn as sns\n",
    "import numpy as np # linear algebra\n",
    "import json\n",
    "import pandas as pd # data processing (CSV file - e.g. pd.read_csv)\n",
    "from datetime import datetime\n"
   ]
  },
  {
   "cell_type": "code",
   "execution_count": 2,
   "metadata": {},
   "outputs": [],
   "source": [
    "%matplotlib inline"
   ]
  },
  {
   "cell_type": "code",
   "execution_count": 3,
   "metadata": {},
   "outputs": [],
   "source": [
    "plt.rcParams['figure.figsize'] = (50, 30)"
   ]
  },
  {
   "cell_type": "code",
   "execution_count": 4,
   "metadata": {},
   "outputs": [],
   "source": [
    "saved_style_state = matplotlib.rcParams.copy() #give us a style state to go back to"
   ]
  },
  {
   "cell_type": "code",
   "execution_count": 5,
   "metadata": {},
   "outputs": [
    {
     "name": "stdout",
     "output_type": "stream",
     "text": [
      "Loading from file\n",
      "'Greenhouse Gas Emissions dataset, loaded\n"
     ]
    }
   ],
   "source": [
    "#Loading my data (excel spreadsheet)\n",
    "if os.path.isfile(\"ghg_data.csv\"):\n",
    "    filepath = \"ghg_data.csv\"\n",
    "    print(\"Loading from file\")\n",
    "else:\n",
    "    filepath = \"https://assets.publishing.service.gov.uk/government/uploads/system/uploads/attachment_data/file/1087005/uk-local-authority-ghg-emissions-2020-dataset.csv\"\n",
    "    print(\"loading from the internet\")\n",
    "\n",
    "gd = pd.read_csv(filepath)\n",
    "print(\"'Greenhouse Gas Emissions dataset, loaded\")"
   ]
  },
  {
   "cell_type": "markdown",
   "metadata": {},
   "source": [
    "`What are the trends of C02e in the UK within each sector over time?`"
   ]
  },
  {
   "cell_type": "code",
   "execution_count": 6,
   "metadata": {},
   "outputs": [
    {
     "data": {
      "text/html": [
       "<div>\n",
       "<style scoped>\n",
       "    .dataframe tbody tr th:only-of-type {\n",
       "        vertical-align: middle;\n",
       "    }\n",
       "\n",
       "    .dataframe tbody tr th {\n",
       "        vertical-align: top;\n",
       "    }\n",
       "\n",
       "    .dataframe thead th {\n",
       "        text-align: right;\n",
       "    }\n",
       "</style>\n",
       "<table border=\"1\" class=\"dataframe\">\n",
       "  <thead>\n",
       "    <tr style=\"text-align: right;\">\n",
       "      <th></th>\n",
       "      <th>Country</th>\n",
       "      <th>Country Code</th>\n",
       "      <th>Region</th>\n",
       "      <th>Region Code</th>\n",
       "      <th>Second Tier Authority</th>\n",
       "      <th>Local Authority</th>\n",
       "      <th>Local Authority Code</th>\n",
       "      <th>Calendar Year</th>\n",
       "      <th>LA GHG Sector</th>\n",
       "      <th>LA GHG Sub-sector</th>\n",
       "      <th>Greenhouse gas</th>\n",
       "      <th>Territorial emissions (kt CO2e)</th>\n",
       "      <th>CO2 emissions within the scope of influence of LAs (kt CO2e)</th>\n",
       "      <th>Mid-year Population (thousands)</th>\n",
       "      <th>Area (km2)</th>\n",
       "    </tr>\n",
       "  </thead>\n",
       "  <tbody>\n",
       "    <tr>\n",
       "      <th>0</th>\n",
       "      <td>England</td>\n",
       "      <td>E92000001</td>\n",
       "      <td>East Midlands</td>\n",
       "      <td>E12000004</td>\n",
       "      <td>Derby</td>\n",
       "      <td>Derby</td>\n",
       "      <td>E06000015</td>\n",
       "      <td>2005</td>\n",
       "      <td>Agriculture</td>\n",
       "      <td>Agriculture Electricity</td>\n",
       "      <td>CH4</td>\n",
       "      <td>0.010737</td>\n",
       "      <td>0.000000</td>\n",
       "      <td>236.47</td>\n",
       "      <td>78.0311</td>\n",
       "    </tr>\n",
       "    <tr>\n",
       "      <th>1</th>\n",
       "      <td>England</td>\n",
       "      <td>E92000001</td>\n",
       "      <td>East Midlands</td>\n",
       "      <td>E12000004</td>\n",
       "      <td>Derby</td>\n",
       "      <td>Derby</td>\n",
       "      <td>E06000015</td>\n",
       "      <td>2005</td>\n",
       "      <td>Agriculture</td>\n",
       "      <td>Agriculture Electricity</td>\n",
       "      <td>CO2</td>\n",
       "      <td>0.380289</td>\n",
       "      <td>0.380289</td>\n",
       "      <td>236.47</td>\n",
       "      <td>78.0311</td>\n",
       "    </tr>\n",
       "    <tr>\n",
       "      <th>2</th>\n",
       "      <td>England</td>\n",
       "      <td>E92000001</td>\n",
       "      <td>East Midlands</td>\n",
       "      <td>E12000004</td>\n",
       "      <td>Derby</td>\n",
       "      <td>Derby</td>\n",
       "      <td>E06000015</td>\n",
       "      <td>2005</td>\n",
       "      <td>Agriculture</td>\n",
       "      <td>Agriculture Electricity</td>\n",
       "      <td>N2O</td>\n",
       "      <td>0.001710</td>\n",
       "      <td>0.000000</td>\n",
       "      <td>236.47</td>\n",
       "      <td>78.0311</td>\n",
       "    </tr>\n",
       "    <tr>\n",
       "      <th>3</th>\n",
       "      <td>England</td>\n",
       "      <td>E92000001</td>\n",
       "      <td>East Midlands</td>\n",
       "      <td>E12000004</td>\n",
       "      <td>Derby</td>\n",
       "      <td>Derby</td>\n",
       "      <td>E06000015</td>\n",
       "      <td>2005</td>\n",
       "      <td>Agriculture</td>\n",
       "      <td>Agriculture Gas</td>\n",
       "      <td>CH4</td>\n",
       "      <td>0.021121</td>\n",
       "      <td>0.000000</td>\n",
       "      <td>236.47</td>\n",
       "      <td>78.0311</td>\n",
       "    </tr>\n",
       "    <tr>\n",
       "      <th>4</th>\n",
       "      <td>England</td>\n",
       "      <td>E92000001</td>\n",
       "      <td>East Midlands</td>\n",
       "      <td>E12000004</td>\n",
       "      <td>Derby</td>\n",
       "      <td>Derby</td>\n",
       "      <td>E06000015</td>\n",
       "      <td>2005</td>\n",
       "      <td>Agriculture</td>\n",
       "      <td>Agriculture Gas</td>\n",
       "      <td>CO2</td>\n",
       "      <td>0.700438</td>\n",
       "      <td>0.700438</td>\n",
       "      <td>236.47</td>\n",
       "      <td>78.0311</td>\n",
       "    </tr>\n",
       "    <tr>\n",
       "      <th>5</th>\n",
       "      <td>England</td>\n",
       "      <td>E92000001</td>\n",
       "      <td>East Midlands</td>\n",
       "      <td>E12000004</td>\n",
       "      <td>Derby</td>\n",
       "      <td>Derby</td>\n",
       "      <td>E06000015</td>\n",
       "      <td>2005</td>\n",
       "      <td>Agriculture</td>\n",
       "      <td>Agriculture Gas</td>\n",
       "      <td>N2O</td>\n",
       "      <td>0.000558</td>\n",
       "      <td>0.000000</td>\n",
       "      <td>236.47</td>\n",
       "      <td>78.0311</td>\n",
       "    </tr>\n",
       "    <tr>\n",
       "      <th>6</th>\n",
       "      <td>England</td>\n",
       "      <td>E92000001</td>\n",
       "      <td>East Midlands</td>\n",
       "      <td>E12000004</td>\n",
       "      <td>Derby</td>\n",
       "      <td>Derby</td>\n",
       "      <td>E06000015</td>\n",
       "      <td>2005</td>\n",
       "      <td>Agriculture</td>\n",
       "      <td>Agriculture 'Other'</td>\n",
       "      <td>CH4</td>\n",
       "      <td>0.003186</td>\n",
       "      <td>0.000000</td>\n",
       "      <td>236.47</td>\n",
       "      <td>78.0311</td>\n",
       "    </tr>\n",
       "    <tr>\n",
       "      <th>7</th>\n",
       "      <td>England</td>\n",
       "      <td>E92000001</td>\n",
       "      <td>East Midlands</td>\n",
       "      <td>E12000004</td>\n",
       "      <td>Derby</td>\n",
       "      <td>Derby</td>\n",
       "      <td>E06000015</td>\n",
       "      <td>2005</td>\n",
       "      <td>Agriculture</td>\n",
       "      <td>Agriculture 'Other'</td>\n",
       "      <td>CO2</td>\n",
       "      <td>0.792025</td>\n",
       "      <td>0.792025</td>\n",
       "      <td>236.47</td>\n",
       "      <td>78.0311</td>\n",
       "    </tr>\n",
       "    <tr>\n",
       "      <th>8</th>\n",
       "      <td>England</td>\n",
       "      <td>E92000001</td>\n",
       "      <td>East Midlands</td>\n",
       "      <td>E12000004</td>\n",
       "      <td>Derby</td>\n",
       "      <td>Derby</td>\n",
       "      <td>E06000015</td>\n",
       "      <td>2005</td>\n",
       "      <td>Agriculture</td>\n",
       "      <td>Agriculture 'Other'</td>\n",
       "      <td>N2O</td>\n",
       "      <td>0.009533</td>\n",
       "      <td>0.000000</td>\n",
       "      <td>236.47</td>\n",
       "      <td>78.0311</td>\n",
       "    </tr>\n",
       "    <tr>\n",
       "      <th>9</th>\n",
       "      <td>England</td>\n",
       "      <td>E92000001</td>\n",
       "      <td>East Midlands</td>\n",
       "      <td>E12000004</td>\n",
       "      <td>Derby</td>\n",
       "      <td>Derby</td>\n",
       "      <td>E06000015</td>\n",
       "      <td>2005</td>\n",
       "      <td>Agriculture</td>\n",
       "      <td>Agriculture Soils</td>\n",
       "      <td>CO2</td>\n",
       "      <td>0.125285</td>\n",
       "      <td>0.000000</td>\n",
       "      <td>236.47</td>\n",
       "      <td>78.0311</td>\n",
       "    </tr>\n",
       "  </tbody>\n",
       "</table>\n",
       "</div>"
      ],
      "text/plain": [
       "   Country Country Code         Region Region Code Second Tier Authority  \\\n",
       "0  England    E92000001  East Midlands   E12000004                 Derby   \n",
       "1  England    E92000001  East Midlands   E12000004                 Derby   \n",
       "2  England    E92000001  East Midlands   E12000004                 Derby   \n",
       "3  England    E92000001  East Midlands   E12000004                 Derby   \n",
       "4  England    E92000001  East Midlands   E12000004                 Derby   \n",
       "5  England    E92000001  East Midlands   E12000004                 Derby   \n",
       "6  England    E92000001  East Midlands   E12000004                 Derby   \n",
       "7  England    E92000001  East Midlands   E12000004                 Derby   \n",
       "8  England    E92000001  East Midlands   E12000004                 Derby   \n",
       "9  England    E92000001  East Midlands   E12000004                 Derby   \n",
       "\n",
       "  Local Authority Local Authority Code  Calendar Year LA GHG Sector  \\\n",
       "0           Derby            E06000015           2005   Agriculture   \n",
       "1           Derby            E06000015           2005   Agriculture   \n",
       "2           Derby            E06000015           2005   Agriculture   \n",
       "3           Derby            E06000015           2005   Agriculture   \n",
       "4           Derby            E06000015           2005   Agriculture   \n",
       "5           Derby            E06000015           2005   Agriculture   \n",
       "6           Derby            E06000015           2005   Agriculture   \n",
       "7           Derby            E06000015           2005   Agriculture   \n",
       "8           Derby            E06000015           2005   Agriculture   \n",
       "9           Derby            E06000015           2005   Agriculture   \n",
       "\n",
       "         LA GHG Sub-sector Greenhouse gas  Territorial emissions (kt CO2e)  \\\n",
       "0  Agriculture Electricity            CH4                         0.010737   \n",
       "1  Agriculture Electricity            CO2                         0.380289   \n",
       "2  Agriculture Electricity            N2O                         0.001710   \n",
       "3          Agriculture Gas            CH4                         0.021121   \n",
       "4          Agriculture Gas            CO2                         0.700438   \n",
       "5          Agriculture Gas            N2O                         0.000558   \n",
       "6      Agriculture 'Other'            CH4                         0.003186   \n",
       "7      Agriculture 'Other'            CO2                         0.792025   \n",
       "8      Agriculture 'Other'            N2O                         0.009533   \n",
       "9        Agriculture Soils            CO2                         0.125285   \n",
       "\n",
       "   CO2 emissions within the scope of influence of LAs (kt CO2e)  \\\n",
       "0                                           0.000000              \n",
       "1                                           0.380289              \n",
       "2                                           0.000000              \n",
       "3                                           0.000000              \n",
       "4                                           0.700438              \n",
       "5                                           0.000000              \n",
       "6                                           0.000000              \n",
       "7                                           0.792025              \n",
       "8                                           0.000000              \n",
       "9                                           0.000000              \n",
       "\n",
       "   Mid-year Population (thousands)  Area (km2)  \n",
       "0                           236.47     78.0311  \n",
       "1                           236.47     78.0311  \n",
       "2                           236.47     78.0311  \n",
       "3                           236.47     78.0311  \n",
       "4                           236.47     78.0311  \n",
       "5                           236.47     78.0311  \n",
       "6                           236.47     78.0311  \n",
       "7                           236.47     78.0311  \n",
       "8                           236.47     78.0311  \n",
       "9                           236.47     78.0311  "
      ]
     },
     "execution_count": 6,
     "metadata": {},
     "output_type": "execute_result"
    }
   ],
   "source": [
    "gd.head(10)"
   ]
  },
  {
   "cell_type": "code",
   "execution_count": 13,
   "metadata": {},
   "outputs": [
    {
     "data": {
      "text/plain": [
       "Index(['Country', 'Country Code', 'Region', 'Region Code',\n",
       "       'Second Tier Authority', 'Local Authority', 'Local Authority Code',\n",
       "       'Calendar Year', 'LA GHG Sector', 'LA GHG Sub-sector', 'Greenhouse gas',\n",
       "       'Territorial emissions (kt CO2e)',\n",
       "       'CO2 emissions within the scope of influence of LAs (kt CO2e)',\n",
       "       'Mid-year Population (thousands)', 'Area (km2)'],\n",
       "      dtype='object')"
      ]
     },
     "execution_count": 13,
     "metadata": {},
     "output_type": "execute_result"
    }
   ],
   "source": [
    "gd.columns"
   ]
  },
  {
   "cell_type": "code",
   "execution_count": 9,
   "metadata": {},
   "outputs": [
    {
     "data": {
      "text/plain": [
       "N2O    160564\n",
       "CO2    154339\n",
       "CH4    152540\n",
       "Name: Greenhouse gas, dtype: int64"
      ]
     },
     "execution_count": 9,
     "metadata": {},
     "output_type": "execute_result"
    }
   ],
   "source": [
    "gd[\"Greenhouse gas\"].value_counts()"
   ]
  },
  {
   "cell_type": "code",
   "execution_count": 35,
   "metadata": {},
   "outputs": [
    {
     "data": {
      "image/png": "[encoded data removed]",
      "text/plain": [
       "<Figure size 3600x2160 with 1 Axes>"
      ]
     },
     "metadata": {},
     "output_type": "display_data"
    },
    {
     "data": {
      "text/plain": [
       "<Figure size 36x36 with 0 Axes>"
      ]
     },
     "metadata": {},
     "output_type": "display_data"
    }
   ],
   "source": [
    "# Pie chart\n",
    "perc = [34.35, 33.02, 32.63]\n",
    "gases = ['Nitrous Oxide', 'Carbon Dioxide', 'Methane']\n",
    "font = 20\n",
    "\n",
    "#customization \n",
    "colours = ['#097969','#AFE1AF','#4F7942']\n",
    "fig1, ax1 = plt.subplots()\n",
    "ax1.pie(perc, colors = colours, labels=gases,autopct='%1.1f%%', startangle=90)\n",
    "fig = plt.gcf()\n",
    "\n",
    "\n",
    "ax1.axis('equal') \n",
    "plt.title(\"Overview of UK Greenhouse Gas Emissions (2005 - 2020\") \n",
    "plt.figure(figsize=(0.5,0.5))\n",
    "plt.tight_layout()\n",
    "plt.show()\n"
   ]
  },
  {
   "cell_type": "code",
   "execution_count": 12,
   "metadata": {},
   "outputs": [
    {
     "data": {
      "text/plain": [
       "<AxesSubplot:>"
      ]
     },
     "execution_count": 12,
     "metadata": {},
     "output_type": "execute_result"
    },
    {
     "data": {
      "image/png": "[encoded data removed]",
      "text/plain": [
       "<Figure size 3600x2160 with 1 Axes>"
      ]
     },
     "metadata": {
      "needs_background": "light"
     },
     "output_type": "display_data"
    }
   ],
   "source": [
    "gd[\"Greenhouse gas\"].value_counts().plot(kind=\"bar\")"
   ]
  },
  {
   "cell_type": "markdown",
   "metadata": {},
   "source": [
    "_____________________________________________________"
   ]
  },
  {
   "cell_type": "markdown",
   "metadata": {},
   "source": [
    "DATA TRENDS AND EMISSIONS:"
   ]
  },
  {
   "cell_type": "code",
   "execution_count": 36,
   "metadata": {},
   "outputs": [
    {
     "name": "stdout",
     "output_type": "stream",
     "text": [
      "\n",
      " Maximum Value in Column = 4026.945363 \n",
      " Minimum Value in Column = 0.0 \n",
      " Median Value in Column = 0.0 \n",
      " Mean Value in Column = 12.618935238207818 \n",
      " Mode Value in Column = 0    0.0\n",
      "Name: CO2 emissions within the scope of influence of LAs (kt CO2e), dtype: float64\n"
     ]
    }
   ],
   "source": [
    "#Finding Max, min, median, mode, mean values\n",
    "\n",
    "maxClm = gd['CO2 emissions within the scope of influence of LAs (kt CO2e)'].max()\n",
    "minClm = gd['CO2 emissions within the scope of influence of LAs (kt CO2e)'].min()\n",
    "medClm = gd['CO2 emissions within the scope of influence of LAs (kt CO2e)'].median()\n",
    "modeclm = gd['CO2 emissions within the scope of influence of LAs (kt CO2e)'].mode()\n",
    "meanclm = gd['CO2 emissions within the scope of influence of LAs (kt CO2e)'].mean()\n",
    "#printing values \n",
    "\n",
    "print('\\n',\"Maximum Value in Column =\", maxClm,'\\n',\n",
    "\"Minimum Value in Column =\", minClm,'\\n',\n",
    "\"Median Value in Column =\",medClm, '\\n',\n",
    "\"Mean Value in Column =\",meanclm, '\\n',\n",
    "\"Mode Value in Column =\",modeclm)"
   ]
  },
  {
   "cell_type": "code",
   "execution_count": 6,
   "metadata": {},
   "outputs": [
    {
     "data": {
      "text/html": [
       "<div>\n",
       "<style scoped>\n",
       "    .dataframe tbody tr th:only-of-type {\n",
       "        vertical-align: middle;\n",
       "    }\n",
       "\n",
       "    .dataframe tbody tr th {\n",
       "        vertical-align: top;\n",
       "    }\n",
       "\n",
       "    .dataframe thead th {\n",
       "        text-align: right;\n",
       "    }\n",
       "</style>\n",
       "<table border=\"1\" class=\"dataframe\">\n",
       "  <thead>\n",
       "    <tr style=\"text-align: right;\">\n",
       "      <th></th>\n",
       "      <th>Country</th>\n",
       "      <th>Country Code</th>\n",
       "      <th>Region</th>\n",
       "      <th>Region Code</th>\n",
       "      <th>Second Tier Authority</th>\n",
       "      <th>Local Authority</th>\n",
       "      <th>Local Authority Code</th>\n",
       "      <th>Calendar Year</th>\n",
       "      <th>LA GHG Sector</th>\n",
       "      <th>LA GHG Sub-sector</th>\n",
       "      <th>Greenhouse gas</th>\n",
       "      <th>Territorial emissions (kt CO2e)</th>\n",
       "      <th>CO2 emissions within the scope of influence of LAs (kt CO2e)</th>\n",
       "      <th>Mid-year Population (thousands)</th>\n",
       "      <th>Area (km2)</th>\n",
       "    </tr>\n",
       "  </thead>\n",
       "  <tbody>\n",
       "    <tr>\n",
       "      <th>count</th>\n",
       "      <td>467443</td>\n",
       "      <td>467088</td>\n",
       "      <td>467443</td>\n",
       "      <td>467088</td>\n",
       "      <td>467088</td>\n",
       "      <td>467443</td>\n",
       "      <td>467443</td>\n",
       "      <td>467443.000000</td>\n",
       "      <td>467443</td>\n",
       "      <td>467443</td>\n",
       "      <td>467443</td>\n",
       "      <td>467443.000000</td>\n",
       "      <td>467443.000000</td>\n",
       "      <td>467443.000000</td>\n",
       "      <td>467443.000000</td>\n",
       "    </tr>\n",
       "    <tr>\n",
       "      <th>unique</th>\n",
       "      <td>5</td>\n",
       "      <td>4</td>\n",
       "      <td>13</td>\n",
       "      <td>12</td>\n",
       "      <td>151</td>\n",
       "      <td>377</td>\n",
       "      <td>376</td>\n",
       "      <td>NaN</td>\n",
       "      <td>8</td>\n",
       "      <td>32</td>\n",
       "      <td>3</td>\n",
       "      <td>NaN</td>\n",
       "      <td>NaN</td>\n",
       "      <td>NaN</td>\n",
       "      <td>NaN</td>\n",
       "    </tr>\n",
       "    <tr>\n",
       "      <th>top</th>\n",
       "      <td>England</td>\n",
       "      <td>E92000001</td>\n",
       "      <td>South East</td>\n",
       "      <td>E12000008</td>\n",
       "      <td>Scotland</td>\n",
       "      <td>Doncaster</td>\n",
       "      <td>E08000017</td>\n",
       "      <td>NaN</td>\n",
       "      <td>Transport</td>\n",
       "      <td>Industry Electricity</td>\n",
       "      <td>N2O</td>\n",
       "      <td>NaN</td>\n",
       "      <td>NaN</td>\n",
       "      <td>NaN</td>\n",
       "      <td>NaN</td>\n",
       "    </tr>\n",
       "    <tr>\n",
       "      <th>freq</th>\n",
       "      <td>385869</td>\n",
       "      <td>385869</td>\n",
       "      <td>79123</td>\n",
       "      <td>79123</td>\n",
       "      <td>40027</td>\n",
       "      <td>1340</td>\n",
       "      <td>1340</td>\n",
       "      <td>NaN</td>\n",
       "      <td>81144</td>\n",
       "      <td>18096</td>\n",
       "      <td>160564</td>\n",
       "      <td>NaN</td>\n",
       "      <td>NaN</td>\n",
       "      <td>NaN</td>\n",
       "      <td>NaN</td>\n",
       "    </tr>\n",
       "    <tr>\n",
       "      <th>mean</th>\n",
       "      <td>NaN</td>\n",
       "      <td>NaN</td>\n",
       "      <td>NaN</td>\n",
       "      <td>NaN</td>\n",
       "      <td>NaN</td>\n",
       "      <td>NaN</td>\n",
       "      <td>NaN</td>\n",
       "      <td>2012.548197</td>\n",
       "      <td>NaN</td>\n",
       "      <td>NaN</td>\n",
       "      <td>NaN</td>\n",
       "      <td>16.029964</td>\n",
       "      <td>12.618935</td>\n",
       "      <td>171.972621</td>\n",
       "      <td>671.648052</td>\n",
       "    </tr>\n",
       "    <tr>\n",
       "      <th>std</th>\n",
       "      <td>NaN</td>\n",
       "      <td>NaN</td>\n",
       "      <td>NaN</td>\n",
       "      <td>NaN</td>\n",
       "      <td>NaN</td>\n",
       "      <td>NaN</td>\n",
       "      <td>NaN</td>\n",
       "      <td>4.634511</td>\n",
       "      <td>NaN</td>\n",
       "      <td>NaN</td>\n",
       "      <td>NaN</td>\n",
       "      <td>94.186416</td>\n",
       "      <td>49.969305</td>\n",
       "      <td>116.024952</td>\n",
       "      <td>1654.220436</td>\n",
       "    </tr>\n",
       "    <tr>\n",
       "      <th>min</th>\n",
       "      <td>NaN</td>\n",
       "      <td>NaN</td>\n",
       "      <td>NaN</td>\n",
       "      <td>NaN</td>\n",
       "      <td>NaN</td>\n",
       "      <td>NaN</td>\n",
       "      <td>NaN</td>\n",
       "      <td>2005.000000</td>\n",
       "      <td>NaN</td>\n",
       "      <td>NaN</td>\n",
       "      <td>NaN</td>\n",
       "      <td>-2920.785256</td>\n",
       "      <td>0.000000</td>\n",
       "      <td>0.000000</td>\n",
       "      <td>0.000000</td>\n",
       "    </tr>\n",
       "    <tr>\n",
       "      <th>25%</th>\n",
       "      <td>NaN</td>\n",
       "      <td>NaN</td>\n",
       "      <td>NaN</td>\n",
       "      <td>NaN</td>\n",
       "      <td>NaN</td>\n",
       "      <td>NaN</td>\n",
       "      <td>NaN</td>\n",
       "      <td>2009.000000</td>\n",
       "      <td>NaN</td>\n",
       "      <td>NaN</td>\n",
       "      <td>NaN</td>\n",
       "      <td>0.030717</td>\n",
       "      <td>0.000000</td>\n",
       "      <td>99.383000</td>\n",
       "      <td>97.958400</td>\n",
       "    </tr>\n",
       "    <tr>\n",
       "      <th>50%</th>\n",
       "      <td>NaN</td>\n",
       "      <td>NaN</td>\n",
       "      <td>NaN</td>\n",
       "      <td>NaN</td>\n",
       "      <td>NaN</td>\n",
       "      <td>NaN</td>\n",
       "      <td>NaN</td>\n",
       "      <td>2013.000000</td>\n",
       "      <td>NaN</td>\n",
       "      <td>NaN</td>\n",
       "      <td>NaN</td>\n",
       "      <td>0.472936</td>\n",
       "      <td>0.000000</td>\n",
       "      <td>136.126000</td>\n",
       "      <td>279.042600</td>\n",
       "    </tr>\n",
       "    <tr>\n",
       "      <th>75%</th>\n",
       "      <td>NaN</td>\n",
       "      <td>NaN</td>\n",
       "      <td>NaN</td>\n",
       "      <td>NaN</td>\n",
       "      <td>NaN</td>\n",
       "      <td>NaN</td>\n",
       "      <td>NaN</td>\n",
       "      <td>2017.000000</td>\n",
       "      <td>NaN</td>\n",
       "      <td>NaN</td>\n",
       "      <td>NaN</td>\n",
       "      <td>3.742259</td>\n",
       "      <td>0.000000</td>\n",
       "      <td>212.137000</td>\n",
       "      <td>680.083400</td>\n",
       "    </tr>\n",
       "    <tr>\n",
       "      <th>max</th>\n",
       "      <td>NaN</td>\n",
       "      <td>NaN</td>\n",
       "      <td>NaN</td>\n",
       "      <td>NaN</td>\n",
       "      <td>NaN</td>\n",
       "      <td>NaN</td>\n",
       "      <td>NaN</td>\n",
       "      <td>2020.000000</td>\n",
       "      <td>NaN</td>\n",
       "      <td>NaN</td>\n",
       "      <td>NaN</td>\n",
       "      <td>9497.777472</td>\n",
       "      <td>4026.945363</td>\n",
       "      <td>1141.816000</td>\n",
       "      <td>26473.949600</td>\n",
       "    </tr>\n",
       "  </tbody>\n",
       "</table>\n",
       "</div>"
      ],
      "text/plain": [
       "        Country Country Code      Region Region Code Second Tier Authority  \\\n",
       "count    467443       467088      467443      467088                467088   \n",
       "unique        5            4          13          12                   151   \n",
       "top     England    E92000001  South East   E12000008              Scotland   \n",
       "freq     385869       385869       79123       79123                 40027   \n",
       "mean        NaN          NaN         NaN         NaN                   NaN   \n",
       "std         NaN          NaN         NaN         NaN                   NaN   \n",
       "min         NaN          NaN         NaN         NaN                   NaN   \n",
       "25%         NaN          NaN         NaN         NaN                   NaN   \n",
       "50%         NaN          NaN         NaN         NaN                   NaN   \n",
       "75%         NaN          NaN         NaN         NaN                   NaN   \n",
       "max         NaN          NaN         NaN         NaN                   NaN   \n",
       "\n",
       "       Local Authority Local Authority Code  Calendar Year LA GHG Sector  \\\n",
       "count           467443               467443  467443.000000        467443   \n",
       "unique             377                  376            NaN             8   \n",
       "top          Doncaster            E08000017            NaN     Transport   \n",
       "freq              1340                 1340            NaN         81144   \n",
       "mean               NaN                  NaN    2012.548197           NaN   \n",
       "std                NaN                  NaN       4.634511           NaN   \n",
       "min                NaN                  NaN    2005.000000           NaN   \n",
       "25%                NaN                  NaN    2009.000000           NaN   \n",
       "50%                NaN                  NaN    2013.000000           NaN   \n",
       "75%                NaN                  NaN    2017.000000           NaN   \n",
       "max                NaN                  NaN    2020.000000           NaN   \n",
       "\n",
       "           LA GHG Sub-sector Greenhouse gas  Territorial emissions (kt CO2e)  \\\n",
       "count                 467443         467443                    467443.000000   \n",
       "unique                    32              3                              NaN   \n",
       "top     Industry Electricity            N2O                              NaN   \n",
       "freq                   18096         160564                              NaN   \n",
       "mean                     NaN            NaN                        16.029964   \n",
       "std                      NaN            NaN                        94.186416   \n",
       "min                      NaN            NaN                     -2920.785256   \n",
       "25%                      NaN            NaN                         0.030717   \n",
       "50%                      NaN            NaN                         0.472936   \n",
       "75%                      NaN            NaN                         3.742259   \n",
       "max                      NaN            NaN                      9497.777472   \n",
       "\n",
       "        CO2 emissions within the scope of influence of LAs (kt CO2e)  \\\n",
       "count                                       467443.000000              \n",
       "unique                                                NaN              \n",
       "top                                                   NaN              \n",
       "freq                                                  NaN              \n",
       "mean                                            12.618935              \n",
       "std                                             49.969305              \n",
       "min                                              0.000000              \n",
       "25%                                              0.000000              \n",
       "50%                                              0.000000              \n",
       "75%                                              0.000000              \n",
       "max                                           4026.945363              \n",
       "\n",
       "        Mid-year Population (thousands)     Area (km2)  \n",
       "count                     467443.000000  467443.000000  \n",
       "unique                              NaN            NaN  \n",
       "top                                 NaN            NaN  \n",
       "freq                                NaN            NaN  \n",
       "mean                         171.972621     671.648052  \n",
       "std                          116.024952    1654.220436  \n",
       "min                            0.000000       0.000000  \n",
       "25%                           99.383000      97.958400  \n",
       "50%                          136.126000     279.042600  \n",
       "75%                          212.137000     680.083400  \n",
       "max                         1141.816000   26473.949600  "
      ]
     },
     "execution_count": 6,
     "metadata": {},
     "output_type": "execute_result"
    }
   ],
   "source": [
    "gd.describe(include='all')"
   ]
  },
  {
   "cell_type": "code",
   "execution_count": 59,
   "metadata": {},
   "outputs": [
    {
     "data": {
      "text/plain": [
       "Index(['Country', 'Country Code', 'Region', 'Region Code',\n",
       "       'Second Tier Authority', 'Local Authority', 'Local Authority Code',\n",
       "       'Calendar Year', 'LA GHG Sector', 'LA GHG Sub-sector', 'Greenhouse gas',\n",
       "       'Territorial emissions (kt CO2e)',\n",
       "       'CO2 emissions within the scope of influence of LAs (kt CO2e)',\n",
       "       'Mid-year Population (thousands)', 'Area (km2)'],\n",
       "      dtype='object')"
      ]
     },
     "execution_count": 59,
     "metadata": {},
     "output_type": "execute_result"
    }
   ],
   "source": [
    "gd.columns"
   ]
  },
  {
   "cell_type": "code",
   "execution_count": 6,
   "metadata": {},
   "outputs": [
    {
     "data": {
      "text/plain": [
       "count    467443.000000\n",
       "mean         16.029964\n",
       "std          94.186416\n",
       "min       -2920.785256\n",
       "25%           0.030717\n",
       "50%           0.472936\n",
       "75%           3.742259\n",
       "max        9497.777472\n",
       "Name: Territorial emissions (kt CO2e), dtype: float64"
      ]
     },
     "execution_count": 6,
     "metadata": {},
     "output_type": "execute_result"
    }
   ],
   "source": [
    "gd['Territorial emissions (kt CO2e)'].describe()"
   ]
  },
  {
   "cell_type": "markdown",
   "metadata": {},
   "source": [
    "MAPS\n"
   ]
  },
  {
   "cell_type": "code",
   "execution_count": 6,
   "metadata": {},
   "outputs": [],
   "source": [
    "zipfile='Regions_(December_2017)_Boundaries.shp'\n",
    "custom=gpd.read_file(zipfile)\n"
   ]
  },
  {
   "cell_type": "code",
   "execution_count": 11,
   "metadata": {},
   "outputs": [
    {
     "data": {
      "text/html": [
       "<div>\n",
       "<style scoped>\n",
       "    .dataframe tbody tr th:only-of-type {\n",
       "        vertical-align: middle;\n",
       "    }\n",
       "\n",
       "    .dataframe tbody tr th {\n",
       "        vertical-align: top;\n",
       "    }\n",
       "\n",
       "    .dataframe thead th {\n",
       "        text-align: right;\n",
       "    }\n",
       "</style>\n",
       "<table border=\"1\" class=\"dataframe\">\n",
       "  <thead>\n",
       "    <tr style=\"text-align: right;\">\n",
       "      <th></th>\n",
       "      <th>geometry</th>\n",
       "    </tr>\n",
       "  </thead>\n",
       "  <tbody>\n",
       "    <tr>\n",
       "      <th>0</th>\n",
       "      <td>MULTIPOLYGON (((398253.902 652833.898, 398317....</td>\n",
       "    </tr>\n",
       "    <tr>\n",
       "      <th>1</th>\n",
       "      <td>MULTIPOLYGON (((357012.898 586734.198, 356931....</td>\n",
       "    </tr>\n",
       "    <tr>\n",
       "      <th>2</th>\n",
       "      <td>MULTIPOLYGON (((478203.003 518916.601, 478373....</td>\n",
       "    </tr>\n",
       "    <tr>\n",
       "      <th>3</th>\n",
       "      <td>MULTIPOLYGON (((512490.996 414654.696, 512679....</td>\n",
       "    </tr>\n",
       "    <tr>\n",
       "      <th>4</th>\n",
       "      <td>POLYGON ((403387.797 368314.900, 403515.999 36...</td>\n",
       "    </tr>\n",
       "  </tbody>\n",
       "</table>\n",
       "</div>"
      ],
      "text/plain": [
       "                                            geometry\n",
       "0  MULTIPOLYGON (((398253.902 652833.898, 398317....\n",
       "1  MULTIPOLYGON (((357012.898 586734.198, 356931....\n",
       "2  MULTIPOLYGON (((478203.003 518916.601, 478373....\n",
       "3  MULTIPOLYGON (((512490.996 414654.696, 512679....\n",
       "4  POLYGON ((403387.797 368314.900, 403515.999 36..."
      ]
     },
     "execution_count": 11,
     "metadata": {},
     "output_type": "execute_result"
    }
   ],
   "source": [
    "custom.head()"
   ]
  },
  {
   "cell_type": "code",
   "execution_count": 57,
   "metadata": {},
   "outputs": [
    {
     "data": {
      "text/plain": [
       "<AxesSubplot:>"
      ]
     },
     "execution_count": 57,
     "metadata": {},
     "output_type": "execute_result"
    },
    {
     "data": {
      "image/png": "[encoded data removed]",
      "text/plain": [
       "<Figure size 1440x720 with 1 Axes>"
      ]
     },
     "metadata": {
      "needs_background": "light"
     },
     "output_type": "display_data"
    }
   ],
   "source": [
    "custom.plot(figsize=(20,10))\n"
   ]
  },
  {
   "cell_type": "code",
   "execution_count": 8,
   "metadata": {},
   "outputs": [
    {
     "data": {
      "text/html": [
       "<div>\n",
       "<style scoped>\n",
       "    .dataframe tbody tr th:only-of-type {\n",
       "        vertical-align: middle;\n",
       "    }\n",
       "\n",
       "    .dataframe tbody tr th {\n",
       "        vertical-align: top;\n",
       "    }\n",
       "\n",
       "    .dataframe thead th {\n",
       "        text-align: right;\n",
       "    }\n",
       "</style>\n",
       "<table border=\"1\" class=\"dataframe\">\n",
       "  <thead>\n",
       "    <tr style=\"text-align: right;\">\n",
       "      <th></th>\n",
       "      <th>objectid</th>\n",
       "      <th>rgn17cd</th>\n",
       "      <th>rgn17nm</th>\n",
       "      <th>bng_e</th>\n",
       "      <th>bng_n</th>\n",
       "      <th>long</th>\n",
       "      <th>lat</th>\n",
       "      <th>st_areashape</th>\n",
       "      <th>st_lengthshape</th>\n",
       "      <th>geometry</th>\n",
       "    </tr>\n",
       "  </thead>\n",
       "  <tbody>\n",
       "    <tr>\n",
       "      <th>0</th>\n",
       "      <td>1</td>\n",
       "      <td>E12000001</td>\n",
       "      <td>North East</td>\n",
       "      <td>417313</td>\n",
       "      <td>600358</td>\n",
       "      <td>-1.72890</td>\n",
       "      <td>55.297031</td>\n",
       "      <td>8.592522e+09</td>\n",
       "      <td>9.831597e+05</td>\n",
       "      <td>MULTIPOLYGON (((-2.02941 55.76884, -2.02524 55...</td>\n",
       "    </tr>\n",
       "    <tr>\n",
       "      <th>1</th>\n",
       "      <td>2</td>\n",
       "      <td>E12000002</td>\n",
       "      <td>North West</td>\n",
       "      <td>350015</td>\n",
       "      <td>506280</td>\n",
       "      <td>-2.77237</td>\n",
       "      <td>54.449451</td>\n",
       "      <td>1.416376e+10</td>\n",
       "      <td>2.004965e+06</td>\n",
       "      <td>MULTIPOLYGON (((-2.67644 55.17304, -2.67427 55...</td>\n",
       "    </tr>\n",
       "    <tr>\n",
       "      <th>2</th>\n",
       "      <td>3</td>\n",
       "      <td>E12000003</td>\n",
       "      <td>Yorkshire and The Humber</td>\n",
       "      <td>446903</td>\n",
       "      <td>448736</td>\n",
       "      <td>-1.28712</td>\n",
       "      <td>53.932640</td>\n",
       "      <td>1.540936e+10</td>\n",
       "      <td>1.359099e+06</td>\n",
       "      <td>MULTIPOLYGON (((-0.79223 54.55947, -0.79383 54...</td>\n",
       "    </tr>\n",
       "    <tr>\n",
       "      <th>3</th>\n",
       "      <td>4</td>\n",
       "      <td>E12000004</td>\n",
       "      <td>East Midlands</td>\n",
       "      <td>477660</td>\n",
       "      <td>322635</td>\n",
       "      <td>-0.84967</td>\n",
       "      <td>52.795719</td>\n",
       "      <td>1.564318e+10</td>\n",
       "      <td>1.298010e+06</td>\n",
       "      <td>MULTIPOLYGON (((-0.30093 53.61639, -0.30442 53...</td>\n",
       "    </tr>\n",
       "    <tr>\n",
       "      <th>4</th>\n",
       "      <td>5</td>\n",
       "      <td>E12000005</td>\n",
       "      <td>West Midlands</td>\n",
       "      <td>386294</td>\n",
       "      <td>295477</td>\n",
       "      <td>-2.20358</td>\n",
       "      <td>52.556969</td>\n",
       "      <td>1.300373e+10</td>\n",
       "      <td>9.211872e+05</td>\n",
       "      <td>POLYGON ((-1.95073 53.21190, -1.95671 53.21375...</td>\n",
       "    </tr>\n",
       "  </tbody>\n",
       "</table>\n",
       "</div>"
      ],
      "text/plain": [
       "   objectid    rgn17cd                   rgn17nm   bng_e   bng_n     long  \\\n",
       "0         1  E12000001                North East  417313  600358 -1.72890   \n",
       "1         2  E12000002                North West  350015  506280 -2.77237   \n",
       "2         3  E12000003  Yorkshire and The Humber  446903  448736 -1.28712   \n",
       "3         4  E12000004             East Midlands  477660  322635 -0.84967   \n",
       "4         5  E12000005             West Midlands  386294  295477 -2.20358   \n",
       "\n",
       "         lat  st_areashape  st_lengthshape  \\\n",
       "0  55.297031  8.592522e+09    9.831597e+05   \n",
       "1  54.449451  1.416376e+10    2.004965e+06   \n",
       "2  53.932640  1.540936e+10    1.359099e+06   \n",
       "3  52.795719  1.564318e+10    1.298010e+06   \n",
       "4  52.556969  1.300373e+10    9.211872e+05   \n",
       "\n",
       "                                            geometry  \n",
       "0  MULTIPOLYGON (((-2.02941 55.76884, -2.02524 55...  \n",
       "1  MULTIPOLYGON (((-2.67644 55.17304, -2.67427 55...  \n",
       "2  MULTIPOLYGON (((-0.79223 54.55947, -0.79383 54...  \n",
       "3  MULTIPOLYGON (((-0.30093 53.61639, -0.30442 53...  \n",
       "4  POLYGON ((-1.95073 53.21190, -1.95671 53.21375...  "
      ]
     },
     "execution_count": 8,
     "metadata": {},
     "output_type": "execute_result"
    }
   ],
   "source": [
    "sf = gpd.read_file('Regions_(December_2017)_Boundaries.geojson')\n",
    "sf.head()\n"
   ]
  },
  {
   "cell_type": "code",
   "execution_count": 11,
   "metadata": {},
   "outputs": [
    {
     "data": {
      "image/svg+xml": "<svg xmlns=\"http://www.w3.org/2000/svg\" xmlns:xlink=\"http://www.w3.org/1999/xlink\" width=\"100.0\" height=\"100.0\" viewBox=\"-2.7658444619204645 54.375110623404495 2.053464136305597 1.5120121568152882\" preserveAspectRatio=\"xMinYMin meet\"><g transform=\"matrix(1,0,0,-1,0,110.26223340362428)\"><g><path fill-rule=\"evenodd\" fill=\"#66cc99\" stroke=\"#555555\" stroke-width=\"0.04106928272611194\" opacity=\"0.6\" d=\"M -2.02940812226187,55.76883866271741 L -2.025235219913587,55.770872947793734 L -2.02310147186905,55.7717548162128 L -2.025187644315646,55.771288035030594 L -2.029626321686177,55.77066976397523 L -2.031652986856102,55.76975547369973 L -2.033578848561434,55.766478175877296 L -2.034026401304063,55.76434409994595 L -2.038138695284631,55.760122587939996 L -2.04071412878971,55.75905617253246 L -2.046035027881004,55.75798690510937 L -2.055304127461818,55.75720222575562 L -2.065584723947689,55.759296976830264 L -2.075262797246707,55.75993653688626 L -2.08653681770254,55.7615167442414 L -2.092110809111166,55.76215421015296 L -2.097903136080685,55.762074272157975 L -2.10245539653018,55.76129061143109 L -2.106292421860168,55.760048313251716 L -2.107278632902899,55.759448147888584 L -2.10850412935779,55.7583545380419 L -2.108799424302509,55.75739648046757 L -2.10830197623124,55.75656157978048 L -2.107173885139421,55.755091925989475 L -2.10511976386099,55.751219775250476 L -2.106011622665862,55.74815878166923 L -2.10668845564615,55.747543616710345 L -2.107665819915473,55.747282182390926 L -2.113667371707608,55.74815372520065 L -2.116123717287201,55.74655919688146 L -2.117626109850067,55.744518211168284 L -2.1180111383617,55.742766622593884 L -2.11671664607312,55.74077231934711 L -2.116664497666072,55.73931316927769 L -2.117306841590854,55.7384258081781 L -2.119484658848265,55.73762759138192 L -2.125349733717742,55.73705835811782 L -2.130559172196417,55.738575002247856 L -2.131805423415801,55.73931400462192 L -2.134336597996818,55.739927634884005 L -2.136617874830916,55.74010395709765 L -2.136545636454764,55.74040054880082 L -2.138732690690329,55.74047265019691 L -2.141511721694835,55.73999870678988 L -2.144434487435946,55.7392081693525 L -2.146051356119675,55.73844166839965 L -2.148744955597684,55.736486814042344 L -2.149883530181603,55.734819630899494 L -2.149858297645957,55.733235602876896 L -2.148067160875765,55.7295053798498 L -2.147749551390427,55.727196636207296 L -2.14915025974701,55.724588405158656 L -2.150506115512214,55.72319940488827 L -2.151751430530421,55.72250603960169 L -2.1535762456738,55.72219647816914 L -2.156140916329961,55.7222183919642 L -2.158813020115109,55.72283852609368 L -2.161581732335369,55.72289778849733 L -2.168855658759768,55.72224107495437 L -2.17353698107981,55.720698089058075 L -2.176996723551227,55.7183750346554 L -2.177053698008288,55.716520427424875 L -2.175746790438244,55.71437308045264 L -2.172500082397777,55.71080257956512 L -2.166998481057857,55.7078262035699 L -2.166565023875281,55.70694445413752 L -2.167231059666066,55.70603525374615 L -2.170577404778173,55.7049119967648 L -2.180597700851351,55.70327414214998 L -2.184055194602458,55.70159327282974 L -2.186407880412177,55.69980718407093 L -2.186907496452337,55.69913885827203 L -2.186751332802485,55.69843910045154 L -2.188235354927809,55.696704592679126 L -2.189184197922056,55.69650813081821 L -2.189814751274458,55.69597351807632 L -2.19119565055791,55.6963181890852 L -2.192170365172058,55.695572662188034 L -2.195312877489981,55.69090991053844 L -2.197805033799586,55.68832727233541 L -2.198924694188674,55.68767855714857 L -2.204300320670587,55.686722737349434 L -2.205965313314127,55.68606855854492 L -2.208104719683139,55.68371992776613 L -2.208894388685399,55.68060619261744 L -2.211649402362632,55.67956814666221 L -2.218659160708754,55.675907136344605 L -2.219725046313028,55.67374253730312 L -2.219571962820758,55.67222882506882 L -2.217966035152614,55.669643136435845 L -2.217041248495397,55.66687109230193 L -2.217525304048701,55.66529247031856 L -2.218452728036051,55.66426026653845 L -2.220896247619196,55.66347234638813 L -2.226923324335528,55.66312439873559 L -2.229977528300773,55.66243855034588 L -2.232145178670128,55.661021066630596 L -2.23392083774622,55.658129904147316 L -2.237004236922261,55.65630806615279 L -2.244445220193491,55.65326281607022 L -2.24642370278378,55.6530135357453 L -2.248173937593193,55.65235319696624 L -2.248473959017538,55.65154299325181 L -2.247829104732573,55.65059188373283 L -2.242494251235768,55.64768512951443 L -2.240224113796889,55.646969026687714 L -2.235377778157025,55.646405176240854 L -2.233630961134787,55.64576159948305 L -2.231917763027525,55.645144879546976 L -2.23158750278595,55.643833691909784 L -2.232556802774279,55.64252094122114 L -2.234799326422838,55.64081212903661 L -2.237193327173356,55.640273767102876 L -2.242420071473164,55.64004884349421 L -2.242791158560231,55.63969230721945 L -2.245725856071868,55.63951928664311 L -2.248624733315173,55.639980707939685 L -2.249767411003266,55.64156425685863 L -2.252335238817078,55.64264075901924 L -2.251449252601676,55.643217645627345 L -2.256017468925555,55.64452627432483 L -2.259810245541888,55.644573973531394 L -2.27309054710961,55.64269951040845 L -2.282972310198656,55.64292237980232 L -2.289179531517087,55.64338143447665 L -2.292870294055566,55.64530355007757 L -2.298950192551484,55.64712632526607 L -2.305789704147382,55.647043771887 L -2.310337364293178,55.64606194471672 L -2.313150349964352,55.64476452739792 L -2.31477258656074,55.64358508848888 L -2.316034394764188,55.64323771607612 L -2.319368465820248,55.64314732592676 L -2.322589035057232,55.64355756795839 L -2.324702018782338,55.64316654613072 L -2.325583130830873,55.64213094324163 L -2.326026573943849,55.63986552867087 L -2.325594539076019,55.638327513502794 L -2.326113820204248,55.63717151280478 L -2.327611928193409,55.63604622134489 L -2.332341746924013,55.634838441305185 L -2.335047017571733,55.63449144196957 L -2.335109397626771,55.633238739557456 L -2.336012446703515,55.63205469760818 L -2.335246587677188,55.63202086534003 L -2.332162207723811,55.62976412811964 L -2.329804783548469,55.62914513082248 L -2.328149782242916,55.627409109808134 L -2.32431056014124,55.62616590512265 L -2.32161434141799,55.62619996271348 L -2.319816282076742,55.62772227684402 L -2.318339246817087,55.62810797431399 L -2.315894796675547,55.628250032135995 L -2.3149992299242,55.627883875085516 L -2.310840188002453,55.628912591694686 L -2.3086260296625,55.62887597543896 L -2.30893463095999,55.62247950117046 L -2.316094112556244,55.62045846719723 L -2.307286285188933,55.61110392243686 L -2.305949343100496,55.612083949537585 L -2.295134840845786,55.60862243396172 L -2.295504097753334,55.60833400919592 L -2.293885267581262,55.60455515666013 L -2.292268557888159,55.60462190218144 L -2.28923229503346,55.603773694996626 L -2.290320550217346,55.60283845833602 L -2.287752174799805,55.601048447314 L -2.288954431848917,55.59836260707006 L -2.288510418786108,55.597980006738084 L -2.28813558761777,55.59814446197119 L -2.285935603758205,55.596543888467124 L -2.288607156043612,55.59494186532649 L -2.287847769676344,55.59286543796628 L -2.288114069562321,55.591537632612784 L -2.290373468663882,55.589609479868535 L -2.292391818753174,55.58579856463998 L -2.288535871636412,55.58005002053426 L -2.285432259688023,55.57772018749384 L -2.280147722456221,55.57731999206588 L -2.27647882151327,55.575689443105595 L -2.270055299273734,55.570108659175965 L -2.264618387510544,55.56691910669834 L -2.259804762067258,55.56505778358321 L -2.259867129398863,55.56369282554415 L -2.257505245178014,55.562567435129125 L -2.253075843607514,55.56139149482349 L -2.247854199163166,55.556730736707905 L -2.244051778057651,55.55681751056173 L -2.240306505900232,55.55562716746945 L -2.240768829076832,55.552683537093024 L -2.23517283316496,55.54833476065547 L -2.234092563859218,55.54655871089129 L -2.232248675242853,55.54482982315244 L -2.232414842818266,55.54371628415699 L -2.233222862144272,55.54314506693703 L -2.232962741834558,55.54177893683991 L -2.233823984562782,55.540827556510145 L -2.233217214663238,55.529613281050494 L -2.227602351764341,55.528408130126245 L -2.224283308606251,55.52278767062672 L -2.226627659998439,55.519513645976836 L -2.228845515506559,55.50951877910498 L -2.227994341303648,55.50800543694738 L -2.22654049671095,55.50709792246051 L -2.220581568260371,55.50631546409231 L -2.219452574994159,55.50573254267587 L -2.216920862040149,55.50281588423831 L -2.21194123588287,55.49942376273833 L -2.20876061712333,55.49572728038794 L -2.208804122074496,55.494676768513315 L -2.207031384063642,55.494070575284475 L -2.205294370299191,55.491492950667435 L -2.202649275063973,55.489541286773914 L -2.202232776893291,55.48824271608331 L -2.206062883581194,55.482888271796774 L -2.206355082019667,55.4815597642729 L -2.205374815044505,55.48017492211682 L -2.20337318153066,55.47860403649743 L -2.201591709707494,55.475516010482295 L -2.200943771680211,55.47501574745592 L -2.195492263397675,55.47532111325503 L -2.189471159137379,55.473961171590695 L -2.173723598736924,55.47227110960785 L -2.168494638821166,55.46906169287186 L -2.165521232110167,55.4683818971787 L -2.166536023497166,55.46746849344939 L -2.184413543801581,55.4640850422505 L -2.189637454505171,55.46116580367369 L -2.188425782219892,55.45643858296083 L -2.190034629297194,55.45430841876002 L -2.192264967646477,55.452550940809736 L -2.193529015968988,55.449799389361694 L -2.193299732462553,55.44721377316802 L -2.194219721154839,55.44525800726237 L -2.198345562680971,55.442131635524 L -2.201741351073387,55.440684776122545 L -2.203793158176343,55.43856986036859 L -2.20562430052734,55.4375387943648 L -2.221135627636507,55.43314207864428 L -2.223082071052378,55.43223468339216 L -2.223352028285382,55.43133293938233 L -2.228200676777065,55.430350862651636 L -2.229956029423511,55.43057663332595 L -2.231281912461901,55.42842929108558 L -2.233813213447639,55.429239487612165 L -2.236634620630716,55.43096199791268 L -2.242543940022467,55.43214629826883 L -2.253762067460803,55.431897146456315 L -2.256716290958802,55.4322575668271 L -2.258591512460265,55.43218534343098 L -2.260611289260204,55.432933997108755 L -2.262243146177759,55.42855818051407 L -2.264472494040996,55.42877085166775 L -2.26829522209897,55.43000251541996 L -2.270646936707448,55.42959292036016 L -2.27173799645033,55.428786351184876 L -2.27389283591571,55.42598076594274 L -2.277965847795936,55.42639654941536 L -2.278710149088314,55.426199925231295 L -2.281772525831857,55.424908887222784 L -2.283849865139974,55.42288678920047 L -2.29451344186281,55.42046518181144 L -2.293803819433368,55.41851876679649 L -2.295934855511088,55.41492216603242 L -2.300949526889782,55.41361332338015 L -2.301785323512523,55.41366066780631 L -2.304251751472808,55.41272544864106 L -2.30668690791608,55.41124840808983 L -2.310189391066443,55.41016673582246 L -2.312544956901431,55.40985522477756 L -2.313253562585198,55.406789333310456 L -2.315956698359803,55.40732691792929 L -2.319695126137166,55.40756161923271 L -2.320695214526021,55.40819606857198 L -2.322847814874521,55.407609922297105 L -2.327350095119814,55.40796543532223 L -2.329101389552318,55.408520547855375 L -2.330723503983044,55.409677032974706 L -2.33236635173891,55.409910713014604 L -2.333822405684493,55.40876115015425 L -2.335629144697414,55.408208062542016 L -2.332998549890465,55.40432178429115 L -2.333530455597318,55.402425292060066 L -2.334052031864974,55.402103085936766 L -2.336437690782005,55.4018872377161 L -2.337666641124079,55.401191890749764 L -2.34030396638442,55.40124305336445 L -2.341897837789432,55.400407410689155 L -2.34319215310218,55.400345393222146 L -2.344725383531991,55.39944879947428 L -2.343370353584387,55.397414740122265 L -2.335512313854462,55.392565480078304 L -2.334939730522332,55.390010676670265 L -2.335830649810375,55.386158833839744 L -2.334862749766378,55.38556933545205 L -2.334741364330408,55.38315521713076 L -2.332540660937159,55.38195534562029 L -2.33002052062569,55.381241565417874 L -2.330577474696332,55.380463653538996 L -2.332300372814402,55.380037577959456 L -2.336475531062753,55.37790100586529 L -2.337240431975629,55.37673351808145 L -2.346233211734825,55.37306105246588 L -2.343328519842303,55.37072131892903 L -2.33897326812716,55.36882768953786 L -2.33845813528077,55.36780749587095 L -2.337477130337791,55.36728094063582 L -2.338927356219849,55.36714038113046 L -2.340101545114441,55.36609033220615 L -2.342089803150416,55.36522214082848 L -2.345048273725524,55.364560570951156 L -2.347148447837636,55.36461120755055 L -2.351281695528128,55.36318600396017 L -2.35487198566911,55.3624674945903 L -2.358389377670664,55.35998709208043 L -2.361542309325258,55.35910178141721 L -2.364198635045457,55.35876142956604 L -2.365456257493765,55.357620966434176 L -2.369886420321846,55.35570538694412 L -2.372798188162469,55.355069339383064 L -2.37495938798098,55.3537840816098 L -2.37896111180588,55.350533266715075 L -2.378911806665891,55.34916943621531 L -2.381128770270997,55.34914097872715 L -2.384790202579937,55.34830278788199 L -2.390269373233747,55.34792958236226 L -2.392978427972914,55.347447398380176 L -2.399802731082757,55.34833280366146 L -2.400193624496783,55.34878974851112 L -2.399522104026417,55.350535194244955 L -2.400856091504642,55.353487033611145 L -2.402499652878324,55.3545940792066 L -2.408018038524478,55.35719231918287 L -2.411287382296691,55.35806643933287 L -2.412366321130561,55.357770762886425 L -2.414996643524062,55.35892190208915 L -2.419882863495112,55.359033646305676 L -2.421875393486412,55.358617066786344 L -2.424350010598692,55.35859231896587 L -2.426367163245119,55.35813776014655 L -2.429230506777914,55.35643489047663 L -2.436903849177025,55.35830539998009 L -2.439296757640076,55.35945326883104 L -2.440354907808709,55.359139456006204 L -2.444406043190616,55.35918316348849 L -2.451790250740232,55.35648013997111 L -2.456680171627756,55.35528123212695 L -2.45705410838241,55.35461042697228 L -2.461223626700604,55.35320922087629 L -2.463313435586153,55.35362359395111 L -2.467537831201839,55.35275752554872 L -2.471316214188493,55.35378798647964 L -2.473439304823275,55.354734931760596 L -2.475185602915279,55.354767676229294 L -2.477471920376591,55.354332880593525 L -2.481365765870156,55.35366795149333 L -2.488519198126898,55.35183434483242 L -2.495020836230023,55.347491490342136 L -2.496177066608181,55.34651456808843 L -2.498808556059173,55.342101804601164 L -2.502253473016864,55.34021956784273 L -2.501988190006496,55.33719964612562 L -2.504356164295153,55.335345209829164 L -2.506885943708321,55.33395537970706 L -2.509258598942082,55.33164699569465 L -2.513712293710926,55.32962536841908 L -2.516322277979553,55.326830662967346 L -2.517698395081721,55.32466465773365 L -2.520269658492584,55.323047090284334 L -2.525108718842553,55.321808794365204 L -2.530768603176905,55.322708952999584 L -2.536553733254305,55.32095296820056 L -2.543104852142347,55.31959233434173 L -2.544299879313961,55.31826343085975 L -2.548727915358362,55.317245306598814 L -2.550425192525676,55.315785535117094 L -2.559041213023188,55.317834704572846 L -2.559426573465694,55.31722729318811 L -2.559181251824374,55.31513829932886 L -2.557271032655869,55.31329326476368 L -2.557089851535564,55.3116092955383 L -2.55963036460345,55.30988134663442 L -2.560094889748456,55.308749759665794 L -2.563303785496241,55.30763059983138 L -2.565211096379221,55.305936983690955 L -2.566347279370802,55.30332038884 L -2.570752337760921,55.301408364658585 L -2.573704416878211,55.300786181875125 L -2.573363096507707,55.29688439636083 L -2.575780062750144,55.29609040043251 L -2.578647088618824,55.294411709894504 L -2.582986307667379,55.29349156951026 L -2.590290629720298,55.29140594654415 L -2.594199256598386,55.289851293831866 L -2.598491387878577,55.287109384914324 L -2.602478319860117,55.28557114858113 L -2.605195963935203,55.28537444284882 L -2.60923810321147,55.283248024704946 L -2.611012976930049,55.28092622824658 L -2.613376926008976,55.279254617920934 L -2.61370921704689,55.27834725345292 L -2.617022778316768,55.277126424101766 L -2.618420446433394,55.274988781831375 L -2.620291695107984,55.273762587926726 L -2.622136793200881,55.27308735289312 L -2.622489297385653,55.272376594084506 L -2.623332708509763,55.27196426735206 L -2.623280942881086,55.26976120002866 L -2.628190699116487,55.26793262320969 L -2.626307134393266,55.264542037687 L -2.626840157941801,55.26331631373581 L -2.626656066706356,55.26222093672193 L -2.635386016088815,55.26114153481185 L -2.639042616888332,55.261127824896704 L -2.640711788553602,55.260717425781394 L -2.640972589071496,55.26098564501607 L -2.645407499853513,55.26007084785553 L -2.646771181184137,55.26004386202763 L -2.64435004685267,55.258218147660315 L -2.640416714568822,55.25646321537958 L -2.638118625412936,55.25590553638248 L -2.634764699156343,55.25454103984494 L -2.632386124221459,55.25336274263068 L -2.629496954397756,55.25131726970526 L -2.627652661671489,55.25057280175301 L -2.624088484115898,55.24949485179984 L -2.620623460593132,55.24911627468318 L -2.617622260203048,55.248309261970995 L -2.615343912018171,55.24826418041618 L -2.612012984366282,55.2476869592095 L -2.611450856630676,55.24713442842187 L -2.614836109114065,55.24563022128683 L -2.616943348960218,55.24692081945154 L -2.617667217538961,55.24684250510887 L -2.617839440182505,55.24720195452246 L -2.620200628639505,55.247215215778056 L -2.622153557422288,55.24616553890143 L -2.624231600153657,55.246386782532774 L -2.624661505755148,55.24601437835249 L -2.625629310826184,55.24604535231483 L -2.626140809191023,55.2456671337389 L -2.630228980788925,55.24479149502336 L -2.63006257664406,55.24410944109712 L -2.631303508321406,55.24192662917646 L -2.631418180189761,55.24003090742151 L -2.632973858291635,55.239856562788034 L -2.631525687697374,55.23858358124082 L -2.631919315556578,55.23761735854852 L -2.632530636072129,55.237297886083844 L -2.632210522469068,55.23664447834497 L -2.633171980462072,55.236192030396694 L -2.633552074916915,55.23556912684829 L -2.633246271267659,55.23433963439051 L -2.633999724771336,55.23217638813485 L -2.63467897473559,55.231683979748844 L -2.634029121318258,55.23135937710125 L -2.634215310533938,55.23110049631531 L -2.63492778819784,55.23111655317525 L -2.634908675203457,55.23041307468768 L -2.635805662178576,55.22976591131629 L -2.634656968971742,55.225464902941624 L -2.631414207193036,55.223698083998464 L -2.638967015497139,55.222681982819985 L -2.641293846566738,55.2211403470864 L -2.643210315929171,55.22106108212957 L -2.648070102427008,55.219867152683214 L -2.659991237051928,55.21988407079925 L -2.666814789318947,55.22158038906284 L -2.66884212117315,55.21968223171338 L -2.683331359433802,55.20189040732022 L -2.682673700918687,55.19972665467013 L -2.68124994866924,55.19860153801145 L -2.681584569979665,55.19786095693079 L -2.682319075883168,55.19681269947261 L -2.683788824896425,55.19622484796805 L -2.683779589223535,55.19577653522127 L -2.685107933148589,55.19555607654263 L -2.68624911866203,55.19404088148122 L -2.684765139203918,55.19287931257945 L -2.68559995191182,55.192553818110234 L -2.686149195580245,55.19079032510151 L -2.687414161019793,55.190088593091296 L -2.687393902945193,55.189649234806815 L -2.68927047735377,55.18889731707594 L -2.689790234649887,55.18898420999382 L -2.677378093377395,55.177720650340085 L -2.674555323709436,55.1758914653134 L -2.674270442301039,55.17370942492909 L -2.676442970612003,55.17303511651528 L -2.677692423815078,55.171724307104945 L -2.67735776115498,55.17124806644183 L -2.679547392956968,55.16964983256002 L -2.679918501210985,55.1688597283975 L -2.682923399466923,55.167494133476545 L -2.683253946311376,55.16663049093792 L -2.676096513238073,55.15841045775324 L -2.676078356257932,55.15789562366309 L -2.677768269671092,55.156581464860814 L -2.677324409972296,55.15548758592563 L -2.674890166133551,55.15547145459911 L -2.673264952146484,55.15178085732425 L -2.672532223655629,55.15085484254421 L -2.6712668558325,55.15053473339942 L -2.668578342975694,55.14731096994417 L -2.666389075913994,55.14746409993206 L -2.662590580537386,55.146990554188385 L -2.661624619830464,55.14636498436389 L -2.659905269735428,55.14428771393298 L -2.659325217973109,55.14297620772855 L -2.659773711622649,55.14210839708458 L -2.656939416254151,55.13613182937457 L -2.655450016221359,55.13569418067272 L -2.648617323292002,55.132394196684565 L -2.647124544607494,55.131062344880824 L -2.645369534298526,55.131054586916676 L -2.635710606960491,55.12961366672545 L -2.632638786129916,55.127756961923055 L -2.625689809887858,55.12754302482441 L -2.62435077805501,55.12896794010836 L -2.621273055227107,55.129216440097615 L -2.615640045251119,55.12749542050417 L -2.610764955919489,55.126707592765406 L -2.610239037002804,55.126355291753974 L -2.606153895715498,55.12614661754342 L -2.602732378746439,55.12469615170211 L -2.598902824634413,55.12457580482315 L -2.600926385975917,55.12378759838799 L -2.601593882140583,55.12260890797579 L -2.600985363598862,55.1196753116186 L -2.600398536001512,55.1189134457368 L -2.600471011042752,55.11716176243311 L -2.599613108536062,55.115680580074105 L -2.594834285941481,55.114068590516666 L -2.593436408364836,55.11283264425492 L -2.594264486661436,55.11085530409365 L -2.593279024193631,55.11004684044076 L -2.594081343324344,55.10907963376802 L -2.593777252516907,55.108235506204934 L -2.594324587807426,55.10761908739593 L -2.592902615899784,55.10696466152403 L -2.593158084717215,55.1062221037108 L -2.592433524638228,55.10630288939672 L -2.59229502269442,55.106051937203134 L -2.59355863566621,55.105120218878916 L -2.592480874843612,55.10515430639343 L -2.592087971364819,55.104242332848266 L -2.59043604492769,55.10370398389002 L -2.589341158499382,55.1039591187788 L -2.58860655245678,55.10356542588985 L -2.587558870302985,55.10351568803704 L -2.587512337859816,55.103118755199915 L -2.586916703683382,55.10290324153141 L -2.585493122177133,55.10308177042818 L -2.585419192474168,55.10273617354075 L -2.583336600284382,55.101683969573855 L -2.582634742168674,55.10051562155555 L -2.582673770687927,55.09943346807129 L -2.583326010989138,55.09902510058202 L -2.58281874133715,55.098084898134836 L -2.583990122714958,55.097173481724866 L -2.583498635243467,55.09699607986793 L -2.581899727412196,55.09727781996748 L -2.580664119331341,55.09668704032995 L -2.579301761838355,55.096646818450544 L -2.579408822912735,55.09613506088314 L -2.577435285448914,55.09674201928177 L -2.57777090502624,55.095996327505425 L -2.576678137779226,55.09585238439708 L -2.572458644678573,55.09762991473014 L -2.57020123510177,55.097233471828716 L -2.568426007852563,55.09626141227873 L -2.568974516740159,55.09439424549955 L -2.568305595757668,55.09396068543816 L -2.566781988253142,55.093702689182706 L -2.567155327935712,55.09273495932981 L -2.566705708517791,55.09196600472339 L -2.565391288380546,55.09164053927979 L -2.563986212924346,55.09189329435413 L -2.563396159363336,55.09126520957211 L -2.561179699399545,55.090304070214145 L -2.560750846456151,55.089439773035984 L -2.561032513423962,55.088743874278954 L -2.559645160526077,55.08925162818814 L -2.55829477963735,55.08881036546339 L -2.558914071511644,55.08805363163941 L -2.56039643539566,55.088410734049 L -2.561214315763062,55.08752272419347 L -2.559685828417054,55.08790176773269 L -2.559070727709742,55.0877185475817 L -2.558901653646304,55.08739583009921 L -2.560484291688346,55.086300385926044 L -2.559135300278109,55.085388213596495 L -2.559842060380412,55.08518274618944 L -2.561613599424942,55.08538847934601 L -2.56279310079921,55.08437571505718 L -2.562136395089336,55.08346216824077 L -2.560816668765661,55.083970612701506 L -2.55879175517582,55.08378130369738 L -2.556947288860738,55.08103911310553 L -2.555715754566157,55.081573151395204 L -2.556971796653191,55.08212276635288 L -2.555188625106817,55.08276083545366 L -2.55381612126628,55.08262416341627 L -2.554269622061837,55.08223482111135 L -2.553131958709027,55.08185631397572 L -2.552653683931065,55.08125641554464 L -2.551728748161691,55.081316310152324 L -2.550837677243309,55.08088096575058 L -2.549053574074402,55.08121881148141 L -2.548597376419473,55.08187594349826 L -2.549785844775516,55.08149947302888 L -2.550418637408175,55.081730182022554 L -2.548661694936046,55.08268614053756 L -2.546812525178967,55.082976634575715 L -2.545766036311991,55.08377753525248 L -2.5440281648661,55.08338627154907 L -2.540168220146451,55.08430208012813 L -2.536860247309269,55.082943687622254 L -2.532256974159943,55.08276079386217 L -2.530470481435345,55.08518675850657 L -2.527172946754513,55.08507172709427 L -2.526928684268227,55.08424693748279 L -2.526389170104956,55.08396171214167 L -2.524950640057982,55.085482085118585 L -2.518094846676233,55.08495701063843 L -2.516769558543064,55.08605089556347 L -2.51697040129243,55.08861822333516 L -2.516467618055127,55.089115432598355 L -2.513206863247341,55.089208361634554 L -2.511566871616109,55.08886742477174 L -2.508959874608042,55.089720361440776 L -2.506934626471047,55.08915009861273 L -2.506012910302613,55.08936063924429 L -2.504885317263788,55.09038160760766 L -2.503707069944614,55.09075040302046 L -2.502251063209876,55.090718685444344 L -2.500629172649034,55.090190761237174 L -2.499049792557218,55.08779976238385 L -2.498291531171204,55.08730051651953 L -2.495736328463771,55.08666755220198 L -2.495193134097843,55.08770500235708 L -2.494874177748232,55.087379214304335 L -2.495329701472772,55.08646887655206 L -2.493482544377134,55.086201392324604 L -2.492069688633147,55.08634455185322 L -2.49069810819711,55.08589543673633 L -2.4897132050321,55.084272066194515 L -2.489870999837535,55.083984773789005 L -2.490897523906472,55.08402466005075 L -2.490762836017036,55.08377447756461 L -2.4899137594009,55.08351189755367 L -2.487857453413854,55.08355428646366 L -2.486341153390391,55.083045513459 L -2.486083806845243,55.08158539805059 L -2.486638696732066,55.08110239260341 L -2.490123017854502,55.08077570926322 L -2.491104713608394,55.08227152925986 L -2.49351641670583,55.08222135643106 L -2.494733262232689,55.08182195865076 L -2.496312215323458,55.080308569459916 L -2.497053223534317,55.07741657428699 L -2.499479080041786,55.0767749313268 L -2.501234251841006,55.07522481295475 L -2.501049411879729,55.074601044969214 L -2.499236264412021,55.07349868085409 L -2.494034533829709,55.07166338816562 L -2.493352903836124,55.0708655484215 L -2.493263317007804,55.069062394485556 L -2.49219989936711,55.06815371246404 L -2.493798223826022,55.06595913566913 L -2.497590078238078,55.065657923955264 L -2.497882392960172,55.0647347539396 L -2.500748350489089,55.06428900202344 L -2.50347403916022,55.0631427802605 L -2.503984940702425,55.06242989273968 L -2.503402638652186,55.06207197558851 L -2.501140432465486,55.06246140595865 L -2.499959384565104,55.062036764898586 L -2.500551923203762,55.061221054332066 L -2.502265461153174,55.06127597820504 L -2.502726069603904,55.06080415021201 L -2.501890679760931,55.05984879305052 L -2.50202056146575,55.057725730181815 L -2.500677099953804,55.056573834561775 L -2.499751379418052,55.056147242061925 L -2.497825517567441,55.05662515382694 L -2.495246645743193,55.054667667965035 L -2.495532612945487,55.05374452818965 L -2.494706402767416,55.053130545871994 L -2.494069726194694,55.05316017298999 L -2.492185338354224,55.054203875932885 L -2.491964502701652,55.05496135794593 L -2.490752281726438,55.054525973985584 L -2.491194402705967,55.05420518579496 L -2.49084625736458,55.05337714571656 L -2.493147418295224,55.052116980130585 L -2.494341606762128,55.050714842261996 L -2.487565660126513,55.047863963075564 L -2.487200214014281,55.04727952254249 L -2.488121569007805,55.0462181117518 L -2.484894157725948,55.04515721993966 L -2.482956475493881,55.04370106595445 L -2.48234309815177,55.041491131022724 L -2.483049853947678,55.04001916478513 L -2.493439471120992,55.03716661555859 L -2.497072188734523,55.03688133188371 L -2.501884784188545,55.03710412637614 L -2.505256974462474,55.03687006982157 L -2.506086306504677,55.0363840278577 L -2.506299234307262,55.0356526013664 L -2.505761653826617,55.0348316785057 L -2.503825481874993,55.03426728328995 L -2.50369075890305,55.03363611981039 L -2.504478371763662,55.033190776804524 L -2.508923177817809,55.034420431540475 L -2.508630291127472,55.03600500251502 L -2.509211871188644,55.0363323543471 L -2.510167998941518,55.03634721344942 L -2.510991584887146,55.03590167761382 L -2.510764368692109,55.03488452912944 L -2.51161401556099,55.03464460174598 L -2.512298413179552,55.033839223406396 L -2.513103818718997,55.033814268313535 L -2.514441569185601,55.034431355324465 L -2.516240714103518,55.034660089803175 L -2.515792020891357,55.03359349334456 L -2.517607873846363,55.0334294658434 L -2.519105139304274,55.03282010935376 L -2.521659188750934,55.03251712534774 L -2.524497984833511,55.0329326210894 L -2.52591103209271,55.0323631614006 L -2.526912116373381,55.03294024169074 L -2.527709101455803,55.03227622704304 L -2.527077199275748,55.03026431958112 L -2.527621966918669,55.02910002610341 L -2.529186141264104,55.02896207016537 L -2.531975254137699,55.030372354250886 L -2.532988102843614,55.02994740000603 L -2.533256055951817,55.02868817063687 L -2.534060827401953,55.028265018198695 L -2.53957241617012,55.0288769028538 L -2.540898384577063,55.02731730872174 L -2.544483098901519,55.02680524032884 L -2.545773773918789,55.02613179782296 L -2.546370186639516,55.02524307211235 L -2.545901376545485,55.02435104478246 L -2.546688360857207,55.02356576053846 L -2.550430260070238,55.02222524288395 L -2.552619356893184,55.02104170130593 L -2.554749155507986,55.020896350465264 L -2.555828563450391,55.01989208957879 L -2.556981107948847,55.01965593704376 L -2.557994689438789,55.01977705954817 L -2.557600348967775,55.02032524922492 L -2.558753093040236,55.02089149168627 L -2.560932883459843,55.02040334913647 L -2.565042213535443,55.02011113194067 L -2.568175014885333,55.01834877788297 L -2.56789839993565,55.0172528168086 L -2.571398588519294,55.017051357086515 L -2.573186837446874,55.01611466693563 L -2.571780777642359,55.01423329919191 L -2.574811456732916,55.011172676744835 L -2.573974757139456,55.00963100442164 L -2.571868057474192,55.00838915817962 L -2.573467501647724,55.007285268034245 L -2.573653410715319,55.00672641955919 L -2.572642631510869,55.006347406288505 L -2.570803186845068,55.00706243593252 L -2.57024187292097,55.00650611102401 L -2.570806325782165,55.00584927687811 L -2.573498735317907,55.00476719967131 L -2.574180866825228,55.003700053026506 L -2.572942801205838,55.00327728615047 L -2.570197503638192,55.00393269924157 L -2.568432030470993,55.00345657200397 L -2.567713702538453,55.00274734999528 L -2.569094731267181,55.00123658983753 L -2.56861512819065,54.99993405577189 L -2.570470883581444,54.99873557355795 L -2.570481441999005,54.99694554177659 L -2.571969179238387,54.99561032470444 L -2.572861802176067,54.9928716903251 L -2.574434165398511,54.991667293289204 L -2.573030473979535,54.9903385940806 L -2.573501364093429,54.98971812106805 L -2.572851624639572,54.98930775920104 L -2.57331076698798,54.98763778596079 L -2.575784854695489,54.984923009800035 L -2.576978534810216,54.98469635271568 L -2.578558617611244,54.98341460451716 L -2.579440839918253,54.98325938710039 L -2.579237153657106,54.98289283786574 L -2.580330182499224,54.98283911199196 L -2.580435822985666,54.98247288464925 L -2.581463667951988,54.98201950936229 L -2.581936082061288,54.982276964802075 L -2.585772339561964,54.982393291495136 L -2.586629633177565,54.982034213942754 L -2.588571394151713,54.980187135618586 L -2.588467556098901,54.979711416348835 L -2.589966042159898,54.97770116144602 L -2.590609145308271,54.97745000010842 L -2.590230814383218,54.976475945547165 L -2.591591788935871,54.974150831681435 L -2.59424310013181,54.97363472395122 L -2.600345476527407,54.97366223136557 L -2.601429289588362,54.971340168504675 L -2.599805467254213,54.969089073899326 L -2.599976201518666,54.96870633630753 L -2.598884466185239,54.96776367562764 L -2.599084835114966,54.96685417049983 L -2.598214584827317,54.966520582317564 L -2.59811111310924,54.96586690184127 L -2.598798796941,54.96526143141621 L -2.597838822385148,54.96488426279007 L -2.596737619073417,54.96509001010559 L -2.596867372373154,54.964669745979506 L -2.595568972668019,54.963480931027185 L -2.588840088045548,54.962905348066286 L -2.586529425348523,54.963063045031646 L -2.578421091048733,54.96081134469823 L -2.571433673672402,54.960016734390386 L -2.568426549188982,54.95829105973913 L -2.571285375080912,54.94837037772631 L -2.567649460076266,54.940856020263155 L -2.564936867220609,54.940326752488915 L -2.563441789327484,54.93744282046864 L -2.560190814038353,54.93409604371723 L -2.554341404327715,54.933532437311875 L -2.551551643397983,54.93176500059834 L -2.55121087640551,54.93081310528467 L -2.551756857652659,54.929774448594706 L -2.551207611115032,54.92931598547945 L -2.550564759624013,54.929434787341506 L -2.550367735852595,54.92997757601618 L -2.548595147126379,54.92976359817644 L -2.546834296131688,54.93075281844289 L -2.546083365041828,54.930504648940705 L -2.545272585923136,54.9291719613162 L -2.545508683016539,54.928393632637054 L -2.546248660491447,54.92715558997238 L -2.547613708407017,54.92621936685599 L -2.551655534019259,54.925564872052355 L -2.553670745617363,54.924602271939364 L -2.559405594375516,54.92443129722583 L -2.560254643888769,54.92388378335106 L -2.560073234999456,54.92363298490667 L -2.558978387376258,54.92309971781826 L -2.55859753442741,54.92219563984735 L -2.557191796644988,54.92152094375097 L -2.558096774612888,54.92129839960263 L -2.55984021851516,54.920115044136864 L -2.56622128209416,54.919238061911514 L -2.566603536405076,54.91369619011544 L -2.567565396743933,54.90900263552249 L -2.57486218939149,54.8997448099658 L -2.574804353532386,54.89842141171751 L -2.576414041796174,54.89671710890347 L -2.579693049240348,54.89486378852796 L -2.581907003281289,54.894213382331614 L -2.58507252589116,54.892206832827426 L -2.58816550018745,54.89112525149015 L -2.591169726876782,54.88899883302054 L -2.592531774612307,54.88896075585678 L -2.594386021799017,54.887739414186704 L -2.596063202123406,54.887624291410745 L -2.597190066609889,54.886975331129655 L -2.604549918085161,54.88544985172405 L -2.60543022082818,54.884382310691294 L -2.605278586988561,54.88393827298204 L -2.598961354861579,54.87986185609856 L -2.593164408801133,54.875272102719066 L -2.590247198646258,54.87378374789786 L -2.590371562747305,54.87291331707942 L -2.588595730950074,54.869535794648094 L -2.583630389300835,54.865593969866765 L -2.581198980423016,54.86423611349239 L -2.57743055344623,54.85957389332434 L -2.575840576449886,54.85666533625623 L -2.573352342119802,54.853546195372765 L -2.58178303086248,54.84789037399126 L -2.582671045792857,54.84586678066098 L -2.577951804857883,54.83645433938747 L -2.572590458780074,54.831441875064094 L -2.567848603358775,54.82357483856157 L -2.558306666250961,54.81672461486412 L -2.543265363988775,54.812124471976155 L -2.536269756749046,54.80766602358221 L -2.533753812837855,54.80670839251225 L -2.529622713951476,54.80595012016234 L -2.529198933154479,54.806138836212874 L -2.523291007522538,54.806081827871644 L -2.522675588624062,54.806611118005 L -2.521532044292413,54.80685142039468 L -2.521138232616622,54.807439043482745 L -2.519483233383076,54.80783074558552 L -2.517901719814911,54.80789240357327 L -2.517332710882731,54.8082866200012 L -2.515580890294253,54.80829318437108 L -2.51498161875543,54.808639903561556 L -2.510948464070887,54.80872883986097 L -2.507657997313487,54.80973564676143 L -2.503630047482036,54.81012896017657 L -2.502168950196201,54.81062032894275 L -2.498301660576692,54.81004856532091 L -2.497270980163261,54.810243344930235 L -2.496491521151946,54.80999220747797 L -2.49558441729257,54.810243065693754 L -2.487718410326771,54.81493983190029 L -2.486145435041094,54.815087197633495 L -2.481991936961443,54.81689211134813 L -2.481346034594911,54.81805566085624 L -2.480460697657166,54.818206599004576 L -2.478894438294603,54.81919410414918 L -2.477864385324,54.82039248128649 L -2.476183442957837,54.820904977673685 L -2.475919721039209,54.82177501981809 L -2.474091483602813,54.822482205594305 L -2.473349905766357,54.82374320052383 L -2.468880924721918,54.825979397458596 L -2.467812453028185,54.82726947025849 L -2.46634806561693,54.82810000606523 L -2.465371659051686,54.829416653737304 L -2.463068528543296,54.83056138861629 L -2.463280897737854,54.831710867443 L -2.461191408951187,54.832899581183774 L -2.461129731500942,54.83377151686645 L -2.460595559254063,54.834170812847596 L -2.457989871867682,54.83324340364961 L -2.456710863823436,54.831784310555435 L -2.456036963163183,54.83151813972219 L -2.45548044509782,54.83145105616852 L -2.453917032893723,54.83210573576809 L -2.45223483772654,54.832025777575765 L -2.450456724040051,54.83269108426136 L -2.449540639020304,54.833890585180384 L -2.447047183167294,54.835068844858796 L -2.444659825999981,54.83514587704884 L -2.442948835197353,54.835845945066495 L -2.441895937930382,54.83566641720032 L -2.440371547553635,54.83679259386397 L -2.438409227381023,54.83716452059678 L -2.438253234024547,54.837860613469076 L -2.435970354894402,54.83883306096482 L -2.43361705269808,54.839641310686176 L -2.429960665668415,54.84017904192205 L -2.428294160260661,54.84115904346067 L -2.42744894835771,54.84118905865527 L -2.42269056463853,54.842833119342465 L -2.420635484941092,54.84451259025296 L -2.420247708809776,54.84541078890249 L -2.418755530888939,54.84643048299028 L -2.41825552972105,54.84732187477429 L -2.417745945184652,54.84743772347185 L -2.417019910213654,54.84921147676107 L -2.414650155828506,54.850788628339984 L -2.411623833146951,54.856430736885535 L -2.401622768487552,54.851483963086714 L -2.398298457429728,54.84416471850059 L -2.392726410434137,54.83451525738432 L -2.391831665369855,54.833436135301 L -2.389603666861051,54.83194894340259 L -2.386737748214272,54.83163462163758 L -2.382326153234173,54.83065645246554 L -2.381539240582908,54.8300712979491 L -2.380926091893393,54.83009479039348 L -2.372669520403033,54.82737959382065 L -2.373998744875054,54.826037429917776 L -2.371351616132094,54.82506157397136 L -2.370876876205701,54.82455346199147 L -2.370160544595905,54.82332090585535 L -2.370327179789676,54.82248821690715 L -2.369144705025253,54.821843909318744 L -2.369830761481454,54.82096651185945 L -2.359925824426291,54.81669278675956 L -2.355788335815629,54.81390299405686 L -2.352609483617011,54.81070409949749 L -2.351650085232403,54.8105918019628 L -2.34856868520824,54.80834687699428 L -2.348428582351334,54.807079274346826 L -2.345531352746286,54.806294992102636 L -2.3436092405187,54.806208725090066 L -2.341678172332088,54.80689804321641 L -2.338327693197182,54.806793338120826 L -2.336555295245618,54.806371438109885 L -2.333999690082066,54.80492174362565 L -2.331621891741854,54.80464248653029 L -2.329696385011242,54.804881409722526 L -2.328727693974082,54.80532075227301 L -2.328174602739521,54.80484690527653 L -2.327385205202767,54.80533246954029 L -2.327375516944822,54.80299602146061 L -2.3233883369258,54.79675026468321 L -2.323284265103255,54.79500890863707 L -2.318446864644448,54.793188530758165 L -2.31640725090005,54.79289461543298 L -2.315815134383652,54.79255548678197 L -2.314810624266796,54.79257525913215 L -2.312089521382166,54.79101504502772 L -2.31367113200256,54.790218310745345 L -2.31299095743572,54.78733721633331 L -2.313115369634582,54.78633222188601 L -2.314009864523682,54.785173316050695 L -2.31299935580187,54.78258604141879 L -2.313785446306588,54.782104986373675 L -2.31392402960642,54.78111343003722 L -2.311677260165897,54.778070980778935 L -2.311681728359013,54.77541999044812 L -2.308929294015752,54.7744906423858 L -2.308486810120912,54.77354279621358 L -2.310017429867469,54.77266089009334 L -2.309629260853629,54.77251544467636 L -2.309904384617309,54.77190634828512 L -2.313152464601897,54.77082046437521 L -2.313245496567327,54.77038800575086 L -2.314669094063143,54.77035826433422 L -2.317569320381905,54.768743020289016 L -2.317556545257581,54.76811040351138 L -2.32001611712959,54.766420700155685 L -2.320931951835289,54.76628891024571 L -2.320905435559543,54.76567519631004 L -2.322478665003086,54.76397080719439 L -2.323223962907361,54.759799904809874 L -2.322231075078783,54.759422437473425 L -2.322432688374648,54.75780523671332 L -2.321127698336931,54.75665929324711 L -2.320822498527607,54.75500390657567 L -2.322591091972892,54.753303486033325 L -2.322814291477732,54.75206993115989 L -2.326927260203534,54.747296854018174 L -2.326711674544434,54.745418344559454 L -2.327595463090514,54.74328351879384 L -2.326399452240598,54.74098253378329 L -2.327459860153409,54.74016194916515 L -2.327882802942326,54.73906350145761 L -2.326891904938006,54.73790607663731 L -2.32772963909021,54.73701862064038 L -2.32858688534775,54.737010908243 L -2.329455040270807,54.73568206350298 L -2.3309278244687,54.73516138006182 L -2.33191866021096,54.73345746024105 L -2.331618498754161,54.732451807178755 L -2.332305783309008,54.73199614371213 L -2.331947457307638,54.731282630918024 L -2.330635399838033,54.73034532639931 L -2.330664689599403,54.72899189981501 L -2.329609572929497,54.72755338492082 L -2.325746743501627,54.72662922877944 L -2.330213256976746,54.72312848172285 L -2.334419000956541,54.720492012175484 L -2.335898829046942,54.71996846429084 L -2.336096082693997,54.7195985865003 L -2.337573625675704,54.719560337731174 L -2.337453568270401,54.71725385836766 L -2.337969664010305,54.716782378203845 L -2.339043576444284,54.71656286327426 L -2.341389969881766,54.71666767333217 L -2.342095027088633,54.716148027727634 L -2.342207675214981,54.71552853484684 L -2.341388299029537,54.714811949646325 L -2.341964519481736,54.71393681207772 L -2.341705303570877,54.71245662539327 L -2.342251930700735,54.711567194599326 L -2.341149659317233,54.71061863170821 L -2.344086161852319,54.709877860488646 L -2.345033163972912,54.70917603183077 L -2.344200002263871,54.70848465958237 L -2.344019457344221,54.707686227020034 L -2.34254594208951,54.70705864972503 L -2.341459986843335,54.70599774262913 L -2.342772278542348,54.70519329199732 L -2.342651312342731,54.70464192752285 L -2.343359703391299,54.70436132768837 L -2.343378627778238,54.70330170122475 L -2.344530343378044,54.70205917801166 L -2.344382051861707,54.70177211135631 L -2.346363651658153,54.700862400656376 L -2.348243450841762,54.701130213405655 L -2.349189794427259,54.70091897052596 L -2.349562805553859,54.70117941799156 L -2.351154071562363,54.70071555340786 L -2.352256705661863,54.699941343573435 L -2.353465155132496,54.69794004999166 L -2.355482077615774,54.69792336404062 L -2.355470779529773,54.69717395191178 L -2.354306488325194,54.696746042092094 L -2.353928150396427,54.69587363356532 L -2.352257464279178,54.694487332935104 L -2.352517982254526,54.69375958825508 L -2.354168838620325,54.692875865011935 L -2.354202240574895,54.69173452880578 L -2.353903313965976,54.69142626258055 L -2.351172982926268,54.69071881523618 L -2.350482988333215,54.69002976371031 L -2.35178241154073,54.68746573110413 L -2.351593753177063,54.685736406047305 L -2.350204218973862,54.68541062924627 L -2.349078109819486,54.683963410462475 L -2.346796305579055,54.68394031940723 L -2.343509015185165,54.682217929518586 L -2.34166441735506,54.67885233996999 L -2.339864005707078,54.678133024215576 L -2.335616344369447,54.67532756804641 L -2.330516023465776,54.67456699134602 L -2.329262578317311,54.67469977607291 L -2.3271066555533,54.67366679502857 L -2.326413413581403,54.67269362878706 L -2.327778752229959,54.67163575342579 L -2.327569455670055,54.67087339532888 L -2.325017790920989,54.67016765706874 L -2.322499881346252,54.66901688592017 L -2.318975817977872,54.66943149028403 L -2.316364232841737,54.668765256959986 L -2.31343828084275,54.66934443006817 L -2.30835547348073,54.669507512595615 L -2.306153963582267,54.6701548280147 L -2.303317194241145,54.669629932998255 L -2.302753286080311,54.66906337309634 L -2.303834647836585,54.667505080362275 L -2.303396974038697,54.66682410988592 L -2.302216022274657,54.66625100793672 L -2.298196663338292,54.665517814318726 L -2.292874951156852,54.663885291109125 L -2.292767014034403,54.661163572171255 L -2.291344047268753,54.65836228063442 L -2.292096518333359,54.65586667874249 L -2.28997283424858,54.65497760351632 L -2.289834555692926,54.65339988869902 L -2.289249698396266,54.653117301768 L -2.289313617473127,54.65164870781079 L -2.287978687965251,54.65048010231063 L -2.292900963388921,54.649850009471834 L -2.294090945775217,54.64938875817882 L -2.296812100973371,54.64681914807328 L -2.298969629266697,54.64562399077709 L -2.300600149235537,54.6441875350526 L -2.302191070075808,54.64371262926189 L -2.302859724792127,54.64278173705592 L -2.305788126762189,54.64276179545763 L -2.306924805834084,54.642275485885506 L -2.308371473967446,54.64077281680993 L -2.308259176290232,54.640064080493985 L -2.309082411883673,54.63971510618258 L -2.311145637854924,54.63762668143953 L -2.312300980922859,54.63716902115304 L -2.314185203776651,54.63701401950329 L -2.317063708075704,54.63541498111033 L -2.319974751286425,54.63444125761767 L -2.32381430420141,54.632000124572244 L -2.324937767528113,54.631650235261766 L -2.308758028073471,54.611883273818464 L -2.304514537313636,54.59619784517893 L -2.270936492509388,54.58219914359779 L -2.262281364631657,54.57422906562716 L -2.245962148695347,54.56506268478929 L -2.20948818801017,54.55171337141934 L -2.210142540942046,54.54365824968978 L -2.1975305680915,54.53270396413078 L -2.182286083203052,54.53585536030715 L -2.172398030907801,54.53244411438936 L -2.171172086185696,54.52900301240827 L -2.174025065091849,54.52440933383512 L -2.17449248078269,54.52172704279302 L -2.168704530789282,54.51965209868669 L -2.162393331405376,54.50394279919584 L -2.166470212298007,54.48990793002726 L -2.158997195216477,54.472029634468335 L -2.159367154314573,54.47114392154737 L -2.161696452291787,54.46473221679253 L -2.170213023398819,54.45819878377718 L -2.167326424373952,54.457704011105776 L -2.164792060483686,54.456523006354175 L -2.159873143124798,54.4565107574742 L -2.159267589183159,54.45548348329548 L -2.155372671225329,54.45700825870675 L -2.15012069733008,54.45996347684825 L -2.141490195617138,54.460928327237724 L -2.138887164505422,54.46165297749216 L -2.136049468172627,54.461449576326864 L -2.12656277863093,54.462100680615166 L -2.123009813179316,54.46152110001418 L -2.116596173741016,54.46226347796886 L -2.114304610251638,54.464194250307784 L -2.108590863252462,54.46437482502903 L -2.10443145501296,54.46491145748798 L -2.101799153429252,54.465359425848746 L -2.094753287201471,54.46729824086514 L -2.086396588193156,54.468392885874934 L -2.08162432277225,54.46987359729118 L -2.075741094457776,54.47313704030787 L -2.07117403105233,54.47426403133357 L -2.069918911684714,54.47566407305801 L -2.067705196241386,54.47705107754286 L -2.063175700400025,54.47888058977978 L -2.063104306794835,54.479612128889016 L -2.06128930394587,54.480557586928676 L -2.059206611573202,54.48115536645561 L -2.053072825924477,54.48071431482868 L -2.050466989029694,54.48140471156828 L -2.0486132175594,54.48259176256641 L -2.043198434184447,54.48359944663273 L -2.044729521491339,54.47518627240205 L -2.036957429376617,54.47429472024942 L -2.029568038383909,54.47295506805022 L -2.014646040731315,54.47155684439239 L -1.996764372494734,54.46690344833847 L -1.986540157860671,54.46156009260883 L -1.986270507629847,54.460328854498435 L -1.985539439401917,54.45992528647515 L -1.980050863448332,54.46021481111237 L -1.977866601031055,54.460136186457284 L -1.976125264179743,54.45972878236898 L -1.971110628953572,54.45481364671551 L -1.971751361840295,54.45396549681029 L -1.970059591813845,54.45152154011529 L -1.968441527808503,54.451807825047794 L -1.965970952140027,54.45161750521761 L -1.96523956226722,54.4520406412112 L -1.963483181710131,54.45178129251891 L -1.96050320086504,54.45216318934983 L -1.958514345084247,54.452987561116906 L -1.9565553659751,54.45324832465514 L -1.955424221527776,54.453859929125876 L -1.953782045891521,54.45346122292794 L -1.953228102884862,54.45369828845168 L -1.951619746273026,54.45343972178693 L -1.949231207787719,54.454269172287326 L -1.946996308229263,54.45430595549325 L -1.942543236272813,54.45339535319597 L -1.93402495876221,54.45732005599538 L -1.928325389309065,54.45649279284373 L -1.91318260201047,54.46199453336273 L -1.893430277322331,54.46689826220492 L -1.88546958423899,54.47290231762615 L -1.877603244515507,54.47804955579115 L -1.867255077828096,54.48211691503634 L -1.859129985932359,54.481857901521174 L -1.858529478639469,54.482785549644944 L -1.860830908848508,54.4863775207316 L -1.860044543545587,54.48704702264819 L -1.859216461266443,54.48908252994025 L -1.859315461935105,54.49263870932064 L -1.858650212452211,54.493507883003346 L -1.857823101039732,54.49339101897256 L -1.857718819828473,54.49365862814154 L -1.858602429050416,54.49664603040148 L -1.85866989488252,54.499027566367474 L -1.857800511455069,54.50353979348998 L -1.855373094505215,54.503514464069795 L -1.852767948503146,54.503986688606034 L -1.850976513527582,54.503565746575006 L -1.84821673948263,54.5036629565706 L -1.845973749440993,54.50471614657235 L -1.844282820187518,54.50510489779118 L -1.83943329269403,54.50843723559039 L -1.836472734323925,54.50802163125089 L -1.83230214846523,54.5051725208122 L -1.831564011342786,54.503650912302945 L -1.831853796658855,54.502648396547215 L -1.827786886267677,54.50292939998602 L -1.827226743289188,54.501363093707226 L -1.826448338797662,54.50066911684594 L -1.824387583176385,54.500153875802745 L -1.824550073067587,54.49789572836633 L -1.822719297120256,54.49636259839105 L -1.822443442513068,54.49517770621672 L -1.820276645962786,54.49427043294959 L -1.817519000997511,54.49363904170043 L -1.813078303512117,54.491410750843066 L -1.802733863059288,54.487836533827604 L -1.801569206893607,54.48767741317925 L -1.792976484149916,54.484492427803 L -1.791090070336602,54.48942932436855 L -1.789021850103801,54.4917929420753 L -1.790268208173368,54.49289504849908 L -1.786887201013669,54.4988906039974 L -1.787177197580945,54.50103899122504 L -1.785056922732077,54.50138573976972 L -1.785132935755638,54.502802250191905 L -1.783934801782282,54.50337620037725 L -1.783912235109571,54.505035112357916 L -1.78248737178043,54.50580360433977 L -1.78217527558459,54.50701269220169 L -1.777879106679198,54.50640548722907 L -1.776132314867572,54.506728503261144 L -1.777589692610275,54.51568303795135 L -1.777350426181002,54.5193771147436 L -1.776350883037128,54.519110153897586 L -1.776859227151447,54.525361443384355 L -1.781559025115876,54.52683387024262 L -1.780323160367692,54.52881688736825 L -1.779696528620926,54.531872993012044 L -1.773290742451228,54.5328237694835 L -1.769723969336976,54.53284490684357 L -1.767205137656825,54.532286498741634 L -1.764607723087931,54.52982809194075 L -1.761213461360296,54.52895152795851 L -1.754014721730077,54.52865047745972 L -1.751741843792279,54.53017272057096 L -1.751247495409869,54.53015463831498 L -1.750831907313347,54.52963081512531 L -1.747536547590655,54.52929140902086 L -1.743134395198626,54.52976120924856 L -1.739000048397492,54.52843763619931 L -1.733091361917058,54.52773641143301 L -1.732559303715282,54.529458864359064 L -1.731366172130334,54.530682037311664 L -1.727304989958505,54.53048511828197 L -1.724798654301755,54.53599558866694 L -1.724477534777538,54.53777427230528 L -1.722830872619164,54.53969457767765 L -1.72285163663601,54.54097343538752 L -1.723884546126495,54.5415931858248 L -1.72131088982986,54.54230172348651 L -1.719419301765727,54.54223896529367 L -1.718719746212974,54.54148330030418 L -1.715846138319504,54.53995521949807 L -1.710655154313936,54.538337922866035 L -1.704112612871038,54.53666491923007 L -1.698616363356414,54.536095089205645 L -1.696926363565396,54.53600642790974 L -1.689531461107182,54.53538650701971 L -1.68363028530151,54.533479556018555 L -1.682259105261529,54.53333941268219 L -1.67929437996813,54.53363536914908 L -1.677411529187628,54.53449402498565 L -1.673244201915709,54.53538236877261 L -1.665277373277289,54.53558983729645 L -1.660641154784754,54.53520043132934 L -1.657937165630188,54.53458892129407 L -1.65558009523695,54.532977225814435 L -1.655034997781235,54.531829823067326 L -1.654978846504695,54.530418774850446 L -1.656918135706653,54.52820902518711 L -1.657033813662959,54.52638321040012 L -1.65633021733119,54.52553283337666 L -1.654675199390357,54.52465009526085 L -1.65250560351803,54.524144277732624 L -1.646313707511327,54.52426203681172 L -1.640047110023926,54.525672550057095 L -1.636761619698405,54.52592338597871 L -1.634339849303693,54.52564199468119 L -1.632293429649879,54.524009192353056 L -1.631736463408761,54.52255248848147 L -1.632680003071576,54.52070224052127 L -1.63293111901059,54.51870434336432 L -1.633754999493214,54.51795727150136 L -1.635093097908601,54.517573992194826 L -1.639628172438452,54.517784405686704 L -1.640192003586408,54.517090422164145 L -1.639326644034592,54.51641474388898 L -1.633329086442537,54.51411140147445 L -1.62855752728113,54.51379311312292 L -1.623577486683394,54.51464860300194 L -1.61872139678952,54.51645060043498 L -1.614295985247067,54.51954248904159 L -1.61210728791976,54.519991999376636 L -1.609520479053858,54.51990822429897 L -1.603955023312162,54.51936529926917 L -1.600623276359251,54.51709776463452 L -1.600448364251819,54.516344029555995 L -1.601064161233853,54.51481296730593 L -1.60365550213857,54.51215320519213 L -1.603684725335209,54.5113696842149 L -1.602759095478145,54.51061439331771 L -1.601349327337898,54.510581013931215 L -1.595655596649773,54.51222201097022 L -1.589715170953454,54.51207446659852 L -1.583190032653492,54.51307668538417 L -1.581068537434575,54.512845657708645 L -1.579527220671643,54.511627068118294 L -1.579563550342082,54.51108974948355 L -1.581305186327735,54.50948892455903 L -1.58432455466421,54.507970630505085 L -1.587513413125788,54.50677187142941 L -1.591357207753467,54.50585294469049 L -1.591928711194237,54.50537501491706 L -1.591880702586689,54.50430085965744 L -1.590815828561075,54.503616970528746 L -1.589511180910567,54.50360087796519 L -1.581128421503268,54.50532827277373 L -1.579910488903731,54.505419289931055 L -1.579115270708784,54.50511456386171 L -1.578744926639508,54.50388295364508 L -1.580218820913057,54.500500863075416 L -1.583524933009969,54.4977514590975 L -1.582937303421495,54.49707542742414 L -1.580304912372467,54.49630876904541 L -1.576999001313885,54.49440371492588 L -1.574859296332693,54.49245505030149 L -1.574191057021039,54.49109291131569 L -1.573303932820616,54.490159631982024 L -1.568083073909232,54.488692476364676 L -1.564381469418354,54.48722328817143 L -1.556662517224849,54.48559469278264 L -1.555195209080806,54.48497818988672 L -1.554280621673642,54.482924038763876 L -1.554326385423494,54.4805515968858 L -1.553714250836552,54.478803125399466 L -1.551128526204296,54.474499626691596 L -1.547848727461244,54.47232152808709 L -1.545672717837053,54.47123847496714 L -1.542749502461537,54.47116367121295 L -1.533708222560079,54.46920055257015 L -1.531340474640851,54.4692812458214 L -1.527402801524113,54.46996518390956 L -1.522416510495888,54.4701854823397 L -1.520148463875306,54.47083884007097 L -1.519459994987382,54.471649470732046 L -1.519546376823516,54.47257278841452 L -1.520638699278937,54.47351177653071 L -1.524474102491935,54.47464314608725 L -1.528597233078466,54.474781474656716 L -1.530150824809063,54.47575092448593 L -1.530272536561315,54.47779958495642 L -1.531308416605391,54.48059309899464 L -1.530612714407888,54.48353011473825 L -1.529158997441501,54.484718857561184 L -1.526408868872171,54.48522391896339 L -1.523671207902266,54.48491299870476 L -1.518074505307358,54.48503556997503 L -1.515939132960834,54.48457314892819 L -1.514131919009586,54.48377509124243 L -1.512934951539834,54.482925468385744 L -1.51200070419392,54.481154818870685 L -1.512204162250551,54.48014012543925 L -1.514372717524512,54.47790659889606 L -1.514309741804007,54.47657359062921 L -1.513128401005913,54.47534659359967 L -1.511340806062446,54.47501225986103 L -1.509741865619753,54.475545036921055 L -1.506868672351046,54.47848556298096 L -1.50623121820429,54.48156822664383 L -1.505424158547076,54.48231890521304 L -1.501354504662044,54.48432971885309 L -1.496893950442379,54.48582549177021 L -1.494314347369056,54.48635488191066 L -1.491775482084849,54.48620049081116 L -1.49053202946431,54.48515989037416 L -1.49131930663292,54.48328131619205 L -1.493239192962675,54.48142285228533 L -1.499348368518729,54.47809609767228 L -1.4995882390294,54.47715614722341 L -1.499052291756643,54.47567822943485 L -1.498353891921308,54.47499233555446 L -1.496679327899219,54.47438503555421 L -1.494612919197644,54.47402773094062 L -1.490714124894155,54.47397364184434 L -1.487026032409073,54.472993751258095 L -1.483931376673094,54.47342810269294 L -1.479089825641495,54.47532247915151 L -1.477624733626063,54.47501239501808 L -1.475372754544264,54.47384517709915 L -1.474588553238961,54.472789330295996 L -1.473963053665439,54.46789321024751 L -1.472887485259182,54.466586314653114 L -1.467981120390907,54.46315064277916 L -1.467619242527266,54.46215051598364 L -1.467844406332791,54.460843008163465 L -1.468852660115076,54.459346672968096 L -1.472205757062438,54.45745691093754 L -1.472052219484735,54.45559960046225 L -1.471060952033603,54.4547172164249 L -1.466989142370362,54.453291922682595 L -1.463101278195759,54.451377560481724 L -1.4605269233632,54.45116485067507 L -1.456150009300992,54.452449254076356 L -1.454808993905276,54.453786755805965 L -1.455445973860181,54.45553225649634 L -1.457374790568454,54.4571019792565 L -1.460965708375087,54.45874467748482 L -1.461921925420222,54.459584672119846 L -1.462791370138967,54.461392261506795 L -1.461969450869872,54.46289755027709 L -1.455271075854842,54.464872541596385 L -1.453413850186411,54.4660154335866 L -1.453530113517464,54.466550714149946 L -1.45439544056514,54.46714867556251 L -1.459432142079188,54.46883836571685 L -1.460191152165382,54.471309617190464 L -1.463422696809177,54.47304138100956 L -1.463798735821406,54.473550851564724 L -1.46137247189687,54.478406527522054 L -1.457584727963795,54.481482971581755 L -1.458113934132229,54.48231398357766 L -1.461343799146267,54.48470723201484 L -1.461827486151769,54.485951401513766 L -1.461251404562733,54.48762319054397 L -1.45840805920285,54.491253805268585 L -1.458473543519022,54.492839413924976 L -1.459386137532919,54.49458163577311 L -1.461142926730056,54.495878205025626 L -1.463597070097861,54.496521793076575 L -1.467066132281526,54.496538911203274 L -1.472040851151815,54.49592712626043 L -1.473204532882315,54.49608133867526 L -1.47459383027089,54.49682886670456 L -1.475559329084576,54.49810831050726 L -1.475190473852746,54.499912231951235 L -1.474189951924853,54.50098360172776 L -1.472839315347061,54.50155560980156 L -1.467352656212698,54.50252734483149 L -1.462113904941792,54.5042450175681 L -1.459984098891337,54.50426967767428 L -1.457798036476537,54.503647884381586 L -1.456504231371475,54.502809850215534 L -1.451898281380598,54.497359124672045 L -1.446510756372387,54.49442551824344 L -1.442891793515081,54.490914660233045 L -1.434905292250805,54.48749317011939 L -1.43225142954525,54.48651912967719 L -1.426985851567615,54.48523430665424 L -1.426583186693078,54.484779397365585 L -1.426831696755861,54.483998738725084 L -1.428000406834105,54.48298955367227 L -1.43320375778699,54.48094076979895 L -1.43311504600377,54.480104517181225 L -1.432117772096405,54.47945456426623 L -1.430649588958063,54.47916275817278 L -1.423139244737708,54.47887999090445 L -1.417886755869224,54.47708619276526 L -1.412786362235237,54.47719539741163 L -1.409973663908291,54.478332990841345 L -1.408332204734809,54.48139500909544 L -1.408112818443583,54.48462120616883 L -1.408850892668865,54.48728049017592 L -1.410188509704363,54.48968573428267 L -1.409347072717194,54.49151412647826 L -1.407088800454804,54.493529637243626 L -1.405058663394214,54.49416044772617 L -1.402373902990221,54.49426859243231 L -1.399215347291627,54.49289221925828 L -1.397941621973623,54.49110468268883 L -1.398398611527141,54.48763341151428 L -1.397273967847927,54.48653941083368 L -1.395050047796252,54.4856799712313 L -1.389860910043784,54.48669907005461 L -1.384571882715847,54.48685194836175 L -1.383065096602009,54.48728649092202 L -1.382246489864638,54.48792848507347 L -1.382102390549069,54.48858021277426 L -1.382969362584439,54.49159090043365 L -1.381010550985638,54.494028929761754 L -1.379750416891196,54.492621406605195 L -1.378405559984218,54.49213094575204 L -1.377503628580884,54.49124203698424 L -1.375760695915632,54.490635390624384 L -1.373731182371931,54.48837981015815 L -1.372703259671192,54.48847519806092 L -1.371975768573328,54.48800134398572 L -1.370286766491696,54.48611063124805 L -1.370876112842598,54.485324668550206 L -1.371930345373269,54.484819642714356 L -1.374384145292198,54.48423291272791 L -1.37421494054076,54.48358765819807 L -1.374779998101523,54.48246724436323 L -1.374940507738637,54.479533725585554 L -1.373848375072419,54.47443869544567 L -1.37434333400545,54.47406112352849 L -1.373438916407961,54.47356570674881 L -1.372561577916511,54.47230746092327 L -1.368953244605355,54.469949387525716 L -1.364417139156719,54.4659524078846 L -1.361824087589805,54.46780896551344 L -1.361263938252628,54.468711016542585 L -1.357336470409443,54.471417812061915 L -1.356490465603833,54.47292585364837 L -1.353045022347006,54.47241942866894 L -1.350916943597181,54.473416355434445 L -1.350002448184655,54.47318224914807 L -1.349807490581823,54.4727273941978 L -1.347901700686945,54.47254004833877 L -1.347830944315914,54.47233302331754 L -1.346347397886209,54.47266741374112 L -1.345357335918497,54.472244189122286 L -1.344915034533234,54.47240800745605 L -1.344730671875668,54.471580164189945 L -1.343825542222759,54.47105945669436 L -1.344681235736645,54.47071630534236 L -1.34410897705674,54.47051096238922 L -1.344903822583953,54.47011357310121 L -1.344127494531084,54.46954316131485 L -1.344788433052506,54.469029955164 L -1.343926662415919,54.468784497767246 L -1.343751945936817,54.46823082261427 L -1.342699323713306,54.468449809402145 L -1.343109022013554,54.46820666823617 L -1.342508559332903,54.46812874418896 L -1.342795434479306,54.46784190072407 L -1.342309174470817,54.46766307092446 L -1.34324761861582,54.467256590065155 L -1.343935203033904,54.46622854041442 L -1.344722189701803,54.46602346820407 L -1.344118048817982,54.465500709766665 L -1.344035417627647,54.464199843833875 L -1.343628961754936,54.46415541122605 L -1.324131315860855,54.47092508802147 L -1.323516608387066,54.47143296472783 L -1.318313040086674,54.47219920670156 L -1.316912894062453,54.47298034597503 L -1.31556526374676,54.47532469811353 L -1.313115997509068,54.47727719511157 L -1.310798586678712,54.47751661042144 L -1.308805085126764,54.47648796514292 L -1.308371133242443,54.47695996051875 L -1.307354960850574,54.477097108224626 L -1.307296592640516,54.47753979807821 L -1.306654360268419,54.47782821501425 L -1.303187188825893,54.478429362321585 L -1.302062317932275,54.477966398449674 L -1.302322667333797,54.47681303456237 L -1.301580817306401,54.47641875227885 L -1.302825125751683,54.47621468320934 L -1.303090923478927,54.475915141066494 L -1.300337456355888,54.47584988253185 L -1.299150644366153,54.47657634605178 L -1.296949306164792,54.47950063101298 L -1.296159743031498,54.47964789226433 L -1.294595430730966,54.47933863993772 L -1.293544386703974,54.47961023549356 L -1.291590695276233,54.483445273211146 L -1.290393028867787,54.48343827709409 L -1.291049145879999,54.48218123307754 L -1.290747618314524,54.48194129268752 L -1.288610792202285,54.48180480170461 L -1.286710087748168,54.48273458843933 L -1.286658034697154,54.483957427444835 L -1.287701486891054,54.484843402709025 L -1.287826417902827,54.486363856320544 L -1.289360959666758,54.48733176118 L -1.289591953500163,54.48798646262336 L -1.287718071140954,54.487979074895556 L -1.287432677423495,54.48752709873648 L -1.285496323465776,54.487826667783445 L -1.284015262048317,54.489282853135194 L -1.281060630104098,54.490420244061546 L -1.278866771153843,54.490260687908844 L -1.27769948168995,54.48974603373295 L -1.276721130934474,54.49007451723488 L -1.276267965637353,54.49073324952098 L -1.274518881051743,54.49108227072085 L -1.272827227889973,54.49027944677597 L -1.273104407181123,54.48927637731161 L -1.270954991571646,54.48913500343232 L -1.269299428718579,54.48830808844209 L -1.268023016678563,54.488554743130734 L -1.267129951027798,54.48816742009453 L -1.265637163389991,54.4881718640371 L -1.26423853440197,54.48756753693854 L -1.260190007323539,54.48780174402881 L -1.257403073742541,54.48732182823106 L -1.256666351417831,54.49117361340656 L -1.257225460016578,54.49320814865727 L -1.254776766645903,54.49525109270972 L -1.254312028895991,54.49585126943873 L -1.254553023638996,54.496606813567105 L -1.253328682028197,54.497281376852726 L -1.253262394499267,54.49778247840311 L -1.253717886508222,54.498804385387835 L -1.255177261260828,54.49946940072488 L -1.256674667812343,54.50110791277729 L -1.251642981542211,54.50140588099772 L -1.251508608674274,54.50115070278521 L -1.249212891652306,54.501382771650896 L -1.248504774012443,54.501179829934905 L -1.246095830164494,54.50218847018692 L -1.244749036131842,54.5013586426327 L -1.242320756804039,54.50165803723817 L -1.238512715301263,54.50623195778923 L -1.234380118178053,54.50614214385328 L -1.234865905663076,54.51031604454658 L -1.233404706483478,54.510569249321584 L -1.231728277094332,54.51142671171504 L -1.230441841391826,54.51100338513636 L -1.230604533117576,54.51188156468921 L -1.227612030603384,54.51199640753567 L -1.220136310775941,54.51094113304883 L -1.219065183349824,54.51016589061033 L -1.213844779906993,54.51000536390699 L -1.208453084931357,54.50887837417944 L -1.207288837214264,54.50814553276455 L -1.203785585694836,54.50689401113848 L -1.202145872562161,54.50695329891605 L -1.196679874595125,54.5061855868627 L -1.195484989991504,54.506632351649706 L -1.189725084198934,54.50629281147351 L -1.185093817880089,54.50728530102532 L -1.181162605073564,54.50577231344539 L -1.180011339524033,54.506194960597135 L -1.179378975475529,54.50599920585765 L -1.176143463585281,54.504313688108326 L -1.175549206107409,54.50468797759209 L -1.173863679659528,54.50471689734624 L -1.17347109549401,54.50404917073143 L -1.174208851540246,54.503839481398074 L -1.17390808009758,54.50320922021866 L -1.174391506600178,54.50289437876888 L -1.17354082379729,54.502504740135315 L -1.172727149398243,54.50288110902032 L -1.172309045858294,54.50255201407655 L -1.171792390937782,54.50267704431146 L -1.170653138352736,54.50234839040551 L -1.168972260003388,54.50353395501664 L -1.166976928157955,54.50338446130249 L -1.166638094786391,54.50372363143261 L -1.166032813295224,54.50310921942802 L -1.165369200354698,54.50354686255888 L -1.164192812498729,54.503148709676154 L -1.164073230502226,54.503412031354934 L -1.163113092689728,54.503542043950624 L -1.158295815642591,54.50237257229441 L -1.152667403224366,54.50191177204028 L -1.14805888534665,54.501125312807325 L -1.146693380048409,54.501371841172435 L -1.146196949203769,54.50282161146488 L -1.130852391271368,54.500036788896175 L -1.126654140290314,54.49872138406375 L -1.12281143458811,54.498990169465 L -1.118380006606646,54.49819856968677 L -1.114324264338956,54.498964273897826 L -1.113201141012048,54.50034733114988 L -1.112266468877473,54.5007969901709 L -1.111637352496165,54.50203891148011 L -1.111782824969838,54.504374027171046 L -1.106186799853784,54.50570064788496 L -1.094523849765554,54.50675983538134 L -1.087251488191123,54.50335469326096 L -1.078197955166883,54.503821720174145 L -1.073813188982929,54.502618957508254 L -1.067926564615912,54.50044822575957 L -1.064800442580372,54.498518792608714 L -1.060018650305651,54.50033223278999 L -1.057739386514027,54.49899518004735 L -1.051079130984031,54.4964212794442 L -1.049135301481501,54.49641769825072 L -1.046710938709312,54.49596357692689 L -1.044606924580113,54.496011760437575 L -1.042977984769258,54.49555306180613 L -1.042881094340977,54.495270083150636 L -1.039504956344881,54.49511933694068 L -1.036851456678612,54.49404405873773 L -1.02380033993517,54.502045063648495 L -1.003401053094442,54.50301209848272 L -0.987386338301095,54.50085791527319 L -0.981271019937289,54.499756803029264 L -0.967828726048269,54.49726848058973 L -0.966191283183281,54.49619932915741 L -0.953375191191001,54.48819464999487 L -0.952589374554236,54.48801534142081 L -0.943987494532435,54.48868918875191 L -0.932610888564322,54.49145454156008 L -0.929035020830567,54.491637776712956 L -0.925396872633974,54.49107793693294 L -0.92294681420096,54.49101752122113 L -0.916365879247225,54.49222419824582 L -0.901415832883438,54.494202370970974 L -0.895785781818796,54.495602537100574 L -0.89421808749901,54.4963692734359 L -0.894212614483133,54.49691208816666 L -0.880825023370851,54.49704685944906 L -0.880644683723207,54.49647096933586 L -0.878186790659066,54.49532922964661 L -0.877173185100712,54.4949621396934 L -0.876337067592734,54.495389333346395 L -0.875781201507434,54.49116460941539 L -0.866978786986569,54.48924095155448 L -0.863494259650732,54.48908337539833 L -0.856489892220073,54.487873231384604 L -0.848530740745176,54.48797293586018 L -0.844139141127418,54.48954977211688 L -0.84394212062897,54.49122492056682 L -0.845058819381843,54.49263669045447 L -0.848614907396039,54.49553227411301 L -0.853321110891804,54.502713836080886 L -0.852346827039476,54.50562917159738 L -0.852326749000089,54.5103770307555 L -0.85020649903012,54.51146141035681 L -0.851290269979404,54.513684404677385 L -0.852235398676988,54.51761013871723 L -0.852184205256094,54.518059884502144 L -0.851191319382865,54.51837310873906 L -0.849948051562002,54.51995476336436 L -0.850649491507241,54.523425176898755 L -0.851428948589049,54.52400419262427 L -0.850407087565665,54.52418685647095 L -0.849927786759245,54.52496865614706 L -0.850700525094843,54.52633945177247 L -0.850073629786228,54.526487138611074 L -0.850145257559185,54.527622969335866 L -0.848647297075354,54.53000382791063 L -0.844596016622059,54.533480286236674 L -0.843901826068185,54.53479928704975 L -0.842153318574998,54.53602015133658 L -0.841872348353369,54.53737274187171 L -0.838665740072176,54.53980010145887 L -0.836662183668966,54.542633468941396 L -0.834800518560343,54.54335609442314 L -0.832498099980408,54.545218570382055 L -0.83085038123754,54.545536093245914 L -0.829771588610036,54.54682074173235 L -0.828001431463043,54.547364446410484 L -0.826984924961625,54.54857509836731 L -0.825274623061779,54.549072620900304 L -0.821843838184133,54.549077007552356 L -0.821348997702899,54.54940381839732 L -0.82039937587586,54.549362221573546 L -0.818921203738923,54.55070307060695 L -0.815676261983516,54.55250748449167 L -0.814733643456394,54.55168576292728 L -0.813065917405276,54.552042464362266 L -0.810527902131776,54.55121852825316 L -0.809599742878336,54.5517127280382 L -0.808119947365877,54.551240657472945 L -0.806464658044718,54.55143198104158 L -0.804924865151711,54.55089458842421 L -0.801847010096161,54.551408811090745 L -0.80041918967709,54.55101092448544 L -0.800580518731399,54.551838405158506 L -0.797251805422317,54.55414572075063 L -0.797384381907097,54.55463140728679 L -0.798505831856253,54.55508927131561 L -0.798815909223067,54.55558750070029 L -0.798310675217507,54.55568230585099 L -0.79554960657369,54.554872009989246 L -0.796099775370014,54.55661478196089 L -0.795487181592601,54.55715055697343 L -0.794329770320426,54.557435617030585 L -0.794251725385086,54.55835245460829 L -0.794135968467627,54.558866307464385 L -0.792778191975245,54.55960047988713 L -0.790663590232223,54.55962428824469 L -0.791097695880562,54.560264026963 L -0.789224642736461,54.56043137340392 L -0.788434552885445,54.56079462494694 L -0.791174020186575,54.56035203209774 L -0.791735029418203,54.56073238869314 L -0.792705728868291,54.56064234733985 L -0.796814646308336,54.558962155135795 L -0.799324509525026,54.559857079902905 L -0.80049212768728,54.559750960476705 L -0.80193078602308,54.55883681749456 L -0.802361932142322,54.55905671977971 L -0.803789178863519,54.55869158828959 L -0.806181818297492,54.55894261900914 L -0.808810704597508,54.558574002963404 L -0.810156838842826,54.55934573810641 L -0.812088584763903,54.55944018706405 L -0.817810374376033,54.561153453042614 L -0.82399798070678,54.56184644156468 L -0.826107398557145,54.562818762576924 L -0.829912472899252,54.56582317684721 L -0.834133687876234,54.56678691195802 L -0.834706203070815,54.56732180599898 L -0.83788365434916,54.56812162818829 L -0.840856080877778,54.56851949279952 L -0.842128649528577,54.569624574594286 L -0.844965815307448,54.57043173464015 L -0.846926628484435,54.57034441067996 L -0.853009786146639,54.571743984431166 L -0.863164768154254,54.571589918250076 L -0.86603127935016,54.57091402290242 L -0.867361209125451,54.570984875541455 L -0.869762859608767,54.5700555749715 L -0.871975849464837,54.56968259770886 L -0.87729994800629,54.56991008236807 L -0.884285357513352,54.57143683907487 L -0.89354598104744,54.57117402685178 L -0.896030332208068,54.571400747843334 L -0.898180972954919,54.571956815966445 L -0.899161021133786,54.57226860525649 L -0.900824746936177,54.573962606316556 L -0.900293565510815,54.575129748322645 L -0.899096880887905,54.575564601941885 L -0.900363188048742,54.57530108989434 L -0.9015874098101,54.57390393881226 L -0.904024163661991,54.574585679468214 L -0.908256800482684,54.57683747733998 L -0.911920407311281,54.579272689884945 L -0.917157550302353,54.5814909701324 L -0.917564454019626,54.58259918392802 L -0.919982208135232,54.584669809249554 L -0.926217012422998,54.58671148591392 L -0.933530315873942,54.58706461099709 L -0.936310779552392,54.588325709561936 L -0.938340631186711,54.58875780100733 L -0.94103408950175,54.58908874501422 L -0.943550142682704,54.588797064765494 L -0.949397615070231,54.586714352595386 L -0.954296400499229,54.58600276438259 L -0.956706360428361,54.585312600232804 L -0.960287871279441,54.585030651955634 L -0.967668195923101,54.58579216526896 L -0.984431770483807,54.589312087932385 L -1.002414750812202,54.59359118453646 L -1.016394131428953,54.59824838804077 L -1.020043683028178,54.59916499833237 L -1.025223486730579,54.60102397931855 L -1.036399766690207,54.60607141946902 L -1.041031796699884,54.60824977468155 L -1.051787097300166,54.615858274937885 L -1.054117799332935,54.61678507776753 L -1.059596719165172,54.61805625516884 L -1.063190682182648,54.61888217545726 L -1.063220423006245,54.619138458535204 L -1.063811356824343,54.61902712765345 L -1.07317153517861,54.62133680776553 L -1.075047935278813,54.62136732005637 L -1.075100950463269,54.621146622141424 L -1.080144291231772,54.62049574575832 L -1.084620644215718,54.62039758231571 L -1.088132884607809,54.620752087190375 L -1.100493174094171,54.623490176993094 L -1.107558233374967,54.62535508756515 L -1.116781240614081,54.628458447748855 L -1.118812527922649,54.628861447097336 L -1.118973014740372,54.629390168071076 L -1.12342888047901,54.63302525039687 L -1.127726937683218,54.63574426115431 L -1.138746215533101,54.64069295725817 L -1.137180625621131,54.64694567544003 L -1.137475579102578,54.64758314574461 L -1.138444408534743,54.6458825648336 L -1.139174536959172,54.64550493018758 L -1.138771094809119,54.64560538409799 L -1.139177608022221,54.64484523373102 L -1.140025160176058,54.64433276526387 L -1.140314079065945,54.64077416760909 L -1.140799285211559,54.64039838669397 L -1.140505105411215,54.63957855941317 L -1.14190908983353,54.63816945756602 L -1.141629414336713,54.637983301147905 L -1.141252661391519,54.63829426959227 L -1.140175622616166,54.63830100615472 L -1.141044123054253,54.636792881357465 L -1.140915676529561,54.635825900054755 L -1.14073332719225,54.63661719282184 L -1.140157719846549,54.63642983173255 L -1.140143790781871,54.636066592159914 L -1.141072744114172,54.635209620198864 L -1.139811310539884,54.63500562468308 L -1.140097284323544,54.63437678447633 L -1.138477253192909,54.63362030666197 L -1.137437695605668,54.63223518388477 L -1.135687218712906,54.63105898615559 L -1.135446439763388,54.629631924336735 L -1.140567940524019,54.62799595251541 L -1.14369785465376,54.62765326561133 L -1.14605852444998,54.6277247302655 L -1.1494062133677,54.6282227347415 L -1.151265950248598,54.62892414599657 L -1.151883859535267,54.63123902746185 L -1.152739818196214,54.63134563919043 L -1.153014070302691,54.63104290282783 L -1.152223770202191,54.630757877251156 L -1.152125789916393,54.63032855627685 L -1.153165128503032,54.62936526296768 L -1.1538337087277,54.62924316699441 L -1.153271908193479,54.6284727105276 L -1.153638062321622,54.627998927295884 L -1.152660593994955,54.628150306884 L -1.15198647944323,54.62786968486947 L -1.152757875909582,54.62667623092705 L -1.154624186483594,54.62750350599081 L -1.152778064132945,54.62637441400134 L -1.152929373826717,54.62602499794915 L -1.153313110689641,54.62611842069435 L -1.153323345651609,54.62547145026293 L -1.152779959574562,54.62262424227324 L -1.152328269564143,54.62162985566327 L -1.152353546763849,54.62198050598818 L -1.15189162453546,54.62192157119393 L -1.151520314202745,54.621459788250526 L -1.15178965094234,54.621095837937254 L -1.151208436743586,54.62103876045008 L -1.150751451410614,54.620448708642606 L -1.150505880191225,54.61737088367259 L -1.150870660840912,54.61516808690411 L -1.135351939687514,54.609534987529535 L -1.132659887494539,54.60900256039502 L -1.132578951532134,54.608293843518965 L -1.150686605158946,54.61441724289894 L -1.151809947640006,54.614529420564466 L -1.149741928974133,54.613009617820154 L -1.149598066824423,54.612408282266784 L -1.151813809443408,54.61173275104558 L -1.153279800659795,54.60898584029266 L -1.155042190015228,54.60791878327897 L -1.154868717959415,54.607474560906745 L -1.156018056447672,54.60684541394503 L -1.15686252954301,54.605611113167186 L -1.157208405996212,54.60573031546779 L -1.157591888264859,54.605449980086675 L -1.149644615098975,54.60065651984249 L -1.146873906806534,54.599467018380984 L -1.146770261594561,54.599095149273424 L -1.147910994071616,54.59865289076803 L -1.151897848798669,54.59956429333958 L -1.160253186906123,54.60454012121113 L -1.160295854527418,54.60419703969232 L -1.163490630632891,54.60210462059926 L -1.162502978834531,54.60165199789291 L -1.160067931351263,54.601433888435416 L -1.151394333378724,54.59616373790155 L -1.160170634282324,54.60133029356192 L -1.162601099049289,54.601547560479865 L -1.163800130124844,54.60211124943245 L -1.16940727270521,54.59889835258834 L -1.181430055015685,54.591067348189554 L -1.183029410973197,54.59065040690592 L -1.182844881221421,54.59019886908114 L -1.183239529019006,54.59012246950023 L -1.183402474501486,54.59040935853612 L -1.18333626695145,54.58992996016262 L -1.183811756224826,54.59014339801718 L -1.18474636098003,54.58960147167962 L -1.184467753189375,54.58937498901893 L -1.18517711769285,54.58934562370505 L -1.185105174572568,54.588992865609555 L -1.185662608470511,54.58905141855634 L -1.190494554851702,54.58566519641191 L -1.19176148008434,54.58537349195562 L -1.193432418754266,54.58436554123169 L -1.196123296451902,54.58247371429649 L -1.19549759273483,54.58195367479045 L -1.196326019452356,54.581922339133556 L -1.196672593134835,54.58160650049707 L -1.197061963618322,54.581793263431614 L -1.197386929501511,54.58131735741418 L -1.198459964205677,54.58167224978222 L -1.202473389725727,54.580409124872055 L -1.20216236483511,54.57898709647332 L -1.200898444001592,54.577639732453065 L -1.200264374536927,54.57691571604114 L -1.194241215628952,54.574353123915024 L -1.190559541473088,54.574970228796964 L -1.194213941437201,54.57431970014975 L -1.200301789045739,54.57690068986882 L -1.200980594468378,54.57763308690563 L -1.202307469484623,54.57900332500345 L -1.20281590656603,54.58029808539822 L -1.204208891115937,54.57987500246877 L -1.203458973419626,54.57708141392088 L -1.206590143449693,54.57660682476011 L -1.206970809027861,54.57684111325009 L -1.203598283379816,54.57715240705745 L -1.204814782157347,54.5799885889169 L -1.209211094048513,54.57986911337757 L -1.212459948611166,54.58019852354422 L -1.219783165188735,54.57888170194545 L -1.219880235432542,54.58019710051005 L -1.215919505289089,54.58051932693921 L -1.215338255964208,54.58065482224344 L -1.21570933886158,54.581067092100184 L -1.221012871157547,54.582464585387775 L -1.226689187284587,54.5835577641038 L -1.228566713973068,54.58360566490502 L -1.229353816467879,54.58395944448777 L -1.229697195791079,54.58363810053315 L -1.229836450364647,54.58404696490933 L -1.230162622105209,54.58373808929498 L -1.230028699732563,54.58410838162447 L -1.234321987041875,54.58520858022819 L -1.239814693947594,54.587223034275475 L -1.246177102299181,54.59027602823205 L -1.249219431509479,54.59070387702912 L -1.251708461091633,54.5906769508933 L -1.253348378239621,54.59028267828986 L -1.255550695528469,54.589166623004225 L -1.257158193983996,54.58713820751841 L -1.260408459972404,54.57169431158498 L -1.262238518549047,54.56962495661033 L -1.26585288201477,54.56791427141755 L -1.269176811103897,54.567041047022286 L -1.273847314124621,54.56680039922955 L -1.277829835407681,54.56618882317648 L -1.281691568805276,54.56522322514085 L -1.281592337804712,54.564708551489986 L -1.28282592240793,54.564743709266025 L -1.285856404742831,54.56398338044066 L -1.285175035281955,54.564301992260695 L -1.285973146641707,54.564206072297075 L -1.286074081789567,54.56453827903166 L -1.286168511815582,54.56479758496479 L -1.278632173402599,54.56673194369713 L -1.277822509805821,54.56721865614058 L -1.270976960523233,54.5676603098842 L -1.266867328111763,54.56870492687589 L -1.263947205737765,54.57007575998924 L -1.262219982706015,54.57202618369544 L -1.265253054475358,54.57522327481244 L -1.264757309094368,54.57613065280099 L -1.26792253588657,54.57785099872474 L -1.270322963984458,54.57857460722961 L -1.271457602213044,54.579411765707945 L -1.273679077968188,54.58002812637813 L -1.280618768777515,54.583292425920554 L -1.281186579740112,54.58315001319698 L -1.2820771868645,54.58371519403584 L -1.283173409604057,54.583409835755766 L -1.284850325378948,54.58377560917637 L -1.285848181163814,54.58352085652142 L -1.287144495874349,54.58406682822236 L -1.287418208737229,54.58478826227003 L -1.288370151302755,54.584943982286575 L -1.288510181658485,54.5852548531752 L -1.294361870087686,54.58644021732684 L -1.296419009217115,54.586579841679225 L -1.29814146385105,54.58791986387223 L -1.297820785502024,54.58938011393806 L -1.298828710812224,54.59025320329697 L -1.297678323303375,54.58948090164279 L -1.297986008160765,54.58796029177993 L -1.296343235080395,54.586668346033576 L -1.29478305198329,54.58660088241392 L -1.288400646126553,54.58532518607259 L -1.288154219421929,54.58499212805637 L -1.287261036603419,54.58483944701274 L -1.286989123944039,54.58410274995339 L -1.285788822279753,54.58363999847691 L -1.284970990870716,54.583871555213115 L -1.283326389699519,54.58350327842518 L -1.282297097972935,54.583789269505104 L -1.283193398646564,54.584650151299364 L -1.281209212331787,54.5832705368586 L -1.28062302829658,54.58339945106964 L -1.279278825257188,54.58297957241452 L -1.274812786199735,54.58074395820663 L -1.271383679887554,54.57956594214017 L -1.270270177378728,54.57875936690027 L -1.267934662163477,54.578214129989405 L -1.264220577411547,54.57612380177843 L -1.264848896868285,54.575334925623046 L -1.2622283972671,54.572932128295236 L -1.261648928485828,54.5739252337481 L -1.260006866508924,54.583466481399675 L -1.258581449747019,54.58886616495187 L -1.256957731677417,54.59041814920812 L -1.252670424850304,54.59198067325255 L -1.252518858552671,54.59239760015548 L -1.250800107626697,54.59236003694102 L -1.250616013182645,54.59278215070607 L -1.249762606901643,54.592225952208125 L -1.249664914156727,54.59274392329356 L -1.248485670070738,54.59197726257062 L -1.248730486305978,54.59238226596056 L -1.248077814471476,54.59269994843591 L -1.246688960241073,54.591891450695044 L -1.245735544371981,54.59197994731718 L -1.245009972765365,54.591629443455865 L -1.24633894735361,54.59366781211158 L -1.24538880260727,54.59382550547638 L -1.242947656433596,54.590929009283265 L -1.240455737432796,54.589868271720206 L -1.240134622821164,54.5899894338567 L -1.238118245312693,54.58858016018736 L -1.236203355953424,54.58786445462622 L -1.236392444180994,54.58752325231706 L -1.230504033157122,54.58565266589883 L -1.223647731944031,54.58490798612168 L -1.213046979508066,54.582251313527216 L -1.209144064261306,54.582051610254524 L -1.204455303257227,54.58263293688085 L -1.201105725143115,54.583571598681054 L -1.197105615887436,54.58571099709547 L -1.193286884387407,54.589150058498156 L -1.18678372479534,54.593449920231265 L -1.185235132615755,54.59326243271483 L -1.183987727897279,54.59403862624999 L -1.184214676098301,54.59422073845901 L -1.183788418181989,54.59417204641399 L -1.181461614732138,54.595598759764364 L -1.167432894579731,54.60478554240781 L -1.167395387622411,54.607682604751105 L -1.165747877816331,54.61012198165921 L -1.160584794039579,54.6103262801648 L -1.159269793344158,54.612904432930335 L -1.158829220585407,54.61782885343187 L -1.160084708298696,54.61875332440672 L -1.16204483420716,54.62261860410396 L -1.166017566253318,54.620033593986506 L -1.167476011858282,54.619752448084995 L -1.170990536368545,54.620937665891496 L -1.172138987182626,54.62196369748094 L -1.169806606583651,54.624626642594606 L -1.165369864887734,54.62800215354606 L -1.166443250803869,54.62899178392928 L -1.167819920007133,54.62931039371851 L -1.170865999814712,54.62973664239902 L -1.170404617761623,54.629187067304734 L -1.169182414453161,54.62880845380156 L -1.169083914152291,54.62840241288088 L -1.169606376715497,54.62807079429054 L -1.169160655811339,54.627600471488066 L -1.168513392572074,54.62804622896709 L -1.166820137841487,54.62843547032974 L -1.166114214768587,54.62803782505369 L -1.166165430228582,54.62848756653717 L -1.165821136791718,54.62789924834395 L -1.168772075747408,54.62546073860452 L -1.168367231424221,54.62700907996923 L -1.168951467346963,54.627449809970024 L -1.169213779715508,54.62582592013399 L -1.172127742053702,54.62290183913313 L -1.17280736494433,54.62154043560425 L -1.200890801777816,54.62175956798254 L -1.200787827531322,54.62274651770125 L -1.201432076666469,54.62243263646354 L -1.204932152559201,54.622281275390684 L -1.20675812876592,54.62156355123563 L -1.212737654156492,54.621492860133245 L -1.217508190802124,54.620747357179205 L -1.215797872864227,54.62125935524893 L -1.215213849261514,54.62231237938063 L -1.21577661602971,54.62284357329981 L -1.218817146416565,54.6227490291874 L -1.219956842017642,54.62300352634136 L -1.220748258061564,54.62373561639871 L -1.220943938649367,54.624763223963015 L -1.221689712030422,54.62464394650735 L -1.22313217806723,54.62348140185463 L -1.222409349115954,54.62320894785552 L -1.223936590685168,54.62352698585228 L -1.225424094554121,54.62520620920342 L -1.226701824126979,54.62537976898575 L -1.226490455987814,54.626397490509724 L -1.226904192872882,54.62671646258299 L -1.228614534440664,54.62620790151036 L -1.229271391447633,54.62496831725091 L -1.230305609346034,54.625154664803354 L -1.230440337200063,54.62614314674067 L -1.231457442303433,54.62559240698317 L -1.232193600012364,54.62556922371853 L -1.233566357399923,54.6276134507453 L -1.233403607267878,54.6283564871629 L -1.234123447222273,54.62879685968127 L -1.238819757291024,54.627899023841756 L -1.237198681794167,54.62645100773613 L -1.238522162312414,54.62647878493228 L -1.238604599473702,54.6264805144397 L -1.238610720714619,54.626476703003455 L -1.240192052453306,54.625492073513655 L -1.240675443306319,54.62465391972229 L -1.242235047713595,54.62532329954458 L -1.243932016807873,54.62543991396452 L -1.245738039193339,54.626027233878595 L -1.246581549952684,54.62594300168313 L -1.247440334349083,54.62585723819187 L -1.247785348113221,54.625742114201046 L -1.249428822042357,54.625193698061544 L -1.25076824073135,54.625302700675256 L -1.254269476916364,54.626871818931036 L -1.253832172962099,54.627487413998736 L -1.2540835510869,54.62687067428821 L -1.25038399515211,54.625308409199306 L -1.247413389835009,54.62596763779437 L -1.246512108757379,54.625991344257784 L -1.245670121047196,54.62609509019177 L -1.241641390236982,54.62526568007909 L -1.240736798418289,54.624767504378184 L -1.240386898671571,54.62550767045071 L -1.238903639487838,54.62646981557678 L -1.238511380739032,54.626598744505976 L -1.237456307353221,54.62650383843523 L -1.239052688076254,54.62794810306525 L -1.234297499262564,54.629009176979565 L -1.234489289806561,54.62993692254119 L -1.233658748866929,54.63011225381338 L -1.233785071225072,54.6305606417525 L -1.233290573953989,54.63091157802734 L -1.233433066529068,54.631158735028244 L -1.236962935020242,54.63193316696962 L -1.238301360457604,54.63276210892529 L -1.236224358426131,54.631915935680674 L -1.235949698543528,54.63367742960214 L -1.236053770735246,54.6319265393429 L -1.233114723344347,54.63112078362528 L -1.233504874704524,54.62997472122776 L -1.234275297498585,54.62978364832136 L -1.234086192204934,54.62904647344839 L -1.233073381119363,54.628455918360636 L -1.233230488455372,54.62768050351524 L -1.232050289419029,54.62586218626529 L -1.230880306298122,54.62646766292028 L -1.23013897670496,54.62643240882932 L -1.229619560628774,54.62514850714304 L -1.229173107123369,54.626317469163325 L -1.227408319581022,54.62700366735886 L -1.226545553150745,54.6270008578061 L -1.225916643574585,54.62659327415648 L -1.22611688408202,54.62559075457665 L -1.225261701025838,54.625687798779396 L -1.224364264958726,54.62644858395241 L -1.223076651634463,54.626558025784504 L -1.222300893886673,54.626218749275694 L -1.222304639008565,54.62578115534546 L -1.224429781732923,54.62536704253751 L -1.223634036344158,54.62404532004589 L -1.221706567098594,54.625300077146456 L -1.220615139505921,54.625356039940925 L -1.219648942300092,54.62485371599279 L -1.219627918831745,54.62352266861654 L -1.218302861220642,54.623324470551196 L -1.215837541646817,54.62370662688326 L -1.214109403885742,54.62288218302372 L -1.213862279744493,54.62308901154362 L -1.21459279087289,54.62368239196549 L -1.213937723439289,54.623673650934194 L -1.213563044834079,54.62358766699148 L -1.213972499097131,54.62339976971024 L -1.213733372195534,54.62278720586758 L -1.212792398139604,54.62275225583225 L -1.21236953068846,54.62227235872002 L -1.211891454603176,54.62200682267597 L -1.209963448293067,54.621917000492196 L -1.203601940784829,54.622908796221765 L -1.200701363860306,54.623047006554444 L -1.192203379418722,54.63038757642193 L -1.190371614435156,54.63128751163187 L -1.190366218873929,54.632106203035754 L -1.191453469572472,54.631885175179534 L -1.193923469157126,54.63333775096488 L -1.194756501581183,54.63469127266607 L -1.194539249184215,54.634948661589945 L -1.194221655294185,54.634789237375585 L -1.19420645475549,54.63508660223083 L -1.192660768520533,54.6350646331605 L -1.191977143063869,54.63532160520286 L -1.192199325933989,54.63551903138619 L -1.19146131778596,54.635548248674134 L -1.188457200041725,54.63283210883287 L -1.188638096780637,54.632612220593515 L -1.184167846575668,54.63328323836211 L -1.181846753839364,54.63330172776883 L -1.177619257789611,54.633138256587785 L -1.176890817790216,54.63292936973602 L -1.176822057112614,54.63234295443037 L -1.175995932840766,54.63313261819073 L -1.17400878607852,54.63333749297989 L -1.168607429598586,54.633157703721224 L -1.16741687353655,54.632587837983536 L -1.165597361046279,54.63338856895173 L -1.16082966840402,54.63471270129788 L -1.160424709776023,54.63519243675187 L -1.165517026735505,54.63352556326477 L -1.1669825489226,54.6342851074722 L -1.167825810083719,54.633961092992195 L -1.167422904774264,54.63366265575088 L -1.16698398848052,54.6338394125022 L -1.166955742823953,54.63355253299638 L -1.167932449919588,54.633210569334445 L -1.17308723543994,54.63340577659639 L -1.173181187504357,54.63373622667686 L -1.170192705838247,54.63557336400674 L -1.167661963613149,54.639103944580036 L -1.16885428661234,54.64392728006706 L -1.168074878880101,54.64620274083598 L -1.164089838543924,54.64707580860062 L -1.162122583740022,54.64681147857178 L -1.163788351353506,54.646362900912116 L -1.163106052380983,54.64623232367341 L -1.160982864593855,54.64669308966595 L -1.159298216652633,54.64790003392285 L -1.157723830318862,54.64819375982307 L -1.157800603477608,54.64838026546512 L -1.162203456029445,54.647626273383786 L -1.164760914814601,54.64760528967045 L -1.176106940829381,54.65362859828629 L -1.18480043060921,54.66068983808369 L -1.18740100689982,54.66414207148343 L -1.190268322241401,54.67042240142592 L -1.196526883666571,54.67589835757042 L -1.198237156413425,54.67835504221184 L -1.198488688360585,54.679524134097726 L -1.199124817437435,54.6807685357924 L -1.198854254335051,54.68538331263512 L -1.198435356220478,54.68578233653167 L -1.196850643490634,54.68591112894892 L -1.195534691583195,54.68640573275 L -1.194345739765155,54.687383723994394 L -1.194081451766857,54.68820063993492 L -1.194676619264454,54.688224353360226 L -1.194664453072305,54.6875071290159 L -1.196112321732686,54.686377123433516 L -1.197584957080154,54.68603727270763 L -1.198678727406556,54.68625751592475 L -1.198606452491693,54.68725279291028 L -1.195461073464364,54.68903842798706 L -1.196624300447142,54.688652514645874 L -1.197878360341875,54.68901757653118 L -1.197758813420617,54.68980760365264 L -1.198374644521248,54.690128014271004 L -1.197918948185251,54.690580700802 L -1.197882419245139,54.691805406638345 L -1.196284573307779,54.6920365258222 L -1.196326666389043,54.69162883491497 L -1.196245362855597,54.69150559999029 L -1.196173893074043,54.69142925367093 L -1.194799883299096,54.69054209728937 L -1.194682470131248,54.68918330998096 L -1.194398760182085,54.690277000575435 L -1.192641159159879,54.68854875021052 L -1.194345076173696,54.69039793516875 L -1.196145624385137,54.691567714829795 L -1.196190946797085,54.69164220397964 L -1.195939951993082,54.692361455984276 L -1.19035155475267,54.69401023000065 L -1.189422570502878,54.693992351627806 L -1.188032540925902,54.69336027666863 L -1.189985422221473,54.69447416055092 L -1.190927105724618,54.69463236431609 L -1.190685630332271,54.69522838789332 L -1.196329383917173,54.698564953266704 L -1.192775119148014,54.70049146029799 L -1.188767612577032,54.698278302976 L -1.185826242292463,54.69748118680666 L -1.186573929341469,54.69632688509116 L -1.189990403160555,54.69703191900965 L -1.190225319311717,54.69676656555284 L -1.186933879434205,54.69515748983679 L -1.185271266728499,54.69505461185659 L -1.18357634898397,54.694540907124846 L -1.183103866628918,54.693887990672636 L -1.184890714510525,54.69329160988735 L -1.18291292621987,54.693662908554884 L -1.181654725594857,54.69319784766306 L -1.178024488521032,54.694111501867795 L -1.177017520373434,54.69464749147557 L -1.173981176790408,54.69182388813229 L -1.177051203590222,54.69490475565778 L -1.175246763513844,54.69658644577255 L -1.177774247016568,54.69927630289856 L -1.183159493848874,54.701086722503504 L -1.187333665851566,54.701789671098446 L -1.194427759284642,54.70417082633539 L -1.20247201325217,54.706180397939505 L -1.209965990667705,54.70891652282807 L -1.215021243298252,54.71107562296647 L -1.217717708146888,54.711538755907796 L -1.219592178998228,54.712697564340914 L -1.227297600941164,54.71561549773666 L -1.239278689112082,54.721395043685874 L -1.242839520635338,54.722263897741946 L -1.244197824271239,54.722443071965465 L -1.244759431103015,54.72322036813646 L -1.245759920479671,54.723188867849444 L -1.245921284640464,54.723440527213874 L -1.244299232675424,54.72366768805589 L -1.243847229130912,54.72335033698486 L -1.244096476482504,54.722716542475034 L -1.242519715817098,54.722430798093754 L -1.24197109980477,54.72246330402938 L -1.241935138601328,54.72272370328542 L -1.243557184907484,54.72424989155087 L -1.254735163900492,54.73166476496737 L -1.256713804196647,54.73318028815724 L -1.258638861668392,54.73534439898766 L -1.266669242506939,54.741126872655286 L -1.266976225889161,54.74158711137569 L -1.266361264828706,54.74243621023417 L -1.266827540174559,54.74311209696877 L -1.266558088625119,54.74349415444814 L -1.269772013788002,54.74565322114002 L -1.270558414384191,54.74658175388293 L -1.272837134010038,54.74763605526789 L -1.277014807753499,54.750415491524116 L -1.279247204442962,54.75243275152922 L -1.279775892221113,54.75346481254429 L -1.283167022800599,54.75473318082081 L -1.286879363722229,54.756662074711045 L -1.291328260895962,54.7601244856882 L -1.292326784810688,54.760960708404916 L -1.300754210861772,54.769802129378796 L -1.301682909669944,54.772106136290546 L -1.302344161245357,54.7722528789884 L -1.301694868062012,54.77266965583391 L -1.302695515856346,54.77306271056096 L -1.305212723927652,54.77666366037964 L -1.308629443541804,54.780417976828694 L -1.309824026097642,54.7825806428154 L -1.308793033240847,54.785146563123114 L -1.308379153651781,54.7864336988724 L -1.31074549049143,54.7901163275922 L -1.310662509842122,54.79252319239897 L -1.311649994483927,54.794819479235436 L -1.310274129576481,54.79862540688725 L -1.311686241619011,54.80120261455691 L -1.311410063908929,54.802261418270405 L -1.312971492951206,54.80990165359564 L -1.312628397907728,54.811779730996285 L -1.31451113620121,54.813799725256644 L -1.316914680553363,54.81752563076996 L -1.318517538636865,54.820573948568345 L -1.318630605698232,54.82162509844835 L -1.318357087886719,54.822710919891286 L -1.321256605399718,54.82781636091536 L -1.322931375251998,54.83006246283488 L -1.32588461264217,54.832294053197224 L -1.325297898563087,54.83386438123931 L -1.321553309485455,54.83676784871632 L -1.324119587886001,54.834876026955776 L -1.324608798982695,54.83485987152422 L -1.325264075414389,54.835615653278566 L -1.324411520632615,54.83688075019689 L -1.325278828144922,54.83566245237677 L -1.325788101371467,54.83639954391745 L -1.32552395210606,54.836651525247504 L -1.326042361384202,54.83674872577395 L -1.325559978485367,54.83738590948439 L -1.326214341993021,54.837267342587815 L -1.326236772215011,54.83685311792119 L -1.326780381073462,54.83749597232233 L -1.329346286223779,54.83796129753836 L -1.329372629317194,54.83834695166079 L -1.327335787904022,54.83836447999676 L -1.326567342057016,54.83756945373786 L -1.326928953757679,54.838295751839006 L -1.325136055562622,54.83834244049948 L -1.325100650559219,54.837571225827084 L -1.324711809211926,54.83745578250022 L -1.32495667285326,54.838360314089186 L -1.32407933030176,54.83822338609757 L -1.326984588744128,54.838879309128174 L -1.326555473078508,54.839215731342385 L -1.325774457558566,54.83918266616505 L -1.323482725810846,54.83879425331208 L -1.320874736650137,54.837403023352145 L -1.320666694902983,54.83755288780647 L -1.322485556148371,54.838560518843074 L -1.324769991427779,54.839192379988866 L -1.327735916001819,54.83930040894487 L -1.328688115973719,54.83868826515385 L -1.329823719368663,54.83893717460364 L -1.33190502920394,54.84141366446161 L -1.332023688593391,54.84224372993319 L -1.332565010488223,54.84199235356729 L -1.333509980331096,54.842286003159145 L -1.335939493119978,54.84416131065356 L -1.34545208254009,54.85497436832047 L -1.347306908043545,54.858463043559205 L -1.347448028364268,54.86062959521903 L -1.348300332870013,54.86225892544144 L -1.347311677060029,54.863959269389326 L -1.347498840688155,54.86481852137807 L -1.351261040244783,54.86881970683036 L -1.354564106199337,54.87342575701205 L -1.355579914629088,54.87558523754304 L -1.355539305130884,54.87862253524209 L -1.354059006325917,54.879968964295976 L -1.356480059804397,54.882963568120275 L -1.357990854201384,54.88568363428735 L -1.359711163730449,54.88896745089667 L -1.360746197872252,54.89271491249973 L -1.360410548453372,54.893827444348794 L -1.35958597709342,54.894008280564414 L -1.360116951807252,54.89395626399495 L -1.360279840261227,54.8942068740316 L -1.361640171638668,54.898297513359864 L -1.36077974914448,54.89847996669134 L -1.360900597675467,54.89990133434017 L -1.360385944985293,54.900500748457326 L -1.35812428696636,54.90151520908559 L -1.357259640823923,54.902635727698346 L -1.351476211698261,54.90531103026842 L -1.354218361353107,54.90441072853896 L -1.35570645515621,54.90615206212445 L -1.355211955950366,54.906252856587564 L -1.354850254353827,54.907610587495626 L -1.353759020367552,54.907673092447 L -1.350379069340276,54.90583992469272 L -1.353554297147081,54.90780146823642 L -1.354644079512672,54.90928546668008 L -1.353982278810945,54.909704393654806 L -1.354531987509222,54.909467339471995 L -1.357313363639435,54.911010648080875 L -1.358620134658825,54.913000832965565 L -1.358239813013245,54.91356770170501 L -1.355596398005368,54.91450994211181 L -1.35385341505812,54.91580826085641 L -1.353049121287381,54.91712500856775 L -1.352755933792825,54.91916434844843 L -1.353800255430595,54.916300482798114 L -1.35534489755651,54.91491568020485 L -1.356800396759854,54.914226917664465 L -1.358636114568049,54.91375943675953 L -1.359510245544171,54.914014681567764 L -1.360419856591366,54.91518862983081 L -1.36040642852575,54.91613304811399 L -1.360918068953175,54.91603690440898 L -1.361482265603729,54.91705711606529 L -1.361185196131909,54.91729732120317 L -1.362065200097546,54.91699188586283 L -1.362648387354368,54.91621844451317 L -1.363342554997305,54.91661035557681 L -1.363288355225611,54.9157006222246 L -1.364486933031503,54.91586678368612 L -1.363702348433272,54.91358282441735 L -1.363997040212231,54.913197060200474 L -1.366574736394403,54.913547453759854 L -1.370857562408966,54.91008551522438 L -1.372071964044573,54.90962262312731 L -1.37279137336282,54.90949785059965 L -1.377449131529606,54.91008517215775 L -1.382110199631805,54.90933955408502 L -1.382884552508266,54.90949628879874 L -1.387379860414091,54.909688751911084 L -1.392037819394031,54.91151659994988 L -1.393640747301649,54.91353034088514 L -1.393664011704364,54.915927193082574 L -1.39531505454209,54.91661026358958 L -1.396837271007237,54.91674276723466 L -1.398273978145826,54.91643443902059 L -1.401871290325791,54.91370495469918 L -1.405881721716678,54.91328875239478 L -1.407482109363006,54.9128652605863 L -1.407918160475277,54.91333463790926 L -1.408681041055307,54.9131191514044 L -1.410994533905493,54.913638973788856 L -1.414447106460878,54.91575491636312 L -1.416702627994151,54.91630587415297 L -1.421469291242242,54.9164643832233 L -1.423565466670279,54.91616615467526 L -1.424929352202015,54.915372912912986 L -1.428002572924164,54.91503702517519 L -1.431717153826665,54.914116358514214 L -1.433839951889245,54.912914049421516 L -1.43499863405355,54.91170810060147 L -1.438778271743431,54.91112710973856 L -1.439275875806761,54.91169016920946 L -1.439962850717641,54.911536030317805 L -1.445793488680629,54.91027412138589 L -1.449115044397908,54.90919113670381 L -1.449052098455107,54.90888441664688 L -1.449342359620062,54.90910044249948 L -1.451804665629127,54.90787774502685 L -1.458311544658674,54.903579145381826 L -1.458469112023454,54.900439136632045 L -1.459291333442009,54.89935360388519 L -1.460794829109976,54.8982837513576 L -1.461996295967523,54.89810840275199 L -1.463155376172173,54.89829687688998 L -1.464042371038935,54.898789588707224 L -1.464780042735691,54.901015137822185 L -1.466913094232418,54.903157861535206 L -1.469212823914093,54.90355430134933 L -1.472338649788814,54.903268648177004 L -1.473851922910819,54.90227144928165 L -1.47692315090964,54.898487088466176 L -1.480756236873213,54.895423880903564 L -1.486944033982835,54.89228155893789 L -1.493719667374868,54.89066275119638 L -1.496204747203884,54.888278150605096 L -1.498227861965845,54.88742657186812 L -1.500763435895366,54.88684657554831 L -1.502504301316659,54.88459453003471 L -1.504327094293024,54.88226004426664 L -1.506335740734888,54.880642570985856 L -1.507407258359068,54.88045097330388 L -1.510491687692461,54.88109516062506 L -1.51275446803397,54.8807331161064 L -1.518192484153759,54.878122695580494 L -1.519209562813133,54.87595651318347 L -1.518417233995601,54.87287286273219 L -1.51902286051587,54.87200357487171 L -1.524269719028084,54.871599207107145 L -1.526628888390124,54.871069216462224 L -1.535147160767805,54.865970937469285 L -1.540513037429933,54.865284132817216 L -1.541861385486998,54.86535839551103 L -1.542785386687846,54.8657662316876 L -1.540800066773273,54.86552777767906 L -1.535393161033551,54.866261244504365 L -1.529313711314405,54.86960047337718 L -1.527174469669494,54.8711837261101 L -1.524434499305167,54.87189820074333 L -1.51913488467181,54.872413853367206 L -1.51996143226781,54.87602686372157 L -1.519120602436365,54.87792055249457 L -1.517958813266322,54.878761594231065 L -1.518254592825786,54.87892537178681 L -1.517695058743607,54.87892854520633 L -1.513835986992027,54.88088216948258 L -1.511573503922212,54.881474311438936 L -1.5065974802064,54.88103362254378 L -1.504551754878785,54.8828756363833 L -1.50126777605616,54.88715867554386 L -1.496929364192521,54.88842587643247 L -1.49393428893288,54.891076090379585 L -1.486219192764594,54.89312953151322 L -1.481245772234266,54.89591486338961 L -1.477230368671148,54.89956412012955 L -1.474862793314536,54.90284556358389 L -1.473471055846698,54.90361421683965 L -1.470142069412359,54.904045449047175 L -1.466709348809057,54.90370874951865 L -1.464235907815495,54.901713745248266 L -1.463040524921568,54.89908352436095 L -1.461687129398695,54.89860760999446 L -1.460606788298863,54.899050308853454 L -1.459484394901771,54.90042388345251 L -1.459630606089991,54.903487892857555 L -1.45840717409396,54.904588711480905 L -1.455223611987628,54.90612644528618 L -1.451909589914035,54.908882955470396 L -1.448897660072323,54.910372676814575 L -1.442152656055222,54.912559817833205 L -1.43666674802983,54.91355624332328 L -1.432819533517478,54.91559791497292 L -1.42859240222053,54.91667350096014 L -1.427114819109223,54.91702415689387 L -1.427623900438355,54.91797731428569 L -1.426982240063619,54.9177918188849 L -1.427177249699108,54.91745576191142 L -1.426574979859969,54.91713299876194 L -1.424731424071757,54.91776317224156 L -1.421044723827956,54.91800531236048 L -1.420770327145875,54.91777482379245 L -1.41732976713532,54.9177152028591 L -1.415009306768828,54.91711273910521 L -1.41388445241825,54.91744160370043 L -1.409769783964871,54.91440051308474 L -1.406278799570572,54.914500280650806 L -1.405880658565427,54.91420806511113 L -1.405017770893943,54.91422540042732 L -1.402658845734783,54.91466588585549 L -1.399488907832519,54.917085650987175 L -1.395821072342721,54.917931972327246 L -1.393498861448692,54.917364252037586 L -1.39214170530432,54.916528906176 L -1.391652001275376,54.91527733578676 L -1.391620388281241,54.912819347613166 L -1.390564133996912,54.91200802942582 L -1.387005877557096,54.91048491892331 L -1.383016056885936,54.9101727304741 L -1.377243520381911,54.91117505071556 L -1.373356821999416,54.91085680104119 L -1.370993044454326,54.91169839351935 L -1.371041519841213,54.91259012633835 L -1.369141728587505,54.91398488266024 L -1.369401143755212,54.91594347868051 L -1.369057441770292,54.91677568733698 L -1.367068606986174,54.917761987536316 L -1.367248923446458,54.91819792749752 L -1.368513811713392,54.91852170292844 L -1.367498714112487,54.91978175438327 L -1.366531488997874,54.91948017625323 L -1.365891024700241,54.91734431851345 L -1.36557644408586,54.917906160191784 L -1.36446365089593,54.9183325923637 L -1.364086141250855,54.917931646580456 L -1.363236675764913,54.91778518082033 L -1.359877627598662,54.91878585710991 L -1.360709036023751,54.918887242537785 L -1.36227529920409,54.918501846505215 L -1.362921684362203,54.918761355441724 L -1.363413035921077,54.919854846610065 L -1.363411190017956,54.92274310233015 L -1.360445737675687,54.922999904027456 L -1.357681640170433,54.92285691756359 L -1.355097039458253,54.92232652911144 L -1.35226457045809,54.921294272124726 L -1.354349775966817,54.92231718722182 L -1.357460315651886,54.92303812768219 L -1.360389604416434,54.92319734754336 L -1.363295517356281,54.92295640801501 L -1.366113807262835,54.92610289529779 L -1.365620865427939,54.92639330152998 L -1.367075932387962,54.92852619584867 L -1.365393545109786,54.92972786648656 L -1.365407120842379,54.93114605652616 L -1.367560874583708,54.93312706710758 L -1.36790800371447,54.93468084420517 L -1.366615497496351,54.93935880837478 L -1.364694111298129,54.941935093814585 L -1.363969649370913,54.944119503834116 L -1.36317010042526,54.94502296024023 L -1.360548537892934,54.94652523541532 L -1.359871506806928,54.94767375787719 L -1.358036171285883,54.94822297098869 L -1.356683526738844,54.949722853678495 L -1.356107461627553,54.95050435561573 L -1.356933916444483,54.95350650271557 L -1.355381790789072,54.95448945893667 L -1.355487867527685,54.95566544958705 L -1.353211827749765,54.95756833156189 L -1.355125639971202,54.95887969348845 L -1.355652081383472,54.960920612454544 L -1.354994896410035,54.961393352917014 L -1.356864774656724,54.96478660078499 L -1.356630129135834,54.965198787961754 L -1.358044694883291,54.96582541933473 L -1.357431998446282,54.9662427088509 L -1.357705186051481,54.96674103942559 L -1.35854376676301,54.966849765804874 L -1.359560130905752,54.96736818077243 L -1.359558911030897,54.967744769565925 L -1.360284341004784,54.96789232664031 L -1.359911556619371,54.96884559811375 L -1.360521500167085,54.96889462363189 L -1.361736943433177,54.970363101072245 L -1.360789667798033,54.97089822203737 L -1.360740540143059,54.97133196459979 L -1.361498523210328,54.971120249584665 L -1.362011226333014,54.97178970810065 L -1.3638333936864,54.97184426208108 L -1.365327375548113,54.97309307122744 L -1.367289153954175,54.9729145476764 L -1.368435436931527,54.9738389048337 L -1.372323713621681,54.974739703299214 L -1.377659148771555,54.97765527622537 L -1.37849117468559,54.97871627645436 L -1.380912362487746,54.980276057359596 L -1.382079642970271,54.98199840783375 L -1.381726748052164,54.982897852479816 L -1.38034650971992,54.9835361217661 L -1.380605057546149,54.9841997118471 L -1.38011091976369,54.98452877961685 L -1.381244540793976,54.98509342374952 L -1.38065893770288,54.98568084700033 L -1.381422699659631,54.985497874971635 L -1.381454160368147,54.9858907093062 L -1.382319737852653,54.98610900859377 L -1.382988748863378,54.98589580927638 L -1.384082519384016,54.98620688566968 L -1.385161704215577,54.98614946060728 L -1.385545235009976,54.98651532520927 L -1.385029122923935,54.986849692759236 L -1.38559447373294,54.986868720552245 L -1.385762461560757,54.98743661483254 L -1.386368528656079,54.987346244545606 L -1.386817846160674,54.987911873781044 L -1.38811589263314,54.98805594982499 L -1.388785521865912,54.98893099692631 L -1.392117804907061,54.98807871132703 L -1.39342119357368,54.98817774921271 L -1.39363195255566,54.98923284875719 L -1.394488710343276,54.989935413038246 L -1.394038714586689,54.99106717404817 L -1.395160698544424,54.99098202416351 L -1.396873843048377,54.99158812155418 L -1.399787623519725,54.99176513840281 L -1.401261595300407,54.992594672333 L -1.400718177753291,54.9931913820691 L -1.401734666494915,54.99336626583398 L -1.401711910450974,54.9937354695093 L -1.402336034535305,54.99370889125634 L -1.402938401044737,54.99324631776622 L -1.403852247230201,54.993487157238874 L -1.407449222611779,54.99567669443842 L -1.410894175620624,54.99888350562072 L -1.414499353086913,55.00412100595291 L -1.414127989423027,55.00525411306545 L -1.409624755030498,55.008058486254896 L -1.402868660297442,55.00974550827033 L -1.401191695920668,55.01073920428561 L -1.400923492462948,55.01132199611166 L -1.403173163209617,55.00977215649974 L -1.409903397928167,55.00814248734096 L -1.418598951194154,55.00323036135883 L -1.422395830871527,55.00468527236464 L -1.42469260791427,55.006203150973946 L -1.425263317379023,55.007735307791954 L -1.423958566180067,55.00789802884879 L -1.423829641656462,55.00815982900694 L -1.426522030062482,55.007618171570904 L -1.427489979943486,55.006734878787235 L -1.428181423022937,55.00680999898227 L -1.428248936766568,55.007347717019975 L -1.42924633055619,55.00723911612516 L -1.432982249635525,55.006304046236934 L -1.433660700610011,55.006423184638294 L -1.433116997447727,55.00628311337692 L -1.437550671490983,55.00507972675948 L -1.4396677901973,55.00394468256397 L -1.440368241944777,55.00169407094927 L -1.440102455347506,55.00079609869738 L -1.439219035773026,55.00036064460483 L -1.439353267997901,55.00004224980851 L -1.440103907884419,55.00035842044314 L -1.440097379775644,54.998688760009195 L -1.439726113783524,54.99863854248118 L -1.440082453858285,54.998529588373906 L -1.440189078323669,54.99704560016186 L -1.441089179533056,54.995487901295704 L -1.443893869135354,54.993300871423045 L -1.440978631780904,54.994224815558205 L -1.443486524603274,54.99314170686089 L -1.444082287472648,54.99289907940698 L -1.443322174857093,54.99146862869567 L -1.444375577396433,54.99271355391131 L -1.444550020007548,54.99253009231149 L -1.443439519386321,54.991230105900954 L -1.444729401698949,54.99233416468524 L -1.445030654834737,54.992019218775916 L -1.443754194749038,54.99130520987032 L -1.445104094425685,54.99190806515051 L -1.445217563967588,54.991389229503746 L -1.445502416544653,54.991468684475954 L -1.447218264351595,54.9895534132446 L -1.446913917409573,54.98941179500271 L -1.447595583746403,54.98916684521557 L -1.449367838352579,54.98722035998541 L -1.447989389420684,54.986657846575966 L -1.449094664149439,54.98537691433547 L -1.4494843761805,54.985332858708794 L -1.449604007926606,54.98434850954931 L -1.449720250102954,54.985335721891914 L -1.450279499148543,54.98489705435321 L -1.450329584592668,54.98603130060956 L -1.450706121098875,54.98546154236094 L -1.451499522973323,54.98641766562753 L -1.461596370657221,54.98464565650819 L -1.462465581716332,54.98438079072748 L -1.462327074931261,54.984101593735126 L -1.464314057481873,54.98404027412194 L -1.465536391182429,54.98412380161362 L -1.465224481573758,54.98466612907189 L -1.465994976796309,54.98418780124439 L -1.468374132309993,54.984712256691935 L -1.469358596171846,54.98519098013766 L -1.469294999134328,54.985861159152044 L -1.469683337904757,54.985440435223964 L -1.470462583489748,54.9854887428659 L -1.471878437282607,54.98607721506484 L -1.472261724187905,54.98508680187183 L -1.471922622172118,54.98401599836209 L -1.469082097961825,54.980914142983345 L -1.46939835466373,54.9800357424286 L -1.466021715692691,54.9796117190657 L -1.464572776271785,54.97914922296036 L -1.463592755021848,54.97918354071912 L -1.463058381650463,54.97964852092241 L -1.458547774349232,54.979177390529344 L -1.456832296815406,54.97870610158603 L -1.456554188530223,54.977435995286726 L -1.456913736399186,54.97869478609173 L -1.458732373954859,54.979158446440756 L -1.463017350005408,54.979566587881614 L -1.463583171118968,54.9790810840949 L -1.464618018779435,54.97904071787946 L -1.465652618565636,54.9793889803985 L -1.467167874279455,54.97968806786439 L -1.470299104782987,54.97985899883074 L -1.471403815465054,54.97950256180061 L -1.472869530584467,54.97960333134547 L -1.476329228394231,54.97861171436317 L -1.477934161121228,54.9773730967534 L -1.478808471147772,54.97572877219163 L -1.480486094829457,54.9749011686169 L -1.478878031916599,54.97578836242632 L -1.4779661863456,54.97755569399074 L -1.476123376085333,54.97881934238408 L -1.472970406679701,54.979779849298154 L -1.470194391484329,54.98010209334678 L -1.469530075776252,54.98083254516124 L -1.47133287988009,54.98180370889663 L -1.471891193933181,54.98331845424039 L -1.472658062220328,54.98393464711968 L -1.472367702005078,54.986181839127305 L -1.475585480628198,54.98652642400286 L -1.479334962686942,54.985753464022174 L -1.481365229521332,54.98584657069973 L -1.491991293366866,54.98586168863471 L -1.49372033791151,54.98617262332447 L -1.494746650462364,54.98596217153246 L -1.502943552471864,54.98616656777582 L -1.505553414049972,54.985899494243064 L -1.506412002137485,54.98610339930117 L -1.511038019985767,54.98594317392358 L -1.511038282811295,54.98617684018604 L -1.516732480563804,54.985818545188934 L -1.517048623435803,54.98552055123108 L -1.518064396449658,54.98564315481388 L -1.518497016096997,54.98526835788567 L -1.519279162885112,54.98546917363133 L -1.524528200163138,54.98414264490134 L -1.526338964932479,54.98336972717111 L -1.526206270183748,54.98296305936498 L -1.526927215856398,54.98304221906968 L -1.526725595324317,54.98264606529226 L -1.527545376292879,54.982569198184905 L -1.527862770824382,54.98201245099065 L -1.528388275000775,54.9821124061562 L -1.530080686542127,54.98061462033747 L -1.531833651020156,54.977672107387384 L -1.532644598023997,54.973481275363135 L -1.532706113447033,54.969674048666995 L -1.534172756905796,54.96509852095023 L -1.534348437646482,54.964629165908725 L -1.533930723302484,54.96455929385429 L -1.535322007421184,54.962287509180385 L -1.536540706812562,54.961291005046846 L -1.538226855638865,54.960655786802576 L -1.542138270332775,54.9603102010558 L -1.544717264975008,54.96039002021696 L -1.547839825470071,54.9599046617522 L -1.549535314754567,54.95897726496089 L -1.552433301809935,54.958037201148336 L -1.552800377701655,54.958304553555564 L -1.554018235518201,54.958180463253406 L -1.556018222519907,54.95850497896881 L -1.55852155436752,54.95963918583803 L -1.56285051845381,54.962220333262884 L -1.56635164690874,54.963412743985316 L -1.567391957196864,54.9634047614663 L -1.567214802017619,54.96361713344477 L -1.568255238233937,54.96387415905319 L -1.572070170684177,54.96407816197837 L -1.574698607758917,54.96379441317763 L -1.574807637049111,54.963383258140276 L -1.576446703211606,54.963316112178894 L -1.579034474980114,54.96377443790354 L -1.580417367035501,54.964158401606504 L -1.582750068738694,54.965433441593504 L -1.588055038652471,54.969188824939415 L -1.591034841222248,54.969852149876495 L -1.594089418819461,54.969927944086415 L -1.598143107124161,54.96944000705772 L -1.604557493998534,54.96793692314738 L -1.610007503716434,54.965627027400934 L -1.614324190173291,54.9632020192274 L -1.615203052012857,54.962266653138 L -1.619558489514735,54.96063220637398 L -1.629670763578,54.95785972694517 L -1.63197760824516,54.95695640058001 L -1.634935272898564,54.95693832602958 L -1.636682264498533,54.95768575362652 L -1.637724900982706,54.95704006026178 L -1.638030946018637,54.95634995525977 L -1.637635270439814,54.95589403645109 L -1.636454775684423,54.955537386849535 L -1.63500980852004,54.95559955566535 L -1.634547080439898,54.95531689743478 L -1.635054594662453,54.95393369481517 L -1.634618254086667,54.95332582350606 L -1.632996934310525,54.953042382835676 L -1.633333340862878,54.952274223872664 L -1.635597193362932,54.95263953163268 L -1.635683198037774,54.9519245200739 L -1.634601350040839,54.95139377569018 L -1.633645222629713,54.951625471247056 L -1.633391910128202,54.95045829053226 L -1.632358094097651,54.949880288682486 L -1.631679449377454,54.94956843596243 L -1.629442394999724,54.94887560280612 L -1.627932829725883,54.94784662294638 L -1.63085423239469,54.94922613197614 L -1.632441751707272,54.949762307729124 L -1.633532829054543,54.950420083968794 L -1.633721015689082,54.951529485313664 L -1.634550712640171,54.95128492386304 L -1.635917329076225,54.9519288117561 L -1.635645716897538,54.952797786750416 L -1.633571465882436,54.95236297707149 L -1.633204511068667,54.95288040479482 L -1.63471837728647,54.9531301919597 L -1.635235355953915,54.953633197029276 L -1.635026007406553,54.955374116965835 L -1.636914938469851,54.95542017334658 L -1.638289490234812,54.956074837403996 L -1.638290384636149,54.956837720455994 L -1.637392943282642,54.957833397858586 L -1.641737701296878,54.95796668760015 L -1.642344997229656,54.958159816074115 L -1.641616729325747,54.95822155468838 L -1.642741822356833,54.958494356187025 L -1.648340371044322,54.959369703754724 L -1.649005255241106,54.958866647624745 L -1.659564179093835,54.961943761239034 L -1.660666970460042,54.96174021550123 L -1.661448405138249,54.96222490346863 L -1.670732370995217,54.963479711632004 L -1.676316680693185,54.963960258169195 L -1.679089474687512,54.96330704314301 L -1.681656288635384,54.96181225837166 L -1.68421157005141,54.95957137921969 L -1.686292124860766,54.95891538872054 L -1.683576464530707,54.95810682007585 L -1.684034731502126,54.957016143935505 L -1.685809590878368,54.956087077828414 L -1.689238272065683,54.95614539653455 L -1.691899301066466,54.95530923737048 L -1.694166689535159,54.95363268493332 L -1.696476921868671,54.952482906048445 L -1.697526069004534,54.95102252879123 L -1.698535041630459,54.95035018001712 L -1.698520019140646,54.94881080542594 L -1.698943643342632,54.94872561308668 L -1.699346490719679,54.94873379675918 L -1.698866313442364,54.95030877790847 L -1.696499912781092,54.95274807206045 L -1.694192904743307,54.953895163320816 L -1.691829076347174,54.955706226975494 L -1.689449972944876,54.956440601137366 L -1.685901204525174,54.95635960910792 L -1.684995455492648,54.95677158875067 L -1.685202308819087,54.958283529104364 L -1.686459139811876,54.95851236003159 L -1.686751369877686,54.95910442388613 L -1.684222375858631,54.95998753418107 L -1.682801955670549,54.96149624379923 L -1.679886946206809,54.96358773243726 L -1.683354514621084,54.964141415957826 L -1.690304742931185,54.96620017686044 L -1.69742010885033,54.96948371638424 L -1.701470808131958,54.970290874836536 L -1.703231420761924,54.970277134260186 L -1.705751489126658,54.96978817546301 L -1.707711368731746,54.967034989358176 L -1.709763469590159,54.966197867128145 L -1.718842079738383,54.96678719218565 L -1.723234385367891,54.967927800141716 L -1.726874673763801,54.96965957127002 L -1.728030696200727,54.97128147979846 L -1.72737820616538,54.97378090190055 L -1.728493342105171,54.97498577771228 L -1.746742828469238,54.98105395693508 L -1.750488003219129,54.981832750956904 L -1.753401094911443,54.98197523339129 L -1.763995737486918,54.98020084935181 L -1.772543629631249,54.98052263312702 L -1.776205524203108,54.98115933712964 L -1.784770601617151,54.983849868053866 L -1.784971729380047,54.98452416381641 L -1.785012973418265,54.984714776009774 L -1.78248303463143,54.98444518674685 L -1.774064378690847,54.98181585483118 L -1.769848109806923,54.98138466293095 L -1.766654236099877,54.981162985265186 L -1.763433142055797,54.98130590147379 L -1.757096025104317,54.982553289120126 L -1.753327782261929,54.982989688888246 L -1.752963926812626,54.98345888161153 L -1.752456167028954,54.98344257965125 L -1.752157295054736,54.982998094165104 L -1.751042165145378,54.98292925200724 L -1.750687650702521,54.983154103941565 L -1.750434772732573,54.98285883507969 L -1.746899774254926,54.98220004939079 L -1.739265722384926,54.97972620498031 L -1.738810810983872,54.9800118957911 L -1.738840326566403,54.97955101040674 L -1.737416872597273,54.97907253512828 L -1.726110121976818,54.97534974947831 L -1.724931340881525,54.9736226644535 L -1.725822410034349,54.97121273023491 L -1.725439817124715,54.97049658239524 L -1.723255597485886,54.96916616529681 L -1.720236640947146,54.968202209223826 L -1.714884765935787,54.967582274828445 L -1.711007571023153,54.96762610815568 L -1.709342823506346,54.96824668300337 L -1.707643587210104,54.96995265847498 L -1.705917460454893,54.97081299507506 L -1.702575995739541,54.971264101937074 L -1.703182588622256,54.97162502707539 L -1.702624936850322,54.97248358662965 L -1.710223087358195,54.974287572206414 L -1.712599748210216,54.97399307623079 L -1.712002273926703,54.974312469681 L -1.7098092553532,54.974482519371804 L -1.708370812769929,54.973982091111644 L -1.706796716606179,54.973901937039095 L -1.697775385215213,54.97107427611749 L -1.693491533575446,54.969687762268485 L -1.69285240609622,54.9688908154473 L -1.69134024623924,54.96807646503759 L -1.683717387997936,54.96588304692982 L -1.664275545260582,54.96463478921143 L -1.659353642618068,54.964137611007544 L -1.656282149617986,54.96350982327523 L -1.644024538693224,54.960908215480266 L -1.639453774536293,54.960350219427895 L -1.634108416192314,54.96014656077496 L -1.625949795940678,54.96053786542621 L -1.622347876616143,54.961609644915576 L -1.619627009632929,54.96280884381984 L -1.615440915105209,54.96485086522222 L -1.615597454669274,54.96514071503512 L -1.608178939274863,54.96801599404527 L -1.606500811560978,54.96839338000094 L -1.596820664916485,54.970955211726825 L -1.592480534139103,54.971168956648334 L -1.588434418397611,54.9705838213532 L -1.588744856254957,54.97201011593793 L -1.589690603537618,54.97225415483922 L -1.590262251580927,54.97317896212763 L -1.591658180183044,54.97371915894323 L -1.591826661666345,54.974663268649486 L -1.590971136769862,54.97506843434104 L -1.591037694995343,54.97559519284304 L -1.592817898953821,54.97629766060624 L -1.591120176584792,54.9757824200389 L -1.590791518136184,54.97507411983108 L -1.591666138428807,54.97462769565864 L -1.591290350961406,54.97377910354876 L -1.59017299395102,54.97335653664458 L -1.589522103569631,54.97238384889252 L -1.588503481470023,54.9720865604477 L -1.588049280203365,54.97081528480148 L -1.58065986430552,54.96607774918787 L -1.57718144371931,54.96518597742888 L -1.570212892406379,54.96542760310404 L -1.567220314150513,54.96512944968548 L -1.56547386182702,54.96457694670044 L -1.56082132682532,54.96312245020538 L -1.554030847515819,54.96000562536338 L -1.551625249621212,54.96005878504508 L -1.545684536052459,54.961997662094184 L -1.544081121255154,54.96236009896826 L -1.543416940528819,54.96213203335067 L -1.540751910122175,54.96300269674049 L -1.537833453935477,54.964591215602375 L -1.53751317294876,54.96445794135369 L -1.536927675786671,54.965392987621705 L -1.535032066586069,54.97751895208631 L -1.534935068086678,54.97861495116323 L -1.5323043536194,54.982620777612816 L -1.532529805708795,54.982855306723046 L -1.530844297002284,54.9840152771511 L -1.531284962750591,54.986180868945446 L -1.530448963996577,54.98630612030924 L -1.52962205282513,54.98471866337364 L -1.523776915192117,54.98690030834885 L -1.51951585994803,54.98777684415188 L -1.509333817841982,54.98819644400562 L -1.508439612747631,54.98860528309366 L -1.507970067446744,54.98827719166658 L -1.505815600571902,54.98835202792956 L -1.50551049624527,54.988633867357855 L -1.505175832226513,54.988394351226304 L -1.50252097891088,54.988492341824276 L -1.504807839144742,54.992277674960114 L -1.508744995583863,54.99394434696387 L -1.514285142471984,54.99568517328667 L -1.51410135867468,54.9956497921574 L -1.507619700138958,54.993688176437615 L -1.504778309923965,54.992521012226355 L -1.501890416891574,54.98957257277902 L -1.501781434085385,54.9885270538732 L -1.488950740571525,54.98853861198468 L -1.485571586257304,54.98820448528294 L -1.481976904231206,54.98822429206294 L -1.473343893126007,54.988962755842174 L -1.473541144124799,54.98965382827294 L -1.474407380567833,54.98961893792209 L -1.474624291875483,54.99012844240222 L -1.471408507256819,54.990562103037064 L -1.471372238876872,54.990821575214426 L -1.470273793699737,54.99104058929099 L -1.469658675187157,54.99086991708238 L -1.470565958944979,54.99057731054469 L -1.470708499663085,54.989840993725494 L -1.471814495945225,54.98916195200055 L -1.460789159963677,54.988560974347735 L -1.459242629637295,54.98874646170609 L -1.458690338022994,54.988557057703794 L -1.458576171971108,54.988911498110184 L -1.456505524444004,54.98856619622471 L -1.45357377664843,54.98993972260297 L -1.453245773633152,54.9898114900093 L -1.448715724881285,54.993069340177996 L -1.44742359341962,54.995880702076725 L -1.450425351593938,54.99595086454124 L -1.449811776357017,54.996241955254455 L -1.45199604908182,54.99619160069965 L -1.451156523625839,54.996088913250716 L -1.451968484810336,54.995812274013495 L -1.448912403589157,54.9953715930184 L -1.449607109194107,54.99394505918115 L -1.455070775233851,54.994918563850675 L -1.455015142978322,54.99682699660404 L -1.454265856304318,54.99710132974395 L -1.455050265372747,54.99781114095891 L -1.452638031049583,54.996453308094196 L -1.452083172607689,54.99645620393792 L -1.452409627809893,54.996815313536835 L -1.451835162264528,54.99676242128205 L -1.451768006021023,54.996413370985145 L -1.449514556488093,54.996488654762516 L -1.447496354589758,54.99718852455869 L -1.446336237379316,54.997997460359876 L -1.445473062094555,55.000972455039175 L -1.445850311827901,55.00116111990755 L -1.445536699687137,55.00145175524825 L -1.447569016951431,55.002481795417715 L -1.445463570836756,55.00166074382268 L -1.445245487915966,55.002734562215096 L -1.442642310706199,55.006356689095455 L -1.441000770893216,55.006912630961324 L -1.436787356491175,55.00834275609299 L -1.435042902194274,55.00942286505367 L -1.434964834292647,55.008748556709385 L -1.435956701175279,55.008152864759445 L -1.433047575135743,55.00910535733362 L -1.43252791857548,55.00892146669607 L -1.432883757911308,55.00952340781159 L -1.431841372258629,55.00982039108345 L -1.432332857158017,55.0105578103308 L -1.429837706236414,55.013285140151325 L -1.425841438449945,55.01400946614809 L -1.422256021594738,55.0137678145209 L -1.417819747047137,55.01408364001142 L -1.416723480898926,55.01440817596485 L -1.416279614949527,55.01525706017669 L -1.417132417875678,55.01564843033496 L -1.417264506483938,55.01667714121554 L -1.415829838124077,55.01671607807597 L -1.40279807771844,55.014500616551686 L -1.415856182153465,55.01684646572426 L -1.415446220494274,55.01847366515364 L -1.417169803547969,55.01889715386801 L -1.418584912843543,55.01848600912357 L -1.41971687522483,55.01883108142707 L -1.420677238251703,55.01958695274664 L -1.420133442784508,55.02020440674882 L -1.419871194402796,55.022990662578074 L -1.420894523956638,55.02273941664343 L -1.421296782139564,55.023051352486384 L -1.422491845551522,55.02282965638405 L -1.423972244202004,55.02364636149647 L -1.427094851967891,55.02635508758082 L -1.429889232814833,55.03050090797616 L -1.429719430416455,55.03177792987197 L -1.428543789789614,55.03304035017857 L -1.429669234986909,55.033334090878206 L -1.43000422700141,55.033980857799904 L -1.429840177630709,55.033305246751084 L -1.431737448442423,55.03345165862833 L -1.431527479046031,55.033804718571325 L -1.432433435925504,55.03435263031679 L -1.431482322027007,55.03555674437649 L -1.430614185415813,55.03487874108613 L -1.431828760926475,55.03595381696743 L -1.4306507437439,55.03716144591983 L -1.429220653875954,55.037263448336006 L -1.429201863339301,55.03770543918114 L -1.428474681896787,55.0379015500438 L -1.432281606260592,55.0385636665279 L -1.431392434536926,55.04036124984178 L -1.431815344961363,55.04089154580999 L -1.436551100929287,55.04240617267685 L -1.439527274706129,55.04422344411072 L -1.441557120471815,55.04477645646468 L -1.445790778583593,55.04825993499012 L -1.448448679845199,55.050743187940945 L -1.450567705766724,55.05362200810479 L -1.451830842723317,55.05546536506103 L -1.453568253182842,55.06042531897934 L -1.45489211495845,55.06220513079338 L -1.455097581567896,55.064139832587564 L -1.454259570945117,55.065777807857536 L -1.452090898513949,55.066812306265966 L -1.452148439067944,55.06856568955746 L -1.451477544173923,55.070109174068996 L -1.453207710060628,55.069888775513135 L -1.455912952488805,55.07018028001409 L -1.457840259958638,55.07125018351903 L -1.459025715608656,55.07276243168134 L -1.458796194172405,55.073524287121174 L -1.460461481817321,55.07371952108959 L -1.461772051167832,55.07432110349012 L -1.463601965415303,55.07684975573597 L -1.463881173196044,55.07963297892771 L -1.468455006517321,55.079620690357835 L -1.469212004398712,55.080054477029265 L -1.470835448347996,55.08286069198063 L -1.469918026946596,55.08364473081896 L -1.469825539034596,55.08447646370013 L -1.470005770317427,55.084707223130906 L -1.471851060472341,55.084602944716465 L -1.470081846395265,55.084766036791315 L -1.470012987154427,55.084992119788204 L -1.471200791264008,55.08544124235269 L -1.472160591361029,55.08559992020641 L -1.473271360409481,55.08535768405262 L -1.474459712041016,55.085650286059725 L -1.472590099755521,55.084388658322595 L -1.473237087937342,55.08403292865718 L -1.475547778567297,55.0841400092648 L -1.476641087435925,55.08379597409818 L -1.478283207478774,55.080507682247024 L -1.478840043587422,55.079820482152336 L -1.477444439765139,55.078084923857816 L -1.475074675887362,55.07780095865456 L -1.476511500406062,55.0777604274977 L -1.477652098975412,55.07805015160012 L -1.478085006694084,55.07840069254443 L -1.47896562995803,55.079941979260134 L -1.478457556605429,55.08064513848125 L -1.47712131821722,55.084082002244514 L -1.4766417449069,55.08433965467683 L -1.474182630569131,55.084193415042414 L -1.473396887193301,55.084384961576404 L -1.474375306391059,55.08515215025327 L -1.47590335301224,55.085227906414715 L -1.477908428814247,55.0861953178523 L -1.482675453623273,55.08973096433554 L -1.488687281103222,55.095114671843056 L -1.494570298942498,55.10239994729554 L -1.497752225187353,55.10812366128383 L -1.498494928543231,55.11266009735474 L -1.497526059107178,55.116040239879034 L -1.496377564629306,55.11735551940678 L -1.494679315981127,55.118374664634985 L -1.494016204710928,55.1186163522639 L -1.491102069809564,55.11647543183083 L -1.489358321828927,55.116381002726726 L -1.491067271546322,55.116497745181235 L -1.49395965894692,55.118620609667126 L -1.492929595358744,55.11923546491937 L -1.494529055747661,55.120468696802256 L -1.495439934143387,55.12209172341293 L -1.494044293459821,55.11924818037688 L -1.495553685277268,55.118283959753924 L -1.496597554255658,55.1199398688761 L -1.495880219211041,55.1185001033374 L -1.496788076211063,55.118244143365594 L -1.496812900668066,55.11789380437383 L -1.497741193162799,55.11775919783042 L -1.49855802506473,55.12039460143942 L -1.496685477334572,55.122922713452304 L -1.497600762984473,55.12183464902365 L -1.496695470204521,55.124000131061024 L -1.497290888572246,55.12516090374814 L -1.499027685920091,55.126338945271414 L -1.500565196025969,55.1277973249431 L -1.500309383259742,55.12793650768778 L -1.504608810045976,55.12939084442689 L -1.510274332455033,55.13150297657128 L -1.511007179979985,55.131977722084926 L -1.510704072293729,55.13214629249776 L -1.511542391822996,55.13220265312077 L -1.511601007675704,55.13253895521543 L -1.514466855218703,55.133677264785895 L -1.516739209977384,55.13448778044649 L -1.51781962142893,55.13530082508392 L -1.519716485265912,55.135772834471126 L -1.526895508344704,55.13646142396663 L -1.527644705145448,55.1371750877587 L -1.528461866645695,55.13691943844359 L -1.528697795640245,55.136466600731325 L -1.534741582048403,55.13510501020872 L -1.537166689986293,55.1344133530115 L -1.53791816916731,55.134673214445115 L -1.541378154087076,55.13414079963573 L -1.54183819299008,55.133143310304 L -1.543838359819975,55.13228364157889 L -1.542176638004709,55.133311671052695 L -1.542498219859504,55.13399408408279 L -1.544801038415129,55.133826532976244 L -1.548389798705524,55.13452008600887 L -1.550465577701893,55.133622858865735 L -1.552458259459656,55.13327974318002 L -1.556783498185192,55.13376283962515 L -1.558063195146917,55.1336299452266 L -1.559001257588368,55.13390382663525 L -1.565138210752802,55.133817147000165 L -1.566325271514421,55.133554475560516 L -1.567254382413079,55.13291528522083 L -1.567662074209091,55.13148433629805 L -1.56866161053067,55.130855267656045 L -1.567779208108962,55.131965539640326 L -1.567711420539317,55.13272187638999 L -1.566916607467051,55.13354759197361 L -1.564482503066745,55.13426047232913 L -1.56112028422679,55.1346294125348 L -1.554206043534222,55.13421977823294 L -1.548815721605093,55.13583448668547 L -1.545419283589503,55.13504913439326 L -1.543926425956159,55.136120037287085 L -1.538258085686611,55.1366199333592 L -1.533981393462911,55.13762804627883 L -1.534248125720853,55.13829131632876 L -1.536008017682824,55.13843555534963 L -1.537306255935705,55.13944688769725 L -1.539522332041616,55.13921442720517 L -1.538104290106228,55.139749146165585 L -1.5418143607101,55.1423555422417 L -1.543376575687743,55.14237307657173 L -1.546255027060714,55.14157153988775 L -1.548897101618271,55.14253293850387 L -1.549946594220965,55.14225015611768 L -1.54971937166713,55.14278660971995 L -1.552156558024782,55.142860347737304 L -1.552327706057407,55.14396888839859 L -1.553687855903622,55.14495691415582 L -1.559407868512413,55.14641098319427 L -1.558890397031688,55.14667061878622 L -1.558140405653419,55.146383943128 L -1.558143893615966,55.146923134078335 L -1.55628680146222,55.146438305921095 L -1.556001538069214,55.14599699607362 L -1.553488707589743,55.145229368501674 L -1.552373013881845,55.14454416682767 L -1.55191296620412,55.14303552688571 L -1.551207020814141,55.143595467833215 L -1.550147329841567,55.14365534820038 L -1.546390288687854,55.142373535352235 L -1.543786660516125,55.14315193710997 L -1.543427081458079,55.14372839986811 L -1.542710569573483,55.14327726969125 L -1.541489340320565,55.14333467221022 L -1.538969587845299,55.142118358428256 L -1.53704846496925,55.14071202155229 L -1.535296858938549,55.14011228410435 L -1.534574695950131,55.13934846326523 L -1.533236833656652,55.13905759444538 L -1.531858737073671,55.13912328372557 L -1.530154496619275,55.13984546267488 L -1.524282466829374,55.141330566085564 L -1.523008133773014,55.141233962480904 L -1.521908377728995,55.14058896719387 L -1.522556439780762,55.14175610422406 L -1.520034524701979,55.13881315096135 L -1.522255220726714,55.14188338705347 L -1.52159263310839,55.14206225461467 L -1.522546031515348,55.143420227001755 L -1.52194010416296,55.14357506336929 L -1.520884625820677,55.1422311483256 L -1.519272155173428,55.14260848566966 L -1.517412297398769,55.14019926928155 L -1.51820331054807,55.13964435006504 L -1.517375060887411,55.138599638571755 L -1.517737022851655,55.13850755322105 L -1.515608210426041,55.136181687628174 L -1.514007171488698,55.135761099344414 L -1.513253317934419,55.13518657381965 L -1.511368703031682,55.13512873458737 L -1.509469972985255,55.13403826307451 L -1.507609281421225,55.1335752225783 L -1.504643065303249,55.13092848613173 L -1.503930586634234,55.13070639748249 L -1.504131750635195,55.13055350989079 L -1.501833659908773,55.12995825354179 L -1.498503778207985,55.12847635969897 L -1.492707365690348,55.122176595990844 L -1.486701447614867,55.11645878230174 L -1.492409270564439,55.122071956710656 L -1.497339185737309,55.12755588920765 L -1.498668592854161,55.129595736431604 L -1.506997192364693,55.134615988116074 L -1.516166088261038,55.14349481388611 L -1.521143885668647,55.149677014693566 L -1.52471764949151,55.15805589255135 L -1.524146851433489,55.15840509594759 L -1.524934832505455,55.1605143927251 L -1.526988290042903,55.16060142029959 L -1.52945181055633,55.161726129475504 L -1.530398461655547,55.1614395237342 L -1.534159617482304,55.1615329877644 L -1.536811329490334,55.161068669995636 L -1.539758868498432,55.16120648389733 L -1.540074997698606,55.16155721606555 L -1.540209344233877,55.16202862602076 L -1.538221735641835,55.16233832367041 L -1.531805022707568,55.163297823363806 L -1.527258090825166,55.16300082916457 L -1.527201181284634,55.162636695063256 L -1.529265640935671,55.16220529987671 L -1.528518209148479,55.16182673374018 L -1.527214901452295,55.161881072594646 L -1.525077662783344,55.162632045491875 L -1.524160720081775,55.165158892619445 L -1.521283544450364,55.16882109526679 L -1.521045730739614,55.170196762139554 L -1.516961652736395,55.17221152020939 L -1.51511046708373,55.17365174418117 L -1.51511206514871,55.17416038434048 L -1.513955699287873,55.17423303882443 L -1.514762370224961,55.17464418094547 L -1.514542706943889,55.174898522521225 L -1.513223034920127,55.174825890027236 L -1.513192736229064,55.17512410415591 L -1.514631591954623,55.17572381162711 L -1.514003969355743,55.17762091981477 L -1.514559445880281,55.17816859640776 L -1.514724274710894,55.17934004398261 L -1.512827208997926,55.181547492539714 L -1.511714795645849,55.18365384653244 L -1.508157248026789,55.185224655670275 L -1.505908309175573,55.18509968314249 L -1.504684191603048,55.18439564143044 L -1.503996529300922,55.1848942036613 L -1.50363869347209,55.18449290348338 L -1.502463139940792,55.18443780864097 L -1.501531704938071,55.18533529778246 L -1.500180442241806,55.18513384065575 L -1.499023814911041,55.18543820859859 L -1.499762799151714,55.186131337167865 L -1.500285105925287,55.18605262969027 L -1.501260360616117,55.186690122545514 L -1.501999852011298,55.18783617511893 L -1.503539064835664,55.1889701173833 L -1.503825881035085,55.19041175134729 L -1.505110435386363,55.19259693639276 L -1.504776708124224,55.19417349014905 L -1.503210141529986,55.19623201118558 L -1.501854590945167,55.19609442945848 L -1.501736955633545,55.19633568829324 L -1.503908087887484,55.19809312614416 L -1.503824593966535,55.197734265006986 L -1.504325169394271,55.197654552402675 L -1.504460566597207,55.198006437188226 L -1.506257290194854,55.19842255017707 L -1.506211555175447,55.19818242217805 L -1.507110744373412,55.19864438373782 L -1.507917106961411,55.198357390911966 L -1.510521847370885,55.19912623509599 L -1.514865562557568,55.202764012702 L -1.517721486153583,55.20578921177338 L -1.518277970209098,55.20694512639028 L -1.524104486125103,55.21248889177678 L -1.527331538691904,55.21773559277757 L -1.527134403377516,55.21991478737184 L -1.528864669257338,55.22127839042257 L -1.529048893374745,55.22338261044175 L -1.528417164226737,55.225499940340875 L -1.527578313294228,55.22637282969984 L -1.525376000353028,55.22674796100856 L -1.525450772367258,55.227207473377376 L -1.526760330862167,55.22840130368665 L -1.528120140019384,55.22854230349211 L -1.52940843827348,55.22915292366493 L -1.533372175725556,55.23277318634581 L -1.536069581919082,55.2347289542291 L -1.537179579523433,55.235147378536695 L -1.540129052209345,55.23750465357405 L -1.544538333595635,55.23890143452594 L -1.551175653467848,55.244130489937284 L -1.554367537046278,55.247300652903256 L -1.561675146235347,55.256049546920416 L -1.561827655483331,55.257492338401164 L -1.563550808580258,55.25903866424067 L -1.566001016601783,55.262749430641634 L -1.570925918120567,55.275478035138455 L -1.571202869712669,55.27651413140226 L -1.572206463592736,55.27540346981908 L -1.573135749049121,55.27534823732162 L -1.572332252224297,55.275557521108475 L -1.572427228875049,55.27639355314925 L -1.57143549900306,55.27785918105719 L -1.571249030196785,55.2859681216788 L -1.570810265171766,55.28956808791497 L -1.569957626902095,55.291834851154306 L -1.566044125074463,55.29678472406107 L -1.561205047662064,55.30144719453928 L -1.558980518957298,55.30590683701973 L -1.557861226609925,55.307262293780944 L -1.555523045326956,55.30899707276743 L -1.549779358442395,55.3113634846621 L -1.549617471405195,55.312434029166745 L -1.550671935104303,55.31602853193288 L -1.549394229297526,55.3217234021931 L -1.551199870607551,55.3235658272652 L -1.554083748631366,55.325541606219396 L -1.560406263202029,55.32857374261425 L -1.563183283586721,55.331314460356936 L -1.563753136142503,55.33238395302304 L -1.566013410956316,55.33283145357989 L -1.567847228292654,55.33450745496309 L -1.570214970173308,55.335382038737855 L -1.570752823936504,55.336525046632694 L -1.570310079815851,55.33693778981588 L -1.571756528784588,55.33715217023403 L -1.571948361687652,55.337637208785154 L -1.572087626549544,55.338623407101096 L -1.570757812011374,55.338990732648654 L -1.572140718551971,55.33881142847878 L -1.572062858412793,55.33725214684922 L -1.573689484441089,55.3362531646139 L -1.575397588098187,55.3364783854209 L -1.576185843535162,55.33691158909561 L -1.575850688309033,55.337295889737305 L -1.579691237653519,55.33622543695192 L -1.579900644005582,55.335805659329786 L -1.580198199998943,55.33629464210796 L -1.581693711187242,55.33649380243333 L -1.582699958774544,55.33613872674564 L -1.583206477528629,55.33549349367374 L -1.583957164952894,55.33561013589031 L -1.586796431103217,55.33605292550783 L -1.586888121333596,55.33678643324676 L -1.584812328495139,55.3369006769181 L -1.584739177382564,55.33710982361163 L -1.585803390402732,55.33725365767686 L -1.587051881392208,55.33696314435309 L -1.592891192642048,55.33849133528133 L -1.599338318162606,55.34170619149558 L -1.608984864964613,55.34436746440386 L -1.609373633960013,55.34507675121031 L -1.608046978090002,55.34769726596282 L -1.608619512048986,55.348654265927394 L -1.610218539942515,55.34945724555138 L -1.612161689550796,55.349578494641186 L -1.613407851541019,55.34921305539223 L -1.613792293752818,55.348599649677176 L -1.613146224885036,55.345310710027384 L -1.614843641786971,55.34424501606157 L -1.61639447542713,55.34400007030664 L -1.617989530477396,55.34406255318159 L -1.619600738736135,55.34473429607759 L -1.620871339183272,55.34642031717432 L -1.622635581007646,55.347613691284636 L -1.624814575024471,55.34814338646393 L -1.626667199328032,55.34816881747375 L -1.627122708655595,55.34868960685329 L -1.622673876367905,55.3478941706161 L -1.621094555379795,55.34699520528387 L -1.61944500761936,55.34486855740786 L -1.617406048286022,55.34422781396669 L -1.616479021383164,55.34422491134202 L -1.614504468914519,55.344754275612885 L -1.613460371609226,55.345600148743024 L -1.614693937276121,55.348468645635286 L -1.614130117746488,55.34921264085134 L -1.612595967030635,55.349844869984686 L -1.610048486311154,55.349906934314596 L -1.607984391156479,55.34908800079281 L -1.607463974980907,55.34829196104075 L -1.607975425207422,55.34456105318765 L -1.60608249194787,55.34433120449624 L -1.602695912722653,55.3431961131636 L -1.604311504998423,55.34403794188651 L -1.603341411382939,55.34392161374563 L -1.592438185852941,55.339622052501056 L -1.591744732111124,55.34051831653848 L -1.594093232705025,55.34243557125377 L -1.594761449562174,55.34247102457745 L -1.595388492347908,55.3429763304795 L -1.596548607308105,55.346425253876355 L -1.595759382108498,55.34635428752787 L -1.594931960208597,55.34352287639814 L -1.594455114078798,55.34328055081281 L -1.591720228690591,55.34137369171179 L -1.588722226923057,55.34130516915909 L -1.586809354098648,55.34057989773683 L -1.585649142464276,55.33965943080036 L -1.582467598633516,55.33845170259388 L -1.582005227031215,55.33759924626052 L -1.581330769901562,55.33786921481662 L -1.581332961352113,55.33885942611588 L -1.580811133542672,55.33930957576184 L -1.570517469732218,55.33978515841245 L -1.576742962530249,55.339817653159905 L -1.581840411409456,55.33947937754245 L -1.588597812078154,55.34525397240214 L -1.596238259443337,55.35400987292046 L -1.601453093540516,55.361483255104 L -1.601650735651598,55.363175852481184 L -1.600407501116472,55.36335064769555 L -1.600291546595747,55.36421102223646 L -1.601722527320808,55.364202217211755 L -1.602552025462026,55.36501725017037 L -1.60380820683816,55.36734585933004 L -1.606059579639374,55.373873980057404 L -1.608486519425694,55.38394649303153 L -1.610628065647501,55.3846173511033 L -1.613788808882392,55.38436318529827 L -1.614478056628454,55.38230592076526 L -1.614217094988154,55.381869243153474 L -1.613679115200698,55.381845985948324 L -1.61387957081561,55.38119696886566 L -1.613006268948619,55.38027857242107 L -1.613167504951832,55.3799295538026 L -1.613505458933379,55.38007354120351 L -1.613221322457558,55.37958738196731 L -1.613605007302785,55.37956434078896 L -1.613907449064757,55.38010894606085 L -1.614644641316727,55.37992882698067 L -1.617775532694463,55.383237297781065 L -1.617669463135547,55.38359008713741 L -1.616018087712976,55.384302833829686 L -1.619703609442219,55.38658946895469 L -1.61977828136863,55.386048835145395 L -1.619230829964406,55.38552773703825 L -1.618778926573559,55.385574837641194 L -1.618814506143874,55.38516254011483 L -1.618543117328299,55.38499182602289 L -1.618218464393542,55.385258595614964 L -1.61778426523345,55.38495352460962 L -1.618378518667175,55.38486734714381 L -1.618058099311032,55.383881542293 L -1.61899211613984,55.38425643954598 L -1.620530237899725,55.386484239128144 L -1.622339040658808,55.38765169476939 L -1.623470650975693,55.38949184346993 L -1.621407059246935,55.39053316061102 L -1.62359076665449,55.39181404537989 L -1.619393167460157,55.389664277012436 L -1.619676997597378,55.3893686309659 L -1.61887174532501,55.389721941478626 L -1.618855485530124,55.39076517440747 L -1.617828760248478,55.39050047530439 L -1.61781170833404,55.3909604407415 L -1.6184354245564,55.391271492960485 L -1.618985524931007,55.39118427551781 L -1.619638842711428,55.394023068423614 L -1.618589812417383,55.39524724958144 L -1.616215020092975,55.39560640560781 L -1.614206029957053,55.39504653643843 L -1.615660735002419,55.39562083081331 L -1.614887808014082,55.3957244835868 L -1.614078837574238,55.39546402501297 L -1.613997092397703,55.39510166027995 L -1.612179332213448,55.39516057642575 L -1.61086140307202,55.394477087035256 L -1.609823996754321,55.39481791488263 L -1.609652889967469,55.395513728839546 L -1.611674921673941,55.39750596201807 L -1.618255777903271,55.39946851887587 L -1.619681081189656,55.39934090680841 L -1.622773402248793,55.39793340098273 L -1.625410659854287,55.397702553922734 L -1.62222229351862,55.3982687455638 L -1.619665740231571,55.39962481329941 L -1.618406629183153,55.39970263876263 L -1.612134663893715,55.397951365587666 L -1.610359648927554,55.397021985682564 L -1.608811892245882,55.39531062599455 L -1.610025011977417,55.39428388928531 L -1.611320625098728,55.394172139977385 L -1.612489329164082,55.394780591032784 L -1.613419730271564,55.39487965990052 L -1.613853980190943,55.393900716171146 L -1.614829071963745,55.393630621590944 L -1.61402174512282,55.39386261927363 L -1.613876032203428,55.39471303117755 L -1.614959477692129,55.394681419344124 L -1.616506761595963,55.39515808015465 L -1.618513755711991,55.394789593833316 L -1.618793721755458,55.393420189021434 L -1.617314305233614,55.39211715322001 L -1.616853966529024,55.39107341197301 L -1.617363987816574,55.38925631606298 L -1.618691781480941,55.38857937454234 L -1.620468274866227,55.38866484590676 L -1.621273544839077,55.38830613612807 L -1.619247690116459,55.38755668598365 L -1.617603674543369,55.38830190568437 L -1.616228287409235,55.38803071113203 L -1.61481647759832,55.38695433286881 L -1.614591112887428,55.385782781622964 L -1.612467808238667,55.38516325172479 L -1.611421323832508,55.385168014877706 L -1.609675476678892,55.38566298545033 L -1.606631087411116,55.38770367818259 L -1.603286488295354,55.3910112586886 L -1.596681759768857,55.39471851470409 L -1.594039473044712,55.39852326717652 L -1.593996009889777,55.4006220675401 L -1.592598657911864,55.40276944519446 L -1.587797258661708,55.40590721930744 L -1.585077453280769,55.406398530297615 L -1.582787374821044,55.40596385961238 L -1.580352033372815,55.40673639862944 L -1.578846152537343,55.408897620169654 L -1.578784559625658,55.40994059097296 L -1.580001643004145,55.41313460852957 L -1.581727305212593,55.41574278394353 L -1.581828656967873,55.418125122294086 L -1.580138029314273,55.420835655970976 L -1.580337844860757,55.42450423038653 L -1.577845782639574,55.42752008796317 L -1.577566314031275,55.42883098056736 L -1.575357469355008,55.43088013097135 L -1.5758208399288,55.43203100913589 L -1.576810122073891,55.432765824962075 L -1.578141224344696,55.432274394540094 L -1.578638351443349,55.43233009641153 L -1.578346465336288,55.43288432110889 L -1.578994211946152,55.43244989775439 L -1.580864002831457,55.43257759511292 L -1.582040358573314,55.43296707966688 L -1.582107958368797,55.433439091072906 L -1.584337441772474,55.433329020779254 L -1.58731612661366,55.43425743987488 L -1.587891402865056,55.43592435362653 L -1.591156838961388,55.437416152811025 L -1.591470930668313,55.43791763783218 L -1.591094895866735,55.43883559381034 L -1.593345408493148,55.440235000563334 L -1.591826150559708,55.44225969480965 L -1.590359801900252,55.44251717446949 L -1.589432219107313,55.44386813334947 L -1.589501509753104,55.444652837503696 L -1.588452556811838,55.44581015928593 L -1.587328509542851,55.44581175589943 L -1.587695735896907,55.44638178955862 L -1.587069954679392,55.44680923451278 L -1.586330281573531,55.44664584866578 L -1.586626052376871,55.44784282479119 L -1.587147183825046,55.44759118194521 L -1.587512427332228,55.44803985058673 L -1.586660642317525,55.44861295065701 L -1.5864123578041,55.44938490344454 L -1.587620256918798,55.449527323360996 L -1.587151056708805,55.45040991826418 L -1.588159690850192,55.451328943396334 L -1.588422512261501,55.45265695361142 L -1.589941001416156,55.4536594241859 L -1.59230557819122,55.45450390970306 L -1.592202424286346,55.455305103193155 L -1.591806160769412,55.455400794041914 L -1.59304489687449,55.45702857282975 L -1.593144563513028,55.45810172294597 L -1.591525218180698,55.45995270862335 L -1.590931741355985,55.46000021786277 L -1.591359906544593,55.460343087575744 L -1.590960218154253,55.46138402624473 L -1.589138731274532,55.4613545590109 L -1.588607281111892,55.46196827231827 L -1.589364103776928,55.46431686062475 L -1.590493341975575,55.46538996452561 L -1.59010361619985,55.46559975388291 L -1.590331140642257,55.467619583052006 L -1.591357411027855,55.46748549329754 L -1.591190268341735,55.46789832258254 L -1.591782595638689,55.46797396250514 L -1.591334963159957,55.468283360982554 L -1.592054687602992,55.470120593120974 L -1.591235127130629,55.471208635976375 L -1.591812183284931,55.47308671222408 L -1.591907342342073,55.472598276327666 L -1.592594463443796,55.47254388783625 L -1.5933675837159,55.47304339094913 L -1.592946431842158,55.47338612014498 L -1.592105825505369,55.47329708157666 L -1.592774254899129,55.47351409020404 L -1.592278874200254,55.47692230715412 L -1.592772145775007,55.47695278607018 L -1.592149889040619,55.47731280738847 L -1.59205877339558,55.47939525247652 L -1.592575178653928,55.48117341204983 L -1.593916302351907,55.482935447269625 L -1.593930741281119,55.48414754172927 L -1.593065819958864,55.48515738276889 L -1.591968901710918,55.485506838026815 L -1.591565129191586,55.485226035125585 L -1.591907969559703,55.4857347977246 L -1.591760414678707,55.489452454175 L -1.59292839427421,55.48975287117527 L -1.592271144880022,55.489956475422254 L -1.59200227473331,55.49131772530648 L -1.591133309714917,55.49240838421068 L -1.59238494659014,55.49227234360696 L -1.593954938370422,55.491351176050344 L -1.595489241362068,55.49127182517059 L -1.598714186825318,55.49225465916925 L -1.599565093967434,55.49309491249711 L -1.60206349878701,55.494421205366024 L -1.60668143832848,55.49430683611718 L -1.609771478816131,55.49506520815091 L -1.61134812694657,55.49584294067892 L -1.614274460569592,55.498154332778235 L -1.616026272835698,55.500485227221496 L -1.616643156785268,55.502823400241155 L -1.617087258170776,55.503061042085655 L -1.61634414529874,55.50459700099555 L -1.613918581869848,55.50752580361247 L -1.613616947591897,55.50939110134442 L -1.614140091053013,55.51013670792197 L -1.617871856545796,55.512788304054034 L -1.618702523813682,55.51450354757147 L -1.614134432498131,55.51818126255139 L -1.613592286181321,55.518233442565005 L -1.61095805115367,55.52005987967294 L -1.610593315987502,55.52171827306973 L -1.615060781737239,55.521771978068735 L -1.616245628764409,55.52225556847857 L -1.61719425596725,55.52193059111199 L -1.619033442550711,55.52255992074139 L -1.620268934539238,55.52453779757592 L -1.618489675883091,55.52638594079616 L -1.623760458659889,55.526661030120884 L -1.626207943318232,55.52781947076527 L -1.633136032674963,55.53388292836613 L -1.637174007392434,55.54086114206418 L -1.637517536278147,55.54107144177699 L -1.638113276364477,55.54090700373046 L -1.636262262544251,55.541785744752275 L -1.634895039156063,55.54705953792608 L -1.634030810212038,55.54864643921659 L -1.632381734410039,55.55026162551091 L -1.630908659975,55.550999360663454 L -1.627595518305086,55.55154289130195 L -1.626086807704921,55.55117083895142 L -1.625618979757058,55.550697649852886 L -1.62648577378525,55.550386699604935 L -1.625592113792178,55.55034715503428 L -1.625714724099979,55.55012377118313 L -1.626404441314846,55.55026698374103 L -1.627185775338085,55.549939600581354 L -1.626468758917184,55.55016827973886 L -1.625676490223711,55.549979932067856 L -1.619747116554484,55.551608726891345 L -1.618825346681976,55.552177353453025 L -1.622780340959974,55.55149948691223 L -1.623469209222305,55.55224014888701 L -1.625085553020562,55.5529503972831 L -1.625424021638814,55.553698154151796 L -1.625067107102403,55.553888398136564 L -1.626561811284838,55.553567677761656 L -1.628139476599078,55.55437217337346 L -1.628180752881621,55.556387637151005 L -1.62651982200326,55.55767557333974 L -1.630123468559807,55.557656797036074 L -1.632002869022552,55.559281533510536 L -1.633272362554444,55.559665458475266 L -1.634568973872073,55.56157145628856 L -1.634872623320977,55.563030585376545 L -1.635510648680857,55.56313764842534 L -1.638051606140082,55.56511370629302 L -1.640206714066856,55.566144256192665 L -1.642125305476373,55.5686009642424 L -1.644637035802373,55.57090744601341 L -1.645663954576937,55.57417652687639 L -1.647622411816491,55.572424578455134 L -1.650067641144277,55.57245664810366 L -1.652000590206947,55.57176846593174 L -1.652163706045505,55.57125584635881 L -1.652275348690518,55.57171804648763 L -1.651500461126739,55.5721982987159 L -1.650093837474979,55.57254025929802 L -1.647693594442378,55.572624282516735 L -1.643861037152606,55.57623699142421 L -1.641367642015954,55.57624148715091 L -1.639659629023733,55.57673884243222 L -1.640161331069907,55.57755169106417 L -1.639272200642859,55.57781948393189 L -1.639428650237459,55.57823062033214 L -1.643875636142369,55.57935846537925 L -1.646016931811,55.58131793386433 L -1.645281177676899,55.5821676462708 L -1.647056969392225,55.58174415256638 L -1.648917208884195,55.58215912107709 L -1.650597692958775,55.581918550528805 L -1.651542760520565,55.58250165799074 L -1.650697989409815,55.582763460157295 L -1.651778678434185,55.582549035128594 L -1.652866873520878,55.58289983904486 L -1.65148241934686,55.5832175759134 L -1.650162210777428,55.582900281496876 L -1.651245572785867,55.583273590557056 L -1.649043985839907,55.58359623579223 L -1.649014996193141,55.58382610669846 L -1.652979595084331,55.583065526637164 L -1.654715391213852,55.58320247772703 L -1.661056683271873,55.58530297257797 L -1.664831657744477,55.58610948272108 L -1.66637218334667,55.58722599216432 L -1.667937001877375,55.58922848913252 L -1.673644300897268,55.59393409238441 L -1.677037613420459,55.595174083501895 L -1.679771925129136,55.59805379971216 L -1.682909171291174,55.59923277164389 L -1.6853709434426,55.60075314269262 L -1.687827281807397,55.601394696648285 L -1.692019225695195,55.606158431050865 L -1.703154888139382,55.60948629503087 L -1.716498046513463,55.61229174727978 L -1.719230889995995,55.61327743021675 L -1.719926592682485,55.61409841059717 L -1.722576486890096,55.61562924229151 L -1.722367235243347,55.61625412442256 L -1.723254912872684,55.616223806036935 L -1.723667376674158,55.61650149134843 L -1.722448600689199,55.61665142350503 L -1.722714393286466,55.61678954939388 L -1.725441368139824,55.616618679365985 L -1.72685970209063,55.617211293462326 L -1.727319698893442,55.61703806381526 L -1.727457510868909,55.61732500182857 L -1.7287063408469,55.616954837649615 L -1.729590722004703,55.61738724149161 L -1.73360301580147,55.61663230181165 L -1.734391981619546,55.61734210987993 L -1.736564387371045,55.617495932353556 L -1.739188304960159,55.61827873576539 L -1.74233790208061,55.61856218298921 L -1.744999570561908,55.61647523161122 L -1.748170596517685,55.615622832423234 L -1.74956930070011,55.61486382103623 L -1.748589104728683,55.61446819192173 L -1.748995907516258,55.61391373427983 L -1.755498594026059,55.61258188283295 L -1.758321836768243,55.611400543072904 L -1.759090491120645,55.61031221249181 L -1.758418928068603,55.608782516712445 L -1.759284821828233,55.6078776180554 L -1.764147705658772,55.60451225614663 L -1.764944350811264,55.6042532934506 L -1.76813295232846,55.60423241986541 L -1.768315954799091,55.602801398787015 L -1.768639697357787,55.60308864143909 L -1.769087930231005,55.60296812948742 L -1.769443720956672,55.603459423542795 L -1.769757629524503,55.60323895125497 L -1.770789434904902,55.60348439624445 L -1.769100653854752,55.60485601290855 L -1.769911346349445,55.60626275966893 L -1.770947424638028,55.60686670319006 L -1.772104623154136,55.60877368899461 L -1.77332881887609,55.609250318159205 L -1.775502145533285,55.6111511444478 L -1.775038291766868,55.61204423674781 L -1.777315027903615,55.612530922181655 L -1.778459194410393,55.614001180514265 L -1.778369989850265,55.61461650164737 L -1.778944640710443,55.61491395830388 L -1.782934374392662,55.61544672169423 L -1.784509385497732,55.61600748455353 L -1.785968393993336,55.61571621498207 L -1.786331900006793,55.61600437685768 L -1.785342564671032,55.61636473907845 L -1.785712144790323,55.61700332173453 L -1.781917784333463,55.61670552826585 L -1.777312112629471,55.61697133166577 L -1.776382458872005,55.61657881652052 L -1.771827767186807,55.61734941157153 L -1.770726791122443,55.618575629843306 L -1.765997202254758,55.62149678079014 L -1.764776744512268,55.62590967933843 L -1.769513059770676,55.63197098057653 L -1.774157536458885,55.635198028473866 L -1.775662267036559,55.63678304821929 L -1.777871079725036,55.63774397051252 L -1.778478771074873,55.63983501862233 L -1.782151088661191,55.64162695387363 L -1.783104704356723,55.64268165902811 L -1.783225250706835,55.643575897700295 L -1.783962691833732,55.644103662242635 L -1.787415749344001,55.644856396746185 L -1.789451708419425,55.646779091466 L -1.790106283627193,55.64678649757584 L -1.797034745220842,55.641657813885885 L -1.800079501994142,55.63774257802433 L -1.802170149294674,55.63611429037125 L -1.805531078978553,55.63453918046096 L -1.813186182461488,55.63370462099972 L -1.816542878348282,55.63460728935589 L -1.818868164915963,55.6363538726022 L -1.824129916705528,55.63757979565891 L -1.831796209896909,55.638615767681216 L -1.836286109827389,55.64148803626411 L -1.839016778508702,55.642346143422756 L -1.840487293363933,55.64246393274581 L -1.84148155948689,55.642935990206304 L -1.842697499321025,55.64399604807613 L -1.843285499385753,55.6441649009767 L -1.844947940657828,55.645001620318624 L -1.846711222251767,55.64670376776939 L -1.845978119647801,55.64647200138952 L -1.844783944281198,55.645098424355055 L -1.843149509008058,55.64417268214673 L -1.841049575485446,55.6456588339217 L -1.843534695343947,55.64801794811935 L -1.845279479193315,55.65081541681719 L -1.847091683099607,55.652275004658435 L -1.84925960631994,55.653397259816984 L -1.851308156084615,55.653370112538866 L -1.852805531261989,55.65368190021125 L -1.856285887044876,55.65540212357576 L -1.858166838766425,55.65690303747054 L -1.858521693258975,55.658109256186876 L -1.860284589219924,55.65936918068872 L -1.860885401380902,55.6616107246454 L -1.863586563935501,55.664220290408686 L -1.866180361838767,55.6657416296121 L -1.867572311040538,55.66542237175313 L -1.869226985352671,55.66594530604777 L -1.870025027676739,55.66591381468007 L -1.869334830717356,55.6660316520284 L -1.869710024461131,55.66648485723545 L -1.868024849422437,55.665588225517084 L -1.866184455839005,55.66592586455805 L -1.868134414123765,55.66798011475344 L -1.867952256739439,55.66874999113815 L -1.868686357452529,55.670731063139215 L -1.87162794065369,55.672595884664716 L -1.872551935980535,55.67350255199636 L -1.872548062166355,55.67417192510092 L -1.874076363417912,55.67556165919877 L -1.87290498277336,55.67641227001994 L -1.871840777249237,55.67654680163543 L -1.872529630042109,55.67742089079169 L -1.874604610303199,55.67796215575483 L -1.872886894842328,55.68000446095674 L -1.872580212091987,55.68141575000634 L -1.873246849651965,55.682783941322434 L -1.877135850043229,55.68411864990612 L -1.880366084592399,55.68458182863802 L -1.882034289412787,55.68459062570064 L -1.885627401974022,55.6839524850794 L -1.883811028839621,55.684524946928775 L -1.885470242794677,55.68491643435871 L -1.883250865939828,55.684649274599856 L -1.882864266042917,55.684702802513506 L -1.883011919733615,55.68531662921593 L -1.88265592802799,55.68469362068779 L -1.880722879620943,55.684928991141504 L -1.880211116084252,55.68530135873576 L -1.88203558461653,55.6889457176099 L -1.882985597534662,55.69302226589172 L -1.884093297854829,55.69445908160332 L -1.890176139385801,55.696873591865874 L -1.895582695847909,55.69841116364738 L -1.897434085613703,55.69922141571908 L -1.89976291490198,55.69936885067414 L -1.898641068820934,55.7000274288858 L -1.903748013735282,55.70336233049397 L -1.906279644786165,55.704014796069835 L -1.907943756054658,55.70410946877699 L -1.908302823673577,55.70366770765569 L -1.907241827418111,55.70285282842821 L -1.90845746699332,55.70356982333561 L -1.908547678063674,55.70443248013683 L -1.912009018877048,55.70495886053963 L -1.913386304845835,55.705977823808205 L -1.913828347460961,55.70685868796261 L -1.917286772429377,55.70809022383918 L -1.917430681533184,55.70853773831537 L -1.918721602673104,55.70913072294084 L -1.9186267790067,55.7103706048676 L -1.919635357251235,55.71130212389105 L -1.919215492390791,55.7119829022991 L -1.927743150390611,55.715188659465355 L -1.937807729583576,55.71980440615945 L -1.944120303531155,55.72358743369683 L -1.944324688776708,55.72431528717666 L -1.946653516772542,55.72568299880476 L -1.946482078904224,55.72645020699557 L -1.949784380041108,55.72751008755398 L -1.951752201771972,55.728863092187865 L -1.954769653285333,55.72997114190693 L -1.956594413917298,55.73143548806771 L -1.960772341840007,55.73326625201283 L -1.963221461362748,55.738279755125575 L -1.966160052785844,55.73977033263614 L -1.969984837041778,55.74080995841868 L -1.971664384930009,55.7417232402341 L -1.973947435906922,55.74555942622217 L -1.975952422665635,55.746129496735854 L -1.979278855133892,55.74841945112933 L -1.980412324392955,55.749769156470734 L -1.983271379161596,55.75096818941948 L -1.989642218129463,55.75666984817568 L -1.992375341127556,55.76120302572475 L -1.993968850664599,55.76170989812575 L -1.995812604548623,55.7609830217837 L -1.998485031941007,55.760691956016494 L -1.999860239497841,55.761050449529954 L -2.000299995412968,55.76081331229536 L -2.000969278985352,55.76151681089774 L -2.001171613461747,55.76101540876067 L -2.001710298667834,55.76094444019057 L -2.003741984406625,55.76176834907794 L -2.006585272718012,55.76370716881412 L -2.007286569322076,55.76469995480505 L -2.007785304855638,55.764394430616925 L -2.008808542901795,55.76458846901425 L -2.009497184445157,55.7656450175771 L -2.008018303836142,55.765930857375686 L -2.007458763034157,55.765039568625404 L -2.006995049128399,55.765034207831135 L -2.007774608040107,55.76624444975573 L -2.010498528624071,55.76746351476287 L -2.011039398838928,55.769505709242424 L -2.013421209229184,55.771258474957314 L -2.015036018567293,55.771701206458545 L -2.017767950112803,55.77146818942278 L -2.021417630143592,55.77065531926661 L -2.025374471407534,55.76933737545417 L -2.028400416487396,55.76823779850663 L -2.02940812226187,55.76883866271741 z\" /><path fill-rule=\"evenodd\" fill=\"#66cc99\" stroke=\"#555555\" stroke-width=\"0.04106928272611194\" opacity=\"0.6\" d=\"M -2.025506531280881,55.80258985256396 L -2.028304808617947,55.80299712112838 L -2.03117084769518,55.804230059492326 L -2.031648857153245,55.80545369585714 L -2.029620789633156,55.80727367911998 L -2.031944004113525,55.80967291177288 L -2.034391120441132,55.81106855294921 L -2.041733900749768,55.807810054954 L -2.042210576284788,55.8075124842896 L -2.041854510611989,55.80728175953835 L -2.045612747666175,55.80532252103811 L -2.052636559757131,55.8025110817997 L -2.05593764224666,55.80292379474348 L -2.060041557960446,55.802576836990205 L -2.06224170460304,55.80273292987642 L -2.064950477040131,55.80183570971915 L -2.067153970921593,55.80024688544232 L -2.067096730511457,55.79851376574964 L -2.072528391134523,55.79707484192421 L -2.076974117614631,55.79411701772234 L -2.079311420333995,55.79370674093243 L -2.08197192209257,55.79388733606012 L -2.084570994578107,55.792875682420174 L -2.086123094266291,55.79304526969097 L -2.088280868577826,55.79021347337134 L -2.088552142537092,55.786765743938055 L -2.088241871812452,55.78558900305863 L -2.086267763796772,55.784085403416924 L -2.085851543526084,55.78257260990713 L -2.086823761694602,55.778099231842475 L -2.086556965246293,55.774954681475926 L -2.087511911300111,55.77217943108619 L -2.087394099767514,55.77080125521953 L -2.085725654580556,55.76805929586625 L -2.085512282862568,55.76597220243503 L -2.08613240045727,55.76533114277155 L -2.085670998980929,55.76272494812449 L -2.081255303841861,55.76200199395779 L -2.073418202804811,55.761350670528884 L -2.070538376543273,55.760907021409345 L -2.066690657356692,55.76121556433362 L -2.054822748247591,55.75821054002452 L -2.045269976927238,55.75919029542585 L -2.049525430625375,55.76122639797737 L -2.053555148737983,55.76102340581444 L -2.058875179172374,55.76172455828329 L -2.062393907815051,55.76183958934635 L -2.064082548993251,55.762512578867195 L -2.065063713343666,55.7631904142228 L -2.064852134126241,55.763405296229216 L -2.062387867217363,55.762006755414305 L -2.058956957320338,55.76202282502401 L -2.053180920115135,55.7612805555901 L -2.049893870059654,55.76156138198483 L -2.044885093662181,55.759814894901965 L -2.044223846330266,55.759926518192515 L -2.044818407456273,55.760093374926626 L -2.040491106845372,55.76063939804428 L -2.03896676288235,55.76127692640203 L -2.038019615581204,55.76224220596559 L -2.036319462969095,55.76582239344639 L -2.036057107437675,55.77003369377989 L -2.038072681444315,55.769270296465265 L -2.038311266133672,55.7688020587476 L -2.03886783203081,55.76910557793664 L -2.038316115879784,55.76892430773277 L -2.03810458449122,55.769374481705974 L -2.034053194682147,55.77131102803319 L -2.027223852549155,55.77239997766381 L -2.022752080046142,55.77395889604014 L -2.016568938792945,55.7746499305511 L -2.014434367413014,55.77439860969915 L -2.00771295043416,55.77001006618158 L -2.004956889456465,55.76747824908674 L -2.004206118026508,55.76548364256716 L -2.002918391692245,55.76570375249338 L -2.001762964582856,55.76554119572969 L -1.998556243332935,55.76707675449463 L -1.997397604496577,55.76720249319518 L -1.997212753245386,55.766836815336994 L -1.997109159467228,55.767232130088765 L -1.992804261499348,55.767589557750945 L -1.991379845606121,55.765796127899364 L -1.984111333254442,55.76471268371595 L -1.991215706247773,55.76585809620016 L -1.991599679056967,55.76634955001898 L -1.99119483173625,55.766299221332424 L -1.991070015857862,55.768184265928284 L -1.993563570103059,55.77194823185952 L -1.993140796540521,55.77367427438851 L -1.997057149750488,55.77607155579726 L -1.997458707575308,55.77715340625863 L -1.996983559573131,55.778085143913984 L -1.996328261157559,55.77838972247042 L -1.99557110387526,55.777714940705934 L -1.996317068380657,55.778535237741316 L -1.994730556024952,55.77969068456271 L -1.998000481489498,55.780210042515456 L -1.998464348306621,55.78056233820227 L -1.999432114198592,55.78054976756333 L -2.001412318571449,55.782527322722224 L -1.999765226628637,55.782951396556676 L -1.999494048344888,55.784735843575575 L -2.000157417137246,55.78520211876806 L -1.999986736310831,55.7859281680932 L -2.001080586725771,55.78574931966403 L -2.000884423355335,55.78612397773424 L -2.002290796975768,55.78687874709494 L -2.004124651884422,55.787501353123226 L -2.004920346409266,55.78742038984887 L -2.006303118857089,55.78878340276582 L -2.006378131076068,55.78936743480496 L -2.008460919361733,55.79063238411682 L -2.009397158818066,55.79086675343829 L -2.010733555215161,55.7906268098471 L -2.012569253208692,55.791559271912405 L -2.01372229768198,55.791553755545884 L -2.012931451389633,55.791809842909906 L -2.013631559374703,55.79195806369193 L -2.01324098179154,55.79225282018695 L -2.013834230483123,55.79251602782277 L -2.013730739661162,55.79292842122286 L -2.013073636801192,55.792864720640445 L -2.013048205363152,55.79313428514565 L -2.013761022927375,55.793054171393436 L -2.016391308679101,55.794025107218175 L -2.016771481852672,55.79541418205868 L -2.01894433642624,55.79664121373417 L -2.020612106523859,55.798784767696766 L -2.024188508789062,55.8019405169615 L -2.025506531280881,55.80258985256396 z\" /><path fill-rule=\"evenodd\" fill=\"#66cc99\" stroke=\"#555555\" stroke-width=\"0.04106928272611194\" opacity=\"0.6\" d=\"M -1.80006597776759,55.68819019585551 L -1.801210124488003,55.6893115469866 L -1.805687129901609,55.6877931002602 L -1.807787963806698,55.68752683370613 L -1.813342635440502,55.68506266617002 L -1.816539435538858,55.68537386980119 L -1.820088011849141,55.684600053508035 L -1.826592522241431,55.68467227518023 L -1.833720317110895,55.68551507093679 L -1.838517238200213,55.68663925074829 L -1.840544869309541,55.687476554013074 L -1.842402202642583,55.68718333179216 L -1.848796823036498,55.68822560698209 L -1.851825402609827,55.68816093484829 L -1.853710790236912,55.68757474575445 L -1.854955435023303,55.68562997248203 L -1.854615741634383,55.6850456163202 L -1.853232840157792,55.68441411739843 L -1.85360217173242,55.683869137643356 L -1.852779088199616,55.68327602610107 L -1.852070166378019,55.68148710981505 L -1.850109449697421,55.68103102808452 L -1.847879535746918,55.67991589141442 L -1.844581218364742,55.679555070981486 L -1.842394885394036,55.678714845629216 L -1.840280215223792,55.679067107921895 L -1.83640248101127,55.681165364701904 L -1.834743301090158,55.682440824146724 L -1.831014486584276,55.68343048439384 L -1.82848068152086,55.68350332773893 L -1.8222977754579,55.68270381452362 L -1.818322989534591,55.682824750335136 L -1.815591161640969,55.68241000312513 L -1.809818303326841,55.68045864424978 L -1.806075082873563,55.67818137608583 L -1.80515145155867,55.67685732261444 L -1.804973706143179,55.67550651051498 L -1.806792726921167,55.673877703955476 L -1.806464552194385,55.67239731569497 L -1.806803205051516,55.67174733327266 L -1.802438922084694,55.66828382791314 L -1.800012437926359,55.667776793018454 L -1.794925247582043,55.66810893920008 L -1.795733171276807,55.668337632924874 L -1.794651432067754,55.66848583895213 L -1.796582450520833,55.66858067155962 L -1.796365419346327,55.66935936820255 L -1.794885066281557,55.6703075294069 L -1.793231773948696,55.67060217170452 L -1.788463616986449,55.668594814380135 L -1.782033592815275,55.66879834867129 L -1.781919707487324,55.66841719558983 L -1.780866826995434,55.667943556206204 L -1.778874449009552,55.667730689996084 L -1.778621089819591,55.66840590309385 L -1.780491164210428,55.671443571773914 L -1.780743435707201,55.6735222280576 L -1.781338195335759,55.674368815972564 L -1.780949140023195,55.67542384445685 L -1.781845633541365,55.676619583533835 L -1.781698661173187,55.6773075686738 L -1.78065075787131,55.67789783577616 L -1.779826645548755,55.68024333213993 L -1.780191392601153,55.68242917685005 L -1.779085682958126,55.6839240525012 L -1.779211337864845,55.68562611751227 L -1.781155775058937,55.68630077054395 L -1.782767728389581,55.68585611654137 L -1.784251883309301,55.68465299742897 L -1.786569203249798,55.68461841482467 L -1.789370712575078,55.685036532742764 L -1.791131836959787,55.68554085292328 L -1.791997082844273,55.686126366034586 L -1.792469877091524,55.688750883818294 L -1.793303880655988,55.688035208928376 L -1.795173370810733,55.68790988507545 L -1.797386171466958,55.68722350841844 L -1.80006597776759,55.68819019585551 z\" /><path fill-rule=\"evenodd\" fill=\"#66cc99\" stroke=\"#555555\" stroke-width=\"0.04106928272611194\" opacity=\"0.6\" d=\"M -1.784987885914749,55.64751080761412 L -1.784520610016611,55.64839233373636 L -1.78719912986167,55.65550866747243 L -1.788411556312063,55.657016665228355 L -1.791716057690009,55.65812023064672 L -1.793154838902379,55.65835000493311 L -1.795059791265641,55.6581447132899 L -1.7952825517409,55.65779378121348 L -1.794736703287031,55.657030979767704 L -1.793734885986492,55.6565413775407 L -1.791594515925409,55.656478484422784 L -1.789830640351936,55.65347175520154 L -1.789703204126625,55.65084345455022 L -1.790674645940274,55.64745953380803 L -1.786912817818291,55.647059554255755 L -1.784987885914749,55.64751080761412 z\" /><path fill-rule=\"evenodd\" fill=\"#66cc99\" stroke=\"#555555\" stroke-width=\"0.04106928272611194\" opacity=\"0.6\" d=\"M -1.53698886160786,55.33597406107982 L -1.537880864439635,55.336804147083875 L -1.538385366904211,55.33681054546955 L -1.539763830580493,55.33675097914624 L -1.540213738055425,55.33642021157861 L -1.540759397694465,55.33476354777701 L -1.540351038696784,55.33354714698554 L -1.537660271601123,55.33300241271632 L -1.536793159619282,55.333692797415445 L -1.537203233738402,55.335020606101985 L -1.536578330900125,55.33494188099593 L -1.53698886160786,55.33597406107982 z\" /><path fill-rule=\"evenodd\" fill=\"#66cc99\" stroke=\"#555555\" stroke-width=\"0.04106928272611194\" opacity=\"0.6\" d=\"M -1.655008192886068,55.61738344258584 L -1.655640705198822,55.61839604557272 L -1.656135077803172,55.617791906377676 L -1.655824274468085,55.61737944647217 L -1.656284757660844,55.61754700742047 L -1.658663869950876,55.61710253715163 L -1.65539726019069,55.61502059617753 L -1.653877979726522,55.615197764878786 L -1.652153908043159,55.61609320369169 L -1.654450937879274,55.616850007257035 L -1.65409358273993,55.61704212866794 L -1.655008192886068,55.61738344258584 z\" /><path fill-rule=\"evenodd\" fill=\"#66cc99\" stroke=\"#555555\" stroke-width=\"0.04106928272611194\" opacity=\"0.6\" d=\"M -1.627957868268824,55.63515868607602 L -1.627463717184462,55.63400703881013 L -1.626170801398021,55.63366978140004 L -1.625612671799961,55.633899038091045 L -1.625937495357338,55.6334849284755 L -1.623540603063471,55.6325045655615 L -1.622564408541548,55.63276666277368 L -1.620568771799632,55.63250266425526 L -1.619571730889826,55.6327925189098 L -1.61993835108891,55.6331521385335 L -1.621019303593696,55.63305665060909 L -1.621812457086496,55.633499318091246 L -1.623186201107553,55.63368047619585 L -1.62530626162828,55.634714015143594 L -1.626888026633187,55.63458037983343 L -1.627957868268824,55.63515868607602 z\" /><path fill-rule=\"evenodd\" fill=\"#66cc99\" stroke=\"#555555\" stroke-width=\"0.04106928272611194\" opacity=\"0.6\" d=\"M -1.624406112600447,55.63184680013959 L -1.625554777295323,55.63230938353479 L -1.626084879658521,55.63185727704716 L -1.624861542790756,55.63056151942227 L -1.625201902065864,55.62933876469342 L -1.624441796444324,55.62894913295954 L -1.623848446045188,55.62904712825599 L -1.624563456587013,55.62967466457447 L -1.624005544305375,55.62955790508578 L -1.623987144565679,55.6299891920702 L -1.623731994073897,55.62959839391698 L -1.623156950556199,55.629766504926216 L -1.622220544456456,55.63052734505555 L -1.622595920358249,55.63080703969671 L -1.621951949267163,55.63137294892706 L -1.622535596700841,55.63163441639775 L -1.623699889146215,55.63146091817096 L -1.624406112600447,55.63184680013959 z\" /><path fill-rule=\"evenodd\" fill=\"#66cc99\" stroke=\"#555555\" stroke-width=\"0.04106928272611194\" opacity=\"0.6\" d=\"M -1.905669948766558,55.7067476163647 L -1.904768548109491,55.707675982767995 L -1.917730136213533,55.71145087392843 L -1.914297040492501,55.7100747505782 L -1.906726852378009,55.707988275712694 L -1.906002232151569,55.707534916850555 L -1.906958133218182,55.707067564379194 L -1.906854080396144,55.7066855500894 L -1.904687181450609,55.70649975055395 L -1.905669948766558,55.7067476163647 z\" /><path fill-rule=\"evenodd\" fill=\"#66cc99\" stroke=\"#555555\" stroke-width=\"0.04106928272611194\" opacity=\"0.6\" d=\"M -1.648182520310807,55.61775420069809 L -1.648734240697422,55.61785008256829 L -1.649900184159752,55.617260338994264 L -1.649742318443432,55.616614755192444 L -1.648326179913028,55.61606803001703 L -1.645982750643537,55.616074843270646 L -1.645974066976438,55.61686555064669 L -1.646507510651726,55.61704133537374 L -1.647336439804481,55.61685146391907 L -1.648182520310807,55.61775420069809 z\" /><path fill-rule=\"evenodd\" fill=\"#66cc99\" stroke=\"#555555\" stroke-width=\"0.04106928272611194\" opacity=\"0.6\" d=\"M -1.628271793361054,55.63855612073943 L -1.628691354588037,55.64020348526465 L -1.630188581812768,55.64045420929127 L -1.630780388931521,55.64036795309838 L -1.630041014150006,55.63993797205229 L -1.630935468324401,55.6399253843283 L -1.631018774072199,55.6391915565378 L -1.629202863434159,55.638367501228785 L -1.628271793361054,55.63855612073943 z\" /><path fill-rule=\"evenodd\" fill=\"#66cc99\" stroke=\"#555555\" stroke-width=\"0.04106928272611194\" opacity=\"0.6\" d=\"M -1.150300603668187,54.632207480891196 L -1.149409441239089,54.63468248163017 L -1.149636319065544,54.635018375197824 L -1.150511764108394,54.63516197378291 L -1.150944462496954,54.635214420251735 L -1.151293778401118,54.63458420070296 L -1.150569873285968,54.633488178670426 L -1.151297868717565,54.632227048268476 L -1.150970418356955,54.631955138756965 L -1.150300603668187,54.632207480891196 z\" /><path fill-rule=\"evenodd\" fill=\"#66cc99\" stroke=\"#555555\" stroke-width=\"0.04106928272611194\" opacity=\"0.6\" d=\"M -2.072417084779252,55.76093107636498 L -2.07323233633357,55.76118236340105 L -2.073528453121889,55.761273633669205 L -2.073745361223471,55.76123479071462 L -2.074127368276889,55.76116638233043 L -2.071418995600648,55.76059203707981 L -2.064222356309933,55.7602770513522 L -2.067033043436549,55.761137230674024 L -2.070498404494475,55.76081632114862 L -2.072417084779252,55.76093107636498 z\" /><path fill-rule=\"evenodd\" fill=\"#66cc99\" stroke=\"#555555\" stroke-width=\"0.04106928272611194\" opacity=\"0.6\" d=\"M -1.61975255189999,55.6390288540355 L -1.619016950034434,55.63969148024066 L -1.619704801422578,55.63985888687941 L -1.619910200653715,55.64013987108346 L -1.62091198935931,55.6400405550932 L -1.622950857286907,55.63914198294227 L -1.622359577290371,55.63884814373799 L -1.61975255189999,55.6390288540355 z\" /><path fill-rule=\"evenodd\" fill=\"#66cc99\" stroke=\"#555555\" stroke-width=\"0.04106928272611194\" opacity=\"0.6\" d=\"M -1.607127541899037,55.644170919248886 L -1.607920232981326,55.644193211035784 L -1.607967674881384,55.64453209893274 L -1.608595077031056,55.64469677376376 L -1.609652039548442,55.644504222332756 L -1.609170537725589,55.644026522209735 L -1.610021597453643,55.643922241163914 L -1.60934504391519,55.643576865663455 L -1.610527692069482,55.64336135096799 L -1.609821197165788,55.643142628975276 L -1.608288754743451,55.64371731706928 L -1.606463432230594,55.64369711619335 L -1.607127541899037,55.644170919248886 z\" /><path fill-rule=\"evenodd\" fill=\"#66cc99\" stroke=\"#555555\" stroke-width=\"0.04106928272611194\" opacity=\"0.6\" d=\"M -1.641980432338469,55.61638772182886 L -1.643678976487636,55.61712316205234 L -1.644654860282296,55.617187041911315 L -1.645181364622161,55.61726130815109 L -1.644518162641428,55.61632135882124 L -1.642452912587439,55.61576372284502 L -1.641980432338469,55.61638772182886 z\" /><path fill-rule=\"evenodd\" fill=\"#66cc99\" stroke=\"#555555\" stroke-width=\"0.04106928272611194\" opacity=\"0.6\" d=\"M -1.626996028426146,55.63773905578457 L -1.627706477162574,55.63787154276106 L -1.628972833336725,55.63783403868695 L -1.629201667583595,55.63732162898662 L -1.628321606600458,55.63699730529563 L -1.626682622614023,55.6369564253004 L -1.626996028426146,55.63773905578457 z\" /><path fill-rule=\"evenodd\" fill=\"#66cc99\" stroke=\"#555555\" stroke-width=\"0.04106928272611194\" opacity=\"0.6\" d=\"M -2.107278033416668,55.75464015091204 L -2.10760643084268,55.755257957804474 L -2.108928772591492,55.75690574532738 L -2.108438031394254,55.7551739187416 L -2.107181560032008,55.754228005124695 L -2.107278033416668,55.75464015091204 z\" /><path fill-rule=\"evenodd\" fill=\"#66cc99\" stroke=\"#555555\" stroke-width=\"0.04106928272611194\" opacity=\"0.6\" d=\"M -1.649980817198521,55.62030660822732 L -1.651252530059863,55.62086901175942 L -1.651933646994912,55.62033008473811 L -1.651138680784983,55.62027574036632 L -1.650126036501063,55.61952704882948 L -1.649980817198521,55.62030660822732 z\" /><path fill-rule=\"evenodd\" fill=\"#66cc99\" stroke=\"#555555\" stroke-width=\"0.04106928272611194\" opacity=\"0.6\" d=\"M -2.075950371734652,55.761184130133316 L -2.077103021707468,55.76145477028871 L -2.079348091710747,55.761361717737245 L -2.075610278047288,55.76080878561384 L -2.075950371734652,55.761184130133316 z\" /><path fill-rule=\"evenodd\" fill=\"#66cc99\" stroke=\"#555555\" stroke-width=\"0.04106928272611194\" opacity=\"0.6\" d=\"M -1.222888423915259,54.625866656941334 L -1.223286395731252,54.62628077257028 L -1.224505700288248,54.62618346822429 L -1.22470223232235,54.62611015785485 L -1.22495592404941,54.62563634068854 L -1.222888423915259,54.625866656941334 z\" /><path fill-rule=\"evenodd\" fill=\"#66cc99\" stroke=\"#555555\" stroke-width=\"0.04106928272611194\" opacity=\"0.6\" d=\"M -1.607288751403393,55.64139947914106 L -1.609977102828673,55.64248092187312 L -1.608530773597553,55.64143757261746 L -1.607366454997323,55.64109512683729 L -1.607288751403393,55.64139947914106 z\" /><path fill-rule=\"evenodd\" fill=\"#66cc99\" stroke=\"#555555\" stroke-width=\"0.04106928272611194\" opacity=\"0.6\" d=\"M -1.67411040804473,55.62904826116248 L -1.674958867465696,55.629759525400125 L -1.675499559409666,55.629662054597766 L -1.675231649933719,55.62903326727063 L -1.673923241746968,55.628819599395136 L -1.67411040804473,55.62904826116248 z\" /><path fill-rule=\"evenodd\" fill=\"#66cc99\" stroke=\"#555555\" stroke-width=\"0.04106928272611194\" opacity=\"0.6\" d=\"M -1.449233096932522,55.072192818240545 L -1.450246174746972,55.072202786880865 L -1.450394250404192,55.0717991097287 L -1.449619394534408,55.071319305160365 L -1.449233096932522,55.072192818240545 z\" /><path fill-rule=\"evenodd\" fill=\"#66cc99\" stroke=\"#555555\" stroke-width=\"0.04106928272611194\" opacity=\"0.6\" d=\"M -1.610564607779307,55.64636077856624 L -1.611510234650997,55.646342212878274 L -1.612274203782761,55.64588183798446 L -1.610837827623715,55.64604895704372 L -1.610154792763399,55.64570536195764 L -1.610564607779307,55.64636077856624 z\" /><path fill-rule=\"evenodd\" fill=\"#66cc99\" stroke=\"#555555\" stroke-width=\"0.04106928272611194\" opacity=\"0.6\" d=\"M -1.647804545778437,55.58400511244956 L -1.645015318672811,55.58280213116597 L -1.645659719673918,55.58223789311883 L -1.644975241676816,55.58250280809569 L -1.644545642533491,55.58229228573059 L -1.644905278369948,55.58269043344409 L -1.644523804535258,55.58242247035261 L -1.644101676131528,55.582964882687016 L -1.644994631778815,55.58281913919881 L -1.647804545778437,55.58400511244956 z\" /><path fill-rule=\"evenodd\" fill=\"#66cc99\" stroke=\"#555555\" stroke-width=\"0.04106928272611194\" opacity=\"0.6\" d=\"M -2.11916535071323,55.7425975354017 L -2.119189505782095,55.74164600033686 L -2.118348887618108,55.74124161570186 L -2.11916535071323,55.7425975354017 z\" /><path fill-rule=\"evenodd\" fill=\"#66cc99\" stroke=\"#555555\" stroke-width=\"0.04106928272611194\" opacity=\"0.6\" d=\"M -1.624584984622079,55.636383066713805 L -1.624147510484386,55.636618071396086 L -1.624745560170014,55.636859821014376 L -1.625404821545972,55.636359508166954 L -1.624584984622079,55.636383066713805 z\" /><path fill-rule=\"evenodd\" fill=\"#66cc99\" stroke=\"#555555\" stroke-width=\"0.04106928272611194\" opacity=\"0.6\" d=\"M -1.610895138498373,55.64395465206483 L -1.611441496372328,55.64396985334517 L -1.611110561866143,55.64369663257057 L -1.609763453167444,55.64352250211482 L -1.610895138498373,55.64395465206483 z\" /><path fill-rule=\"evenodd\" fill=\"#66cc99\" stroke=\"#555555\" stroke-width=\"0.04106928272611194\" opacity=\"0.6\" d=\"M -1.612504608039113,55.64588436069981 L -1.613200543199503,55.64651641791955 L -1.613216675237447,55.645849774729285 L -1.612504608039113,55.64588436069981 z\" /><path fill-rule=\"evenodd\" fill=\"#66cc99\" stroke=\"#555555\" stroke-width=\"0.04106928272611194\" opacity=\"0.6\" d=\"M -1.449077873125266,55.07266473573349 L -1.449474184627678,55.072539861256075 L -1.448484164620659,55.071988108240696 L -1.449077873125266,55.07266473573349 z\" /></g></g></svg>",
      "text/plain": [
       "<shapely.geometry.multipolygon.MultiPolygon at 0x1a50944ffa0>"
      ]
     },
     "execution_count": 11,
     "metadata": {},
     "output_type": "execute_result"
    }
   ],
   "source": [
    "sf.loc[0].geometry"
   ]
  },
  {
   "cell_type": "code",
   "execution_count": 12,
   "metadata": {},
   "outputs": [],
   "source": [
    "sf['value'] = np.random.randint(1, 10, sf.shape[0])\n"
   ]
  },
  {
   "cell_type": "code",
   "execution_count": 13,
   "metadata": {},
   "outputs": [
    {
     "ename": "AttributeError",
     "evalue": "'DataFrame' object has no attribute 'Polygons'",
     "output_type": "error",
     "traceback": [
      "\u001b[1;31m---------------------------------------------------------------------------\u001b[0m",
      "\u001b[1;31mAttributeError\u001b[0m                            Traceback (most recent call last)",
      "\u001b[1;32mc:\\Users\\Nadeem\\code1161\\hn-dataproject\\Draft1 copy.ipynb Cell 27\u001b[0m in \u001b[0;36m<cell line: 1>\u001b[1;34m()\u001b[0m\n\u001b[1;32m----> <a href='vscode-notebook-cell:/c%3A/Users/Nadeem/code1161/hn-dataproject/Draft1%20copy.ipynb#X54sZmlsZQ%3D%3D?line=0'>1</a>\u001b[0m deps \u001b[39m=\u001b[39m gd\u001b[39m.\u001b[39;49mPolygons(sf, vdims\u001b[39m=\u001b[39m[\u001b[39m'\u001b[39m\u001b[39mrgn17nm\u001b[39m\u001b[39m'\u001b[39m,\u001b[39m'\u001b[39m\u001b[39mvalue\u001b[39m\u001b[39m'\u001b[39m])\n",
      "File \u001b[1;32mc:\\Users\\Nadeem\\AppData\\Local\\Programs\\Python\\Python310\\lib\\site-packages\\pandas\\core\\generic.py:5575\u001b[0m, in \u001b[0;36mNDFrame.__getattr__\u001b[1;34m(self, name)\u001b[0m\n\u001b[0;32m   5568\u001b[0m \u001b[39mif\u001b[39;00m (\n\u001b[0;32m   5569\u001b[0m     name \u001b[39mnot\u001b[39;00m \u001b[39min\u001b[39;00m \u001b[39mself\u001b[39m\u001b[39m.\u001b[39m_internal_names_set\n\u001b[0;32m   5570\u001b[0m     \u001b[39mand\u001b[39;00m name \u001b[39mnot\u001b[39;00m \u001b[39min\u001b[39;00m \u001b[39mself\u001b[39m\u001b[39m.\u001b[39m_metadata\n\u001b[0;32m   5571\u001b[0m     \u001b[39mand\u001b[39;00m name \u001b[39mnot\u001b[39;00m \u001b[39min\u001b[39;00m \u001b[39mself\u001b[39m\u001b[39m.\u001b[39m_accessors\n\u001b[0;32m   5572\u001b[0m     \u001b[39mand\u001b[39;00m \u001b[39mself\u001b[39m\u001b[39m.\u001b[39m_info_axis\u001b[39m.\u001b[39m_can_hold_identifiers_and_holds_name(name)\n\u001b[0;32m   5573\u001b[0m ):\n\u001b[0;32m   5574\u001b[0m     \u001b[39mreturn\u001b[39;00m \u001b[39mself\u001b[39m[name]\n\u001b[1;32m-> 5575\u001b[0m \u001b[39mreturn\u001b[39;00m \u001b[39mobject\u001b[39;49m\u001b[39m.\u001b[39;49m\u001b[39m__getattribute__\u001b[39;49m(\u001b[39mself\u001b[39;49m, name)\n",
      "\u001b[1;31mAttributeError\u001b[0m: 'DataFrame' object has no attribute 'Polygons'"
     ]
    }
   ],
   "source": [
    "deps = gd.Polygons(sf, vdims=['rgn17nm','value'])"
   ]
  },
  {
   "cell_type": "markdown",
   "metadata": {},
   "source": [
    "----\n"
   ]
  },
  {
   "cell_type": "markdown",
   "metadata": {},
   "source": [
    "Calendar Year"
   ]
  },
  {
   "cell_type": "code",
   "execution_count": 30,
   "metadata": {},
   "outputs": [
    {
     "data": {
      "text/plain": [
       "Calendar Year\n",
       "2005    29111\n",
       "2006    29157\n",
       "2007    29130\n",
       "2008    29134\n",
       "2009    28859\n",
       "2010    28857\n",
       "2011    28852\n",
       "2012    28857\n",
       "2013    28877\n",
       "2014    28891\n",
       "2015    28900\n",
       "2016    28908\n",
       "2017    28909\n",
       "2018    30419\n",
       "2019    30407\n",
       "2020    30175\n",
       "Name: CO2 emissions within the scope of influence of LAs (kt CO2e), dtype: int64"
      ]
     },
     "execution_count": 30,
     "metadata": {},
     "output_type": "execute_result"
    }
   ],
   "source": [
    "#Number of values for each year\n",
    "co2et = gd[gd['Calendar Year']<=2020]\n",
    "co2et.groupby('Calendar Year')['CO2 emissions within the scope of influence of LAs (kt CO2e)'].count()"
   ]
  },
  {
   "cell_type": "code",
   "execution_count": 31,
   "metadata": {},
   "outputs": [
    {
     "data": {
      "text/plain": [
       "Index(['Country', 'Country Code', 'Region', 'Region Code',\n",
       "       'Second Tier Authority', 'Local Authority', 'Local Authority Code',\n",
       "       'Calendar Year', 'LA GHG Sector', 'LA GHG Sub-sector', 'Greenhouse gas',\n",
       "       'Territorial emissions (kt CO2e)',\n",
       "       'CO2 emissions within the scope of influence of LAs (kt CO2e)',\n",
       "       'Mid-year Population (thousands)', 'Area (km2)'],\n",
       "      dtype='object')"
      ]
     },
     "execution_count": 31,
     "metadata": {},
     "output_type": "execute_result"
    }
   ],
   "source": [
    "gd.columns"
   ]
  },
  {
   "cell_type": "code",
   "execution_count": 23,
   "metadata": {},
   "outputs": [
    {
     "name": "stderr",
     "output_type": "stream",
     "text": [
      "C:\\Users\\Nadeem\\AppData\\Local\\Temp\\ipykernel_22264\\1579366090.py:3: UserWarning:\n",
      "\n",
      "Boolean Series key will be reindexed to match DataFrame index.\n",
      "\n"
     ]
    },
    {
     "data": {
      "application/vnd.plotly.v1+json": {
       "config": {
        "plotlyServerURL": "https://plot.ly"
       },
       "data": [
        {
         "fillpattern": {
          "shape": ""
         },
         "hovertemplate": "Calendar Year=%{x}<br>pct_change=%{y}<extra></extra>",
         "legendgroup": "",
         "line": {
          "color": "#636efa"
         },
         "marker": {
          "symbol": "circle"
         },
         "mode": "lines",
         "name": "",
         "orientation": "v",
         "showlegend": false,
         "stackgroup": "1",
         "type": "scatter",
         "x": [],
         "xaxis": "x",
         "y": [],
         "yaxis": "y"
        }
       ],
       "layout": {
        "legend": {
         "tracegroupgap": 0
        },
        "template": {
         "data": {
          "bar": [
           {
            "error_x": {
             "color": "#2a3f5f"
            },
            "error_y": {
             "color": "#2a3f5f"
            },
            "marker": {
             "line": {
              "color": "#E5ECF6",
              "width": 0.5
             },
             "pattern": {
              "fillmode": "overlay",
              "size": 10,
              "solidity": 0.2
             }
            },
            "type": "bar"
           }
          ],
          "barpolar": [
           {
            "marker": {
             "line": {
              "color": "#E5ECF6",
              "width": 0.5
             },
             "pattern": {
              "fillmode": "overlay",
              "size": 10,
              "solidity": 0.2
             }
            },
            "type": "barpolar"
           }
          ],
          "carpet": [
           {
            "aaxis": {
             "endlinecolor": "#2a3f5f",
             "gridcolor": "white",
             "linecolor": "white",
             "minorgridcolor": "white",
             "startlinecolor": "#2a3f5f"
            },
            "baxis": {
             "endlinecolor": "#2a3f5f",
             "gridcolor": "white",
             "linecolor": "white",
             "minorgridcolor": "white",
             "startlinecolor": "#2a3f5f"
            },
            "type": "carpet"
           }
          ],
          "choropleth": [
           {
            "colorbar": {
             "outlinewidth": 0,
             "ticks": ""
            },
            "type": "choropleth"
           }
          ],
          "contour": [
           {
            "colorbar": {
             "outlinewidth": 0,
             "ticks": ""
            },
            "colorscale": [
             [
              0,
              "#0d0887"
             ],
             [
              0.1111111111111111,
              "#46039f"
             ],
             [
              0.2222222222222222,
              "#7201a8"
             ],
             [
              0.3333333333333333,
              "#9c179e"
             ],
             [
              0.4444444444444444,
              "#bd3786"
             ],
             [
              0.5555555555555556,
              "#d8576b"
             ],
             [
              0.6666666666666666,
              "#ed7953"
             ],
             [
              0.7777777777777778,
              "#fb9f3a"
             ],
             [
              0.8888888888888888,
              "#fdca26"
             ],
             [
              1,
              "#f0f921"
             ]
            ],
            "type": "contour"
           }
          ],
          "contourcarpet": [
           {
            "colorbar": {
             "outlinewidth": 0,
             "ticks": ""
            },
            "type": "contourcarpet"
           }
          ],
          "heatmap": [
           {
            "colorbar": {
             "outlinewidth": 0,
             "ticks": ""
            },
            "colorscale": [
             [
              0,
              "#0d0887"
             ],
             [
              0.1111111111111111,
              "#46039f"
             ],
             [
              0.2222222222222222,
              "#7201a8"
             ],
             [
              0.3333333333333333,
              "#9c179e"
             ],
             [
              0.4444444444444444,
              "#bd3786"
             ],
             [
              0.5555555555555556,
              "#d8576b"
             ],
             [
              0.6666666666666666,
              "#ed7953"
             ],
             [
              0.7777777777777778,
              "#fb9f3a"
             ],
             [
              0.8888888888888888,
              "#fdca26"
             ],
             [
              1,
              "#f0f921"
             ]
            ],
            "type": "heatmap"
           }
          ],
          "heatmapgl": [
           {
            "colorbar": {
             "outlinewidth": 0,
             "ticks": ""
            },
            "colorscale": [
             [
              0,
              "#0d0887"
             ],
             [
              0.1111111111111111,
              "#46039f"
             ],
             [
              0.2222222222222222,
              "#7201a8"
             ],
             [
              0.3333333333333333,
              "#9c179e"
             ],
             [
              0.4444444444444444,
              "#bd3786"
             ],
             [
              0.5555555555555556,
              "#d8576b"
             ],
             [
              0.6666666666666666,
              "#ed7953"
             ],
             [
              0.7777777777777778,
              "#fb9f3a"
             ],
             [
              0.8888888888888888,
              "#fdca26"
             ],
             [
              1,
              "#f0f921"
             ]
            ],
            "type": "heatmapgl"
           }
          ],
          "histogram": [
           {
            "marker": {
             "pattern": {
              "fillmode": "overlay",
              "size": 10,
              "solidity": 0.2
             }
            },
            "type": "histogram"
           }
          ],
          "histogram2d": [
           {
            "colorbar": {
             "outlinewidth": 0,
             "ticks": ""
            },
            "colorscale": [
             [
              0,
              "#0d0887"
             ],
             [
              0.1111111111111111,
              "#46039f"
             ],
             [
              0.2222222222222222,
              "#7201a8"
             ],
             [
              0.3333333333333333,
              "#9c179e"
             ],
             [
              0.4444444444444444,
              "#bd3786"
             ],
             [
              0.5555555555555556,
              "#d8576b"
             ],
             [
              0.6666666666666666,
              "#ed7953"
             ],
             [
              0.7777777777777778,
              "#fb9f3a"
             ],
             [
              0.8888888888888888,
              "#fdca26"
             ],
             [
              1,
              "#f0f921"
             ]
            ],
            "type": "histogram2d"
           }
          ],
          "histogram2dcontour": [
           {
            "colorbar": {
             "outlinewidth": 0,
             "ticks": ""
            },
            "colorscale": [
             [
              0,
              "#0d0887"
             ],
             [
              0.1111111111111111,
              "#46039f"
             ],
             [
              0.2222222222222222,
              "#7201a8"
             ],
             [
              0.3333333333333333,
              "#9c179e"
             ],
             [
              0.4444444444444444,
              "#bd3786"
             ],
             [
              0.5555555555555556,
              "#d8576b"
             ],
             [
              0.6666666666666666,
              "#ed7953"
             ],
             [
              0.7777777777777778,
              "#fb9f3a"
             ],
             [
              0.8888888888888888,
              "#fdca26"
             ],
             [
              1,
              "#f0f921"
             ]
            ],
            "type": "histogram2dcontour"
           }
          ],
          "mesh3d": [
           {
            "colorbar": {
             "outlinewidth": 0,
             "ticks": ""
            },
            "type": "mesh3d"
           }
          ],
          "parcoords": [
           {
            "line": {
             "colorbar": {
              "outlinewidth": 0,
              "ticks": ""
             }
            },
            "type": "parcoords"
           }
          ],
          "pie": [
           {
            "automargin": true,
            "type": "pie"
           }
          ],
          "scatter": [
           {
            "fillpattern": {
             "fillmode": "overlay",
             "size": 10,
             "solidity": 0.2
            },
            "type": "scatter"
           }
          ],
          "scatter3d": [
           {
            "line": {
             "colorbar": {
              "outlinewidth": 0,
              "ticks": ""
             }
            },
            "marker": {
             "colorbar": {
              "outlinewidth": 0,
              "ticks": ""
             }
            },
            "type": "scatter3d"
           }
          ],
          "scattercarpet": [
           {
            "marker": {
             "colorbar": {
              "outlinewidth": 0,
              "ticks": ""
             }
            },
            "type": "scattercarpet"
           }
          ],
          "scattergeo": [
           {
            "marker": {
             "colorbar": {
              "outlinewidth": 0,
              "ticks": ""
             }
            },
            "type": "scattergeo"
           }
          ],
          "scattergl": [
           {
            "marker": {
             "colorbar": {
              "outlinewidth": 0,
              "ticks": ""
             }
            },
            "type": "scattergl"
           }
          ],
          "scattermapbox": [
           {
            "marker": {
             "colorbar": {
              "outlinewidth": 0,
              "ticks": ""
             }
            },
            "type": "scattermapbox"
           }
          ],
          "scatterpolar": [
           {
            "marker": {
             "colorbar": {
              "outlinewidth": 0,
              "ticks": ""
             }
            },
            "type": "scatterpolar"
           }
          ],
          "scatterpolargl": [
           {
            "marker": {
             "colorbar": {
              "outlinewidth": 0,
              "ticks": ""
             }
            },
            "type": "scatterpolargl"
           }
          ],
          "scatterternary": [
           {
            "marker": {
             "colorbar": {
              "outlinewidth": 0,
              "ticks": ""
             }
            },
            "type": "scatterternary"
           }
          ],
          "surface": [
           {
            "colorbar": {
             "outlinewidth": 0,
             "ticks": ""
            },
            "colorscale": [
             [
              0,
              "#0d0887"
             ],
             [
              0.1111111111111111,
              "#46039f"
             ],
             [
              0.2222222222222222,
              "#7201a8"
             ],
             [
              0.3333333333333333,
              "#9c179e"
             ],
             [
              0.4444444444444444,
              "#bd3786"
             ],
             [
              0.5555555555555556,
              "#d8576b"
             ],
             [
              0.6666666666666666,
              "#ed7953"
             ],
             [
              0.7777777777777778,
              "#fb9f3a"
             ],
             [
              0.8888888888888888,
              "#fdca26"
             ],
             [
              1,
              "#f0f921"
             ]
            ],
            "type": "surface"
           }
          ],
          "table": [
           {
            "cells": {
             "fill": {
              "color": "#EBF0F8"
             },
             "line": {
              "color": "white"
             }
            },
            "header": {
             "fill": {
              "color": "#C8D4E3"
             },
             "line": {
              "color": "white"
             }
            },
            "type": "table"
           }
          ]
         },
         "layout": {
          "annotationdefaults": {
           "arrowcolor": "#2a3f5f",
           "arrowhead": 0,
           "arrowwidth": 1
          },
          "autotypenumbers": "strict",
          "coloraxis": {
           "colorbar": {
            "outlinewidth": 0,
            "ticks": ""
           }
          },
          "colorscale": {
           "diverging": [
            [
             0,
             "#8e0152"
            ],
            [
             0.1,
             "#c51b7d"
            ],
            [
             0.2,
             "#de77ae"
            ],
            [
             0.3,
             "#f1b6da"
            ],
            [
             0.4,
             "#fde0ef"
            ],
            [
             0.5,
             "#f7f7f7"
            ],
            [
             0.6,
             "#e6f5d0"
            ],
            [
             0.7,
             "#b8e186"
            ],
            [
             0.8,
             "#7fbc41"
            ],
            [
             0.9,
             "#4d9221"
            ],
            [
             1,
             "#276419"
            ]
           ],
           "sequential": [
            [
             0,
             "#0d0887"
            ],
            [
             0.1111111111111111,
             "#46039f"
            ],
            [
             0.2222222222222222,
             "#7201a8"
            ],
            [
             0.3333333333333333,
             "#9c179e"
            ],
            [
             0.4444444444444444,
             "#bd3786"
            ],
            [
             0.5555555555555556,
             "#d8576b"
            ],
            [
             0.6666666666666666,
             "#ed7953"
            ],
            [
             0.7777777777777778,
             "#fb9f3a"
            ],
            [
             0.8888888888888888,
             "#fdca26"
            ],
            [
             1,
             "#f0f921"
            ]
           ],
           "sequentialminus": [
            [
             0,
             "#0d0887"
            ],
            [
             0.1111111111111111,
             "#46039f"
            ],
            [
             0.2222222222222222,
             "#7201a8"
            ],
            [
             0.3333333333333333,
             "#9c179e"
            ],
            [
             0.4444444444444444,
             "#bd3786"
            ],
            [
             0.5555555555555556,
             "#d8576b"
            ],
            [
             0.6666666666666666,
             "#ed7953"
            ],
            [
             0.7777777777777778,
             "#fb9f3a"
            ],
            [
             0.8888888888888888,
             "#fdca26"
            ],
            [
             1,
             "#f0f921"
            ]
           ]
          },
          "colorway": [
           "#636efa",
           "#EF553B",
           "#00cc96",
           "#ab63fa",
           "#FFA15A",
           "#19d3f3",
           "#FF6692",
           "#B6E880",
           "#FF97FF",
           "#FECB52"
          ],
          "font": {
           "color": "#2a3f5f"
          },
          "geo": {
           "bgcolor": "white",
           "lakecolor": "white",
           "landcolor": "#E5ECF6",
           "showlakes": true,
           "showland": true,
           "subunitcolor": "white"
          },
          "hoverlabel": {
           "align": "left"
          },
          "hovermode": "closest",
          "mapbox": {
           "style": "light"
          },
          "paper_bgcolor": "white",
          "plot_bgcolor": "#E5ECF6",
          "polar": {
           "angularaxis": {
            "gridcolor": "white",
            "linecolor": "white",
            "ticks": ""
           },
           "bgcolor": "#E5ECF6",
           "radialaxis": {
            "gridcolor": "white",
            "linecolor": "white",
            "ticks": ""
           }
          },
          "scene": {
           "xaxis": {
            "backgroundcolor": "#E5ECF6",
            "gridcolor": "white",
            "gridwidth": 2,
            "linecolor": "white",
            "showbackground": true,
            "ticks": "",
            "zerolinecolor": "white"
           },
           "yaxis": {
            "backgroundcolor": "#E5ECF6",
            "gridcolor": "white",
            "gridwidth": 2,
            "linecolor": "white",
            "showbackground": true,
            "ticks": "",
            "zerolinecolor": "white"
           },
           "zaxis": {
            "backgroundcolor": "#E5ECF6",
            "gridcolor": "white",
            "gridwidth": 2,
            "linecolor": "white",
            "showbackground": true,
            "ticks": "",
            "zerolinecolor": "white"
           }
          },
          "shapedefaults": {
           "line": {
            "color": "#2a3f5f"
           }
          },
          "ternary": {
           "aaxis": {
            "gridcolor": "white",
            "linecolor": "white",
            "ticks": ""
           },
           "baxis": {
            "gridcolor": "white",
            "linecolor": "white",
            "ticks": ""
           },
           "bgcolor": "#E5ECF6",
           "caxis": {
            "gridcolor": "white",
            "linecolor": "white",
            "ticks": ""
           }
          },
          "title": {
           "x": 0.05
          },
          "xaxis": {
           "automargin": true,
           "gridcolor": "white",
           "linecolor": "white",
           "ticks": "",
           "title": {
            "standoff": 15
           },
           "zerolinecolor": "white",
           "zerolinewidth": 2
          },
          "yaxis": {
           "automargin": true,
           "gridcolor": "white",
           "linecolor": "white",
           "ticks": "",
           "title": {
            "standoff": 15
           },
           "zerolinecolor": "white",
           "zerolinewidth": 2
          }
         }
        },
        "title": {
         "text": "CO2 Emission percentage rate increase/decrease each year"
        },
        "xaxis": {
         "anchor": "y",
         "domain": [
          0,
          1
         ],
         "title": {
          "text": "Calendar Year"
         }
        },
        "yaxis": {
         "anchor": "x",
         "domain": [
          0,
          1
         ],
         "title": {
          "text": "pct_change"
         }
        }
       }
      }
     },
     "metadata": {},
     "output_type": "display_data"
    },
    {
     "name": "stdout",
     "output_type": "stream",
     "text": [
      "The average yearly percentage change is nan%,\n",
      " and the overall percentage change from 1988 to 2019 is 0.0%\n"
     ]
    }
   ],
   "source": [
    "#INCREASE/DECREASE OF C02E\n",
    "# Specifying all countries == world, and e_type == all\n",
    "cd0 = gd[gd['Country']=='all'][gd['LA GHG Sector']=='all'][['Calendar Year', 'Territorial emissions (kt CO2e)']].reset_index(drop=True)\n",
    "\n",
    "# For yearlly percentage change\n",
    "temp_cd0 = cd0\n",
    "temp_cd0['pct_change'] = temp_cd0['Territorial emissions (kt CO2e)'].pct_change() * 100\n",
    "\n",
    "# For overall percentage change\n",
    "temp_cd02 = cd0\n",
    "\n",
    "keep = [2005, 2020]\n",
    "for year in temp_cd02['Calendar Year'].unique():\n",
    "    if year not in keep:\n",
    "        temp_cd02 = temp_cd02[temp_cd02['Calendar Year']!=year]\n",
    "        \n",
    "temp_cd02['pct_change'] = temp_cd02['Territorial emissions (kt CO2e)'].pct_change() * 100\n",
    "\n",
    "# Plotting figure\n",
    "fig = px.area(temp_cd0, x='Calendar Year', y='pct_change', title='CO2 Emission percentage rate increase/decrease each year')\n",
    "fig.show()\n",
    "\n",
    "print(f'The average yearly percentage change is {round(temp_cd0[\"pct_change\"].mean(), 2)}%,\\n and the overall percentage change from 1988 to 2019 is {round(temp_cd02[\"pct_change\"].sum(), 2)}%')"
   ]
  },
  {
   "cell_type": "code",
   "execution_count": 40,
   "metadata": {},
   "outputs": [
    {
     "data": {
      "application/vnd.plotly.v1+json": {
       "config": {
        "plotlyServerURL": "https://plot.ly"
       },
       "data": [
        {
         "alignmentgroup": "True",
         "hovertemplate": "Country=%{x}<br>Total_CO2=%{y}<extra></extra>",
         "legendgroup": "",
         "marker": {
          "color": "#636efa",
          "pattern": {
           "shape": ""
          }
         },
         "name": "",
         "offsetgroup": "",
         "orientation": "v",
         "showlegend": false,
         "textposition": "auto",
         "type": "bar",
         "x": [],
         "xaxis": "x",
         "y": [],
         "yaxis": "y"
        }
       ],
       "layout": {
        "barmode": "relative",
        "legend": {
         "tracegroupgap": 0
        },
        "template": {
         "data": {
          "bar": [
           {
            "error_x": {
             "color": "#2a3f5f"
            },
            "error_y": {
             "color": "#2a3f5f"
            },
            "marker": {
             "line": {
              "color": "#E5ECF6",
              "width": 0.5
             },
             "pattern": {
              "fillmode": "overlay",
              "size": 10,
              "solidity": 0.2
             }
            },
            "type": "bar"
           }
          ],
          "barpolar": [
           {
            "marker": {
             "line": {
              "color": "#E5ECF6",
              "width": 0.5
             },
             "pattern": {
              "fillmode": "overlay",
              "size": 10,
              "solidity": 0.2
             }
            },
            "type": "barpolar"
           }
          ],
          "carpet": [
           {
            "aaxis": {
             "endlinecolor": "#2a3f5f",
             "gridcolor": "white",
             "linecolor": "white",
             "minorgridcolor": "white",
             "startlinecolor": "#2a3f5f"
            },
            "baxis": {
             "endlinecolor": "#2a3f5f",
             "gridcolor": "white",
             "linecolor": "white",
             "minorgridcolor": "white",
             "startlinecolor": "#2a3f5f"
            },
            "type": "carpet"
           }
          ],
          "choropleth": [
           {
            "colorbar": {
             "outlinewidth": 0,
             "ticks": ""
            },
            "type": "choropleth"
           }
          ],
          "contour": [
           {
            "colorbar": {
             "outlinewidth": 0,
             "ticks": ""
            },
            "colorscale": [
             [
              0,
              "#0d0887"
             ],
             [
              0.1111111111111111,
              "#46039f"
             ],
             [
              0.2222222222222222,
              "#7201a8"
             ],
             [
              0.3333333333333333,
              "#9c179e"
             ],
             [
              0.4444444444444444,
              "#bd3786"
             ],
             [
              0.5555555555555556,
              "#d8576b"
             ],
             [
              0.6666666666666666,
              "#ed7953"
             ],
             [
              0.7777777777777778,
              "#fb9f3a"
             ],
             [
              0.8888888888888888,
              "#fdca26"
             ],
             [
              1,
              "#f0f921"
             ]
            ],
            "type": "contour"
           }
          ],
          "contourcarpet": [
           {
            "colorbar": {
             "outlinewidth": 0,
             "ticks": ""
            },
            "type": "contourcarpet"
           }
          ],
          "heatmap": [
           {
            "colorbar": {
             "outlinewidth": 0,
             "ticks": ""
            },
            "colorscale": [
             [
              0,
              "#0d0887"
             ],
             [
              0.1111111111111111,
              "#46039f"
             ],
             [
              0.2222222222222222,
              "#7201a8"
             ],
             [
              0.3333333333333333,
              "#9c179e"
             ],
             [
              0.4444444444444444,
              "#bd3786"
             ],
             [
              0.5555555555555556,
              "#d8576b"
             ],
             [
              0.6666666666666666,
              "#ed7953"
             ],
             [
              0.7777777777777778,
              "#fb9f3a"
             ],
             [
              0.8888888888888888,
              "#fdca26"
             ],
             [
              1,
              "#f0f921"
             ]
            ],
            "type": "heatmap"
           }
          ],
          "heatmapgl": [
           {
            "colorbar": {
             "outlinewidth": 0,
             "ticks": ""
            },
            "colorscale": [
             [
              0,
              "#0d0887"
             ],
             [
              0.1111111111111111,
              "#46039f"
             ],
             [
              0.2222222222222222,
              "#7201a8"
             ],
             [
              0.3333333333333333,
              "#9c179e"
             ],
             [
              0.4444444444444444,
              "#bd3786"
             ],
             [
              0.5555555555555556,
              "#d8576b"
             ],
             [
              0.6666666666666666,
              "#ed7953"
             ],
             [
              0.7777777777777778,
              "#fb9f3a"
             ],
             [
              0.8888888888888888,
              "#fdca26"
             ],
             [
              1,
              "#f0f921"
             ]
            ],
            "type": "heatmapgl"
           }
          ],
          "histogram": [
           {
            "marker": {
             "pattern": {
              "fillmode": "overlay",
              "size": 10,
              "solidity": 0.2
             }
            },
            "type": "histogram"
           }
          ],
          "histogram2d": [
           {
            "colorbar": {
             "outlinewidth": 0,
             "ticks": ""
            },
            "colorscale": [
             [
              0,
              "#0d0887"
             ],
             [
              0.1111111111111111,
              "#46039f"
             ],
             [
              0.2222222222222222,
              "#7201a8"
             ],
             [
              0.3333333333333333,
              "#9c179e"
             ],
             [
              0.4444444444444444,
              "#bd3786"
             ],
             [
              0.5555555555555556,
              "#d8576b"
             ],
             [
              0.6666666666666666,
              "#ed7953"
             ],
             [
              0.7777777777777778,
              "#fb9f3a"
             ],
             [
              0.8888888888888888,
              "#fdca26"
             ],
             [
              1,
              "#f0f921"
             ]
            ],
            "type": "histogram2d"
           }
          ],
          "histogram2dcontour": [
           {
            "colorbar": {
             "outlinewidth": 0,
             "ticks": ""
            },
            "colorscale": [
             [
              0,
              "#0d0887"
             ],
             [
              0.1111111111111111,
              "#46039f"
             ],
             [
              0.2222222222222222,
              "#7201a8"
             ],
             [
              0.3333333333333333,
              "#9c179e"
             ],
             [
              0.4444444444444444,
              "#bd3786"
             ],
             [
              0.5555555555555556,
              "#d8576b"
             ],
             [
              0.6666666666666666,
              "#ed7953"
             ],
             [
              0.7777777777777778,
              "#fb9f3a"
             ],
             [
              0.8888888888888888,
              "#fdca26"
             ],
             [
              1,
              "#f0f921"
             ]
            ],
            "type": "histogram2dcontour"
           }
          ],
          "mesh3d": [
           {
            "colorbar": {
             "outlinewidth": 0,
             "ticks": ""
            },
            "type": "mesh3d"
           }
          ],
          "parcoords": [
           {
            "line": {
             "colorbar": {
              "outlinewidth": 0,
              "ticks": ""
             }
            },
            "type": "parcoords"
           }
          ],
          "pie": [
           {
            "automargin": true,
            "type": "pie"
           }
          ],
          "scatter": [
           {
            "fillpattern": {
             "fillmode": "overlay",
             "size": 10,
             "solidity": 0.2
            },
            "type": "scatter"
           }
          ],
          "scatter3d": [
           {
            "line": {
             "colorbar": {
              "outlinewidth": 0,
              "ticks": ""
             }
            },
            "marker": {
             "colorbar": {
              "outlinewidth": 0,
              "ticks": ""
             }
            },
            "type": "scatter3d"
           }
          ],
          "scattercarpet": [
           {
            "marker": {
             "colorbar": {
              "outlinewidth": 0,
              "ticks": ""
             }
            },
            "type": "scattercarpet"
           }
          ],
          "scattergeo": [
           {
            "marker": {
             "colorbar": {
              "outlinewidth": 0,
              "ticks": ""
             }
            },
            "type": "scattergeo"
           }
          ],
          "scattergl": [
           {
            "marker": {
             "colorbar": {
              "outlinewidth": 0,
              "ticks": ""
             }
            },
            "type": "scattergl"
           }
          ],
          "scattermapbox": [
           {
            "marker": {
             "colorbar": {
              "outlinewidth": 0,
              "ticks": ""
             }
            },
            "type": "scattermapbox"
           }
          ],
          "scatterpolar": [
           {
            "marker": {
             "colorbar": {
              "outlinewidth": 0,
              "ticks": ""
             }
            },
            "type": "scatterpolar"
           }
          ],
          "scatterpolargl": [
           {
            "marker": {
             "colorbar": {
              "outlinewidth": 0,
              "ticks": ""
             }
            },
            "type": "scatterpolargl"
           }
          ],
          "scatterternary": [
           {
            "marker": {
             "colorbar": {
              "outlinewidth": 0,
              "ticks": ""
             }
            },
            "type": "scatterternary"
           }
          ],
          "surface": [
           {
            "colorbar": {
             "outlinewidth": 0,
             "ticks": ""
            },
            "colorscale": [
             [
              0,
              "#0d0887"
             ],
             [
              0.1111111111111111,
              "#46039f"
             ],
             [
              0.2222222222222222,
              "#7201a8"
             ],
             [
              0.3333333333333333,
              "#9c179e"
             ],
             [
              0.4444444444444444,
              "#bd3786"
             ],
             [
              0.5555555555555556,
              "#d8576b"
             ],
             [
              0.6666666666666666,
              "#ed7953"
             ],
             [
              0.7777777777777778,
              "#fb9f3a"
             ],
             [
              0.8888888888888888,
              "#fdca26"
             ],
             [
              1,
              "#f0f921"
             ]
            ],
            "type": "surface"
           }
          ],
          "table": [
           {
            "cells": {
             "fill": {
              "color": "#EBF0F8"
             },
             "line": {
              "color": "white"
             }
            },
            "header": {
             "fill": {
              "color": "#C8D4E3"
             },
             "line": {
              "color": "white"
             }
            },
            "type": "table"
           }
          ]
         },
         "layout": {
          "annotationdefaults": {
           "arrowcolor": "#2a3f5f",
           "arrowhead": 0,
           "arrowwidth": 1
          },
          "autotypenumbers": "strict",
          "coloraxis": {
           "colorbar": {
            "outlinewidth": 0,
            "ticks": ""
           }
          },
          "colorscale": {
           "diverging": [
            [
             0,
             "#8e0152"
            ],
            [
             0.1,
             "#c51b7d"
            ],
            [
             0.2,
             "#de77ae"
            ],
            [
             0.3,
             "#f1b6da"
            ],
            [
             0.4,
             "#fde0ef"
            ],
            [
             0.5,
             "#f7f7f7"
            ],
            [
             0.6,
             "#e6f5d0"
            ],
            [
             0.7,
             "#b8e186"
            ],
            [
             0.8,
             "#7fbc41"
            ],
            [
             0.9,
             "#4d9221"
            ],
            [
             1,
             "#276419"
            ]
           ],
           "sequential": [
            [
             0,
             "#0d0887"
            ],
            [
             0.1111111111111111,
             "#46039f"
            ],
            [
             0.2222222222222222,
             "#7201a8"
            ],
            [
             0.3333333333333333,
             "#9c179e"
            ],
            [
             0.4444444444444444,
             "#bd3786"
            ],
            [
             0.5555555555555556,
             "#d8576b"
            ],
            [
             0.6666666666666666,
             "#ed7953"
            ],
            [
             0.7777777777777778,
             "#fb9f3a"
            ],
            [
             0.8888888888888888,
             "#fdca26"
            ],
            [
             1,
             "#f0f921"
            ]
           ],
           "sequentialminus": [
            [
             0,
             "#0d0887"
            ],
            [
             0.1111111111111111,
             "#46039f"
            ],
            [
             0.2222222222222222,
             "#7201a8"
            ],
            [
             0.3333333333333333,
             "#9c179e"
            ],
            [
             0.4444444444444444,
             "#bd3786"
            ],
            [
             0.5555555555555556,
             "#d8576b"
            ],
            [
             0.6666666666666666,
             "#ed7953"
            ],
            [
             0.7777777777777778,
             "#fb9f3a"
            ],
            [
             0.8888888888888888,
             "#fdca26"
            ],
            [
             1,
             "#f0f921"
            ]
           ]
          },
          "colorway": [
           "#636efa",
           "#EF553B",
           "#00cc96",
           "#ab63fa",
           "#FFA15A",
           "#19d3f3",
           "#FF6692",
           "#B6E880",
           "#FF97FF",
           "#FECB52"
          ],
          "font": {
           "color": "#2a3f5f"
          },
          "geo": {
           "bgcolor": "white",
           "lakecolor": "white",
           "landcolor": "#E5ECF6",
           "showlakes": true,
           "showland": true,
           "subunitcolor": "white"
          },
          "hoverlabel": {
           "align": "left"
          },
          "hovermode": "closest",
          "mapbox": {
           "style": "light"
          },
          "paper_bgcolor": "white",
          "plot_bgcolor": "#E5ECF6",
          "polar": {
           "angularaxis": {
            "gridcolor": "white",
            "linecolor": "white",
            "ticks": ""
           },
           "bgcolor": "#E5ECF6",
           "radialaxis": {
            "gridcolor": "white",
            "linecolor": "white",
            "ticks": ""
           }
          },
          "scene": {
           "xaxis": {
            "backgroundcolor": "#E5ECF6",
            "gridcolor": "white",
            "gridwidth": 2,
            "linecolor": "white",
            "showbackground": true,
            "ticks": "",
            "zerolinecolor": "white"
           },
           "yaxis": {
            "backgroundcolor": "#E5ECF6",
            "gridcolor": "white",
            "gridwidth": 2,
            "linecolor": "white",
            "showbackground": true,
            "ticks": "",
            "zerolinecolor": "white"
           },
           "zaxis": {
            "backgroundcolor": "#E5ECF6",
            "gridcolor": "white",
            "gridwidth": 2,
            "linecolor": "white",
            "showbackground": true,
            "ticks": "",
            "zerolinecolor": "white"
           }
          },
          "shapedefaults": {
           "line": {
            "color": "#2a3f5f"
           }
          },
          "ternary": {
           "aaxis": {
            "gridcolor": "white",
            "linecolor": "white",
            "ticks": ""
           },
           "baxis": {
            "gridcolor": "white",
            "linecolor": "white",
            "ticks": ""
           },
           "bgcolor": "#E5ECF6",
           "caxis": {
            "gridcolor": "white",
            "linecolor": "white",
            "ticks": ""
           }
          },
          "title": {
           "x": 0.05
          },
          "xaxis": {
           "automargin": true,
           "gridcolor": "white",
           "linecolor": "white",
           "ticks": "",
           "title": {
            "standoff": 15
           },
           "zerolinecolor": "white",
           "zerolinewidth": 2
          },
          "yaxis": {
           "automargin": true,
           "gridcolor": "white",
           "linecolor": "white",
           "ticks": "",
           "title": {
            "standoff": 15
           },
           "zerolinecolor": "white",
           "zerolinewidth": 2
          }
         }
        },
        "title": {
         "text": "Top 20 CO2 Emitters (MMtonnes CO2)"
        },
        "xaxis": {
         "anchor": "y",
         "domain": [
          0,
          1
         ],
         "title": {
          "text": "Country"
         }
        },
        "yaxis": {
         "anchor": "x",
         "domain": [
          0,
          1
         ],
         "title": {
          "text": "Total_CO2"
         }
        }
       }
      }
     },
     "metadata": {},
     "output_type": "display_data"
    }
   ],
   "source": [
    "\n",
    "cd1 = gd[gd['Country']!='all'][gd['LA GHG Sector']=='all']\n",
    "\n",
    "list = []\n",
    "\n",
    "for country in cd1['Country'].unique():\n",
    "    total = cd1[cd1['Country']==country]['CO2 emissions within the scope of influence of LAs (kt CO2e)'].sum(axis=0)\n",
    "    list.extend([[country, total]])\n",
    "\n",
    "    \n",
    "# Temporary dataset of all the Countries and there respective total CO2 Emission over the time period\n",
    "temp_cd = pd.DataFrame(list, columns=['Country', 'Total_CO2']).sort_values(by='Total_CO2',ascending=False)\n",
    "\n",
    "# Plotting the top 20 Emiters\n",
    "fig = px.bar(temp_cd.head(20), x='Country', y='Total_CO2', title='Top 20 CO2 Emitters (MMtonnes CO2)')\n",
    "fig.show()"
   ]
  },
  {
   "cell_type": "code",
   "execution_count": 33,
   "metadata": {},
   "outputs": [
    {
     "name": "stdout",
     "output_type": "stream",
     "text": [
      "<class 'pandas.core.frame.DataFrame'>\n",
      "RangeIndex: 467443 entries, 0 to 467442\n",
      "Data columns (total 15 columns):\n",
      " #   Column                                                        Non-Null Count   Dtype  \n",
      "---  ------                                                        --------------   -----  \n",
      " 0   Country                                                       467443 non-null  object \n",
      " 1   Country Code                                                  467088 non-null  object \n",
      " 2   Region                                                        467443 non-null  object \n",
      " 3   Region Code                                                   467088 non-null  object \n",
      " 4   Second Tier Authority                                         467088 non-null  object \n",
      " 5   Local Authority                                               467443 non-null  object \n",
      " 6   Local Authority Code                                          467443 non-null  object \n",
      " 7   Calendar Year                                                 467443 non-null  int64  \n",
      " 8   LA GHG Sector                                                 467443 non-null  object \n",
      " 9   LA GHG Sub-sector                                             467443 non-null  object \n",
      " 10  Greenhouse gas                                                467443 non-null  object \n",
      " 11  Territorial emissions (kt CO2e)                               467443 non-null  float64\n",
      " 12  CO2 emissions within the scope of influence of LAs (kt CO2e)  467443 non-null  float64\n",
      " 13  Mid-year Population (thousands)                               467443 non-null  float64\n",
      " 14  Area (km2)                                                    467443 non-null  float64\n",
      "dtypes: float64(4), int64(1), object(10)\n",
      "memory usage: 53.5+ MB\n"
     ]
    }
   ],
   "source": [
    "gd.info()"
   ]
  },
  {
   "cell_type": "code",
   "execution_count": 35,
   "metadata": {},
   "outputs": [
    {
     "data": {
      "text/html": [
       "<div>\n",
       "<style scoped>\n",
       "    .dataframe tbody tr th:only-of-type {\n",
       "        vertical-align: middle;\n",
       "    }\n",
       "\n",
       "    .dataframe tbody tr th {\n",
       "        vertical-align: top;\n",
       "    }\n",
       "\n",
       "    .dataframe thead th {\n",
       "        text-align: right;\n",
       "    }\n",
       "</style>\n",
       "<table border=\"1\" class=\"dataframe\">\n",
       "  <thead>\n",
       "    <tr style=\"text-align: right;\">\n",
       "      <th></th>\n",
       "      <th>Country</th>\n",
       "      <th>Country Code</th>\n",
       "      <th>Region</th>\n",
       "      <th>Region Code</th>\n",
       "      <th>Second Tier Authority</th>\n",
       "      <th>Local Authority</th>\n",
       "      <th>Local Authority Code</th>\n",
       "      <th>Calendar Year</th>\n",
       "      <th>LA GHG Sector</th>\n",
       "      <th>LA GHG Sub-sector</th>\n",
       "      <th>Greenhouse gas</th>\n",
       "      <th>Territorial emissions (kt CO2e)</th>\n",
       "      <th>CO2 emissions within the scope of influence of LAs (kt CO2e)</th>\n",
       "      <th>Mid-year Population (thousands)</th>\n",
       "      <th>Area (km2)</th>\n",
       "    </tr>\n",
       "  </thead>\n",
       "  <tbody>\n",
       "    <tr>\n",
       "      <th>count</th>\n",
       "      <td>467443</td>\n",
       "      <td>467088</td>\n",
       "      <td>467443</td>\n",
       "      <td>467088</td>\n",
       "      <td>467088</td>\n",
       "      <td>467443</td>\n",
       "      <td>467443</td>\n",
       "      <td>467443.000000</td>\n",
       "      <td>467443</td>\n",
       "      <td>467443</td>\n",
       "      <td>467443</td>\n",
       "      <td>467443.000000</td>\n",
       "      <td>467443.000000</td>\n",
       "      <td>467443.000000</td>\n",
       "      <td>467443.000000</td>\n",
       "    </tr>\n",
       "    <tr>\n",
       "      <th>unique</th>\n",
       "      <td>5</td>\n",
       "      <td>4</td>\n",
       "      <td>13</td>\n",
       "      <td>12</td>\n",
       "      <td>151</td>\n",
       "      <td>377</td>\n",
       "      <td>376</td>\n",
       "      <td>NaN</td>\n",
       "      <td>8</td>\n",
       "      <td>32</td>\n",
       "      <td>3</td>\n",
       "      <td>NaN</td>\n",
       "      <td>NaN</td>\n",
       "      <td>NaN</td>\n",
       "      <td>NaN</td>\n",
       "    </tr>\n",
       "    <tr>\n",
       "      <th>top</th>\n",
       "      <td>England</td>\n",
       "      <td>E92000001</td>\n",
       "      <td>South East</td>\n",
       "      <td>E12000008</td>\n",
       "      <td>Scotland</td>\n",
       "      <td>Doncaster</td>\n",
       "      <td>E08000017</td>\n",
       "      <td>NaN</td>\n",
       "      <td>Transport</td>\n",
       "      <td>Industry Electricity</td>\n",
       "      <td>N2O</td>\n",
       "      <td>NaN</td>\n",
       "      <td>NaN</td>\n",
       "      <td>NaN</td>\n",
       "      <td>NaN</td>\n",
       "    </tr>\n",
       "    <tr>\n",
       "      <th>freq</th>\n",
       "      <td>385869</td>\n",
       "      <td>385869</td>\n",
       "      <td>79123</td>\n",
       "      <td>79123</td>\n",
       "      <td>40027</td>\n",
       "      <td>1340</td>\n",
       "      <td>1340</td>\n",
       "      <td>NaN</td>\n",
       "      <td>81144</td>\n",
       "      <td>18096</td>\n",
       "      <td>160564</td>\n",
       "      <td>NaN</td>\n",
       "      <td>NaN</td>\n",
       "      <td>NaN</td>\n",
       "      <td>NaN</td>\n",
       "    </tr>\n",
       "    <tr>\n",
       "      <th>mean</th>\n",
       "      <td>NaN</td>\n",
       "      <td>NaN</td>\n",
       "      <td>NaN</td>\n",
       "      <td>NaN</td>\n",
       "      <td>NaN</td>\n",
       "      <td>NaN</td>\n",
       "      <td>NaN</td>\n",
       "      <td>2012.548197</td>\n",
       "      <td>NaN</td>\n",
       "      <td>NaN</td>\n",
       "      <td>NaN</td>\n",
       "      <td>16.029964</td>\n",
       "      <td>12.618935</td>\n",
       "      <td>171.972621</td>\n",
       "      <td>671.648052</td>\n",
       "    </tr>\n",
       "    <tr>\n",
       "      <th>std</th>\n",
       "      <td>NaN</td>\n",
       "      <td>NaN</td>\n",
       "      <td>NaN</td>\n",
       "      <td>NaN</td>\n",
       "      <td>NaN</td>\n",
       "      <td>NaN</td>\n",
       "      <td>NaN</td>\n",
       "      <td>4.634511</td>\n",
       "      <td>NaN</td>\n",
       "      <td>NaN</td>\n",
       "      <td>NaN</td>\n",
       "      <td>94.186416</td>\n",
       "      <td>49.969305</td>\n",
       "      <td>116.024952</td>\n",
       "      <td>1654.220436</td>\n",
       "    </tr>\n",
       "    <tr>\n",
       "      <th>min</th>\n",
       "      <td>NaN</td>\n",
       "      <td>NaN</td>\n",
       "      <td>NaN</td>\n",
       "      <td>NaN</td>\n",
       "      <td>NaN</td>\n",
       "      <td>NaN</td>\n",
       "      <td>NaN</td>\n",
       "      <td>2005.000000</td>\n",
       "      <td>NaN</td>\n",
       "      <td>NaN</td>\n",
       "      <td>NaN</td>\n",
       "      <td>-2920.785256</td>\n",
       "      <td>0.000000</td>\n",
       "      <td>0.000000</td>\n",
       "      <td>0.000000</td>\n",
       "    </tr>\n",
       "    <tr>\n",
       "      <th>25%</th>\n",
       "      <td>NaN</td>\n",
       "      <td>NaN</td>\n",
       "      <td>NaN</td>\n",
       "      <td>NaN</td>\n",
       "      <td>NaN</td>\n",
       "      <td>NaN</td>\n",
       "      <td>NaN</td>\n",
       "      <td>2009.000000</td>\n",
       "      <td>NaN</td>\n",
       "      <td>NaN</td>\n",
       "      <td>NaN</td>\n",
       "      <td>0.030717</td>\n",
       "      <td>0.000000</td>\n",
       "      <td>99.383000</td>\n",
       "      <td>97.958400</td>\n",
       "    </tr>\n",
       "    <tr>\n",
       "      <th>50%</th>\n",
       "      <td>NaN</td>\n",
       "      <td>NaN</td>\n",
       "      <td>NaN</td>\n",
       "      <td>NaN</td>\n",
       "      <td>NaN</td>\n",
       "      <td>NaN</td>\n",
       "      <td>NaN</td>\n",
       "      <td>2013.000000</td>\n",
       "      <td>NaN</td>\n",
       "      <td>NaN</td>\n",
       "      <td>NaN</td>\n",
       "      <td>0.472936</td>\n",
       "      <td>0.000000</td>\n",
       "      <td>136.126000</td>\n",
       "      <td>279.042600</td>\n",
       "    </tr>\n",
       "    <tr>\n",
       "      <th>75%</th>\n",
       "      <td>NaN</td>\n",
       "      <td>NaN</td>\n",
       "      <td>NaN</td>\n",
       "      <td>NaN</td>\n",
       "      <td>NaN</td>\n",
       "      <td>NaN</td>\n",
       "      <td>NaN</td>\n",
       "      <td>2017.000000</td>\n",
       "      <td>NaN</td>\n",
       "      <td>NaN</td>\n",
       "      <td>NaN</td>\n",
       "      <td>3.742259</td>\n",
       "      <td>0.000000</td>\n",
       "      <td>212.137000</td>\n",
       "      <td>680.083400</td>\n",
       "    </tr>\n",
       "    <tr>\n",
       "      <th>max</th>\n",
       "      <td>NaN</td>\n",
       "      <td>NaN</td>\n",
       "      <td>NaN</td>\n",
       "      <td>NaN</td>\n",
       "      <td>NaN</td>\n",
       "      <td>NaN</td>\n",
       "      <td>NaN</td>\n",
       "      <td>2020.000000</td>\n",
       "      <td>NaN</td>\n",
       "      <td>NaN</td>\n",
       "      <td>NaN</td>\n",
       "      <td>9497.777472</td>\n",
       "      <td>4026.945363</td>\n",
       "      <td>1141.816000</td>\n",
       "      <td>26473.949600</td>\n",
       "    </tr>\n",
       "  </tbody>\n",
       "</table>\n",
       "</div>"
      ],
      "text/plain": [
       "        Country Country Code      Region Region Code Second Tier Authority  \\\n",
       "count    467443       467088      467443      467088                467088   \n",
       "unique        5            4          13          12                   151   \n",
       "top     England    E92000001  South East   E12000008              Scotland   \n",
       "freq     385869       385869       79123       79123                 40027   \n",
       "mean        NaN          NaN         NaN         NaN                   NaN   \n",
       "std         NaN          NaN         NaN         NaN                   NaN   \n",
       "min         NaN          NaN         NaN         NaN                   NaN   \n",
       "25%         NaN          NaN         NaN         NaN                   NaN   \n",
       "50%         NaN          NaN         NaN         NaN                   NaN   \n",
       "75%         NaN          NaN         NaN         NaN                   NaN   \n",
       "max         NaN          NaN         NaN         NaN                   NaN   \n",
       "\n",
       "       Local Authority Local Authority Code  Calendar Year LA GHG Sector  \\\n",
       "count           467443               467443  467443.000000        467443   \n",
       "unique             377                  376            NaN             8   \n",
       "top          Doncaster            E08000017            NaN     Transport   \n",
       "freq              1340                 1340            NaN         81144   \n",
       "mean               NaN                  NaN    2012.548197           NaN   \n",
       "std                NaN                  NaN       4.634511           NaN   \n",
       "min                NaN                  NaN    2005.000000           NaN   \n",
       "25%                NaN                  NaN    2009.000000           NaN   \n",
       "50%                NaN                  NaN    2013.000000           NaN   \n",
       "75%                NaN                  NaN    2017.000000           NaN   \n",
       "max                NaN                  NaN    2020.000000           NaN   \n",
       "\n",
       "           LA GHG Sub-sector Greenhouse gas  Territorial emissions (kt CO2e)  \\\n",
       "count                 467443         467443                    467443.000000   \n",
       "unique                    32              3                              NaN   \n",
       "top     Industry Electricity            N2O                              NaN   \n",
       "freq                   18096         160564                              NaN   \n",
       "mean                     NaN            NaN                        16.029964   \n",
       "std                      NaN            NaN                        94.186416   \n",
       "min                      NaN            NaN                     -2920.785256   \n",
       "25%                      NaN            NaN                         0.030717   \n",
       "50%                      NaN            NaN                         0.472936   \n",
       "75%                      NaN            NaN                         3.742259   \n",
       "max                      NaN            NaN                      9497.777472   \n",
       "\n",
       "        CO2 emissions within the scope of influence of LAs (kt CO2e)  \\\n",
       "count                                       467443.000000              \n",
       "unique                                                NaN              \n",
       "top                                                   NaN              \n",
       "freq                                                  NaN              \n",
       "mean                                            12.618935              \n",
       "std                                             49.969305              \n",
       "min                                              0.000000              \n",
       "25%                                              0.000000              \n",
       "50%                                              0.000000              \n",
       "75%                                              0.000000              \n",
       "max                                           4026.945363              \n",
       "\n",
       "        Mid-year Population (thousands)     Area (km2)  \n",
       "count                     467443.000000  467443.000000  \n",
       "unique                              NaN            NaN  \n",
       "top                                 NaN            NaN  \n",
       "freq                                NaN            NaN  \n",
       "mean                         171.972621     671.648052  \n",
       "std                          116.024952    1654.220436  \n",
       "min                            0.000000       0.000000  \n",
       "25%                           99.383000      97.958400  \n",
       "50%                          136.126000     279.042600  \n",
       "75%                          212.137000     680.083400  \n",
       "max                         1141.816000   26473.949600  "
      ]
     },
     "execution_count": 35,
     "metadata": {},
     "output_type": "execute_result"
    }
   ],
   "source": [
    "gd.describe(include='all')"
   ]
  },
  {
   "cell_type": "code",
   "execution_count": 36,
   "metadata": {},
   "outputs": [
    {
     "name": "stdout",
     "output_type": "stream",
     "text": [
      "Country: 5\n",
      "Country Code: 4\n",
      "Region: 13\n",
      "Region Code: 12\n",
      "Second Tier Authority: 151\n",
      "Local Authority: 377\n",
      "Local Authority Code: 376\n",
      "Calendar Year: 16\n",
      "LA GHG Sector: 8\n",
      "LA GHG Sub-sector: 32\n",
      "Greenhouse gas: 3\n",
      "Territorial emissions (kt CO2e): 460115\n",
      "CO2 emissions within the scope of influence of LAs (kt CO2e): 107962\n",
      "Mid-year Population (thousands): 5868\n",
      "Area (km2): 375\n"
     ]
    }
   ],
   "source": [
    "for var in gd:\n",
    "    print(f'{var}: {gd[var].nunique()}')"
   ]
  },
  {
   "cell_type": "code",
   "execution_count": 37,
   "metadata": {},
   "outputs": [
    {
     "name": "stdout",
     "output_type": "stream",
     "text": [
      "Number of Duplicates: 0\n"
     ]
    }
   ],
   "source": [
    "print('Number of Duplicates: {}'.format(len(gd[gd.duplicated()])))"
   ]
  },
  {
   "cell_type": "code",
   "execution_count": 38,
   "metadata": {},
   "outputs": [
    {
     "name": "stdout",
     "output_type": "stream",
     "text": [
      "Country: 0\n",
      "Country Code: 355\n",
      "Region: 0\n",
      "Region Code: 355\n",
      "Second Tier Authority: 355\n",
      "Local Authority: 0\n",
      "Local Authority Code: 0\n",
      "Calendar Year: 0\n",
      "LA GHG Sector: 0\n",
      "LA GHG Sub-sector: 0\n",
      "Greenhouse gas: 0\n",
      "Territorial emissions (kt CO2e): 0\n",
      "CO2 emissions within the scope of influence of LAs (kt CO2e): 0\n",
      "Mid-year Population (thousands): 0\n",
      "Area (km2): 0\n"
     ]
    }
   ],
   "source": [
    "for var in gd:\n",
    "    print(f'{var}: {gd[var].isnull().sum()}')"
   ]
  }
 ],
 "metadata": {
  "kernelspec": {
   "display_name": "Python 3.10.4 64-bit",
   "language": "python",
   "name": "python3"
  },
  "language_info": {
   "codemirror_mode": {
    "name": "ipython",
    "version": 3
   },
   "file_extension": ".py",
   "mimetype": "text/x-python",
   "name": "python",
   "nbconvert_exporter": "python",
   "pygments_lexer": "ipython3",
   "version": "3.10.4"
  },
  "orig_nbformat": 4,
  "vscode": {
   "interpreter": {
    "hash": "b1ea0511372ac77b82351da42b7ef71d586013f0a851d34cf94788b101e4022d"
   }
  }
 },
 "nbformat": 4,
 "nbformat_minor": 2
}
