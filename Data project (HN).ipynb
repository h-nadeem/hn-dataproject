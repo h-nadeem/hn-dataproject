{
 "cells": [
  {
   "cell_type": "markdown",
   "metadata": {},
   "source": [
    "# \"What are the trends of ghg emissions in the UK within each sector over time?\"\n",
    "\n",
    "Greenhouse Gas Emissions \n",
    "\n",
    "Hareem Nadeem (z54425310)"
   ]
  },
  {
   "cell_type": "markdown",
   "metadata": {},
   "source": [
    "`imports`"
   ]
  },
  {
   "cell_type": "code",
   "execution_count": 2,
   "metadata": {},
   "outputs": [],
   "source": [
    "import os\n",
    "import geopandas as gpd\n",
    "import plotly.graph_objects as go\n",
    "import plotly.express as px\n",
    "import matplotlib\n",
    "import matplotlib.pyplot as plt\n",
    "from mpl_toolkits.basemap import Basemap\n",
    "import seaborn as sns\n",
    "import numpy as np # linear algebra\n",
    "import json\n",
    "import topojson\n",
    "import pandas as pd # data processing (CSV file - e.g. pd.read_csv)\n",
    "from datetime import datetime\n"
   ]
  },
  {
   "cell_type": "code",
   "execution_count": 3,
   "metadata": {},
   "outputs": [],
   "source": [
    "%matplotlib inline"
   ]
  },
  {
   "cell_type": "code",
   "execution_count": 4,
   "metadata": {},
   "outputs": [],
   "source": [
    "plt.rcParams['figure.figsize'] = (50, 30)"
   ]
  },
  {
   "cell_type": "code",
   "execution_count": 5,
   "metadata": {},
   "outputs": [],
   "source": [
    "saved_style_state = matplotlib.rcParams.copy() #give us a style state to go back to"
   ]
  },
  {
   "cell_type": "code",
   "execution_count": 6,
   "metadata": {},
   "outputs": [
    {
     "name": "stdout",
     "output_type": "stream",
     "text": [
      "Loading from file\n",
      "'Greenhouse Gas Emissions dataset, loaded\n"
     ]
    }
   ],
   "source": [
    "#Loading my data (excel spreadsheet)\n",
    "if os.path.isfile(\"ghg_data.csv\"):\n",
    "    filepath = \"ghg_data.csv\"\n",
    "    print(\"Loading from file\")\n",
    "else:\n",
    "    filepath = \"https://assets.publishing.service.gov.uk/government/uploads/system/uploads/attachment_data/file/1087005/uk-local-authority-ghg-emissions-2020-dataset.csv\"\n",
    "    print(\"loading from the internet\")\n",
    "\n",
    "gd = pd.read_csv(filepath)\n",
    "print(\"'Greenhouse Gas Emissions dataset, loaded\")"
   ]
  },
  {
   "cell_type": "markdown",
   "metadata": {},
   "source": [
    "`What are the trends of C02e in the UK within each sector over time?`"
   ]
  },
  {
   "cell_type": "markdown",
   "metadata": {},
   "source": [
    "Data set: “UK Local and regional greenhouse gas emissions (2005 to 2020) from data.gov.uk\n",
    "\n",
    "Published by: Department for Business, Energy, and industrial strategy on 30 June 2022\n"
   ]
  },
  {
   "cell_type": "markdown",
   "metadata": {},
   "source": [
    "The dataset explores the breakdown of greenhouse gas emissions and carbon dioxide emissions locally and regionally in the UK from 2005 to 2020. The estimations within this set is useful for relevant organisations to record and identify high emitting sources of carbon dioxide and energy intensive sectors, changes in carbon dioxide emissions over time and overall designing strategies to reduce carbon emissions. Carbon dioxide is naturally present within the atmosphere inside the earth’s carbon cycle. Sectors such as agriculture practices, electricity, LULUCF, transportation, and waste management contribute to the carbon emissions altering the carbon cycle and affecting the ability for plants and soil to remove and store c02 from the atmosphere. \n",
    "\n",
    "Greenhouse gas and carbon dioxide emissions are largely responsible for the increasing global temperature due to both natural and anthropogenic activities, the alarming rate of climate change is primarily influenced by these sectors. Through this data project, I presented the trends and data changes throughout the years of territorial c02 emissions by sector to identify the key sources of C02 emissions in each area; allowing changes in C02 emissions over time to be monitored from 2005 to 2020, describing the major sources of emissions growth, stability and decline in the UK.\n"
   ]
  },
  {
   "cell_type": "code",
   "execution_count": 6,
   "metadata": {},
   "outputs": [
    {
     "data": {
      "text/html": [
       "<div>\n",
       "<style scoped>\n",
       "    .dataframe tbody tr th:only-of-type {\n",
       "        vertical-align: middle;\n",
       "    }\n",
       "\n",
       "    .dataframe tbody tr th {\n",
       "        vertical-align: top;\n",
       "    }\n",
       "\n",
       "    .dataframe thead th {\n",
       "        text-align: right;\n",
       "    }\n",
       "</style>\n",
       "<table border=\"1\" class=\"dataframe\">\n",
       "  <thead>\n",
       "    <tr style=\"text-align: right;\">\n",
       "      <th></th>\n",
       "      <th>Country</th>\n",
       "      <th>Country Code</th>\n",
       "      <th>Region</th>\n",
       "      <th>Region Code</th>\n",
       "      <th>Second Tier Authority</th>\n",
       "      <th>Local Authority</th>\n",
       "      <th>Local Authority Code</th>\n",
       "      <th>Calendar Year</th>\n",
       "      <th>LA GHG Sector</th>\n",
       "      <th>LA GHG Sub-sector</th>\n",
       "      <th>Greenhouse gas</th>\n",
       "      <th>Territorial emissions (kt CO2e)</th>\n",
       "      <th>CO2 emissions within the scope of influence of LAs (kt CO2e)</th>\n",
       "      <th>Mid-year Population (thousands)</th>\n",
       "      <th>Area (km2)</th>\n",
       "    </tr>\n",
       "  </thead>\n",
       "  <tbody>\n",
       "    <tr>\n",
       "      <th>0</th>\n",
       "      <td>England</td>\n",
       "      <td>E92000001</td>\n",
       "      <td>East Midlands</td>\n",
       "      <td>E12000004</td>\n",
       "      <td>Derby</td>\n",
       "      <td>Derby</td>\n",
       "      <td>E06000015</td>\n",
       "      <td>2005</td>\n",
       "      <td>Agriculture</td>\n",
       "      <td>Agriculture Electricity</td>\n",
       "      <td>CH4</td>\n",
       "      <td>0.010737</td>\n",
       "      <td>0.000000</td>\n",
       "      <td>236.47</td>\n",
       "      <td>78.0311</td>\n",
       "    </tr>\n",
       "    <tr>\n",
       "      <th>1</th>\n",
       "      <td>England</td>\n",
       "      <td>E92000001</td>\n",
       "      <td>East Midlands</td>\n",
       "      <td>E12000004</td>\n",
       "      <td>Derby</td>\n",
       "      <td>Derby</td>\n",
       "      <td>E06000015</td>\n",
       "      <td>2005</td>\n",
       "      <td>Agriculture</td>\n",
       "      <td>Agriculture Electricity</td>\n",
       "      <td>CO2</td>\n",
       "      <td>0.380289</td>\n",
       "      <td>0.380289</td>\n",
       "      <td>236.47</td>\n",
       "      <td>78.0311</td>\n",
       "    </tr>\n",
       "    <tr>\n",
       "      <th>2</th>\n",
       "      <td>England</td>\n",
       "      <td>E92000001</td>\n",
       "      <td>East Midlands</td>\n",
       "      <td>E12000004</td>\n",
       "      <td>Derby</td>\n",
       "      <td>Derby</td>\n",
       "      <td>E06000015</td>\n",
       "      <td>2005</td>\n",
       "      <td>Agriculture</td>\n",
       "      <td>Agriculture Electricity</td>\n",
       "      <td>N2O</td>\n",
       "      <td>0.001710</td>\n",
       "      <td>0.000000</td>\n",
       "      <td>236.47</td>\n",
       "      <td>78.0311</td>\n",
       "    </tr>\n",
       "    <tr>\n",
       "      <th>3</th>\n",
       "      <td>England</td>\n",
       "      <td>E92000001</td>\n",
       "      <td>East Midlands</td>\n",
       "      <td>E12000004</td>\n",
       "      <td>Derby</td>\n",
       "      <td>Derby</td>\n",
       "      <td>E06000015</td>\n",
       "      <td>2005</td>\n",
       "      <td>Agriculture</td>\n",
       "      <td>Agriculture Gas</td>\n",
       "      <td>CH4</td>\n",
       "      <td>0.021121</td>\n",
       "      <td>0.000000</td>\n",
       "      <td>236.47</td>\n",
       "      <td>78.0311</td>\n",
       "    </tr>\n",
       "    <tr>\n",
       "      <th>4</th>\n",
       "      <td>England</td>\n",
       "      <td>E92000001</td>\n",
       "      <td>East Midlands</td>\n",
       "      <td>E12000004</td>\n",
       "      <td>Derby</td>\n",
       "      <td>Derby</td>\n",
       "      <td>E06000015</td>\n",
       "      <td>2005</td>\n",
       "      <td>Agriculture</td>\n",
       "      <td>Agriculture Gas</td>\n",
       "      <td>CO2</td>\n",
       "      <td>0.700438</td>\n",
       "      <td>0.700438</td>\n",
       "      <td>236.47</td>\n",
       "      <td>78.0311</td>\n",
       "    </tr>\n",
       "    <tr>\n",
       "      <th>5</th>\n",
       "      <td>England</td>\n",
       "      <td>E92000001</td>\n",
       "      <td>East Midlands</td>\n",
       "      <td>E12000004</td>\n",
       "      <td>Derby</td>\n",
       "      <td>Derby</td>\n",
       "      <td>E06000015</td>\n",
       "      <td>2005</td>\n",
       "      <td>Agriculture</td>\n",
       "      <td>Agriculture Gas</td>\n",
       "      <td>N2O</td>\n",
       "      <td>0.000558</td>\n",
       "      <td>0.000000</td>\n",
       "      <td>236.47</td>\n",
       "      <td>78.0311</td>\n",
       "    </tr>\n",
       "    <tr>\n",
       "      <th>6</th>\n",
       "      <td>England</td>\n",
       "      <td>E92000001</td>\n",
       "      <td>East Midlands</td>\n",
       "      <td>E12000004</td>\n",
       "      <td>Derby</td>\n",
       "      <td>Derby</td>\n",
       "      <td>E06000015</td>\n",
       "      <td>2005</td>\n",
       "      <td>Agriculture</td>\n",
       "      <td>Agriculture 'Other'</td>\n",
       "      <td>CH4</td>\n",
       "      <td>0.003186</td>\n",
       "      <td>0.000000</td>\n",
       "      <td>236.47</td>\n",
       "      <td>78.0311</td>\n",
       "    </tr>\n",
       "    <tr>\n",
       "      <th>7</th>\n",
       "      <td>England</td>\n",
       "      <td>E92000001</td>\n",
       "      <td>East Midlands</td>\n",
       "      <td>E12000004</td>\n",
       "      <td>Derby</td>\n",
       "      <td>Derby</td>\n",
       "      <td>E06000015</td>\n",
       "      <td>2005</td>\n",
       "      <td>Agriculture</td>\n",
       "      <td>Agriculture 'Other'</td>\n",
       "      <td>CO2</td>\n",
       "      <td>0.792025</td>\n",
       "      <td>0.792025</td>\n",
       "      <td>236.47</td>\n",
       "      <td>78.0311</td>\n",
       "    </tr>\n",
       "    <tr>\n",
       "      <th>8</th>\n",
       "      <td>England</td>\n",
       "      <td>E92000001</td>\n",
       "      <td>East Midlands</td>\n",
       "      <td>E12000004</td>\n",
       "      <td>Derby</td>\n",
       "      <td>Derby</td>\n",
       "      <td>E06000015</td>\n",
       "      <td>2005</td>\n",
       "      <td>Agriculture</td>\n",
       "      <td>Agriculture 'Other'</td>\n",
       "      <td>N2O</td>\n",
       "      <td>0.009533</td>\n",
       "      <td>0.000000</td>\n",
       "      <td>236.47</td>\n",
       "      <td>78.0311</td>\n",
       "    </tr>\n",
       "    <tr>\n",
       "      <th>9</th>\n",
       "      <td>England</td>\n",
       "      <td>E92000001</td>\n",
       "      <td>East Midlands</td>\n",
       "      <td>E12000004</td>\n",
       "      <td>Derby</td>\n",
       "      <td>Derby</td>\n",
       "      <td>E06000015</td>\n",
       "      <td>2005</td>\n",
       "      <td>Agriculture</td>\n",
       "      <td>Agriculture Soils</td>\n",
       "      <td>CO2</td>\n",
       "      <td>0.125285</td>\n",
       "      <td>0.000000</td>\n",
       "      <td>236.47</td>\n",
       "      <td>78.0311</td>\n",
       "    </tr>\n",
       "  </tbody>\n",
       "</table>\n",
       "</div>"
      ],
      "text/plain": [
       "   Country Country Code         Region Region Code Second Tier Authority  \\\n",
       "0  England    E92000001  East Midlands   E12000004                 Derby   \n",
       "1  England    E92000001  East Midlands   E12000004                 Derby   \n",
       "2  England    E92000001  East Midlands   E12000004                 Derby   \n",
       "3  England    E92000001  East Midlands   E12000004                 Derby   \n",
       "4  England    E92000001  East Midlands   E12000004                 Derby   \n",
       "5  England    E92000001  East Midlands   E12000004                 Derby   \n",
       "6  England    E92000001  East Midlands   E12000004                 Derby   \n",
       "7  England    E92000001  East Midlands   E12000004                 Derby   \n",
       "8  England    E92000001  East Midlands   E12000004                 Derby   \n",
       "9  England    E92000001  East Midlands   E12000004                 Derby   \n",
       "\n",
       "  Local Authority Local Authority Code  Calendar Year LA GHG Sector  \\\n",
       "0           Derby            E06000015           2005   Agriculture   \n",
       "1           Derby            E06000015           2005   Agriculture   \n",
       "2           Derby            E06000015           2005   Agriculture   \n",
       "3           Derby            E06000015           2005   Agriculture   \n",
       "4           Derby            E06000015           2005   Agriculture   \n",
       "5           Derby            E06000015           2005   Agriculture   \n",
       "6           Derby            E06000015           2005   Agriculture   \n",
       "7           Derby            E06000015           2005   Agriculture   \n",
       "8           Derby            E06000015           2005   Agriculture   \n",
       "9           Derby            E06000015           2005   Agriculture   \n",
       "\n",
       "         LA GHG Sub-sector Greenhouse gas  Territorial emissions (kt CO2e)  \\\n",
       "0  Agriculture Electricity            CH4                         0.010737   \n",
       "1  Agriculture Electricity            CO2                         0.380289   \n",
       "2  Agriculture Electricity            N2O                         0.001710   \n",
       "3          Agriculture Gas            CH4                         0.021121   \n",
       "4          Agriculture Gas            CO2                         0.700438   \n",
       "5          Agriculture Gas            N2O                         0.000558   \n",
       "6      Agriculture 'Other'            CH4                         0.003186   \n",
       "7      Agriculture 'Other'            CO2                         0.792025   \n",
       "8      Agriculture 'Other'            N2O                         0.009533   \n",
       "9        Agriculture Soils            CO2                         0.125285   \n",
       "\n",
       "   CO2 emissions within the scope of influence of LAs (kt CO2e)  \\\n",
       "0                                           0.000000              \n",
       "1                                           0.380289              \n",
       "2                                           0.000000              \n",
       "3                                           0.000000              \n",
       "4                                           0.700438              \n",
       "5                                           0.000000              \n",
       "6                                           0.000000              \n",
       "7                                           0.792025              \n",
       "8                                           0.000000              \n",
       "9                                           0.000000              \n",
       "\n",
       "   Mid-year Population (thousands)  Area (km2)  \n",
       "0                           236.47     78.0311  \n",
       "1                           236.47     78.0311  \n",
       "2                           236.47     78.0311  \n",
       "3                           236.47     78.0311  \n",
       "4                           236.47     78.0311  \n",
       "5                           236.47     78.0311  \n",
       "6                           236.47     78.0311  \n",
       "7                           236.47     78.0311  \n",
       "8                           236.47     78.0311  \n",
       "9                           236.47     78.0311  "
      ]
     },
     "execution_count": 6,
     "metadata": {},
     "output_type": "execute_result"
    }
   ],
   "source": [
    "gd.head(10)"
   ]
  },
  {
   "cell_type": "code",
   "execution_count": 76,
   "metadata": {},
   "outputs": [
    {
     "data": {
      "text/plain": [
       "Index(['Country', 'Country Code', 'Region', 'Region Code',\n",
       "       'Second Tier Authority', 'Local Authority', 'Local Authority Code',\n",
       "       'Calendar Year', 'LA GHG Sector', 'LA GHG Sub-sector', 'Greenhouse gas',\n",
       "       'Territorial emissions (kt CO2e)',\n",
       "       'CO2 emissions within the scope of influence of LAs (kt CO2e)',\n",
       "       'Mid-year Population (thousands)', 'Area (km2)'],\n",
       "      dtype='object')"
      ]
     },
     "execution_count": 76,
     "metadata": {},
     "output_type": "execute_result"
    }
   ],
   "source": [
    "gd.columns"
   ]
  },
  {
   "cell_type": "markdown",
   "metadata": {},
   "source": [
    "Within this dataset, there are 15 columns and 467444 rows"
   ]
  },
  {
   "cell_type": "markdown",
   "metadata": {},
   "source": [
    "-----\n"
   ]
  },
  {
   "cell_type": "markdown",
   "metadata": {},
   "source": [
    "`Column(s) Name: Country & Region `"
   ]
  },
  {
   "cell_type": "markdown",
   "metadata": {},
   "source": [
    "United Kingdom consists of 3 main regions, England, Scotland, Northern Ireland and Wales. This dataset explores the evaluation of greenhouse gas emissions and its changes in these regions, which territories contribute to more ghg emissions and its trends."
   ]
  },
  {
   "cell_type": "markdown",
   "metadata": {},
   "source": [
    "The country and regional columns are both categorical values, every other column is dependent on this variable, it helps differentiate the dataset by each region in the country. "
   ]
  },
  {
   "cell_type": "code",
   "execution_count": null,
   "metadata": {},
   "outputs": [],
   "source": [
    "with open('Regions_(December_2017)_Boundaries.geojson') as file:\n",
    "    uk = json.load(file)"
   ]
  },
  {
   "cell_type": "markdown",
   "metadata": {},
   "source": [
    "The regions were explored by creating choropleth and base maps, these calculated the amount of carbon dioxide equivalents produced in each territory."
   ]
  },
  {
   "cell_type": "code",
   "execution_count": null,
   "metadata": {},
   "outputs": [],
   "source": [
    "gd['Country'].value_counts()"
   ]
  },
  {
   "cell_type": "code",
   "execution_count": null,
   "metadata": {},
   "outputs": [],
   "source": [
    "print(\"Region within Countries\")\n",
    "gd.groupby(['Country', 'Region']).size().unstack().plot(kind='bar', stacked=False, )"
   ]
  },
  {
   "cell_type": "markdown",
   "metadata": {},
   "source": [
    "During the timeline, the top carbon dioxide emitters in UK, was England, emitting about 385869 thousands, and the lowest was Northern Ireland, only producing 13319 thousands.These territorial emissions are going to be explored further in the column 'Territorial emissions'"
   ]
  },
  {
   "cell_type": "code",
   "execution_count": null,
   "metadata": {},
   "outputs": [],
   "source": [
    "fig = go.Figure(go.Choroplethmapbox(geojson=uk,locations=gd.Country.astype('str'),z=gd['Territorial emissions (kt CO2e)'].astype('int').astype('str'),\n",
    "                                    colorscale='Cividis',zmin=-2920.785256,zmax= 9497.777472,\n",
    "                                    marker_opacity=0.5, marker_line_width=0))\n",
    "fig.update_layout(mapbox_style=\"carto-positron\",\n",
    "                  mapbox_zoom=3, mapbox_center = {\"lat\": 55.2970314, \"lon\": -1.72889996})\n",
    "fig.update_layout(margin={\"r\":0,\"t\":0,\"l\":0,\"b\":0})\n",
    "fig.show()"
   ]
  },
  {
   "cell_type": "code",
   "execution_count": null,
   "metadata": {},
   "outputs": [],
   "source": [
    "from IPython.display import Image\n",
    "with open('choropleth-region captures.gif','rb') as file:\n",
    "    display(Image(file.read()))\n",
    "    print(\"Figure 3: 2005-2020 CO2e emissions by region and country\")"
   ]
  },
  {
   "cell_type": "markdown",
   "metadata": {},
   "source": [
    "Regionally, the United Kingdom emissions have varied by province, local and regional authority. Figure 3 displays a choropleth map, showing the rate of CO2e emissions per kilo tonne by each region anually. The animation was created by creating a base map and capturing each frame from the timeline 2005 to 2020. The darker green regions represent a large source of emissions and lighter green colours represent less co2e emissions. Northern Ireland's region emitted less production,however, had the highest LULUCF and domestic emissions per capita. The trend over the years remained constant, accounting for 1.1 kt per capita.\n",
    "London had the highest CO2 per capita emissions of any region represented by dark hues, due to the urban nature of transport system, high population density and large industrial facilities than any other region. Specifically, in 2018, UK was at its peak, rating the highest amount of co2e emissions yet with 30419 kilo tonnes produced.\n"
   ]
  },
  {
   "cell_type": "markdown",
   "metadata": {},
   "source": [
    "`Territorial Emissions (measured in kilo tonnes of carbon dioxide equivalents)`"
   ]
  },
  {
   "cell_type": "markdown",
   "metadata": {},
   "source": []
  },
  {
   "cell_type": "code",
   "execution_count": null,
   "metadata": {},
   "outputs": [],
   "source": [
    "xe=gd\n",
    "fig= plt.figure(figsize=(12,5))\n",
    "sns.lineplot(x='Calendar Year',y='Territorial emissions (kt CO2e)', hue='Country',data=xe)\n",
    "plt.title('Territorial Emissions per region (UK)')\n",
    "plt.grid()\n",
    "plt.show()"
   ]
  },
  {
   "cell_type": "markdown",
   "metadata": {},
   "source": [
    "During the timeline, the greenhouse gas emissions in the UK shows a gradual increase. The sequential increase shows the changes of emissions from 2005 to 2020, with 2018 being the highest amount of emissions with  30419 Kilo tonnes of Carbon dioxide emissions and 2011 being the lowest amount of emissions with 28852 kilo tonnes of Carbon dioxide emissions.\n"
   ]
  },
  {
   "cell_type": "code",
   "execution_count": null,
   "metadata": {},
   "outputs": [],
   "source": [
    "#Finding Max, min, median, mode, mean values\n",
    "\n",
    "maxClm = gd['Territorial emissions (kt CO2e)'].max()\n",
    "minClm = gd['Territorial emissions (kt CO2e)'].min()\n",
    "medClm = gd['Territorial emissions (kt CO2e)'].median()\n",
    "modeclm = gd['Territorial emissions (kt CO2e)'].mode()\n",
    "meanclm = gd['Territorial emissions (kt CO2e)'].mean()\n",
    "#printing values \n",
    "\n",
    "print('\\n',\"Maximum Value in Column =\", maxClm,'\\n',\n",
    "\"Minimum Value in Column =\", minClm,'\\n',\n",
    "\"Median Value in Column =\",medClm, '\\n',\n",
    "\"Mean Value in Column =\",meanclm, '\\n',\n",
    "\"Mode Value in Column =\",modeclm)"
   ]
  },
  {
   "cell_type": "markdown",
   "metadata": {},
   "source": [
    "`Calendar Year`"
   ]
  },
  {
   "cell_type": "markdown",
   "metadata": {},
   "source": [
    "The timeline for this analysis is from 2005 to 2020. The continuous values recorded within these years records the changes in the production of CO2e emissions. "
   ]
  },
  {
   "cell_type": "code",
   "execution_count": 7,
   "metadata": {},
   "outputs": [
    {
     "data": {
      "text/plain": [
       "Calendar Year\n",
       "2005    29111\n",
       "2006    29157\n",
       "2007    29130\n",
       "2008    29134\n",
       "2009    28859\n",
       "2010    28857\n",
       "2011    28852\n",
       "2012    28857\n",
       "2013    28877\n",
       "2014    28891\n",
       "2015    28900\n",
       "2016    28908\n",
       "2017    28909\n",
       "2018    30419\n",
       "2019    30407\n",
       "2020    30175\n",
       "Name: CO2 emissions within the scope of influence of LAs (kt CO2e), dtype: int64"
      ]
     },
     "execution_count": 7,
     "metadata": {},
     "output_type": "execute_result"
    }
   ],
   "source": [
    "#Number of values for each year\n",
    "co2et = gd[gd['Calendar Year']<=2020]\n",
    "co2et.groupby('Calendar Year')['CO2 emissions within the scope of influence of LAs (kt CO2e)'].count()"
   ]
  },
  {
   "cell_type": "markdown",
   "metadata": {},
   "source": [
    "`Greenhouse gas`"
   ]
  },
  {
   "cell_type": "markdown",
   "metadata": {},
   "source": [
    "What are greenhouse gases?\n",
    "\n",
    "Greenhouse gases (GHG) are gases in the atmosphere, absorbing and reemitting heat, causing the greenhouse effect on Earth. Without the greenhouse effect, temperature and life on earth would be colder. So, what if the concentration of gases are too high?\n"
   ]
  },
  {
   "cell_type": "code",
   "execution_count": 77,
   "metadata": {},
   "outputs": [
    {
     "data": {
      "text/plain": [
       "Text(0.5, 1.0, 'Earth')"
      ]
     },
     "execution_count": 77,
     "metadata": {},
     "output_type": "execute_result"
    },
    {
     "data": {
      "image/png": "[encoded data removed]",
      "text/plain": [
       "<Figure size 1440x576 with 1 Axes>"
      ]
     },
     "metadata": {},
     "output_type": "display_data"
    }
   ],
   "source": [
    "earth = plt.figure(figsize = (20,8))\n",
    "e = Basemap(projection='ortho', lon_0 = 15, lat_0 = 54)\n",
    "e.drawcoastlines()\n",
    "e.fillcontinents(color='#4F7942',lake_color='#85BFC9')\n",
    "e.drawcountries(linewidth=1, linestyle='solid', color='k' ) \n",
    "e.drawmapboundary(fill_color='#85BFC9')\n",
    "plt.title(\"Earth\", fontsize=18)"
   ]
  },
  {
   "cell_type": "markdown",
   "metadata": {},
   "source": [
    "\n",
    "This section explores information on emissions and ways of removal of the main greenhouse gases to and from the earth's atmosphere. It also explores the continous trend of data and how these gases have changed over time depending on the subsectors. The data from this column is compared to other variables in the set, such as population growth in different regions of the UK, sectors and area.\n",
    "\n",
    "The 3 main gases explored in the dataset are Methane emissions (CH4), Nitrous Oxide emissions (N2O) and Carbon dioxide emissions(CO2). These gases in the atmosphere have all different quantities, different greenhouse gases emissions are generated from different sectors. Thus, different gases have different ranges of warming effects. One tonne of methane does not have the same heat absorption impact as one tonne of Carbon dioxide, this means that every gas capacity is different. The global warming potential (GWP) was proposed to assign individual warming metric to each greenhouse gas, comparing the global warming impacts and the absorption of gas over a given period of time. \n",
    "\n",
    "\n",
    "- Carbon Dioxide (C02)\n",
    "- Methane (CH4)\n",
    "- Nitrous Oxide(N20)\n"
   ]
  },
  {
   "cell_type": "markdown",
   "metadata": {},
   "source": [
    "Frequency Analysis:\n",
    "I created a frequency analysis to extract the percentages of each greenhouse gas within the UK from 2005 to 2020. The values in this column are categorical values, measuring what type of greenhouse gas is emitted by other variables (columns). I obtained the absolute frequencies (using value_count()). To express these absolute to relative frequencies, I converted them into percentages."
   ]
  },
  {
   "cell_type": "code",
   "execution_count": 78,
   "metadata": {},
   "outputs": [
    {
     "data": {
      "text/plain": [
       "N2O    160564\n",
       "CO2    154339\n",
       "CH4    152540\n",
       "Name: Greenhouse gas, dtype: int64"
      ]
     },
     "execution_count": 78,
     "metadata": {},
     "output_type": "execute_result"
    }
   ],
   "source": [
    "gd[\"Greenhouse gas\"].value_counts()"
   ]
  },
  {
   "cell_type": "markdown",
   "metadata": {},
   "source": [
    "Extracting the relative distribution of the categorical data 'Greenhouse gas' will assist me when it comes to comparing it to other data columns and recording trends"
   ]
  },
  {
   "cell_type": "code",
   "execution_count": 79,
   "metadata": {},
   "outputs": [
    {
     "name": "stdout",
     "output_type": "stream",
     "text": [
      "The relative distribution of values: \n",
      "N20 -> 34.35%\n",
      "C02 -> 33.02%\n",
      "CH4 -> 32.63%\n"
     ]
    }
   ],
   "source": [
    "N = 467444\n",
    "N20p = 100.0 * 160564/ N\n",
    "CO2p = 100.0 * 154339/ N\n",
    "CH4p = 100.0 * 152540/ N\n",
    "\n",
    "print(\"The relative distribution of values: \")\n",
    "print(\"N20 -> \", round(N20p, 2), \"%\", sep=\"\")\n",
    "print(\"C02 -> \", round(CO2p, 2), \"%\", sep=\"\")\n",
    "print(\"CH4 -> \", round(CH4p, 2), \"%\", sep=\"\")"
   ]
  },
  {
   "cell_type": "code",
   "execution_count": 23,
   "metadata": {},
   "outputs": [
    {
     "data": {
      "application/vnd.plotly.v1+json": {
       "config": {
        "plotlyServerURL": "https://plot.ly"
       },
       "data": [
        {
         "hoverinfo": "label+percent",
         "labels": [
          "Nitrous Oxide",
          "Carbon Dioxide",
          "Methane"
         ],
         "marker": {
          "colors": [
           "#097969",
           "#AFE1AF",
           "#4F7942"
          ],
          "line": {
           "color": "#000000",
           "width": 2
          }
         },
         "textfont": {
          "size": 20
         },
         "textinfo": "value",
         "type": "pie",
         "values": [
          160564,
          154339,
          152540
         ]
        }
       ],
       "layout": {
        "template": {
         "data": {
          "bar": [
           {
            "error_x": {
             "color": "#2a3f5f"
            },
            "error_y": {
             "color": "#2a3f5f"
            },
            "marker": {
             "line": {
              "color": "#E5ECF6",
              "width": 0.5
             },
             "pattern": {
              "fillmode": "overlay",
              "size": 10,
              "solidity": 0.2
             }
            },
            "type": "bar"
           }
          ],
          "barpolar": [
           {
            "marker": {
             "line": {
              "color": "#E5ECF6",
              "width": 0.5
             },
             "pattern": {
              "fillmode": "overlay",
              "size": 10,
              "solidity": 0.2
             }
            },
            "type": "barpolar"
           }
          ],
          "carpet": [
           {
            "aaxis": {
             "endlinecolor": "#2a3f5f",
             "gridcolor": "white",
             "linecolor": "white",
             "minorgridcolor": "white",
             "startlinecolor": "#2a3f5f"
            },
            "baxis": {
             "endlinecolor": "#2a3f5f",
             "gridcolor": "white",
             "linecolor": "white",
             "minorgridcolor": "white",
             "startlinecolor": "#2a3f5f"
            },
            "type": "carpet"
           }
          ],
          "choropleth": [
           {
            "colorbar": {
             "outlinewidth": 0,
             "ticks": ""
            },
            "type": "choropleth"
           }
          ],
          "contour": [
           {
            "colorbar": {
             "outlinewidth": 0,
             "ticks": ""
            },
            "colorscale": [
             [
              0,
              "#0d0887"
             ],
             [
              0.1111111111111111,
              "#46039f"
             ],
             [
              0.2222222222222222,
              "#7201a8"
             ],
             [
              0.3333333333333333,
              "#9c179e"
             ],
             [
              0.4444444444444444,
              "#bd3786"
             ],
             [
              0.5555555555555556,
              "#d8576b"
             ],
             [
              0.6666666666666666,
              "#ed7953"
             ],
             [
              0.7777777777777778,
              "#fb9f3a"
             ],
             [
              0.8888888888888888,
              "#fdca26"
             ],
             [
              1,
              "#f0f921"
             ]
            ],
            "type": "contour"
           }
          ],
          "contourcarpet": [
           {
            "colorbar": {
             "outlinewidth": 0,
             "ticks": ""
            },
            "type": "contourcarpet"
           }
          ],
          "heatmap": [
           {
            "colorbar": {
             "outlinewidth": 0,
             "ticks": ""
            },
            "colorscale": [
             [
              0,
              "#0d0887"
             ],
             [
              0.1111111111111111,
              "#46039f"
             ],
             [
              0.2222222222222222,
              "#7201a8"
             ],
             [
              0.3333333333333333,
              "#9c179e"
             ],
             [
              0.4444444444444444,
              "#bd3786"
             ],
             [
              0.5555555555555556,
              "#d8576b"
             ],
             [
              0.6666666666666666,
              "#ed7953"
             ],
             [
              0.7777777777777778,
              "#fb9f3a"
             ],
             [
              0.8888888888888888,
              "#fdca26"
             ],
             [
              1,
              "#f0f921"
             ]
            ],
            "type": "heatmap"
           }
          ],
          "heatmapgl": [
           {
            "colorbar": {
             "outlinewidth": 0,
             "ticks": ""
            },
            "colorscale": [
             [
              0,
              "#0d0887"
             ],
             [
              0.1111111111111111,
              "#46039f"
             ],
             [
              0.2222222222222222,
              "#7201a8"
             ],
             [
              0.3333333333333333,
              "#9c179e"
             ],
             [
              0.4444444444444444,
              "#bd3786"
             ],
             [
              0.5555555555555556,
              "#d8576b"
             ],
             [
              0.6666666666666666,
              "#ed7953"
             ],
             [
              0.7777777777777778,
              "#fb9f3a"
             ],
             [
              0.8888888888888888,
              "#fdca26"
             ],
             [
              1,
              "#f0f921"
             ]
            ],
            "type": "heatmapgl"
           }
          ],
          "histogram": [
           {
            "marker": {
             "pattern": {
              "fillmode": "overlay",
              "size": 10,
              "solidity": 0.2
             }
            },
            "type": "histogram"
           }
          ],
          "histogram2d": [
           {
            "colorbar": {
             "outlinewidth": 0,
             "ticks": ""
            },
            "colorscale": [
             [
              0,
              "#0d0887"
             ],
             [
              0.1111111111111111,
              "#46039f"
             ],
             [
              0.2222222222222222,
              "#7201a8"
             ],
             [
              0.3333333333333333,
              "#9c179e"
             ],
             [
              0.4444444444444444,
              "#bd3786"
             ],
             [
              0.5555555555555556,
              "#d8576b"
             ],
             [
              0.6666666666666666,
              "#ed7953"
             ],
             [
              0.7777777777777778,
              "#fb9f3a"
             ],
             [
              0.8888888888888888,
              "#fdca26"
             ],
             [
              1,
              "#f0f921"
             ]
            ],
            "type": "histogram2d"
           }
          ],
          "histogram2dcontour": [
           {
            "colorbar": {
             "outlinewidth": 0,
             "ticks": ""
            },
            "colorscale": [
             [
              0,
              "#0d0887"
             ],
             [
              0.1111111111111111,
              "#46039f"
             ],
             [
              0.2222222222222222,
              "#7201a8"
             ],
             [
              0.3333333333333333,
              "#9c179e"
             ],
             [
              0.4444444444444444,
              "#bd3786"
             ],
             [
              0.5555555555555556,
              "#d8576b"
             ],
             [
              0.6666666666666666,
              "#ed7953"
             ],
             [
              0.7777777777777778,
              "#fb9f3a"
             ],
             [
              0.8888888888888888,
              "#fdca26"
             ],
             [
              1,
              "#f0f921"
             ]
            ],
            "type": "histogram2dcontour"
           }
          ],
          "mesh3d": [
           {
            "colorbar": {
             "outlinewidth": 0,
             "ticks": ""
            },
            "type": "mesh3d"
           }
          ],
          "parcoords": [
           {
            "line": {
             "colorbar": {
              "outlinewidth": 0,
              "ticks": ""
             }
            },
            "type": "parcoords"
           }
          ],
          "pie": [
           {
            "automargin": true,
            "type": "pie"
           }
          ],
          "scatter": [
           {
            "fillpattern": {
             "fillmode": "overlay",
             "size": 10,
             "solidity": 0.2
            },
            "type": "scatter"
           }
          ],
          "scatter3d": [
           {
            "line": {
             "colorbar": {
              "outlinewidth": 0,
              "ticks": ""
             }
            },
            "marker": {
             "colorbar": {
              "outlinewidth": 0,
              "ticks": ""
             }
            },
            "type": "scatter3d"
           }
          ],
          "scattercarpet": [
           {
            "marker": {
             "colorbar": {
              "outlinewidth": 0,
              "ticks": ""
             }
            },
            "type": "scattercarpet"
           }
          ],
          "scattergeo": [
           {
            "marker": {
             "colorbar": {
              "outlinewidth": 0,
              "ticks": ""
             }
            },
            "type": "scattergeo"
           }
          ],
          "scattergl": [
           {
            "marker": {
             "colorbar": {
              "outlinewidth": 0,
              "ticks": ""
             }
            },
            "type": "scattergl"
           }
          ],
          "scattermapbox": [
           {
            "marker": {
             "colorbar": {
              "outlinewidth": 0,
              "ticks": ""
             }
            },
            "type": "scattermapbox"
           }
          ],
          "scatterpolar": [
           {
            "marker": {
             "colorbar": {
              "outlinewidth": 0,
              "ticks": ""
             }
            },
            "type": "scatterpolar"
           }
          ],
          "scatterpolargl": [
           {
            "marker": {
             "colorbar": {
              "outlinewidth": 0,
              "ticks": ""
             }
            },
            "type": "scatterpolargl"
           }
          ],
          "scatterternary": [
           {
            "marker": {
             "colorbar": {
              "outlinewidth": 0,
              "ticks": ""
             }
            },
            "type": "scatterternary"
           }
          ],
          "surface": [
           {
            "colorbar": {
             "outlinewidth": 0,
             "ticks": ""
            },
            "colorscale": [
             [
              0,
              "#0d0887"
             ],
             [
              0.1111111111111111,
              "#46039f"
             ],
             [
              0.2222222222222222,
              "#7201a8"
             ],
             [
              0.3333333333333333,
              "#9c179e"
             ],
             [
              0.4444444444444444,
              "#bd3786"
             ],
             [
              0.5555555555555556,
              "#d8576b"
             ],
             [
              0.6666666666666666,
              "#ed7953"
             ],
             [
              0.7777777777777778,
              "#fb9f3a"
             ],
             [
              0.8888888888888888,
              "#fdca26"
             ],
             [
              1,
              "#f0f921"
             ]
            ],
            "type": "surface"
           }
          ],
          "table": [
           {
            "cells": {
             "fill": {
              "color": "#EBF0F8"
             },
             "line": {
              "color": "white"
             }
            },
            "header": {
             "fill": {
              "color": "#C8D4E3"
             },
             "line": {
              "color": "white"
             }
            },
            "type": "table"
           }
          ]
         },
         "layout": {
          "annotationdefaults": {
           "arrowcolor": "#2a3f5f",
           "arrowhead": 0,
           "arrowwidth": 1
          },
          "autotypenumbers": "strict",
          "coloraxis": {
           "colorbar": {
            "outlinewidth": 0,
            "ticks": ""
           }
          },
          "colorscale": {
           "diverging": [
            [
             0,
             "#8e0152"
            ],
            [
             0.1,
             "#c51b7d"
            ],
            [
             0.2,
             "#de77ae"
            ],
            [
             0.3,
             "#f1b6da"
            ],
            [
             0.4,
             "#fde0ef"
            ],
            [
             0.5,
             "#f7f7f7"
            ],
            [
             0.6,
             "#e6f5d0"
            ],
            [
             0.7,
             "#b8e186"
            ],
            [
             0.8,
             "#7fbc41"
            ],
            [
             0.9,
             "#4d9221"
            ],
            [
             1,
             "#276419"
            ]
           ],
           "sequential": [
            [
             0,
             "#0d0887"
            ],
            [
             0.1111111111111111,
             "#46039f"
            ],
            [
             0.2222222222222222,
             "#7201a8"
            ],
            [
             0.3333333333333333,
             "#9c179e"
            ],
            [
             0.4444444444444444,
             "#bd3786"
            ],
            [
             0.5555555555555556,
             "#d8576b"
            ],
            [
             0.6666666666666666,
             "#ed7953"
            ],
            [
             0.7777777777777778,
             "#fb9f3a"
            ],
            [
             0.8888888888888888,
             "#fdca26"
            ],
            [
             1,
             "#f0f921"
            ]
           ],
           "sequentialminus": [
            [
             0,
             "#0d0887"
            ],
            [
             0.1111111111111111,
             "#46039f"
            ],
            [
             0.2222222222222222,
             "#7201a8"
            ],
            [
             0.3333333333333333,
             "#9c179e"
            ],
            [
             0.4444444444444444,
             "#bd3786"
            ],
            [
             0.5555555555555556,
             "#d8576b"
            ],
            [
             0.6666666666666666,
             "#ed7953"
            ],
            [
             0.7777777777777778,
             "#fb9f3a"
            ],
            [
             0.8888888888888888,
             "#fdca26"
            ],
            [
             1,
             "#f0f921"
            ]
           ]
          },
          "colorway": [
           "#636efa",
           "#EF553B",
           "#00cc96",
           "#ab63fa",
           "#FFA15A",
           "#19d3f3",
           "#FF6692",
           "#B6E880",
           "#FF97FF",
           "#FECB52"
          ],
          "font": {
           "color": "#2a3f5f"
          },
          "geo": {
           "bgcolor": "white",
           "lakecolor": "white",
           "landcolor": "#E5ECF6",
           "showlakes": true,
           "showland": true,
           "subunitcolor": "white"
          },
          "hoverlabel": {
           "align": "left"
          },
          "hovermode": "closest",
          "mapbox": {
           "style": "light"
          },
          "paper_bgcolor": "white",
          "plot_bgcolor": "#E5ECF6",
          "polar": {
           "angularaxis": {
            "gridcolor": "white",
            "linecolor": "white",
            "ticks": ""
           },
           "bgcolor": "#E5ECF6",
           "radialaxis": {
            "gridcolor": "white",
            "linecolor": "white",
            "ticks": ""
           }
          },
          "scene": {
           "xaxis": {
            "backgroundcolor": "#E5ECF6",
            "gridcolor": "white",
            "gridwidth": 2,
            "linecolor": "white",
            "showbackground": true,
            "ticks": "",
            "zerolinecolor": "white"
           },
           "yaxis": {
            "backgroundcolor": "#E5ECF6",
            "gridcolor": "white",
            "gridwidth": 2,
            "linecolor": "white",
            "showbackground": true,
            "ticks": "",
            "zerolinecolor": "white"
           },
           "zaxis": {
            "backgroundcolor": "#E5ECF6",
            "gridcolor": "white",
            "gridwidth": 2,
            "linecolor": "white",
            "showbackground": true,
            "ticks": "",
            "zerolinecolor": "white"
           }
          },
          "shapedefaults": {
           "line": {
            "color": "#2a3f5f"
           }
          },
          "ternary": {
           "aaxis": {
            "gridcolor": "white",
            "linecolor": "white",
            "ticks": ""
           },
           "baxis": {
            "gridcolor": "white",
            "linecolor": "white",
            "ticks": ""
           },
           "bgcolor": "#E5ECF6",
           "caxis": {
            "gridcolor": "white",
            "linecolor": "white",
            "ticks": ""
           }
          },
          "title": {
           "x": 0.05
          },
          "xaxis": {
           "automargin": true,
           "gridcolor": "white",
           "linecolor": "white",
           "ticks": "",
           "title": {
            "standoff": 15
           },
           "zerolinecolor": "white",
           "zerolinewidth": 2
          },
          "yaxis": {
           "automargin": true,
           "gridcolor": "white",
           "linecolor": "white",
           "ticks": "",
           "title": {
            "standoff": 15
           },
           "zerolinecolor": "white",
           "zerolinewidth": 2
          }
         }
        },
        "title": {
         "text": "Greenhouse Gas Emissions 2005-2020"
        }
       }
      }
     },
     "metadata": {},
     "output_type": "display_data"
    }
   ],
   "source": [
    "colours=['#097969','#AFE1AF','#4F7942']\n",
    "fgi = go.Figure(data=[go.Pie(labels=['Nitrous Oxide', 'Carbon Dioxide', 'Methane'],values=[160564, 154339, 152540])])\n",
    "fgi.update_traces(hoverinfo='label+percent', textinfo='value',textfont_size=20,marker=dict(colors=colours,line=dict(color='#000000',width=2)))\n",
    "fgi.update_layout(title_text=\"Greenhouse Gas Emissions 2005-2020\")\n",
    "fgi.show()"
   ]
  },
  {
   "cell_type": "markdown",
   "metadata": {},
   "source": [
    "This column is categorical, the pie chart distributes and visualises the data the best. The relative frequency of greenhouse gases from 2005 to 2020 has been abundant yet stable over the years. As emissions of greenhouse gases increase, the higher the concentrations occur in the atmosphere. \n",
    "\n",
    "METHANE (CH4): From 2005 to 2020, methane (ch4) emissions accounted for almost 32.63% in the UK alone from human activities. Human activities emitting methane include transportation and production of coal, natural resources and oil. These emissions also come from sectors such as livestock, waste management, land use and agriculture practices. \n",
    "\n",
    "NITROUS OXIDE:\n",
    "Nitrous oxide produced 34.3% of over all emissions, through agriculture land use and industrial activities.\n",
    "\n",
    "\n",
    "CARBON DIOXIDE:\n",
    "Carbon dioxide enters the atmosphere by burning fossil fuels such as oil, gas and coal."
   ]
  },
  {
   "cell_type": "markdown",
   "metadata": {},
   "source": [
    "#bar graph"
   ]
  },
  {
   "cell_type": "markdown",
   "metadata": {},
   "source": [
    "So, why is this relevant?\n",
    "\n",
    "To calculate the trends of greenhouse gas emissions within each subsectors over time, I had to investigate and research first about the root of gas emissions. The comparison of different greenhouse gases allows us to showcase the impacts of these gases, also known as calculating GWP (Global warming potential). The GWP is a measure of how much the emissions absorbs energy over a period of time relative to carbon dioxide emissions. Gases with higher GWP absorb more energy and contribute more to warming our Earth.\n"
   ]
  },
  {
   "cell_type": "markdown",
   "metadata": {},
   "source": [
    "`LA Greenhouse Gases sector & sub-sector`"
   ]
  },
  {
   "cell_type": "code",
   "execution_count": 7,
   "metadata": {},
   "outputs": [],
   "source": [
    "x = gd.groupby('LA GHG Sector')['CO2 emissions within the scope of influence of LAs (kt CO2e)'].mean().sort_values().tail(15)"
   ]
  },
  {
   "cell_type": "code",
   "execution_count": 8,
   "metadata": {},
   "outputs": [
    {
     "data": {
      "image/png": "[encoded data removed]",
      "text/plain": [
       "<Figure size 576x360 with 1 Axes>"
      ]
     },
     "metadata": {
      "needs_background": "light"
     },
     "output_type": "display_data"
    }
   ],
   "source": [
    "from matplotlib.ticker import StrMethodFormatter\n",
    "\n",
    "ax = x.plot(kind='barh', figsize=(8, 5), color='#4F7942', zorder=2, width=0.85)\n",
    "\n",
    "# Making borders visible \n",
    "ax.spines['right'].set_visible(False)\n",
    "ax.spines['top'].set_visible(False)\n",
    "ax.spines['left'].set_visible(True)\n",
    "ax.spines['bottom'].set_visible(True)\n",
    "\n",
    "\n",
    "ax.tick_params(axis=\"both\", which=\"both\", bottom=\"off\", top=\"off\", labelbottom=\"on\", left=\"off\", right=\"off\", labelleft=\"on\")\n",
    "\n",
    "# drawing vertical axis lines\n",
    "vals = ax.get_xticks()\n",
    "for tick in vals:\n",
    "    ax.axvline(x=tick, linestyle='dashed', alpha=0.4, color='#d3d3d3', zorder=1)\n",
    "\n",
    "# Naming x-axis label\n",
    "ax.set_xlabel(\"Carbon Dioxide Equivalents (kilo tonnes)\", labelpad=20, weight='bold', size=14)\n",
    "\n",
    "# Naming y-axis label\n",
    "ax.set_ylabel(\"Greenhouse Gas Sectors\", labelpad=20, weight='bold', size=14)\n",
    "\n",
    "# Format y-axis label\n",
    "ax.xaxis.set_major_formatter(StrMethodFormatter('{x:,g}'))"
   ]
  },
  {
   "cell_type": "markdown",
   "metadata": {},
   "source": [
    "Looking at the breakdown of greenhouse gases by sector is essential for regions to understand which sector has the largest impact. In this chart, "
   ]
  },
  {
   "cell_type": "code",
   "execution_count": null,
   "metadata": {},
   "outputs": [],
   "source": [
    "fig=px.sunburst(\n",
    "    data_frame=gd,\n",
    "    path=['Greenhouse gas','LA GHG Sector','LA GHG Sub-sector'],\n",
    "    values = 'CO2 emissions within the scope of influence of LAs (kt CO2e)', color='LA GHG Sector',\n",
    "    title = 'UK EMITTING SECTORS & SUBSECTORS (2005-2020)',\n",
    "    height= 800, color_continuous_scale={'Transport':'red', 'Domestic':'black','Agriculture':'gold', 'Commercial':'green','Industry':'pink', 'Public Sector':'darkblue'})\n",
    "fig.show()"
   ]
  },
  {
   "cell_type": "code",
   "execution_count": null,
   "metadata": {},
   "outputs": [],
   "source": [
    "gd.groupby(['LA GHG Sector', 'LA GHG Sub-sector']).size().unstack().plot(kind='bar', stacked=True)"
   ]
  },
  {
   "cell_type": "markdown",
   "metadata": {},
   "source": [
    "_Domestic_:\n",
    "From 2005 to 2020, the largest contributing sector was domestic, accounting to _% of carbon dioxide equivalent emissions and _ kilo tonnes. Electricity generation and gas are both sources within the domestic sector. In 2019, 63% of domestic emissions arose from gas use, 23% from electricity and 11% from coal, causing it to be the greatest contributor to emissions in that year. However, the emissions produced in 2019 were significantly less than the emissions produced in 2018, due to a slight decrease in electricity demand, and the shift from coal to renewable and natural gas. The consumption of gas and electricity within homes are influenced by a range of factors, including fuel types, insulation, average temperature, house size, type of house, income and preferences of people. As population and area increase, the domestic sector will produce more releases.\n"
   ]
  },
  {
   "cell_type": "markdown",
   "metadata": {},
   "source": [
    "_Transportation (c02e)_:\n",
    "The transportation sector generates the second largest share of greenhouse gas emissions, having the highest reliance on fossil fuels of any sectors and accounts for _% of Carbon dioxide emissions. The sector includes the movement of passengers and cargo by cars, trains, ships, airplanes and trucks. Most of the fuel used for transportation is petroleum based, including primarily gasoline and diesel, emitting high productions of carbon dioxide as a result. The demand for transportation is expected to grow in the UK as population (mid population) increases, incomes rise and more people are able to afford cars, trains and flights. The estimations on the transport sector records the distribution of traffic and how that emits co2e. In 2019, there was a decrease of 1.8% productions of carbon dioxide equivalents compared to 2018. Since 2005, the transport emissions have gradually decreased due to lower petrol consumption and improvements in fuel efficiencies.  \n"
   ]
  },
  {
   "cell_type": "markdown",
   "metadata": {},
   "source": [
    "_Agriculture_:\n",
    "From 2005 to 2020, the total emissions from the agriculture sector were 113,847 kilo tonnes, resulting in one of the lowest emitting sector, contributing to 13.37% of overall carbon dioxide equivalent productions in local regions of the UK. Agriculture activities include the production of livestock, crop, soil and rice, they contribute to emissions in various different ways. \n"
   ]
  },
  {
   "cell_type": "markdown",
   "metadata": {},
   "source": [
    "`CO2e emissions within the scope of influence of LAs (kt CO2e)`"
   ]
  },
  {
   "cell_type": "markdown",
   "metadata": {},
   "source": [
    "What is CO2e?\n",
    "\n",
    "The measurement of all greenhouse gases are quantified together in one single metric called Carbon dioxide equivalent (CO2e) to compare emissions from different greenhouse gases on the basis of their GWP. C02e expresses the warming effect of different greenhouse gases as an equivalent amount of carbon dioxide. It is the amount of carbon dioxide that would give the same warming effect as each greenhouse gas that is emitted or stored by a sector/activity. Carbon dioxide equivalents are continuous data, measured in kilo tonnes (kl). The quantity of CO2e is expressed by multiplying the amount of GHG by their GWP. \n",
    "e.g. 1 kg of methane is emitted, 25kg of c02e  (1kg CH4 * 25 = 25kg CO2e)."
   ]
  },
  {
   "cell_type": "markdown",
   "metadata": {},
   "source": [
    "C02 emissions had a 3.9% decline during 2018 to 2019, this decrease was the result of decreased fuel  and coal production and more use of renewable energy. However, in 2019, 36% of CO2 emissions were attributed to the transport sector, 27% to the domestic sector, 24& to the industrial sector, 9% to commercial and 4% to the public sector. The transport segment held the highest contribution in almost 63% of the local and regional authorities."
   ]
  },
  {
   "cell_type": "markdown",
   "metadata": {},
   "source": [
    "The figure ‘Carbon dioxide emissions by region’ displays each region of the UK highlighting an steady fall of carbon dioxide emissions from 2005 to 2019. As the years progress, Northern Ireland reduced about 23% of co2 emissions, with the first heavy decline in 2009 and a shallow line towards 2019. This shows that the gradual decrease of carbon dioxide emissions over the years, it was due to industrial closures. The figure shows that in 2011, the emissions by region kept decreasing, presenting a fall of 35% in Scotland  and 36% fall in England."
   ]
  },
  {
   "cell_type": "markdown",
   "metadata": {},
   "source": [
    "`Mid-year Population (thousands) `"
   ]
  },
  {
   "cell_type": "code",
   "execution_count": 9,
   "metadata": {},
   "outputs": [
    {
     "data": {
      "image/png": "[encoded data removed]",
      "text/plain": [
       "<Figure size 792x576 with 1 Axes>"
      ]
     },
     "metadata": {
      "needs_background": "light"
     },
     "output_type": "display_data"
    }
   ],
   "source": [
    "afx = gd['Mid-year Population (thousands)'].plot(color='#4F7942', figsize=(11,8), fontsize=11, zorder=2)"
   ]
  },
  {
   "cell_type": "markdown",
   "metadata": {},
   "source": [
    "`Area (km2) `"
   ]
  }
 ],
 "metadata": {
  "kernelspec": {
   "display_name": "Python 3.10.4 64-bit",
   "language": "python",
   "name": "python3"
  },
  "language_info": {
   "codemirror_mode": {
    "name": "ipython",
    "version": 3
   },
   "file_extension": ".py",
   "mimetype": "text/x-python",
   "name": "python",
   "nbconvert_exporter": "python",
   "pygments_lexer": "ipython3",
   "version": "3.10.4"
  },
  "orig_nbformat": 4,
  "vscode": {
   "interpreter": {
    "hash": "b1ea0511372ac77b82351da42b7ef71d586013f0a851d34cf94788b101e4022d"
   }
  }
 },
 "nbformat": 4,
 "nbformat_minor": 2
}
